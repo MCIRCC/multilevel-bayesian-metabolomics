{
 "cells": [
  {
   "cell_type": "code",
   "execution_count": 1,
   "metadata": {},
   "outputs": [
    {
     "name": "stderr",
     "output_type": "stream",
     "text": [
      "Loading required package: tidyverse\n",
      "\n",
      "-- \u001b[1mAttaching packages\u001b[22m --------------------------------------- tidyverse 1.3.0 --\n",
      "\n",
      "\u001b[32mv\u001b[39m \u001b[34mggplot2\u001b[39m 3.3.0     \u001b[32mv\u001b[39m \u001b[34mpurrr  \u001b[39m 0.3.3\n",
      "\u001b[32mv\u001b[39m \u001b[34mtibble \u001b[39m 3.0.1     \u001b[32mv\u001b[39m \u001b[34mdplyr  \u001b[39m 0.8.5\n",
      "\u001b[32mv\u001b[39m \u001b[34mtidyr  \u001b[39m 1.0.2     \u001b[32mv\u001b[39m \u001b[34mstringr\u001b[39m 1.4.0\n",
      "\u001b[32mv\u001b[39m \u001b[34mreadr  \u001b[39m 1.3.1     \u001b[32mv\u001b[39m \u001b[34mforcats\u001b[39m 0.5.0\n",
      "\n",
      "-- \u001b[1mConflicts\u001b[22m ------------------------------------------ tidyverse_conflicts() --\n",
      "\u001b[31mx\u001b[39m \u001b[34mdplyr\u001b[39m::\u001b[32mfilter()\u001b[39m masks \u001b[34mstats\u001b[39m::filter()\n",
      "\u001b[31mx\u001b[39m \u001b[34mdplyr\u001b[39m::\u001b[32mlag()\u001b[39m    masks \u001b[34mstats\u001b[39m::lag()\n",
      "\n"
     ]
    }
   ],
   "source": [
    "require('tidyverse')"
   ]
  },
  {
   "cell_type": "code",
   "execution_count": 2,
   "metadata": {},
   "outputs": [
    {
     "data": {
      "text/html": [
       "<table>\n",
       "<caption>A data.frame: 6 × 20</caption>\n",
       "<thead>\n",
       "\t<tr><th></th><th scope=col>Metabolite</th><th scope=col>Param</th><th scope=col>mean</th><th scope=col>sd</th><th scope=col>X2.5.</th><th scope=col>X50.</th><th scope=col>X97.5.</th><th scope=col>Rhat</th><th scope=col>Z.x</th><th scope=col>P_GT_LT_0</th><th scope=col>SIG_BAYES</th><th scope=col>Estimate</th><th scope=col>StdErr</th><th scope=col>Z.y</th><th scope=col>P.value</th><th scope=col>P.Bon</th><th scope=col>P.BH</th><th scope=col>SIG_BH</th><th scope=col>SIG_BON</th><th scope=col>SIG.RAW</th></tr>\n",
       "\t<tr><th></th><th scope=col>&lt;fct&gt;</th><th scope=col>&lt;fct&gt;</th><th scope=col>&lt;dbl&gt;</th><th scope=col>&lt;dbl&gt;</th><th scope=col>&lt;dbl&gt;</th><th scope=col>&lt;dbl&gt;</th><th scope=col>&lt;dbl&gt;</th><th scope=col>&lt;dbl&gt;</th><th scope=col>&lt;dbl&gt;</th><th scope=col>&lt;dbl&gt;</th><th scope=col>&lt;lgl&gt;</th><th scope=col>&lt;dbl&gt;</th><th scope=col>&lt;dbl&gt;</th><th scope=col>&lt;dbl&gt;</th><th scope=col>&lt;dbl&gt;</th><th scope=col>&lt;dbl&gt;</th><th scope=col>&lt;dbl&gt;</th><th scope=col>&lt;lgl&gt;</th><th scope=col>&lt;lgl&gt;</th><th scope=col>&lt;lgl&gt;</th></tr>\n",
       "</thead>\n",
       "<tbody>\n",
       "\t<tr><th scope=row>1</th><td>oacetylcarnitine</td><td>beta_x[20]</td><td>0.6717432</td><td>0.1469516</td><td>0.3927007</td><td>0.6673229</td><td>0.9642254</td><td>0.9991854</td><td>4.571186</td><td>1</td><td>TRUE</td><td>0.7061123</td><td>0.1499184</td><td>4.709979</td><td>2.477425e-06</td><td>6.689048e-05</td><td>6.689048e-05</td><td>TRUE</td><td>TRUE</td><td>TRUE</td></tr>\n",
       "\t<tr><th scope=row>2</th><td>tyrosine        </td><td>beta_x[26]</td><td>0.5841276</td><td>0.1385063</td><td>0.3186377</td><td>0.5812330</td><td>0.8667370</td><td>0.9995169</td><td>4.217335</td><td>1</td><td>TRUE</td><td>0.6176204</td><td>0.1424830</td><td>4.334696</td><td>1.459620e-05</td><td>3.940974e-04</td><td>1.663743e-04</td><td>TRUE</td><td>TRUE</td><td>TRUE</td></tr>\n",
       "\t<tr><th scope=row>3</th><td>betaine         </td><td>beta_x[5] </td><td>0.5982423</td><td>0.1462437</td><td>0.3239850</td><td>0.5944203</td><td>0.9011620</td><td>0.9996255</td><td>4.090722</td><td>1</td><td>TRUE</td><td>0.6337244</td><td>0.1502429</td><td>4.217999</td><td>2.464804e-05</td><td>6.654972e-04</td><td>1.663743e-04</td><td>TRUE</td><td>TRUE</td><td>TRUE</td></tr>\n",
       "\t<tr><th scope=row>4</th><td>propyleneglycol </td><td>beta_x[24]</td><td>0.5828457</td><td>0.1430009</td><td>0.3139879</td><td>0.5783890</td><td>0.8780225</td><td>0.9992295</td><td>4.075819</td><td>1</td><td>TRUE</td><td>0.6580247</td><td>0.1558877</td><td>4.221145</td><td>2.430643e-05</td><td>6.562735e-04</td><td>1.663743e-04</td><td>TRUE</td><td>TRUE</td><td>TRUE</td></tr>\n",
       "\t<tr><th scope=row>5</th><td>glycine         </td><td>beta_x[13]</td><td>0.5143159</td><td>0.1381882</td><td>0.2389536</td><td>0.5118453</td><td>0.7909574</td><td>0.9993084</td><td>3.721850</td><td>1</td><td>TRUE</td><td>0.5754833</td><td>0.1469295</td><td>3.916729</td><td>8.975845e-05</td><td>2.423478e-03</td><td>4.846956e-04</td><td>TRUE</td><td>TRUE</td><td>TRUE</td></tr>\n",
       "\t<tr><th scope=row>6</th><td>lysine          </td><td>beta_x[18]</td><td>0.5040743</td><td>0.1354654</td><td>0.2456936</td><td>0.5033788</td><td>0.7759191</td><td>0.9991043</td><td>3.721056</td><td>1</td><td>TRUE</td><td>0.5471660</td><td>0.1433105</td><td>3.818045</td><td>1.345133e-04</td><td>3.631860e-03</td><td>6.053100e-04</td><td>TRUE</td><td>TRUE</td><td>TRUE</td></tr>\n",
       "</tbody>\n",
       "</table>\n"
      ],
      "text/latex": [
       "A data.frame: 6 × 20\n",
       "\\begin{tabular}{r|llllllllllllllllllll}\n",
       "  & Metabolite & Param & mean & sd & X2.5. & X50. & X97.5. & Rhat & Z.x & P\\_GT\\_LT\\_0 & SIG\\_BAYES & Estimate & StdErr & Z.y & P.value & P.Bon & P.BH & SIG\\_BH & SIG\\_BON & SIG.RAW\\\\\n",
       "  & <fct> & <fct> & <dbl> & <dbl> & <dbl> & <dbl> & <dbl> & <dbl> & <dbl> & <dbl> & <lgl> & <dbl> & <dbl> & <dbl> & <dbl> & <dbl> & <dbl> & <lgl> & <lgl> & <lgl>\\\\\n",
       "\\hline\n",
       "\t1 & oacetylcarnitine & beta\\_x{[}20{]} & 0.6717432 & 0.1469516 & 0.3927007 & 0.6673229 & 0.9642254 & 0.9991854 & 4.571186 & 1 & TRUE & 0.7061123 & 0.1499184 & 4.709979 & 2.477425e-06 & 6.689048e-05 & 6.689048e-05 & TRUE & TRUE & TRUE\\\\\n",
       "\t2 & tyrosine         & beta\\_x{[}26{]} & 0.5841276 & 0.1385063 & 0.3186377 & 0.5812330 & 0.8667370 & 0.9995169 & 4.217335 & 1 & TRUE & 0.6176204 & 0.1424830 & 4.334696 & 1.459620e-05 & 3.940974e-04 & 1.663743e-04 & TRUE & TRUE & TRUE\\\\\n",
       "\t3 & betaine          & beta\\_x{[}5{]}  & 0.5982423 & 0.1462437 & 0.3239850 & 0.5944203 & 0.9011620 & 0.9996255 & 4.090722 & 1 & TRUE & 0.6337244 & 0.1502429 & 4.217999 & 2.464804e-05 & 6.654972e-04 & 1.663743e-04 & TRUE & TRUE & TRUE\\\\\n",
       "\t4 & propyleneglycol  & beta\\_x{[}24{]} & 0.5828457 & 0.1430009 & 0.3139879 & 0.5783890 & 0.8780225 & 0.9992295 & 4.075819 & 1 & TRUE & 0.6580247 & 0.1558877 & 4.221145 & 2.430643e-05 & 6.562735e-04 & 1.663743e-04 & TRUE & TRUE & TRUE\\\\\n",
       "\t5 & glycine          & beta\\_x{[}13{]} & 0.5143159 & 0.1381882 & 0.2389536 & 0.5118453 & 0.7909574 & 0.9993084 & 3.721850 & 1 & TRUE & 0.5754833 & 0.1469295 & 3.916729 & 8.975845e-05 & 2.423478e-03 & 4.846956e-04 & TRUE & TRUE & TRUE\\\\\n",
       "\t6 & lysine           & beta\\_x{[}18{]} & 0.5040743 & 0.1354654 & 0.2456936 & 0.5033788 & 0.7759191 & 0.9991043 & 3.721056 & 1 & TRUE & 0.5471660 & 0.1433105 & 3.818045 & 1.345133e-04 & 3.631860e-03 & 6.053100e-04 & TRUE & TRUE & TRUE\\\\\n",
       "\\end{tabular}\n"
      ],
      "text/markdown": [
       "\n",
       "A data.frame: 6 × 20\n",
       "\n",
       "| <!--/--> | Metabolite &lt;fct&gt; | Param &lt;fct&gt; | mean &lt;dbl&gt; | sd &lt;dbl&gt; | X2.5. &lt;dbl&gt; | X50. &lt;dbl&gt; | X97.5. &lt;dbl&gt; | Rhat &lt;dbl&gt; | Z.x &lt;dbl&gt; | P_GT_LT_0 &lt;dbl&gt; | SIG_BAYES &lt;lgl&gt; | Estimate &lt;dbl&gt; | StdErr &lt;dbl&gt; | Z.y &lt;dbl&gt; | P.value &lt;dbl&gt; | P.Bon &lt;dbl&gt; | P.BH &lt;dbl&gt; | SIG_BH &lt;lgl&gt; | SIG_BON &lt;lgl&gt; | SIG.RAW &lt;lgl&gt; |\n",
       "|---|---|---|---|---|---|---|---|---|---|---|---|---|---|---|---|---|---|---|---|---|\n",
       "| 1 | oacetylcarnitine | beta_x[20] | 0.6717432 | 0.1469516 | 0.3927007 | 0.6673229 | 0.9642254 | 0.9991854 | 4.571186 | 1 | TRUE | 0.7061123 | 0.1499184 | 4.709979 | 2.477425e-06 | 6.689048e-05 | 6.689048e-05 | TRUE | TRUE | TRUE |\n",
       "| 2 | tyrosine         | beta_x[26] | 0.5841276 | 0.1385063 | 0.3186377 | 0.5812330 | 0.8667370 | 0.9995169 | 4.217335 | 1 | TRUE | 0.6176204 | 0.1424830 | 4.334696 | 1.459620e-05 | 3.940974e-04 | 1.663743e-04 | TRUE | TRUE | TRUE |\n",
       "| 3 | betaine          | beta_x[5]  | 0.5982423 | 0.1462437 | 0.3239850 | 0.5944203 | 0.9011620 | 0.9996255 | 4.090722 | 1 | TRUE | 0.6337244 | 0.1502429 | 4.217999 | 2.464804e-05 | 6.654972e-04 | 1.663743e-04 | TRUE | TRUE | TRUE |\n",
       "| 4 | propyleneglycol  | beta_x[24] | 0.5828457 | 0.1430009 | 0.3139879 | 0.5783890 | 0.8780225 | 0.9992295 | 4.075819 | 1 | TRUE | 0.6580247 | 0.1558877 | 4.221145 | 2.430643e-05 | 6.562735e-04 | 1.663743e-04 | TRUE | TRUE | TRUE |\n",
       "| 5 | glycine          | beta_x[13] | 0.5143159 | 0.1381882 | 0.2389536 | 0.5118453 | 0.7909574 | 0.9993084 | 3.721850 | 1 | TRUE | 0.5754833 | 0.1469295 | 3.916729 | 8.975845e-05 | 2.423478e-03 | 4.846956e-04 | TRUE | TRUE | TRUE |\n",
       "| 6 | lysine           | beta_x[18] | 0.5040743 | 0.1354654 | 0.2456936 | 0.5033788 | 0.7759191 | 0.9991043 | 3.721056 | 1 | TRUE | 0.5471660 | 0.1433105 | 3.818045 | 1.345133e-04 | 3.631860e-03 | 6.053100e-04 | TRUE | TRUE | TRUE |\n",
       "\n"
      ],
      "text/plain": [
       "  Metabolite       Param      mean      sd        X2.5.     X50.      X97.5.   \n",
       "1 oacetylcarnitine beta_x[20] 0.6717432 0.1469516 0.3927007 0.6673229 0.9642254\n",
       "2 tyrosine         beta_x[26] 0.5841276 0.1385063 0.3186377 0.5812330 0.8667370\n",
       "3 betaine          beta_x[5]  0.5982423 0.1462437 0.3239850 0.5944203 0.9011620\n",
       "4 propyleneglycol  beta_x[24] 0.5828457 0.1430009 0.3139879 0.5783890 0.8780225\n",
       "5 glycine          beta_x[13] 0.5143159 0.1381882 0.2389536 0.5118453 0.7909574\n",
       "6 lysine           beta_x[18] 0.5040743 0.1354654 0.2456936 0.5033788 0.7759191\n",
       "  Rhat      Z.x      P_GT_LT_0 SIG_BAYES Estimate  StdErr    Z.y     \n",
       "1 0.9991854 4.571186 1         TRUE      0.7061123 0.1499184 4.709979\n",
       "2 0.9995169 4.217335 1         TRUE      0.6176204 0.1424830 4.334696\n",
       "3 0.9996255 4.090722 1         TRUE      0.6337244 0.1502429 4.217999\n",
       "4 0.9992295 4.075819 1         TRUE      0.6580247 0.1558877 4.221145\n",
       "5 0.9993084 3.721850 1         TRUE      0.5754833 0.1469295 3.916729\n",
       "6 0.9991043 3.721056 1         TRUE      0.5471660 0.1433105 3.818045\n",
       "  P.value      P.Bon        P.BH         SIG_BH SIG_BON SIG.RAW\n",
       "1 2.477425e-06 6.689048e-05 6.689048e-05 TRUE   TRUE    TRUE   \n",
       "2 1.459620e-05 3.940974e-04 1.663743e-04 TRUE   TRUE    TRUE   \n",
       "3 2.464804e-05 6.654972e-04 1.663743e-04 TRUE   TRUE    TRUE   \n",
       "4 2.430643e-05 6.562735e-04 1.663743e-04 TRUE   TRUE    TRUE   \n",
       "5 8.975845e-05 2.423478e-03 4.846956e-04 TRUE   TRUE    TRUE   \n",
       "6 1.345133e-04 3.631860e-03 6.053100e-04 TRUE   TRUE    TRUE   "
      ]
     },
     "metadata": {},
     "output_type": "display_data"
    }
   ],
   "source": [
    "nmr_file = 'nmr_cmp.csv'\n",
    "nmr_real = read.csv(nmr_file)\n",
    "head(nmr_real)"
   ]
  },
  {
   "cell_type": "code",
   "execution_count": 3,
   "metadata": {},
   "outputs": [
    {
     "data": {
      "text/html": [
       "<table>\n",
       "<caption>A data.frame: 6 × 24</caption>\n",
       "<thead>\n",
       "\t<tr><th></th><th scope=col>Metabolite</th><th scope=col>Param</th><th scope=col>mean</th><th scope=col>sd</th><th scope=col>X2.5.</th><th scope=col>X50.</th><th scope=col>X97.5.</th><th scope=col>Rhat</th><th scope=col>Z.x</th><th scope=col>P_GT_LT_0</th><th scope=col>...</th><th scope=col>P.value</th><th scope=col>P.Bon</th><th scope=col>P.BH</th><th scope=col>SIG_BH</th><th scope=col>SIG_BON</th><th scope=col>SIG.RAW</th><th scope=col>Fmin</th><th scope=col>Fmax</th><th scope=col>Bmin</th><th scope=col>Bmax</th></tr>\n",
       "\t<tr><th></th><th scope=col>&lt;fct&gt;</th><th scope=col>&lt;fct&gt;</th><th scope=col>&lt;dbl&gt;</th><th scope=col>&lt;dbl&gt;</th><th scope=col>&lt;dbl&gt;</th><th scope=col>&lt;dbl&gt;</th><th scope=col>&lt;dbl&gt;</th><th scope=col>&lt;dbl&gt;</th><th scope=col>&lt;dbl&gt;</th><th scope=col>&lt;dbl&gt;</th><th scope=col>...</th><th scope=col>&lt;dbl&gt;</th><th scope=col>&lt;dbl&gt;</th><th scope=col>&lt;dbl&gt;</th><th scope=col>&lt;lgl&gt;</th><th scope=col>&lt;lgl&gt;</th><th scope=col>&lt;lgl&gt;</th><th scope=col>&lt;dbl&gt;</th><th scope=col>&lt;dbl&gt;</th><th scope=col>&lt;dbl&gt;</th><th scope=col>&lt;dbl&gt;</th></tr>\n",
       "</thead>\n",
       "<tbody>\n",
       "\t<tr><th scope=row>1</th><td>oacetylcarnitine</td><td>beta_x[20]</td><td>0.6717432</td><td>0.1469516</td><td>0.3927007</td><td>0.6673229</td><td>0.9642254</td><td>0.9991854</td><td>4.571186</td><td>1</td><td>...</td><td>2.477425e-06</td><td>6.689048e-05</td><td>6.689048e-05</td><td>TRUE</td><td>TRUE</td><td>TRUE</td><td>0.5561939</td><td>0.8560306</td><td>0.5247916</td><td>0.8186949</td></tr>\n",
       "\t<tr><th scope=row>2</th><td>tyrosine        </td><td>beta_x[26]</td><td>0.5841276</td><td>0.1385063</td><td>0.3186377</td><td>0.5812330</td><td>0.8667370</td><td>0.9995169</td><td>4.217335</td><td>1</td><td>...</td><td>1.459620e-05</td><td>3.940974e-04</td><td>1.663743e-04</td><td>TRUE</td><td>TRUE</td><td>TRUE</td><td>0.4751374</td><td>0.7601034</td><td>0.4456212</td><td>0.7226339</td></tr>\n",
       "\t<tr><th scope=row>3</th><td>betaine         </td><td>beta_x[5] </td><td>0.5982423</td><td>0.1462437</td><td>0.3239850</td><td>0.5944203</td><td>0.9011620</td><td>0.9996255</td><td>4.090722</td><td>1</td><td>...</td><td>2.464804e-05</td><td>6.654972e-04</td><td>1.663743e-04</td><td>TRUE</td><td>TRUE</td><td>TRUE</td><td>0.4834815</td><td>0.7839673</td><td>0.4519986</td><td>0.7444860</td></tr>\n",
       "\t<tr><th scope=row>4</th><td>propyleneglycol </td><td>beta_x[24]</td><td>0.5828457</td><td>0.1430009</td><td>0.3139879</td><td>0.5783890</td><td>0.8780225</td><td>0.9992295</td><td>4.075819</td><td>1</td><td>...</td><td>2.430643e-05</td><td>6.562735e-04</td><td>1.663743e-04</td><td>TRUE</td><td>TRUE</td><td>TRUE</td><td>0.5021369</td><td>0.8139124</td><td>0.4398448</td><td>0.7258466</td></tr>\n",
       "\t<tr><th scope=row>5</th><td>glycine         </td><td>beta_x[13]</td><td>0.5143159</td><td>0.1381882</td><td>0.2389536</td><td>0.5118453</td><td>0.7909574</td><td>0.9993084</td><td>3.721850</td><td>1</td><td>...</td><td>8.975845e-05</td><td>2.423478e-03</td><td>4.846956e-04</td><td>TRUE</td><td>TRUE</td><td>TRUE</td><td>0.4285537</td><td>0.7224128</td><td>0.3761277</td><td>0.6525042</td></tr>\n",
       "\t<tr><th scope=row>6</th><td>lysine          </td><td>beta_x[18]</td><td>0.5040743</td><td>0.1354654</td><td>0.2456936</td><td>0.5033788</td><td>0.7759191</td><td>0.9991043</td><td>3.721056</td><td>1</td><td>...</td><td>1.345133e-04</td><td>3.631860e-03</td><td>6.053100e-04</td><td>TRUE</td><td>TRUE</td><td>TRUE</td><td>0.4038555</td><td>0.6904766</td><td>0.3686090</td><td>0.6395397</td></tr>\n",
       "</tbody>\n",
       "</table>\n"
      ],
      "text/latex": [
       "A data.frame: 6 × 24\n",
       "\\begin{tabular}{r|lllllllllllllllllllll}\n",
       "  & Metabolite & Param & mean & sd & X2.5. & X50. & X97.5. & Rhat & Z.x & P\\_GT\\_LT\\_0 & ... & P.value & P.Bon & P.BH & SIG\\_BH & SIG\\_BON & SIG.RAW & Fmin & Fmax & Bmin & Bmax\\\\\n",
       "  & <fct> & <fct> & <dbl> & <dbl> & <dbl> & <dbl> & <dbl> & <dbl> & <dbl> & <dbl> & ... & <dbl> & <dbl> & <dbl> & <lgl> & <lgl> & <lgl> & <dbl> & <dbl> & <dbl> & <dbl>\\\\\n",
       "\\hline\n",
       "\t1 & oacetylcarnitine & beta\\_x{[}20{]} & 0.6717432 & 0.1469516 & 0.3927007 & 0.6673229 & 0.9642254 & 0.9991854 & 4.571186 & 1 & ... & 2.477425e-06 & 6.689048e-05 & 6.689048e-05 & TRUE & TRUE & TRUE & 0.5561939 & 0.8560306 & 0.5247916 & 0.8186949\\\\\n",
       "\t2 & tyrosine         & beta\\_x{[}26{]} & 0.5841276 & 0.1385063 & 0.3186377 & 0.5812330 & 0.8667370 & 0.9995169 & 4.217335 & 1 & ... & 1.459620e-05 & 3.940974e-04 & 1.663743e-04 & TRUE & TRUE & TRUE & 0.4751374 & 0.7601034 & 0.4456212 & 0.7226339\\\\\n",
       "\t3 & betaine          & beta\\_x{[}5{]}  & 0.5982423 & 0.1462437 & 0.3239850 & 0.5944203 & 0.9011620 & 0.9996255 & 4.090722 & 1 & ... & 2.464804e-05 & 6.654972e-04 & 1.663743e-04 & TRUE & TRUE & TRUE & 0.4834815 & 0.7839673 & 0.4519986 & 0.7444860\\\\\n",
       "\t4 & propyleneglycol  & beta\\_x{[}24{]} & 0.5828457 & 0.1430009 & 0.3139879 & 0.5783890 & 0.8780225 & 0.9992295 & 4.075819 & 1 & ... & 2.430643e-05 & 6.562735e-04 & 1.663743e-04 & TRUE & TRUE & TRUE & 0.5021369 & 0.8139124 & 0.4398448 & 0.7258466\\\\\n",
       "\t5 & glycine          & beta\\_x{[}13{]} & 0.5143159 & 0.1381882 & 0.2389536 & 0.5118453 & 0.7909574 & 0.9993084 & 3.721850 & 1 & ... & 8.975845e-05 & 2.423478e-03 & 4.846956e-04 & TRUE & TRUE & TRUE & 0.4285537 & 0.7224128 & 0.3761277 & 0.6525042\\\\\n",
       "\t6 & lysine           & beta\\_x{[}18{]} & 0.5040743 & 0.1354654 & 0.2456936 & 0.5033788 & 0.7759191 & 0.9991043 & 3.721056 & 1 & ... & 1.345133e-04 & 3.631860e-03 & 6.053100e-04 & TRUE & TRUE & TRUE & 0.4038555 & 0.6904766 & 0.3686090 & 0.6395397\\\\\n",
       "\\end{tabular}\n"
      ],
      "text/markdown": [
       "\n",
       "A data.frame: 6 × 24\n",
       "\n",
       "| <!--/--> | Metabolite &lt;fct&gt; | Param &lt;fct&gt; | mean &lt;dbl&gt; | sd &lt;dbl&gt; | X2.5. &lt;dbl&gt; | X50. &lt;dbl&gt; | X97.5. &lt;dbl&gt; | Rhat &lt;dbl&gt; | Z.x &lt;dbl&gt; | P_GT_LT_0 &lt;dbl&gt; | ... ... | P.value &lt;dbl&gt; | P.Bon &lt;dbl&gt; | P.BH &lt;dbl&gt; | SIG_BH &lt;lgl&gt; | SIG_BON &lt;lgl&gt; | SIG.RAW &lt;lgl&gt; | Fmin &lt;dbl&gt; | Fmax &lt;dbl&gt; | Bmin &lt;dbl&gt; | Bmax &lt;dbl&gt; |\n",
       "|---|---|---|---|---|---|---|---|---|---|---|---|---|---|---|---|---|---|---|---|---|---|\n",
       "| 1 | oacetylcarnitine | beta_x[20] | 0.6717432 | 0.1469516 | 0.3927007 | 0.6673229 | 0.9642254 | 0.9991854 | 4.571186 | 1 | ... | 2.477425e-06 | 6.689048e-05 | 6.689048e-05 | TRUE | TRUE | TRUE | 0.5561939 | 0.8560306 | 0.5247916 | 0.8186949 |\n",
       "| 2 | tyrosine         | beta_x[26] | 0.5841276 | 0.1385063 | 0.3186377 | 0.5812330 | 0.8667370 | 0.9995169 | 4.217335 | 1 | ... | 1.459620e-05 | 3.940974e-04 | 1.663743e-04 | TRUE | TRUE | TRUE | 0.4751374 | 0.7601034 | 0.4456212 | 0.7226339 |\n",
       "| 3 | betaine          | beta_x[5]  | 0.5982423 | 0.1462437 | 0.3239850 | 0.5944203 | 0.9011620 | 0.9996255 | 4.090722 | 1 | ... | 2.464804e-05 | 6.654972e-04 | 1.663743e-04 | TRUE | TRUE | TRUE | 0.4834815 | 0.7839673 | 0.4519986 | 0.7444860 |\n",
       "| 4 | propyleneglycol  | beta_x[24] | 0.5828457 | 0.1430009 | 0.3139879 | 0.5783890 | 0.8780225 | 0.9992295 | 4.075819 | 1 | ... | 2.430643e-05 | 6.562735e-04 | 1.663743e-04 | TRUE | TRUE | TRUE | 0.5021369 | 0.8139124 | 0.4398448 | 0.7258466 |\n",
       "| 5 | glycine          | beta_x[13] | 0.5143159 | 0.1381882 | 0.2389536 | 0.5118453 | 0.7909574 | 0.9993084 | 3.721850 | 1 | ... | 8.975845e-05 | 2.423478e-03 | 4.846956e-04 | TRUE | TRUE | TRUE | 0.4285537 | 0.7224128 | 0.3761277 | 0.6525042 |\n",
       "| 6 | lysine           | beta_x[18] | 0.5040743 | 0.1354654 | 0.2456936 | 0.5033788 | 0.7759191 | 0.9991043 | 3.721056 | 1 | ... | 1.345133e-04 | 3.631860e-03 | 6.053100e-04 | TRUE | TRUE | TRUE | 0.4038555 | 0.6904766 | 0.3686090 | 0.6395397 |\n",
       "\n"
      ],
      "text/plain": [
       "  Metabolite       Param      mean      sd        X2.5.     X50.      X97.5.   \n",
       "1 oacetylcarnitine beta_x[20] 0.6717432 0.1469516 0.3927007 0.6673229 0.9642254\n",
       "2 tyrosine         beta_x[26] 0.5841276 0.1385063 0.3186377 0.5812330 0.8667370\n",
       "3 betaine          beta_x[5]  0.5982423 0.1462437 0.3239850 0.5944203 0.9011620\n",
       "4 propyleneglycol  beta_x[24] 0.5828457 0.1430009 0.3139879 0.5783890 0.8780225\n",
       "5 glycine          beta_x[13] 0.5143159 0.1381882 0.2389536 0.5118453 0.7909574\n",
       "6 lysine           beta_x[18] 0.5040743 0.1354654 0.2456936 0.5033788 0.7759191\n",
       "  Rhat      Z.x      P_GT_LT_0 ... P.value      P.Bon        P.BH        \n",
       "1 0.9991854 4.571186 1         ... 2.477425e-06 6.689048e-05 6.689048e-05\n",
       "2 0.9995169 4.217335 1         ... 1.459620e-05 3.940974e-04 1.663743e-04\n",
       "3 0.9996255 4.090722 1         ... 2.464804e-05 6.654972e-04 1.663743e-04\n",
       "4 0.9992295 4.075819 1         ... 2.430643e-05 6.562735e-04 1.663743e-04\n",
       "5 0.9993084 3.721850 1         ... 8.975845e-05 2.423478e-03 4.846956e-04\n",
       "6 0.9991043 3.721056 1         ... 1.345133e-04 3.631860e-03 6.053100e-04\n",
       "  SIG_BH SIG_BON SIG.RAW Fmin      Fmax      Bmin      Bmax     \n",
       "1 TRUE   TRUE    TRUE    0.5561939 0.8560306 0.5247916 0.8186949\n",
       "2 TRUE   TRUE    TRUE    0.4751374 0.7601034 0.4456212 0.7226339\n",
       "3 TRUE   TRUE    TRUE    0.4834815 0.7839673 0.4519986 0.7444860\n",
       "4 TRUE   TRUE    TRUE    0.5021369 0.8139124 0.4398448 0.7258466\n",
       "5 TRUE   TRUE    TRUE    0.4285537 0.7224128 0.3761277 0.6525042\n",
       "6 TRUE   TRUE    TRUE    0.4038555 0.6904766 0.3686090 0.6395397"
      ]
     },
     "metadata": {},
     "output_type": "display_data"
    }
   ],
   "source": [
    "nmr_real = nmr_real %>% mutate(Fmin=Estimate-StdErr, Fmax=Estimate+StdErr, \n",
    "                               Bmin = mean-sd, Bmax = mean+sd)\n",
    "head(nmr_real)"
   ]
  },
  {
   "cell_type": "code",
   "execution_count": 4,
   "metadata": {},
   "outputs": [],
   "source": [
    "# p = ggplot(nmr_real,\n",
    "#        aes(x=Estimate, y=mean, color = SIG_BAYES)) + geom_point() + theme_classic() + \n",
    "# geom_abline(slope=1,intercept=0) + \n",
    "# labs (y='Bayes Estimate', x='Standard Estimate') + xlim(-0.1,1) + ylim(-0.1,1) +\n",
    "# scale_color_manual(labels = c(\"Non-Significant\", \"Significant\"),\n",
    "#                           values = c(\"#0072B2\", \"#D55E00\")) +\n",
    "#   theme(legend.position = c(0.75, 0.35),\n",
    "#         legend.text = element_text(size=12),\n",
    "#         legend.title = element_blank())\n",
    "       \n",
    "\n"
   ]
  },
  {
   "cell_type": "code",
   "execution_count": 5,
   "metadata": {},
   "outputs": [],
   "source": [
    "p = ggplot(nmr_real %>% filter(SIG_BAYES==TRUE),\n",
    "       aes(x=Estimate, y=mean, color = SIG_BAYES)) + geom_point() + theme_classic() + \n",
    "geom_abline(slope=1,intercept=0) + \n",
    "labs (y='Bayesian Estimate', x='Standard Estimate') + xlim(0.2,0.80) + ylim(0.2,0.80) +\n",
    "scale_color_manual(labels = c(\"Significant by Bayesian Methods\"),\n",
    "                          values = c(\"#0072B2\")) +\n",
    "  theme(legend.position = c(0.65, 0.15),\n",
    "        legend.text = element_text(size=12),\n",
    "        legend.title = element_blank())\n",
    "       "
   ]
  },
  {
   "cell_type": "code",
   "execution_count": 6,
   "metadata": {},
   "outputs": [
    {
     "data": {
      "image/png": "[encoded data removed]",
      "text/plain": [
       "plot without title"
      ]
     },
     "metadata": {
      "image/png": {
       "height": 420,
       "width": 420
      }
     },
     "output_type": "display_data"
    }
   ],
   "source": [
    "p "
   ]
  },
  {
   "cell_type": "code",
   "execution_count": 7,
   "metadata": {},
   "outputs": [],
   "source": [
    "ggsave(\"NEW_figure_S3.tiff\", plot = last_plot(),\n",
    "       width = 5, height = 5, units = \"in\",\n",
    "       dpi = 300)"
   ]
  },
  {
   "cell_type": "code",
   "execution_count": 83,
   "metadata": {},
   "outputs": [
    {
     "data": {
      "image/png": "[encoded data removed]",
      "text/plain": [
       "plot without title"
      ]
     },
     "metadata": {
      "image/png": {
       "height": 420,
       "width": 420
      }
     },
     "output_type": "display_data"
    }
   ],
   "source": [
    "plot(nmr_real$sd, nmr_real$StdErr)"
   ]
  },
  {
   "cell_type": "code",
   "execution_count": 11,
   "metadata": {},
   "outputs": [
    {
     "data": {
      "text/html": [
       "<style>\n",
       ".list-inline {list-style: none; margin:0; padding: 0}\n",
       ".list-inline>li {display: inline-block}\n",
       ".list-inline>li:not(:last-child)::after {content: \"\\00b7\"; padding: 0 .5ex}\n",
       "</style>\n",
       "<ol class=list-inline><li>0.0511639805682762</li><li>0.0573382281798228</li><li>0.0593105806578617</li><li>0.128986015507254</li><li>0.118929504491836</li><li>0.0854867795053283</li><li>0.0838861997013392</li><li>0.0398223618127252</li><li>0.121182035459777</li><li>0.120104080849073</li><li>0.116067691870593</li><li>0.115986167170865</li><li>0.0457943614058593</li><li>0.0410493923662582</li><li>0.0392757132850987</li><li>0.116600630691122</li><li>0.107089397071639</li></ol>\n"
      ],
      "text/latex": [
       "\\begin{enumerate*}\n",
       "\\item 0.0511639805682762\n",
       "\\item 0.0573382281798228\n",
       "\\item 0.0593105806578617\n",
       "\\item 0.128986015507254\n",
       "\\item 0.118929504491836\n",
       "\\item 0.0854867795053283\n",
       "\\item 0.0838861997013392\n",
       "\\item 0.0398223618127252\n",
       "\\item 0.121182035459777\n",
       "\\item 0.120104080849073\n",
       "\\item 0.116067691870593\n",
       "\\item 0.115986167170865\n",
       "\\item 0.0457943614058593\n",
       "\\item 0.0410493923662582\n",
       "\\item 0.0392757132850987\n",
       "\\item 0.116600630691122\n",
       "\\item 0.107089397071639\n",
       "\\end{enumerate*}\n"
      ],
      "text/markdown": [
       "1. 0.0511639805682762\n",
       "2. 0.0573382281798228\n",
       "3. 0.0593105806578617\n",
       "4. 0.128986015507254\n",
       "5. 0.118929504491836\n",
       "6. 0.0854867795053283\n",
       "7. 0.0838861997013392\n",
       "8. 0.0398223618127252\n",
       "9. 0.121182035459777\n",
       "10. 0.120104080849073\n",
       "11. 0.116067691870593\n",
       "12. 0.115986167170865\n",
       "13. 0.0457943614058593\n",
       "14. 0.0410493923662582\n",
       "15. 0.0392757132850987\n",
       "16. 0.116600630691122\n",
       "17. 0.107089397071639\n",
       "\n",
       "\n"
      ],
      "text/plain": [
       " [1] 0.05116398 0.05733823 0.05931058 0.12898602 0.11892950 0.08548678\n",
       " [7] 0.08388620 0.03982236 0.12118204 0.12010408 0.11606769 0.11598617\n",
       "[13] 0.04579436 0.04104939 0.03927571 0.11660063 0.10708940"
      ]
     },
     "metadata": {},
     "output_type": "display_data"
    }
   ],
   "source": [
    "nmr_real %>% filter(SIG_BAYES=='TRUE') %>%\n",
    "    mutate(mean_error = abs(Estimate - mean)/mean) %>% pull"
   ]
  },
  {
   "cell_type": "code",
   "execution_count": 29,
   "metadata": {},
   "outputs": [
    {
     "data": {
      "text/html": [
       "<table>\n",
       "<caption>A data.frame: 6 × 20</caption>\n",
       "<thead>\n",
       "\t<tr><th></th><th scope=col>Metabolite</th><th scope=col>Param</th><th scope=col>mean</th><th scope=col>sd</th><th scope=col>X2.5.</th><th scope=col>X50.</th><th scope=col>X97.5.</th><th scope=col>Rhat</th><th scope=col>Z.x</th><th scope=col>P_GT_LT_0</th><th scope=col>SIG_BAYES</th><th scope=col>Estimate</th><th scope=col>StdErr</th><th scope=col>Z.y</th><th scope=col>P.value</th><th scope=col>P.Bon</th><th scope=col>P.BH</th><th scope=col>SIG_BH</th><th scope=col>SIG_BON</th><th scope=col>SIG.RAW</th></tr>\n",
       "\t<tr><th></th><th scope=col>&lt;fct&gt;</th><th scope=col>&lt;fct&gt;</th><th scope=col>&lt;dbl&gt;</th><th scope=col>&lt;dbl&gt;</th><th scope=col>&lt;dbl&gt;</th><th scope=col>&lt;dbl&gt;</th><th scope=col>&lt;dbl&gt;</th><th scope=col>&lt;dbl&gt;</th><th scope=col>&lt;dbl&gt;</th><th scope=col>&lt;dbl&gt;</th><th scope=col>&lt;lgl&gt;</th><th scope=col>&lt;dbl&gt;</th><th scope=col>&lt;dbl&gt;</th><th scope=col>&lt;dbl&gt;</th><th scope=col>&lt;dbl&gt;</th><th scope=col>&lt;dbl&gt;</th><th scope=col>&lt;dbl&gt;</th><th scope=col>&lt;lgl&gt;</th><th scope=col>&lt;lgl&gt;</th><th scope=col>&lt;lgl&gt;</th></tr>\n",
       "</thead>\n",
       "<tbody>\n",
       "\t<tr><th scope=row>1</th><td>X3 </td><td>beta_x[2] </td><td> 0.2716910</td><td>0.20585602</td><td>-0.02157329</td><td> 0.23822725</td><td>0.77553366</td><td>1.005620</td><td> 1.319811</td><td>0.96000</td><td>FALSE</td><td> 0.9147064</td><td>0.27552036</td><td> 3.319923</td><td>0.0009004221</td><td>0.03691731</td><td>0.03691731</td><td> TRUE</td><td> TRUE</td><td> TRUE</td></tr>\n",
       "\t<tr><th scope=row>2</th><td>X12</td><td>beta_x[10]</td><td>-0.1540768</td><td>0.11807476</td><td>-0.42087609</td><td>-0.14426860</td><td>0.03862213</td><td>1.003211</td><td>-1.304909</td><td>0.92550</td><td>FALSE</td><td>-0.3255644</td><td>0.13999074</td><td>-2.325614</td><td>0.0200391498</td><td>0.82160514</td><td>0.21965824</td><td>FALSE</td><td>FALSE</td><td> TRUE</td></tr>\n",
       "\t<tr><th scope=row>3</th><td>X70</td><td>beta_x[39]</td><td>-0.1852725</td><td>0.14995730</td><td>-0.52661489</td><td>-0.16556217</td><td>0.04549855</td><td>1.006516</td><td>-1.235501</td><td>0.91925</td><td>FALSE</td><td>-0.4920620</td><td>0.18841929</td><td>-2.611527</td><td>0.0090138978</td><td>0.36956981</td><td>0.18478491</td><td>FALSE</td><td>FALSE</td><td> TRUE</td></tr>\n",
       "\t<tr><th scope=row>4</th><td>X6 </td><td>beta_x[5] </td><td>-0.1428744</td><td>0.12084181</td><td>-0.41920387</td><td>-0.12933452</td><td>0.05659793</td><td>1.002161</td><td>-1.182326</td><td>0.90225</td><td>FALSE</td><td>-0.3776557</td><td>0.16417524</td><td>-2.300320</td><td>0.0214300722</td><td>0.87863296</td><td>0.21965824</td><td>FALSE</td><td>FALSE</td><td> TRUE</td></tr>\n",
       "\t<tr><th scope=row>5</th><td>X8 </td><td>beta_x[7] </td><td>-0.1276216</td><td>0.11023146</td><td>-0.37071775</td><td>-0.11764023</td><td>0.05400695</td><td>1.000995</td><td>-1.157761</td><td>0.88950</td><td>FALSE</td><td>-0.2897639</td><td>0.15910419</td><td>-1.821221</td><td>0.0685732341</td><td>1.00000000</td><td>0.40164323</td><td>FALSE</td><td>FALSE</td><td>FALSE</td></tr>\n",
       "\t<tr><th scope=row>6</th><td>X48</td><td>beta_x[30]</td><td>-0.0884714</td><td>0.08405412</td><td>-0.26409491</td><td>-0.08438648</td><td>0.06381241</td><td>1.001296</td><td>-1.052553</td><td>0.85375</td><td>FALSE</td><td>-0.1324167</td><td>0.09707177</td><td>-1.364112</td><td>0.1725323802</td><td>1.00000000</td><td>0.60464692</td><td>FALSE</td><td>FALSE</td><td>FALSE</td></tr>\n",
       "</tbody>\n",
       "</table>\n"
      ],
      "text/latex": [
       "A data.frame: 6 × 20\n",
       "\\begin{tabular}{r|llllllllllllllllllll}\n",
       "  & Metabolite & Param & mean & sd & X2.5. & X50. & X97.5. & Rhat & Z.x & P\\_GT\\_LT\\_0 & SIG\\_BAYES & Estimate & StdErr & Z.y & P.value & P.Bon & P.BH & SIG\\_BH & SIG\\_BON & SIG.RAW\\\\\n",
       "  & <fct> & <fct> & <dbl> & <dbl> & <dbl> & <dbl> & <dbl> & <dbl> & <dbl> & <dbl> & <lgl> & <dbl> & <dbl> & <dbl> & <dbl> & <dbl> & <dbl> & <lgl> & <lgl> & <lgl>\\\\\n",
       "\\hline\n",
       "\t1 & X3  & beta\\_x{[}2{]}  &  0.2716910 & 0.20585602 & -0.02157329 &  0.23822725 & 0.77553366 & 1.005620 &  1.319811 & 0.96000 & FALSE &  0.9147064 & 0.27552036 &  3.319923 & 0.0009004221 & 0.03691731 & 0.03691731 &  TRUE &  TRUE &  TRUE\\\\\n",
       "\t2 & X12 & beta\\_x{[}10{]} & -0.1540768 & 0.11807476 & -0.42087609 & -0.14426860 & 0.03862213 & 1.003211 & -1.304909 & 0.92550 & FALSE & -0.3255644 & 0.13999074 & -2.325614 & 0.0200391498 & 0.82160514 & 0.21965824 & FALSE & FALSE &  TRUE\\\\\n",
       "\t3 & X70 & beta\\_x{[}39{]} & -0.1852725 & 0.14995730 & -0.52661489 & -0.16556217 & 0.04549855 & 1.006516 & -1.235501 & 0.91925 & FALSE & -0.4920620 & 0.18841929 & -2.611527 & 0.0090138978 & 0.36956981 & 0.18478491 & FALSE & FALSE &  TRUE\\\\\n",
       "\t4 & X6  & beta\\_x{[}5{]}  & -0.1428744 & 0.12084181 & -0.41920387 & -0.12933452 & 0.05659793 & 1.002161 & -1.182326 & 0.90225 & FALSE & -0.3776557 & 0.16417524 & -2.300320 & 0.0214300722 & 0.87863296 & 0.21965824 & FALSE & FALSE &  TRUE\\\\\n",
       "\t5 & X8  & beta\\_x{[}7{]}  & -0.1276216 & 0.11023146 & -0.37071775 & -0.11764023 & 0.05400695 & 1.000995 & -1.157761 & 0.88950 & FALSE & -0.2897639 & 0.15910419 & -1.821221 & 0.0685732341 & 1.00000000 & 0.40164323 & FALSE & FALSE & FALSE\\\\\n",
       "\t6 & X48 & beta\\_x{[}30{]} & -0.0884714 & 0.08405412 & -0.26409491 & -0.08438648 & 0.06381241 & 1.001296 & -1.052553 & 0.85375 & FALSE & -0.1324167 & 0.09707177 & -1.364112 & 0.1725323802 & 1.00000000 & 0.60464692 & FALSE & FALSE & FALSE\\\\\n",
       "\\end{tabular}\n"
      ],
      "text/markdown": [
       "\n",
       "A data.frame: 6 × 20\n",
       "\n",
       "| <!--/--> | Metabolite &lt;fct&gt; | Param &lt;fct&gt; | mean &lt;dbl&gt; | sd &lt;dbl&gt; | X2.5. &lt;dbl&gt; | X50. &lt;dbl&gt; | X97.5. &lt;dbl&gt; | Rhat &lt;dbl&gt; | Z.x &lt;dbl&gt; | P_GT_LT_0 &lt;dbl&gt; | SIG_BAYES &lt;lgl&gt; | Estimate &lt;dbl&gt; | StdErr &lt;dbl&gt; | Z.y &lt;dbl&gt; | P.value &lt;dbl&gt; | P.Bon &lt;dbl&gt; | P.BH &lt;dbl&gt; | SIG_BH &lt;lgl&gt; | SIG_BON &lt;lgl&gt; | SIG.RAW &lt;lgl&gt; |\n",
       "|---|---|---|---|---|---|---|---|---|---|---|---|---|---|---|---|---|---|---|---|---|\n",
       "| 1 | X3  | beta_x[2]  |  0.2716910 | 0.20585602 | -0.02157329 |  0.23822725 | 0.77553366 | 1.005620 |  1.319811 | 0.96000 | FALSE |  0.9147064 | 0.27552036 |  3.319923 | 0.0009004221 | 0.03691731 | 0.03691731 |  TRUE |  TRUE |  TRUE |\n",
       "| 2 | X12 | beta_x[10] | -0.1540768 | 0.11807476 | -0.42087609 | -0.14426860 | 0.03862213 | 1.003211 | -1.304909 | 0.92550 | FALSE | -0.3255644 | 0.13999074 | -2.325614 | 0.0200391498 | 0.82160514 | 0.21965824 | FALSE | FALSE |  TRUE |\n",
       "| 3 | X70 | beta_x[39] | -0.1852725 | 0.14995730 | -0.52661489 | -0.16556217 | 0.04549855 | 1.006516 | -1.235501 | 0.91925 | FALSE | -0.4920620 | 0.18841929 | -2.611527 | 0.0090138978 | 0.36956981 | 0.18478491 | FALSE | FALSE |  TRUE |\n",
       "| 4 | X6  | beta_x[5]  | -0.1428744 | 0.12084181 | -0.41920387 | -0.12933452 | 0.05659793 | 1.002161 | -1.182326 | 0.90225 | FALSE | -0.3776557 | 0.16417524 | -2.300320 | 0.0214300722 | 0.87863296 | 0.21965824 | FALSE | FALSE |  TRUE |\n",
       "| 5 | X8  | beta_x[7]  | -0.1276216 | 0.11023146 | -0.37071775 | -0.11764023 | 0.05400695 | 1.000995 | -1.157761 | 0.88950 | FALSE | -0.2897639 | 0.15910419 | -1.821221 | 0.0685732341 | 1.00000000 | 0.40164323 | FALSE | FALSE | FALSE |\n",
       "| 6 | X48 | beta_x[30] | -0.0884714 | 0.08405412 | -0.26409491 | -0.08438648 | 0.06381241 | 1.001296 | -1.052553 | 0.85375 | FALSE | -0.1324167 | 0.09707177 | -1.364112 | 0.1725323802 | 1.00000000 | 0.60464692 | FALSE | FALSE | FALSE |\n",
       "\n"
      ],
      "text/plain": [
       "  Metabolite Param      mean       sd         X2.5.       X50.       \n",
       "1 X3         beta_x[2]   0.2716910 0.20585602 -0.02157329  0.23822725\n",
       "2 X12        beta_x[10] -0.1540768 0.11807476 -0.42087609 -0.14426860\n",
       "3 X70        beta_x[39] -0.1852725 0.14995730 -0.52661489 -0.16556217\n",
       "4 X6         beta_x[5]  -0.1428744 0.12084181 -0.41920387 -0.12933452\n",
       "5 X8         beta_x[7]  -0.1276216 0.11023146 -0.37071775 -0.11764023\n",
       "6 X48        beta_x[30] -0.0884714 0.08405412 -0.26409491 -0.08438648\n",
       "  X97.5.     Rhat     Z.x       P_GT_LT_0 SIG_BAYES Estimate   StdErr    \n",
       "1 0.77553366 1.005620  1.319811 0.96000   FALSE      0.9147064 0.27552036\n",
       "2 0.03862213 1.003211 -1.304909 0.92550   FALSE     -0.3255644 0.13999074\n",
       "3 0.04549855 1.006516 -1.235501 0.91925   FALSE     -0.4920620 0.18841929\n",
       "4 0.05659793 1.002161 -1.182326 0.90225   FALSE     -0.3776557 0.16417524\n",
       "5 0.05400695 1.000995 -1.157761 0.88950   FALSE     -0.2897639 0.15910419\n",
       "6 0.06381241 1.001296 -1.052553 0.85375   FALSE     -0.1324167 0.09707177\n",
       "  Z.y       P.value      P.Bon      P.BH       SIG_BH SIG_BON SIG.RAW\n",
       "1  3.319923 0.0009004221 0.03691731 0.03691731  TRUE   TRUE    TRUE  \n",
       "2 -2.325614 0.0200391498 0.82160514 0.21965824 FALSE  FALSE    TRUE  \n",
       "3 -2.611527 0.0090138978 0.36956981 0.18478491 FALSE  FALSE    TRUE  \n",
       "4 -2.300320 0.0214300722 0.87863296 0.21965824 FALSE  FALSE    TRUE  \n",
       "5 -1.821221 0.0685732341 1.00000000 0.40164323 FALSE  FALSE   FALSE  \n",
       "6 -1.364112 0.1725323802 1.00000000 0.60464692 FALSE  FALSE   FALSE  "
      ]
     },
     "metadata": {},
     "output_type": "display_data"
    }
   ],
   "source": [
    "gc_file = 'gc_cmp.csv'\n",
    "gc_real = read.csv(gc_file)\n",
    "head(gc_real)"
   ]
  },
  {
   "cell_type": "code",
   "execution_count": 30,
   "metadata": {},
   "outputs": [],
   "source": [
    "q = ggplot(gc_real,aes(x=Estimate, y=mean, color=SIG_BAYES)) + geom_point() + theme_classic() + \n",
    "geom_abline(slope=1,intercept=0) + \n",
    "labs (y='Bayes Estimate', x='Standard Estimate') +\n",
    "scale_color_manual(labels = c(\"Non-Significant\", \"Significant\"),\n",
    "                          values = c(\"#0072B2\", \"#D55E00\")) +\n",
    "  theme(legend.position = c(0.75, 0.35),\n",
    "        legend.text = element_text(size=12),\n",
    "        legend.title = element_blank()) +  xlim(-0.5,1) + ylim(-0.5, 1) \n"
   ]
  },
  {
   "cell_type": "code",
   "execution_count": 31,
   "metadata": {},
   "outputs": [
    {
     "data": {
      "image/png": "[encoded data removed]",
      "text/plain": [
       "plot without title"
      ]
     },
     "metadata": {
      "image/png": {
       "height": 420,
       "width": 420
      }
     },
     "output_type": "display_data"
    }
   ],
   "source": [
    "q "
   ]
  },
  {
   "cell_type": "code",
   "execution_count": 108,
   "metadata": {},
   "outputs": [
    {
     "data": {
      "text/html": [
       "-0.492061979105047"
      ],
      "text/latex": [
       "-0.492061979105047"
      ],
      "text/markdown": [
       "-0.492061979105047"
      ],
      "text/plain": [
       "[1] -0.492062"
      ]
     },
     "metadata": {},
     "output_type": "display_data"
    }
   ],
   "source": [
    "min(gc_real$Estimate)"
   ]
  },
  {
   "cell_type": "code",
   "execution_count": 100,
   "metadata": {},
   "outputs": [
    {
     "name": "stderr",
     "output_type": "stream",
     "text": [
      "Loading required package: magrittr\n",
      "\n",
      "\n",
      "Attaching package: 'magrittr'\n",
      "\n",
      "\n",
      "The following object is masked from 'package:rstan':\n",
      "\n",
      "    extract\n",
      "\n",
      "\n",
      "The following object is masked from 'package:purrr':\n",
      "\n",
      "    set_names\n",
      "\n",
      "\n",
      "The following object is masked from 'package:tidyr':\n",
      "\n",
      "    extract\n",
      "\n",
      "\n"
     ]
    },
    {
     "data": {
      "image/png": "[encoded data removed]",
      "text/plain": [
       "plot without title"
      ]
     },
     "metadata": {
      "image/png": {
       "height": 420,
       "width": 420
      }
     },
     "output_type": "display_data"
    }
   ],
   "source": [
    "library('ggpubr')\n",
    "fig_s2 = ggarrange(p, q, labels = c(\"A\", \"B\"),\n",
    "          ncol = 1, nrow = 2)\n",
    "fig_s2"
   ]
  },
  {
   "cell_type": "code",
   "execution_count": 101,
   "metadata": {},
   "outputs": [],
   "source": [
    "ggsave(\"figure_S2.tiff\", plot = last_plot(),scale = 0.85, \n",
    "       width = 5, height = 7, units = c(\"in\", \"cm\", \"mm\"),\n",
    "       dpi = 300)"
   ]
  },
  {
   "cell_type": "code",
   "execution_count": 18,
   "metadata": {},
   "outputs": [
    {
     "data": {
      "text/plain": [
       "\n",
       "Call:\n",
       "lm(formula = mean ~ Estimate, data = nmr_real)\n",
       "\n",
       "Residuals:\n",
       "     Min       1Q   Median       3Q      Max \n",
       "-0.02631 -0.01872 -0.01533  0.01853  0.05812 \n",
       "\n",
       "Coefficients:\n",
       "            Estimate Std. Error t value Pr(>|t|)    \n",
       "(Intercept) 0.017280   0.008879   1.946   0.0629 .  \n",
       "Estimate    0.899478   0.022327  40.286   <2e-16 ***\n",
       "---\n",
       "Signif. codes:  0 '***' 0.001 '**' 0.01 '*' 0.05 '.' 0.1 ' ' 1\n",
       "\n",
       "Residual standard error: 0.02397 on 25 degrees of freedom\n",
       "Multiple R-squared:  0.9848,\tAdjusted R-squared:  0.9842 \n",
       "F-statistic:  1623 on 1 and 25 DF,  p-value: < 2.2e-16\n"
      ]
     },
     "metadata": {},
     "output_type": "display_data"
    }
   ],
   "source": [
    "#range(nmr_real$Estimate)\n",
    "#range(nmr_real$mean)\n",
    "x=lm(mean ~ Estimate, data = nmr_real)\n",
    "summary(x)"
   ]
  },
  {
   "cell_type": "code",
   "execution_count": 104,
   "metadata": {},
   "outputs": [
    {
     "name": "stdout",
     "output_type": "stream",
     "text": [
      "\n",
      "SAMPLING FOR MODEL 'continuous' NOW (CHAIN 1).\n",
      "Chain 1: \n",
      "Chain 1: Gradient evaluation took 0 seconds\n",
      "Chain 1: 1000 transitions using 10 leapfrog steps per transition would take 0 seconds.\n",
      "Chain 1: Adjust your expectations accordingly!\n",
      "Chain 1: \n",
      "Chain 1: \n",
      "Chain 1: Iteration:    1 / 10000 [  0%]  (Warmup)\n",
      "Chain 1: Iteration: 1000 / 10000 [ 10%]  (Warmup)\n",
      "Chain 1: Iteration: 2000 / 10000 [ 20%]  (Warmup)\n",
      "Chain 1: Iteration: 3000 / 10000 [ 30%]  (Warmup)\n",
      "Chain 1: Iteration: 4000 / 10000 [ 40%]  (Warmup)\n",
      "Chain 1: Iteration: 5000 / 10000 [ 50%]  (Warmup)\n",
      "Chain 1: Iteration: 5001 / 10000 [ 50%]  (Sampling)\n",
      "Chain 1: Iteration: 6000 / 10000 [ 60%]  (Sampling)\n",
      "Chain 1: Iteration: 7000 / 10000 [ 70%]  (Sampling)\n",
      "Chain 1: Iteration: 8000 / 10000 [ 80%]  (Sampling)\n",
      "Chain 1: Iteration: 9000 / 10000 [ 90%]  (Sampling)\n",
      "Chain 1: Iteration: 10000 / 10000 [100%]  (Sampling)\n",
      "Chain 1: \n",
      "Chain 1:  Elapsed Time: 0.221 seconds (Warm-up)\n",
      "Chain 1:                0.22 seconds (Sampling)\n",
      "Chain 1:                0.441 seconds (Total)\n",
      "Chain 1: \n",
      "\n",
      "SAMPLING FOR MODEL 'continuous' NOW (CHAIN 2).\n",
      "Chain 2: \n",
      "Chain 2: Gradient evaluation took 0 seconds\n",
      "Chain 2: 1000 transitions using 10 leapfrog steps per transition would take 0 seconds.\n",
      "Chain 2: Adjust your expectations accordingly!\n",
      "Chain 2: \n",
      "Chain 2: \n",
      "Chain 2: Iteration:    1 / 10000 [  0%]  (Warmup)\n",
      "Chain 2: Iteration: 1000 / 10000 [ 10%]  (Warmup)\n",
      "Chain 2: Iteration: 2000 / 10000 [ 20%]  (Warmup)\n",
      "Chain 2: Iteration: 3000 / 10000 [ 30%]  (Warmup)\n",
      "Chain 2: Iteration: 4000 / 10000 [ 40%]  (Warmup)\n",
      "Chain 2: Iteration: 5000 / 10000 [ 50%]  (Warmup)\n",
      "Chain 2: Iteration: 5001 / 10000 [ 50%]  (Sampling)\n",
      "Chain 2: Iteration: 6000 / 10000 [ 60%]  (Sampling)\n",
      "Chain 2: Iteration: 7000 / 10000 [ 70%]  (Sampling)\n",
      "Chain 2: Iteration: 8000 / 10000 [ 80%]  (Sampling)\n",
      "Chain 2: Iteration: 9000 / 10000 [ 90%]  (Sampling)\n",
      "Chain 2: Iteration: 10000 / 10000 [100%]  (Sampling)\n",
      "Chain 2: \n",
      "Chain 2:  Elapsed Time: 0.2 seconds (Warm-up)\n",
      "Chain 2:                0.182 seconds (Sampling)\n",
      "Chain 2:                0.382 seconds (Total)\n",
      "Chain 2: \n",
      "\n",
      "SAMPLING FOR MODEL 'continuous' NOW (CHAIN 3).\n",
      "Chain 3: \n",
      "Chain 3: Gradient evaluation took 0 seconds\n",
      "Chain 3: 1000 transitions using 10 leapfrog steps per transition would take 0 seconds.\n",
      "Chain 3: Adjust your expectations accordingly!\n",
      "Chain 3: \n",
      "Chain 3: \n",
      "Chain 3: Iteration:    1 / 10000 [  0%]  (Warmup)\n",
      "Chain 3: Iteration: 1000 / 10000 [ 10%]  (Warmup)\n",
      "Chain 3: Iteration: 2000 / 10000 [ 20%]  (Warmup)\n",
      "Chain 3: Iteration: 3000 / 10000 [ 30%]  (Warmup)\n",
      "Chain 3: Iteration: 4000 / 10000 [ 40%]  (Warmup)\n",
      "Chain 3: Iteration: 5000 / 10000 [ 50%]  (Warmup)\n",
      "Chain 3: Iteration: 5001 / 10000 [ 50%]  (Sampling)\n",
      "Chain 3: Iteration: 6000 / 10000 [ 60%]  (Sampling)\n",
      "Chain 3: Iteration: 7000 / 10000 [ 70%]  (Sampling)\n",
      "Chain 3: Iteration: 8000 / 10000 [ 80%]  (Sampling)\n",
      "Chain 3: Iteration: 9000 / 10000 [ 90%]  (Sampling)\n",
      "Chain 3: Iteration: 10000 / 10000 [100%]  (Sampling)\n",
      "Chain 3: \n",
      "Chain 3:  Elapsed Time: 0.189 seconds (Warm-up)\n",
      "Chain 3:                0.205 seconds (Sampling)\n",
      "Chain 3:                0.394 seconds (Total)\n",
      "Chain 3: \n",
      "\n",
      "SAMPLING FOR MODEL 'continuous' NOW (CHAIN 4).\n",
      "Chain 4: \n",
      "Chain 4: Gradient evaluation took 0 seconds\n",
      "Chain 4: 1000 transitions using 10 leapfrog steps per transition would take 0 seconds.\n",
      "Chain 4: Adjust your expectations accordingly!\n",
      "Chain 4: \n",
      "Chain 4: \n",
      "Chain 4: Iteration:    1 / 10000 [  0%]  (Warmup)\n",
      "Chain 4: Iteration: 1000 / 10000 [ 10%]  (Warmup)\n",
      "Chain 4: Iteration: 2000 / 10000 [ 20%]  (Warmup)\n",
      "Chain 4: Iteration: 3000 / 10000 [ 30%]  (Warmup)\n",
      "Chain 4: Iteration: 4000 / 10000 [ 40%]  (Warmup)\n",
      "Chain 4: Iteration: 5000 / 10000 [ 50%]  (Warmup)\n",
      "Chain 4: Iteration: 5001 / 10000 [ 50%]  (Sampling)\n",
      "Chain 4: Iteration: 6000 / 10000 [ 60%]  (Sampling)\n",
      "Chain 4: Iteration: 7000 / 10000 [ 70%]  (Sampling)\n",
      "Chain 4: Iteration: 8000 / 10000 [ 80%]  (Sampling)\n",
      "Chain 4: Iteration: 9000 / 10000 [ 90%]  (Sampling)\n",
      "Chain 4: Iteration: 10000 / 10000 [100%]  (Sampling)\n",
      "Chain 4: \n",
      "Chain 4:  Elapsed Time: 0.18 seconds (Warm-up)\n",
      "Chain 4:                0.214 seconds (Sampling)\n",
      "Chain 4:                0.394 seconds (Total)\n",
      "Chain 4: \n"
     ]
    },
    {
     "data": {
      "text/plain": [
       "Inference for Stan model: continuous.\n",
       "4 chains, each with iter=10000; warmup=5000; thin=1; \n",
       "post-warmup draws per chain=5000, total post-warmup draws=20000.\n",
       "\n",
       "               mean se_mean   sd  2.5%   25%   50%   75% 97.5% n_eff Rhat\n",
       "(Intercept)    0.02    0.00 0.01  0.00  0.01  0.02  0.02  0.04 14789    1\n",
       "Estimate       0.90    0.00 0.02  0.85  0.88  0.90  0.92  0.95 15125    1\n",
       "sigma          0.03    0.00 0.00  0.02  0.02  0.02  0.03  0.03 14287    1\n",
       "mean_PPD       0.32    0.00 0.01  0.31  0.32  0.32  0.33  0.34 16875    1\n",
       "log-posterior 59.64    0.02 1.31 56.16 59.05 59.99 60.60 61.12  7125    1\n",
       "\n",
       "Samples were drawn using NUTS(diag_e) at Tue Apr 28 10:53:31 2020.\n",
       "For each parameter, n_eff is a crude measure of effective sample size,\n",
       "and Rhat is the potential scale reduction factor on split chains (at \n",
       "convergence, Rhat=1)."
      ]
     },
     "metadata": {},
     "output_type": "display_data"
    }
   ],
   "source": [
    "#library('rstan')\n",
    "#library('rstanarm')\n",
    "m = stan_glm( mean ~ Estimate , prior=NULL, prior_intercept=NULL, \n",
    "             data=nmr_real, family = 'gaussian', iter = 10000 )\n",
    "m$stanfit"
   ]
  },
  {
   "cell_type": "code",
   "execution_count": 106,
   "metadata": {},
   "outputs": [
    {
     "name": "stderr",
     "output_type": "stream",
     "text": [
      "Warning message:\n",
      "\"`expand_scale()` is deprecated; use `expansion()` instead.\"\n"
     ]
    },
    {
     "data": {
      "image/png": "[encoded data removed]",
      "text/plain": [
       "plot without title"
      ]
     },
     "metadata": {
      "image/png": {
       "height": 420,
       "width": 420
      }
     },
     "output_type": "display_data"
    }
   ],
   "source": [
    "mcmc_areas(m$stanfit, pars=c( 'Estimate'), prob_outer = 0.9999, prob=0.95)\n"
   ]
  },
  {
   "cell_type": "code",
   "execution_count": 107,
   "metadata": {},
   "outputs": [],
   "source": [
    "post = rstan::extract(m$stanfit)"
   ]
  },
  {
   "cell_type": "code",
   "execution_count": 109,
   "metadata": {},
   "outputs": [
    {
     "data": {
      "text/html": [
       "0.99995"
      ],
      "text/latex": [
       "0.99995"
      ],
      "text/markdown": [
       "0.99995"
      ],
      "text/plain": [
       "[1] 0.99995"
      ]
     },
     "metadata": {},
     "output_type": "display_data"
    }
   ],
   "source": [
    " mean(post$beta[, 1] < 1)"
   ]
  },
  {
   "cell_type": "code",
   "execution_count": 114,
   "metadata": {},
   "outputs": [
    {
     "data": {
      "text/plain": [
       "   Min. 1st Qu.  Median    Mean 3rd Qu.    Max. \n",
       " 0.7919  0.8843  0.9000  0.8998  0.9154  1.0024 "
      ]
     },
     "metadata": {},
     "output_type": "display_data"
    },
    {
     "data": {
      "text/html": [
       "<table>\n",
       "<caption>A matrix: 1 × 2 of type dbl</caption>\n",
       "<thead>\n",
       "\t<tr><th scope=col>2.5%</th><th scope=col>97.5%</th></tr>\n",
       "</thead>\n",
       "<tbody>\n",
       "\t<tr><td>0.8520727</td><td>0.9462881</td></tr>\n",
       "</tbody>\n",
       "</table>\n"
      ],
      "text/latex": [
       "A matrix: 1 × 2 of type dbl\n",
       "\\begin{tabular}{ll}\n",
       " 2.5\\% & 97.5\\%\\\\\n",
       "\\hline\n",
       "\t 0.8520727 & 0.9462881\\\\\n",
       "\\end{tabular}\n"
      ],
      "text/markdown": [
       "\n",
       "A matrix: 1 × 2 of type dbl\n",
       "\n",
       "| 2.5% | 97.5% |\n",
       "|---|---|\n",
       "| 0.8520727 | 0.9462881 |\n",
       "\n"
      ],
      "text/plain": [
       "     2.5%      97.5%    \n",
       "[1,] 0.8520727 0.9462881"
      ]
     },
     "metadata": {},
     "output_type": "display_data"
    }
   ],
   "source": [
    "summary(post$beta[, 1])\n",
    "posterior_interval(post$beta, prob = 0.95)"
   ]
  },
  {
   "cell_type": "code",
   "execution_count": 116,
   "metadata": {},
   "outputs": [
    {
     "data": {
      "text/plain": [
       "\n",
       "Call:\n",
       "lm(formula = mean ~ Estimate, data = gc_real)\n",
       "\n",
       "Residuals:\n",
       "      Min        1Q    Median        3Q       Max \n",
       "-0.037787 -0.007960 -0.000596  0.010509  0.030460 \n",
       "\n",
       "Coefficients:\n",
       "             Estimate Std. Error t value Pr(>|t|)    \n",
       "(Intercept) -0.005499   0.002791  -1.971   0.0559 .  \n",
       "Estimate     0.341230   0.011917  28.634   <2e-16 ***\n",
       "---\n",
       "Signif. codes:  0 '***' 0.001 '**' 0.01 '*' 0.05 '.' 0.1 ' ' 1\n",
       "\n",
       "Residual standard error: 0.01705 on 39 degrees of freedom\n",
       "Multiple R-squared:  0.9546,\tAdjusted R-squared:  0.9534 \n",
       "F-statistic: 819.9 on 1 and 39 DF,  p-value: < 2.2e-16\n"
      ]
     },
     "metadata": {},
     "output_type": "display_data"
    }
   ],
   "source": [
    "x1=lm(mean ~ Estimate, data = gc_real)\n",
    "summary(x1)"
   ]
  },
  {
   "cell_type": "code",
   "execution_count": 115,
   "metadata": {
    "scrolled": true
   },
   "outputs": [
    {
     "name": "stdout",
     "output_type": "stream",
     "text": [
      "\n",
      "SAMPLING FOR MODEL 'continuous' NOW (CHAIN 1).\n",
      "Chain 1: \n",
      "Chain 1: Gradient evaluation took 0 seconds\n",
      "Chain 1: 1000 transitions using 10 leapfrog steps per transition would take 0 seconds.\n",
      "Chain 1: Adjust your expectations accordingly!\n",
      "Chain 1: \n",
      "Chain 1: \n",
      "Chain 1: Iteration:    1 / 10000 [  0%]  (Warmup)\n",
      "Chain 1: Iteration: 1000 / 10000 [ 10%]  (Warmup)\n",
      "Chain 1: Iteration: 2000 / 10000 [ 20%]  (Warmup)\n",
      "Chain 1: Iteration: 3000 / 10000 [ 30%]  (Warmup)\n",
      "Chain 1: Iteration: 4000 / 10000 [ 40%]  (Warmup)\n",
      "Chain 1: Iteration: 5000 / 10000 [ 50%]  (Warmup)\n",
      "Chain 1: Iteration: 5001 / 10000 [ 50%]  (Sampling)\n",
      "Chain 1: Iteration: 6000 / 10000 [ 60%]  (Sampling)\n",
      "Chain 1: Iteration: 7000 / 10000 [ 70%]  (Sampling)\n",
      "Chain 1: Iteration: 8000 / 10000 [ 80%]  (Sampling)\n",
      "Chain 1: Iteration: 9000 / 10000 [ 90%]  (Sampling)\n",
      "Chain 1: Iteration: 10000 / 10000 [100%]  (Sampling)\n",
      "Chain 1: \n",
      "Chain 1:  Elapsed Time: 0.211 seconds (Warm-up)\n",
      "Chain 1:                0.196 seconds (Sampling)\n",
      "Chain 1:                0.407 seconds (Total)\n",
      "Chain 1: \n",
      "\n",
      "SAMPLING FOR MODEL 'continuous' NOW (CHAIN 2).\n",
      "Chain 2: \n",
      "Chain 2: Gradient evaluation took 0 seconds\n",
      "Chain 2: 1000 transitions using 10 leapfrog steps per transition would take 0 seconds.\n",
      "Chain 2: Adjust your expectations accordingly!\n",
      "Chain 2: \n",
      "Chain 2: \n",
      "Chain 2: Iteration:    1 / 10000 [  0%]  (Warmup)\n",
      "Chain 2: Iteration: 1000 / 10000 [ 10%]  (Warmup)\n",
      "Chain 2: Iteration: 2000 / 10000 [ 20%]  (Warmup)\n",
      "Chain 2: Iteration: 3000 / 10000 [ 30%]  (Warmup)\n",
      "Chain 2: Iteration: 4000 / 10000 [ 40%]  (Warmup)\n",
      "Chain 2: Iteration: 5000 / 10000 [ 50%]  (Warmup)\n",
      "Chain 2: Iteration: 5001 / 10000 [ 50%]  (Sampling)\n",
      "Chain 2: Iteration: 6000 / 10000 [ 60%]  (Sampling)\n",
      "Chain 2: Iteration: 7000 / 10000 [ 70%]  (Sampling)\n",
      "Chain 2: Iteration: 8000 / 10000 [ 80%]  (Sampling)\n",
      "Chain 2: Iteration: 9000 / 10000 [ 90%]  (Sampling)\n",
      "Chain 2: Iteration: 10000 / 10000 [100%]  (Sampling)\n",
      "Chain 2: \n",
      "Chain 2:  Elapsed Time: 0.219 seconds (Warm-up)\n",
      "Chain 2:                0.231 seconds (Sampling)\n",
      "Chain 2:                0.45 seconds (Total)\n",
      "Chain 2: \n",
      "\n",
      "SAMPLING FOR MODEL 'continuous' NOW (CHAIN 3).\n",
      "Chain 3: \n",
      "Chain 3: Gradient evaluation took 0 seconds\n",
      "Chain 3: 1000 transitions using 10 leapfrog steps per transition would take 0 seconds.\n",
      "Chain 3: Adjust your expectations accordingly!\n",
      "Chain 3: \n",
      "Chain 3: \n",
      "Chain 3: Iteration:    1 / 10000 [  0%]  (Warmup)\n",
      "Chain 3: Iteration: 1000 / 10000 [ 10%]  (Warmup)\n",
      "Chain 3: Iteration: 2000 / 10000 [ 20%]  (Warmup)\n",
      "Chain 3: Iteration: 3000 / 10000 [ 30%]  (Warmup)\n",
      "Chain 3: Iteration: 4000 / 10000 [ 40%]  (Warmup)\n",
      "Chain 3: Iteration: 5000 / 10000 [ 50%]  (Warmup)\n",
      "Chain 3: Iteration: 5001 / 10000 [ 50%]  (Sampling)\n",
      "Chain 3: Iteration: 6000 / 10000 [ 60%]  (Sampling)\n",
      "Chain 3: Iteration: 7000 / 10000 [ 70%]  (Sampling)\n",
      "Chain 3: Iteration: 8000 / 10000 [ 80%]  (Sampling)\n",
      "Chain 3: Iteration: 9000 / 10000 [ 90%]  (Sampling)\n",
      "Chain 3: Iteration: 10000 / 10000 [100%]  (Sampling)\n",
      "Chain 3: \n",
      "Chain 3:  Elapsed Time: 0.271 seconds (Warm-up)\n",
      "Chain 3:                0.219 seconds (Sampling)\n",
      "Chain 3:                0.49 seconds (Total)\n",
      "Chain 3: \n",
      "\n",
      "SAMPLING FOR MODEL 'continuous' NOW (CHAIN 4).\n",
      "Chain 4: \n",
      "Chain 4: Gradient evaluation took 0 seconds\n",
      "Chain 4: 1000 transitions using 10 leapfrog steps per transition would take 0 seconds.\n",
      "Chain 4: Adjust your expectations accordingly!\n",
      "Chain 4: \n",
      "Chain 4: \n",
      "Chain 4: Iteration:    1 / 10000 [  0%]  (Warmup)\n",
      "Chain 4: Iteration: 1000 / 10000 [ 10%]  (Warmup)\n",
      "Chain 4: Iteration: 2000 / 10000 [ 20%]  (Warmup)\n",
      "Chain 4: Iteration: 3000 / 10000 [ 30%]  (Warmup)\n",
      "Chain 4: Iteration: 4000 / 10000 [ 40%]  (Warmup)\n",
      "Chain 4: Iteration: 5000 / 10000 [ 50%]  (Warmup)\n",
      "Chain 4: Iteration: 5001 / 10000 [ 50%]  (Sampling)\n",
      "Chain 4: Iteration: 6000 / 10000 [ 60%]  (Sampling)\n",
      "Chain 4: Iteration: 7000 / 10000 [ 70%]  (Sampling)\n",
      "Chain 4: Iteration: 8000 / 10000 [ 80%]  (Sampling)\n",
      "Chain 4: Iteration: 9000 / 10000 [ 90%]  (Sampling)\n",
      "Chain 4: Iteration: 10000 / 10000 [100%]  (Sampling)\n",
      "Chain 4: \n",
      "Chain 4:  Elapsed Time: 0.222 seconds (Warm-up)\n",
      "Chain 4:                0.219 seconds (Sampling)\n",
      "Chain 4:                0.441 seconds (Total)\n",
      "Chain 4: \n"
     ]
    },
    {
     "data": {
      "text/plain": [
       "Inference for Stan model: continuous.\n",
       "4 chains, each with iter=10000; warmup=5000; thin=1; \n",
       "post-warmup draws per chain=5000, total post-warmup draws=20000.\n",
       "\n",
       "                mean se_mean   sd   2.5%    25%    50%    75%  97.5% n_eff Rhat\n",
       "(Intercept)    -0.01    0.00 0.00  -0.01  -0.01  -0.01   0.00   0.00 18843    1\n",
       "Estimate        0.34    0.00 0.01   0.32   0.33   0.34   0.35   0.37 17936    1\n",
       "sigma           0.02    0.00 0.00   0.01   0.02   0.02   0.02   0.02 15246    1\n",
       "mean_PPD       -0.03    0.00 0.00  -0.04  -0.03  -0.03  -0.03  -0.02 18920    1\n",
       "log-posterior 106.46    0.01 1.26 103.19 105.88 106.78 107.39 107.90  8503    1\n",
       "\n",
       "Samples were drawn using NUTS(diag_e) at Tue Apr 28 11:09:40 2020.\n",
       "For each parameter, n_eff is a crude measure of effective sample size,\n",
       "and Rhat is the potential scale reduction factor on split chains (at \n",
       "convergence, Rhat=1)."
      ]
     },
     "metadata": {},
     "output_type": "display_data"
    }
   ],
   "source": [
    "m1 = stan_glm( mean ~ Estimate , prior=NULL, prior_intercept=NULL, \n",
    "             data=gc_real, family = 'gaussian', iter = 10000 )\n",
    "m1$stanfit"
   ]
  },
  {
   "cell_type": "code",
   "execution_count": 119,
   "metadata": {},
   "outputs": [
    {
     "data": {
      "text/html": [
       "1"
      ],
      "text/latex": [
       "1"
      ],
      "text/markdown": [
       "1"
      ],
      "text/plain": [
       "[1] 1"
      ]
     },
     "metadata": {},
     "output_type": "display_data"
    },
    {
     "data": {
      "text/plain": [
       "   Min. 1st Qu.  Median    Mean 3rd Qu.    Max. \n",
       " 0.2922  0.3330  0.3412  0.3411  0.3492  0.3944 "
      ]
     },
     "metadata": {},
     "output_type": "display_data"
    },
    {
     "data": {
      "text/html": [
       "<table>\n",
       "<caption>A matrix: 1 × 2 of type dbl</caption>\n",
       "<thead>\n",
       "\t<tr><th scope=col>2.5%</th><th scope=col>97.5%</th></tr>\n",
       "</thead>\n",
       "<tbody>\n",
       "\t<tr><td>0.3164538</td><td>0.3652977</td></tr>\n",
       "</tbody>\n",
       "</table>\n"
      ],
      "text/latex": [
       "A matrix: 1 × 2 of type dbl\n",
       "\\begin{tabular}{ll}\n",
       " 2.5\\% & 97.5\\%\\\\\n",
       "\\hline\n",
       "\t 0.3164538 & 0.3652977\\\\\n",
       "\\end{tabular}\n"
      ],
      "text/markdown": [
       "\n",
       "A matrix: 1 × 2 of type dbl\n",
       "\n",
       "| 2.5% | 97.5% |\n",
       "|---|---|\n",
       "| 0.3164538 | 0.3652977 |\n",
       "\n"
      ],
      "text/plain": [
       "     2.5%      97.5%    \n",
       "[1,] 0.3164538 0.3652977"
      ]
     },
     "metadata": {},
     "output_type": "display_data"
    }
   ],
   "source": [
    "post1 = rstan::extract(m1$stanfit)\n",
    "mean(post1$beta[, 1] < 1)\n",
    "summary(post1$beta[, 1])\n",
    "posterior_interval(post1$beta, prob = 0.95)"
   ]
  }
 ],
 "metadata": {
  "kernelspec": {
   "display_name": "R",
   "language": "R",
   "name": "ir"
  },
  "language_info": {
   "codemirror_mode": "r",
   "file_extension": ".r",
   "mimetype": "text/x-r-source",
   "name": "R",
   "pygments_lexer": "r",
   "version": "3.6.3"
  }
 },
 "nbformat": 4,
 "nbformat_minor": 4
}
