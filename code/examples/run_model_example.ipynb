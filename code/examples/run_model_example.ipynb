{
 "cells": [
  {
   "cell_type": "code",
   "execution_count": 10,
   "metadata": {},
   "outputs": [],
   "source": [
    "source('run_2_stage_util.R')\n",
    "require(tidyverse)\n",
    "require(rstan)\n",
    "require(ggplot2)\n",
    "require(mvtnorm)"
   ]
  },
  {
   "cell_type": "code",
   "execution_count": 14,
   "metadata": {},
   "outputs": [],
   "source": [
    "sim_params = readRDS('simulation_params.RDS')"
   ]
  },
  {
   "cell_type": "code",
   "execution_count": 15,
   "metadata": {},
   "outputs": [
    {
     "data": {
      "text/html": [
       "<style>\n",
       ".list-inline {list-style: none; margin:0; padding: 0}\n",
       ".list-inline>li {display: inline-block}\n",
       ".list-inline>li:not(:last-child)::after {content: \"\\00b7\"; padding: 0 .5ex}\n",
       "</style>\n",
       "<ol class=list-inline><li>'died'</li><li>'sigma_0'</li><li>'mu_0'</li><li>'sigma_1'</li><li>'mu_1'</li><li>'missing_rate'</li><li>'missing_rate_numeric'</li><li>'mu_missing'</li><li>'sigma_2_missing'</li><li>'metabolites'</li></ol>\n"
      ],
      "text/latex": [
       "\\begin{enumerate*}\n",
       "\\item 'died'\n",
       "\\item 'sigma\\_0'\n",
       "\\item 'mu\\_0'\n",
       "\\item 'sigma\\_1'\n",
       "\\item 'mu\\_1'\n",
       "\\item 'missing\\_rate'\n",
       "\\item 'missing\\_rate\\_numeric'\n",
       "\\item 'mu\\_missing'\n",
       "\\item 'sigma\\_2\\_missing'\n",
       "\\item 'metabolites'\n",
       "\\end{enumerate*}\n"
      ],
      "text/markdown": [
       "1. 'died'\n",
       "2. 'sigma_0'\n",
       "3. 'mu_0'\n",
       "4. 'sigma_1'\n",
       "5. 'mu_1'\n",
       "6. 'missing_rate'\n",
       "7. 'missing_rate_numeric'\n",
       "8. 'mu_missing'\n",
       "9. 'sigma_2_missing'\n",
       "10. 'metabolites'\n",
       "\n",
       "\n"
      ],
      "text/plain": [
       " [1] \"died\"                 \"sigma_0\"              \"mu_0\"                \n",
       " [4] \"sigma_1\"              \"mu_1\"                 \"missing_rate\"        \n",
       " [7] \"missing_rate_numeric\" \"mu_missing\"           \"sigma_2_missing\"     \n",
       "[10] \"metabolites\"         "
      ]
     },
     "metadata": {},
     "output_type": "display_data"
    }
   ],
   "source": [
    "names(sim_params)"
   ]
  },
  {
   "cell_type": "code",
   "execution_count": 17,
   "metadata": {},
   "outputs": [],
   "source": [
    "died = sim_params$died\n",
    "sigma_0 = sim_params$sigma_0\n",
    "mu_0 = sim_params$mu_0\n",
    "sigma_1 = sim_params$sigma_1\n",
    "mu_1 = sim_params$mu_1\n",
    "mu_missing = sim_params$mu_missing\n",
    "sigma_2_missing = sim_params$sigma_2_missing\n",
    "metabolites = sim_params$metabolites\n",
    "missing_rate = sim_params$missing_rate\n",
    "missing_rate_numeric = sim_params$missing_rate_numeric"
   ]
  },
  {
   "cell_type": "code",
   "execution_count": null,
   "metadata": {},
   "outputs": [],
   "source": []
  },
  {
   "cell_type": "markdown",
   "metadata": {},
   "source": [
    "### LOAD THE MODEL\n",
    "* This may need to compile and may take some time"
   ]
  },
  {
   "cell_type": "code",
   "execution_count": 6,
   "metadata": {},
   "outputs": [
    {
     "name": "stdout",
     "output_type": "stream",
     "text": [
      "DIAGNOSTIC(S) FROM PARSER:\n",
      "Info:\n",
      "Left-hand side of sampling statement (~) may contain a non-linear transform of a parameter or local variable.\n",
      "If it does, you need to include a target += statement with the log absolute determinant of the Jacobian of the transform.\n",
      "Left-hand-side of sampling statement:\n",
      "    x_impute ~ normal(...)\n",
      "\n"
     ]
    }
   ],
   "source": [
    "rstan_options(auto_write = TRUE)\n",
    "stage_1_impute_code_file = 'stage_1_impute.stan'\n",
    "stage_1_impute_model = stan_model(file = stage_1_impute_code_file, verbose = FALSE)\n",
    "\n",
    "stage_2_regress_code_file = 'stage_2_regress.stan'\n",
    "stage_2_regress_model = stan_model(file = stage_2_regress_code_file, verbose = FALSE)\n"
   ]
  },
  {
   "cell_type": "markdown",
   "metadata": {},
   "source": [
    "### SIMULATE DATA"
   ]
  },
  {
   "cell_type": "code",
   "execution_count": 18,
   "metadata": {},
   "outputs": [],
   "source": [
    "missing_dist_params = get_alpha_beta_for_target_rate_2(missing_rate_numeric,TARGET_MISSING_RATE=0.2)\n",
    "\n",
    "df_sim = make_df(n_0=100,mu_0,sigma_0,n_1=100,mu_1,sigma_1,frac_sig=0.5,censor=TRUE,max_missing=0.6,alpha=missing_dist_params$alpha,beta=missing_dist_params$beta)\n",
    "\n"
   ]
  },
  {
   "cell_type": "markdown",
   "metadata": {},
   "source": [
    "#### Uncensored Data"
   ]
  },
  {
   "cell_type": "code",
   "execution_count": 20,
   "metadata": {},
   "outputs": [
    {
     "data": {
      "text/html": [
       "<table>\n",
       "<caption>A data.frame: 6 × 28</caption>\n",
       "<thead>\n",
       "\t<tr><th></th><th scope=col>hydroxybutyrate</th><th scope=col>oxoisocaproate</th><th scope=col>X3.hydoxybutyrate</th><th scope=col>alanine</th><th scope=col>betaine</th><th scope=col>carnitine</th><th scope=col>choline</th><th scope=col>citrate</th><th scope=col>creatine</th><th scope=col>creatinine</th><th scope=col>⋯</th><th scope=col>methionine</th><th scope=col>oacetylcarnitine</th><th scope=col>ornithine</th><th scope=col>phenylalanine</th><th scope=col>proline</th><th scope=col>propyleneglycol</th><th scope=col>pyruvate</th><th scope=col>tyrosine</th><th scope=col>valine</th><th scope=col>died_90_day</th></tr>\n",
       "\t<tr><th></th><th scope=col>&lt;dbl&gt;</th><th scope=col>&lt;dbl&gt;</th><th scope=col>&lt;dbl&gt;</th><th scope=col>&lt;dbl&gt;</th><th scope=col>&lt;dbl&gt;</th><th scope=col>&lt;dbl&gt;</th><th scope=col>&lt;dbl&gt;</th><th scope=col>&lt;dbl&gt;</th><th scope=col>&lt;dbl&gt;</th><th scope=col>&lt;dbl&gt;</th><th scope=col>⋯</th><th scope=col>&lt;dbl&gt;</th><th scope=col>&lt;dbl&gt;</th><th scope=col>&lt;dbl&gt;</th><th scope=col>&lt;dbl&gt;</th><th scope=col>&lt;dbl&gt;</th><th scope=col>&lt;dbl&gt;</th><th scope=col>&lt;dbl&gt;</th><th scope=col>&lt;dbl&gt;</th><th scope=col>&lt;dbl&gt;</th><th scope=col>&lt;dbl&gt;</th></tr>\n",
       "</thead>\n",
       "<tbody>\n",
       "\t<tr><th scope=row>1</th><td>-0.251910040</td><td> 0.09439170</td><td> 0.07089301</td><td> 0.15473244</td><td> 0.17541721</td><td>-1.4238165</td><td>-1.83272142</td><td> 1.147711671</td><td>-2.7515198</td><td>-0.03548912</td><td>⋯</td><td> 0.07765157</td><td>-1.45954067</td><td>-0.3256251</td><td> 0.17290329</td><td>-0.09320093</td><td>-1.95178773</td><td>-0.6193418</td><td> 0.5221018</td><td> 0.5754503</td><td>0</td></tr>\n",
       "\t<tr><th scope=row>2</th><td> 0.007760949</td><td>-0.15921593</td><td>-0.05269317</td><td>-0.94884961</td><td>-0.26191822</td><td>-0.5082756</td><td>-2.18894986</td><td>-0.003823822</td><td> 0.5745104</td><td>-0.00482917</td><td>⋯</td><td>-0.90627688</td><td>-1.46184884</td><td>-0.5278888</td><td> 0.07411859</td><td>-0.41932549</td><td> 0.01957400</td><td>-0.1044677</td><td>-2.2352556</td><td>-1.0166284</td><td>0</td></tr>\n",
       "\t<tr><th scope=row>3</th><td>-0.302569313</td><td>-0.36011995</td><td> 0.25208341</td><td>-0.85430777</td><td> 0.41994433</td><td>-1.3246501</td><td> 1.40976523</td><td>-0.139801410</td><td>-0.4802372</td><td>-1.65252938</td><td>⋯</td><td> 0.01007776</td><td>-0.01102202</td><td>-0.3508865</td><td>-0.38828762</td><td> 0.87586427</td><td>-0.02815341</td><td>-0.1956322</td><td>-0.8043586</td><td>-0.8664301</td><td>0</td></tr>\n",
       "\t<tr><th scope=row>4</th><td>-1.364167196</td><td>-0.24907956</td><td> 0.34873039</td><td>-1.38536728</td><td>-0.80582590</td><td>-2.0945044</td><td>-0.00285199</td><td> 0.612708514</td><td>-1.4502969</td><td> 0.89753830</td><td>⋯</td><td>-1.54954956</td><td>-0.61408629</td><td>-1.1376746</td><td>-1.02564436</td><td>-0.93969669</td><td>-0.66105686</td><td>-1.2068100</td><td>-0.9715164</td><td>-1.1861097</td><td>0</td></tr>\n",
       "\t<tr><th scope=row>5</th><td>-0.322603386</td><td> 0.06168073</td><td> 0.91040493</td><td> 0.04845448</td><td>-0.36051210</td><td>-1.0743505</td><td>-0.52117167</td><td> 0.450628714</td><td>-0.8536158</td><td>-0.51962764</td><td>⋯</td><td>-0.47025478</td><td>-1.07995105</td><td>-0.4742309</td><td>-0.63774709</td><td>-0.70405325</td><td>-0.92095628</td><td> 0.6953048</td><td>-0.8357657</td><td>-0.3628471</td><td>0</td></tr>\n",
       "\t<tr><th scope=row>6</th><td>-0.386494876</td><td>-2.23431726</td><td> 1.35315614</td><td>-0.29614738</td><td>-0.01570376</td><td> 0.9053941</td><td> 1.01911281</td><td> 0.306965978</td><td> 1.1586783</td><td> 1.46045920</td><td>⋯</td><td> 0.56923399</td><td> 0.77715486</td><td> 1.3287537</td><td> 0.76245202</td><td> 0.16704732</td><td>-0.33817931</td><td>-1.6079013</td><td> 0.4890365</td><td>-0.1559440</td><td>0</td></tr>\n",
       "</tbody>\n",
       "</table>\n"
      ],
      "text/latex": [
       "A data.frame: 6 × 28\n",
       "\\begin{tabular}{r|lllllllllllllllllllll}\n",
       "  & hydroxybutyrate & oxoisocaproate & X3.hydoxybutyrate & alanine & betaine & carnitine & choline & citrate & creatine & creatinine & ⋯ & methionine & oacetylcarnitine & ornithine & phenylalanine & proline & propyleneglycol & pyruvate & tyrosine & valine & died\\_90\\_day\\\\\n",
       "  & <dbl> & <dbl> & <dbl> & <dbl> & <dbl> & <dbl> & <dbl> & <dbl> & <dbl> & <dbl> & ⋯ & <dbl> & <dbl> & <dbl> & <dbl> & <dbl> & <dbl> & <dbl> & <dbl> & <dbl> & <dbl>\\\\\n",
       "\\hline\n",
       "\t1 & -0.251910040 &  0.09439170 &  0.07089301 &  0.15473244 &  0.17541721 & -1.4238165 & -1.83272142 &  1.147711671 & -2.7515198 & -0.03548912 & ⋯ &  0.07765157 & -1.45954067 & -0.3256251 &  0.17290329 & -0.09320093 & -1.95178773 & -0.6193418 &  0.5221018 &  0.5754503 & 0\\\\\n",
       "\t2 &  0.007760949 & -0.15921593 & -0.05269317 & -0.94884961 & -0.26191822 & -0.5082756 & -2.18894986 & -0.003823822 &  0.5745104 & -0.00482917 & ⋯ & -0.90627688 & -1.46184884 & -0.5278888 &  0.07411859 & -0.41932549 &  0.01957400 & -0.1044677 & -2.2352556 & -1.0166284 & 0\\\\\n",
       "\t3 & -0.302569313 & -0.36011995 &  0.25208341 & -0.85430777 &  0.41994433 & -1.3246501 &  1.40976523 & -0.139801410 & -0.4802372 & -1.65252938 & ⋯ &  0.01007776 & -0.01102202 & -0.3508865 & -0.38828762 &  0.87586427 & -0.02815341 & -0.1956322 & -0.8043586 & -0.8664301 & 0\\\\\n",
       "\t4 & -1.364167196 & -0.24907956 &  0.34873039 & -1.38536728 & -0.80582590 & -2.0945044 & -0.00285199 &  0.612708514 & -1.4502969 &  0.89753830 & ⋯ & -1.54954956 & -0.61408629 & -1.1376746 & -1.02564436 & -0.93969669 & -0.66105686 & -1.2068100 & -0.9715164 & -1.1861097 & 0\\\\\n",
       "\t5 & -0.322603386 &  0.06168073 &  0.91040493 &  0.04845448 & -0.36051210 & -1.0743505 & -0.52117167 &  0.450628714 & -0.8536158 & -0.51962764 & ⋯ & -0.47025478 & -1.07995105 & -0.4742309 & -0.63774709 & -0.70405325 & -0.92095628 &  0.6953048 & -0.8357657 & -0.3628471 & 0\\\\\n",
       "\t6 & -0.386494876 & -2.23431726 &  1.35315614 & -0.29614738 & -0.01570376 &  0.9053941 &  1.01911281 &  0.306965978 &  1.1586783 &  1.46045920 & ⋯ &  0.56923399 &  0.77715486 &  1.3287537 &  0.76245202 &  0.16704732 & -0.33817931 & -1.6079013 &  0.4890365 & -0.1559440 & 0\\\\\n",
       "\\end{tabular}\n"
      ],
      "text/markdown": [
       "\n",
       "A data.frame: 6 × 28\n",
       "\n",
       "| <!--/--> | hydroxybutyrate &lt;dbl&gt; | oxoisocaproate &lt;dbl&gt; | X3.hydoxybutyrate &lt;dbl&gt; | alanine &lt;dbl&gt; | betaine &lt;dbl&gt; | carnitine &lt;dbl&gt; | choline &lt;dbl&gt; | citrate &lt;dbl&gt; | creatine &lt;dbl&gt; | creatinine &lt;dbl&gt; | ⋯ ⋯ | methionine &lt;dbl&gt; | oacetylcarnitine &lt;dbl&gt; | ornithine &lt;dbl&gt; | phenylalanine &lt;dbl&gt; | proline &lt;dbl&gt; | propyleneglycol &lt;dbl&gt; | pyruvate &lt;dbl&gt; | tyrosine &lt;dbl&gt; | valine &lt;dbl&gt; | died_90_day &lt;dbl&gt; |\n",
       "|---|---|---|---|---|---|---|---|---|---|---|---|---|---|---|---|---|---|---|---|---|---|\n",
       "| 1 | -0.251910040 |  0.09439170 |  0.07089301 |  0.15473244 |  0.17541721 | -1.4238165 | -1.83272142 |  1.147711671 | -2.7515198 | -0.03548912 | ⋯ |  0.07765157 | -1.45954067 | -0.3256251 |  0.17290329 | -0.09320093 | -1.95178773 | -0.6193418 |  0.5221018 |  0.5754503 | 0 |\n",
       "| 2 |  0.007760949 | -0.15921593 | -0.05269317 | -0.94884961 | -0.26191822 | -0.5082756 | -2.18894986 | -0.003823822 |  0.5745104 | -0.00482917 | ⋯ | -0.90627688 | -1.46184884 | -0.5278888 |  0.07411859 | -0.41932549 |  0.01957400 | -0.1044677 | -2.2352556 | -1.0166284 | 0 |\n",
       "| 3 | -0.302569313 | -0.36011995 |  0.25208341 | -0.85430777 |  0.41994433 | -1.3246501 |  1.40976523 | -0.139801410 | -0.4802372 | -1.65252938 | ⋯ |  0.01007776 | -0.01102202 | -0.3508865 | -0.38828762 |  0.87586427 | -0.02815341 | -0.1956322 | -0.8043586 | -0.8664301 | 0 |\n",
       "| 4 | -1.364167196 | -0.24907956 |  0.34873039 | -1.38536728 | -0.80582590 | -2.0945044 | -0.00285199 |  0.612708514 | -1.4502969 |  0.89753830 | ⋯ | -1.54954956 | -0.61408629 | -1.1376746 | -1.02564436 | -0.93969669 | -0.66105686 | -1.2068100 | -0.9715164 | -1.1861097 | 0 |\n",
       "| 5 | -0.322603386 |  0.06168073 |  0.91040493 |  0.04845448 | -0.36051210 | -1.0743505 | -0.52117167 |  0.450628714 | -0.8536158 | -0.51962764 | ⋯ | -0.47025478 | -1.07995105 | -0.4742309 | -0.63774709 | -0.70405325 | -0.92095628 |  0.6953048 | -0.8357657 | -0.3628471 | 0 |\n",
       "| 6 | -0.386494876 | -2.23431726 |  1.35315614 | -0.29614738 | -0.01570376 |  0.9053941 |  1.01911281 |  0.306965978 |  1.1586783 |  1.46045920 | ⋯ |  0.56923399 |  0.77715486 |  1.3287537 |  0.76245202 |  0.16704732 | -0.33817931 | -1.6079013 |  0.4890365 | -0.1559440 | 0 |\n",
       "\n"
      ],
      "text/plain": [
       "  hydroxybutyrate oxoisocaproate X3.hydoxybutyrate alanine     betaine    \n",
       "1 -0.251910040     0.09439170     0.07089301        0.15473244  0.17541721\n",
       "2  0.007760949    -0.15921593    -0.05269317       -0.94884961 -0.26191822\n",
       "3 -0.302569313    -0.36011995     0.25208341       -0.85430777  0.41994433\n",
       "4 -1.364167196    -0.24907956     0.34873039       -1.38536728 -0.80582590\n",
       "5 -0.322603386     0.06168073     0.91040493        0.04845448 -0.36051210\n",
       "6 -0.386494876    -2.23431726     1.35315614       -0.29614738 -0.01570376\n",
       "  carnitine  choline     citrate      creatine   creatinine  ⋯ methionine \n",
       "1 -1.4238165 -1.83272142  1.147711671 -2.7515198 -0.03548912 ⋯  0.07765157\n",
       "2 -0.5082756 -2.18894986 -0.003823822  0.5745104 -0.00482917 ⋯ -0.90627688\n",
       "3 -1.3246501  1.40976523 -0.139801410 -0.4802372 -1.65252938 ⋯  0.01007776\n",
       "4 -2.0945044 -0.00285199  0.612708514 -1.4502969  0.89753830 ⋯ -1.54954956\n",
       "5 -1.0743505 -0.52117167  0.450628714 -0.8536158 -0.51962764 ⋯ -0.47025478\n",
       "6  0.9053941  1.01911281  0.306965978  1.1586783  1.46045920 ⋯  0.56923399\n",
       "  oacetylcarnitine ornithine  phenylalanine proline     propyleneglycol\n",
       "1 -1.45954067      -0.3256251  0.17290329   -0.09320093 -1.95178773    \n",
       "2 -1.46184884      -0.5278888  0.07411859   -0.41932549  0.01957400    \n",
       "3 -0.01102202      -0.3508865 -0.38828762    0.87586427 -0.02815341    \n",
       "4 -0.61408629      -1.1376746 -1.02564436   -0.93969669 -0.66105686    \n",
       "5 -1.07995105      -0.4742309 -0.63774709   -0.70405325 -0.92095628    \n",
       "6  0.77715486       1.3287537  0.76245202    0.16704732 -0.33817931    \n",
       "  pyruvate   tyrosine   valine     died_90_day\n",
       "1 -0.6193418  0.5221018  0.5754503 0          \n",
       "2 -0.1044677 -2.2352556 -1.0166284 0          \n",
       "3 -0.1956322 -0.8043586 -0.8664301 0          \n",
       "4 -1.2068100 -0.9715164 -1.1861097 0          \n",
       "5  0.6953048 -0.8357657 -0.3628471 0          \n",
       "6 -1.6079013  0.4890365 -0.1559440 0          "
      ]
     },
     "metadata": {},
     "output_type": "display_data"
    }
   ],
   "source": [
    "df_sim$df_sample %>% head()"
   ]
  },
  {
   "cell_type": "markdown",
   "metadata": {},
   "source": [
    "#### Censored Data"
   ]
  },
  {
   "cell_type": "code",
   "execution_count": 21,
   "metadata": {},
   "outputs": [
    {
     "data": {
      "text/html": [
       "<table>\n",
       "<caption>A data.frame: 6 × 28</caption>\n",
       "<thead>\n",
       "\t<tr><th></th><th scope=col>hydroxybutyrate</th><th scope=col>oxoisocaproate</th><th scope=col>X3.hydoxybutyrate</th><th scope=col>alanine</th><th scope=col>betaine</th><th scope=col>carnitine</th><th scope=col>choline</th><th scope=col>citrate</th><th scope=col>creatine</th><th scope=col>creatinine</th><th scope=col>⋯</th><th scope=col>methionine</th><th scope=col>oacetylcarnitine</th><th scope=col>ornithine</th><th scope=col>phenylalanine</th><th scope=col>proline</th><th scope=col>propyleneglycol</th><th scope=col>pyruvate</th><th scope=col>tyrosine</th><th scope=col>valine</th><th scope=col>died_90_day</th></tr>\n",
       "\t<tr><th></th><th scope=col>&lt;dbl&gt;</th><th scope=col>&lt;dbl&gt;</th><th scope=col>&lt;dbl&gt;</th><th scope=col>&lt;dbl&gt;</th><th scope=col>&lt;dbl&gt;</th><th scope=col>&lt;dbl&gt;</th><th scope=col>&lt;dbl&gt;</th><th scope=col>&lt;dbl&gt;</th><th scope=col>&lt;dbl&gt;</th><th scope=col>&lt;dbl&gt;</th><th scope=col>⋯</th><th scope=col>&lt;dbl&gt;</th><th scope=col>&lt;dbl&gt;</th><th scope=col>&lt;dbl&gt;</th><th scope=col>&lt;dbl&gt;</th><th scope=col>&lt;dbl&gt;</th><th scope=col>&lt;dbl&gt;</th><th scope=col>&lt;dbl&gt;</th><th scope=col>&lt;dbl&gt;</th><th scope=col>&lt;dbl&gt;</th><th scope=col>&lt;dbl&gt;</th></tr>\n",
       "</thead>\n",
       "<tbody>\n",
       "\t<tr><th scope=row>1</th><td>         NA</td><td> 0.09439170</td><td> 0.07089301</td><td> 0.15473244</td><td> 0.17541721</td><td>        NA</td><td>         NA</td><td> 1.147711671</td><td>        NA</td><td>       NA</td><td>⋯</td><td> 0.07765157</td><td>         NA</td><td>-0.3256251</td><td> 0.17290329</td><td>-0.09320093</td><td>         NA</td><td>-0.6193418</td><td>0.5221018</td><td> 0.5754503</td><td>0</td></tr>\n",
       "\t<tr><th scope=row>2</th><td>0.007760949</td><td>-0.15921593</td><td>-0.05269317</td><td>         NA</td><td>-0.26191822</td><td>-0.5082756</td><td>         NA</td><td>-0.003823822</td><td> 0.5745104</td><td>       NA</td><td>⋯</td><td>-0.90627688</td><td>         NA</td><td>-0.5278888</td><td> 0.07411859</td><td>-0.41932549</td><td> 0.01957400</td><td>-0.1044677</td><td>       NA</td><td>        NA</td><td>0</td></tr>\n",
       "\t<tr><th scope=row>3</th><td>         NA</td><td>-0.36011995</td><td> 0.25208341</td><td>         NA</td><td> 0.41994433</td><td>        NA</td><td> 1.40976523</td><td>-0.139801410</td><td>-0.4802372</td><td>       NA</td><td>⋯</td><td> 0.01007776</td><td>-0.01102202</td><td>-0.3508865</td><td>-0.38828762</td><td> 0.87586427</td><td>-0.02815341</td><td>-0.1956322</td><td>       NA</td><td>-0.8664301</td><td>0</td></tr>\n",
       "\t<tr><th scope=row>4</th><td>         NA</td><td>-0.24907956</td><td> 0.34873039</td><td>         NA</td><td>         NA</td><td>        NA</td><td>-0.00285199</td><td> 0.612708514</td><td>-1.4502969</td><td>0.8975383</td><td>⋯</td><td>         NA</td><td>-0.61408629</td><td>        NA</td><td>-1.02564436</td><td>         NA</td><td>-0.66105686</td><td>        NA</td><td>       NA</td><td>        NA</td><td>0</td></tr>\n",
       "\t<tr><th scope=row>5</th><td>         NA</td><td> 0.06168073</td><td> 0.91040493</td><td> 0.04845448</td><td>-0.36051210</td><td>        NA</td><td>-0.52117167</td><td> 0.450628714</td><td>-0.8536158</td><td>       NA</td><td>⋯</td><td>-0.47025478</td><td>         NA</td><td>-0.4742309</td><td>-0.63774709</td><td>-0.70405325</td><td>-0.92095628</td><td> 0.6953048</td><td>       NA</td><td>-0.3628471</td><td>0</td></tr>\n",
       "\t<tr><th scope=row>6</th><td>         NA</td><td>         NA</td><td> 1.35315614</td><td>-0.29614738</td><td>-0.01570376</td><td> 0.9053941</td><td> 1.01911281</td><td> 0.306965978</td><td> 1.1586783</td><td>1.4604592</td><td>⋯</td><td> 0.56923399</td><td> 0.77715486</td><td> 1.3287537</td><td> 0.76245202</td><td> 0.16704732</td><td>-0.33817931</td><td>        NA</td><td>0.4890365</td><td>-0.1559440</td><td>0</td></tr>\n",
       "</tbody>\n",
       "</table>\n"
      ],
      "text/latex": [
       "A data.frame: 6 × 28\n",
       "\\begin{tabular}{r|lllllllllllllllllllll}\n",
       "  & hydroxybutyrate & oxoisocaproate & X3.hydoxybutyrate & alanine & betaine & carnitine & choline & citrate & creatine & creatinine & ⋯ & methionine & oacetylcarnitine & ornithine & phenylalanine & proline & propyleneglycol & pyruvate & tyrosine & valine & died\\_90\\_day\\\\\n",
       "  & <dbl> & <dbl> & <dbl> & <dbl> & <dbl> & <dbl> & <dbl> & <dbl> & <dbl> & <dbl> & ⋯ & <dbl> & <dbl> & <dbl> & <dbl> & <dbl> & <dbl> & <dbl> & <dbl> & <dbl> & <dbl>\\\\\n",
       "\\hline\n",
       "\t1 &          NA &  0.09439170 &  0.07089301 &  0.15473244 &  0.17541721 &         NA &          NA &  1.147711671 &         NA &        NA & ⋯ &  0.07765157 &          NA & -0.3256251 &  0.17290329 & -0.09320093 &          NA & -0.6193418 & 0.5221018 &  0.5754503 & 0\\\\\n",
       "\t2 & 0.007760949 & -0.15921593 & -0.05269317 &          NA & -0.26191822 & -0.5082756 &          NA & -0.003823822 &  0.5745104 &        NA & ⋯ & -0.90627688 &          NA & -0.5278888 &  0.07411859 & -0.41932549 &  0.01957400 & -0.1044677 &        NA &         NA & 0\\\\\n",
       "\t3 &          NA & -0.36011995 &  0.25208341 &          NA &  0.41994433 &         NA &  1.40976523 & -0.139801410 & -0.4802372 &        NA & ⋯ &  0.01007776 & -0.01102202 & -0.3508865 & -0.38828762 &  0.87586427 & -0.02815341 & -0.1956322 &        NA & -0.8664301 & 0\\\\\n",
       "\t4 &          NA & -0.24907956 &  0.34873039 &          NA &          NA &         NA & -0.00285199 &  0.612708514 & -1.4502969 & 0.8975383 & ⋯ &          NA & -0.61408629 &         NA & -1.02564436 &          NA & -0.66105686 &         NA &        NA &         NA & 0\\\\\n",
       "\t5 &          NA &  0.06168073 &  0.91040493 &  0.04845448 & -0.36051210 &         NA & -0.52117167 &  0.450628714 & -0.8536158 &        NA & ⋯ & -0.47025478 &          NA & -0.4742309 & -0.63774709 & -0.70405325 & -0.92095628 &  0.6953048 &        NA & -0.3628471 & 0\\\\\n",
       "\t6 &          NA &          NA &  1.35315614 & -0.29614738 & -0.01570376 &  0.9053941 &  1.01911281 &  0.306965978 &  1.1586783 & 1.4604592 & ⋯ &  0.56923399 &  0.77715486 &  1.3287537 &  0.76245202 &  0.16704732 & -0.33817931 &         NA & 0.4890365 & -0.1559440 & 0\\\\\n",
       "\\end{tabular}\n"
      ],
      "text/markdown": [
       "\n",
       "A data.frame: 6 × 28\n",
       "\n",
       "| <!--/--> | hydroxybutyrate &lt;dbl&gt; | oxoisocaproate &lt;dbl&gt; | X3.hydoxybutyrate &lt;dbl&gt; | alanine &lt;dbl&gt; | betaine &lt;dbl&gt; | carnitine &lt;dbl&gt; | choline &lt;dbl&gt; | citrate &lt;dbl&gt; | creatine &lt;dbl&gt; | creatinine &lt;dbl&gt; | ⋯ ⋯ | methionine &lt;dbl&gt; | oacetylcarnitine &lt;dbl&gt; | ornithine &lt;dbl&gt; | phenylalanine &lt;dbl&gt; | proline &lt;dbl&gt; | propyleneglycol &lt;dbl&gt; | pyruvate &lt;dbl&gt; | tyrosine &lt;dbl&gt; | valine &lt;dbl&gt; | died_90_day &lt;dbl&gt; |\n",
       "|---|---|---|---|---|---|---|---|---|---|---|---|---|---|---|---|---|---|---|---|---|---|\n",
       "| 1 |          NA |  0.09439170 |  0.07089301 |  0.15473244 |  0.17541721 |         NA |          NA |  1.147711671 |         NA |        NA | ⋯ |  0.07765157 |          NA | -0.3256251 |  0.17290329 | -0.09320093 |          NA | -0.6193418 | 0.5221018 |  0.5754503 | 0 |\n",
       "| 2 | 0.007760949 | -0.15921593 | -0.05269317 |          NA | -0.26191822 | -0.5082756 |          NA | -0.003823822 |  0.5745104 |        NA | ⋯ | -0.90627688 |          NA | -0.5278888 |  0.07411859 | -0.41932549 |  0.01957400 | -0.1044677 |        NA |         NA | 0 |\n",
       "| 3 |          NA | -0.36011995 |  0.25208341 |          NA |  0.41994433 |         NA |  1.40976523 | -0.139801410 | -0.4802372 |        NA | ⋯ |  0.01007776 | -0.01102202 | -0.3508865 | -0.38828762 |  0.87586427 | -0.02815341 | -0.1956322 |        NA | -0.8664301 | 0 |\n",
       "| 4 |          NA | -0.24907956 |  0.34873039 |          NA |          NA |         NA | -0.00285199 |  0.612708514 | -1.4502969 | 0.8975383 | ⋯ |          NA | -0.61408629 |         NA | -1.02564436 |          NA | -0.66105686 |         NA |        NA |         NA | 0 |\n",
       "| 5 |          NA |  0.06168073 |  0.91040493 |  0.04845448 | -0.36051210 |         NA | -0.52117167 |  0.450628714 | -0.8536158 |        NA | ⋯ | -0.47025478 |          NA | -0.4742309 | -0.63774709 | -0.70405325 | -0.92095628 |  0.6953048 |        NA | -0.3628471 | 0 |\n",
       "| 6 |          NA |          NA |  1.35315614 | -0.29614738 | -0.01570376 |  0.9053941 |  1.01911281 |  0.306965978 |  1.1586783 | 1.4604592 | ⋯ |  0.56923399 |  0.77715486 |  1.3287537 |  0.76245202 |  0.16704732 | -0.33817931 |         NA | 0.4890365 | -0.1559440 | 0 |\n",
       "\n"
      ],
      "text/plain": [
       "  hydroxybutyrate oxoisocaproate X3.hydoxybutyrate alanine     betaine    \n",
       "1          NA      0.09439170     0.07089301        0.15473244  0.17541721\n",
       "2 0.007760949     -0.15921593    -0.05269317                NA -0.26191822\n",
       "3          NA     -0.36011995     0.25208341                NA  0.41994433\n",
       "4          NA     -0.24907956     0.34873039                NA          NA\n",
       "5          NA      0.06168073     0.91040493        0.04845448 -0.36051210\n",
       "6          NA              NA     1.35315614       -0.29614738 -0.01570376\n",
       "  carnitine  choline     citrate      creatine   creatinine ⋯ methionine \n",
       "1         NA          NA  1.147711671         NA        NA  ⋯  0.07765157\n",
       "2 -0.5082756          NA -0.003823822  0.5745104        NA  ⋯ -0.90627688\n",
       "3         NA  1.40976523 -0.139801410 -0.4802372        NA  ⋯  0.01007776\n",
       "4         NA -0.00285199  0.612708514 -1.4502969 0.8975383  ⋯          NA\n",
       "5         NA -0.52117167  0.450628714 -0.8536158        NA  ⋯ -0.47025478\n",
       "6  0.9053941  1.01911281  0.306965978  1.1586783 1.4604592  ⋯  0.56923399\n",
       "  oacetylcarnitine ornithine  phenylalanine proline     propyleneglycol\n",
       "1          NA      -0.3256251  0.17290329   -0.09320093          NA    \n",
       "2          NA      -0.5278888  0.07411859   -0.41932549  0.01957400    \n",
       "3 -0.01102202      -0.3508865 -0.38828762    0.87586427 -0.02815341    \n",
       "4 -0.61408629              NA -1.02564436            NA -0.66105686    \n",
       "5          NA      -0.4742309 -0.63774709   -0.70405325 -0.92095628    \n",
       "6  0.77715486       1.3287537  0.76245202    0.16704732 -0.33817931    \n",
       "  pyruvate   tyrosine  valine     died_90_day\n",
       "1 -0.6193418 0.5221018  0.5754503 0          \n",
       "2 -0.1044677        NA         NA 0          \n",
       "3 -0.1956322        NA -0.8664301 0          \n",
       "4         NA        NA         NA 0          \n",
       "5  0.6953048        NA -0.3628471 0          \n",
       "6         NA 0.4890365 -0.1559440 0          "
      ]
     },
     "metadata": {},
     "output_type": "display_data"
    }
   ],
   "source": [
    "df_sim$df_censored %>% head()"
   ]
  },
  {
   "cell_type": "markdown",
   "metadata": {},
   "source": [
    "#### Naive Imputation"
   ]
  },
  {
   "cell_type": "code",
   "execution_count": 23,
   "metadata": {},
   "outputs": [
    {
     "data": {
      "text/html": [
       "<table>\n",
       "<caption>A data.frame: 6 × 28</caption>\n",
       "<thead>\n",
       "\t<tr><th></th><th scope=col>hydroxybutyrate</th><th scope=col>oxoisocaproate</th><th scope=col>X3.hydoxybutyrate</th><th scope=col>alanine</th><th scope=col>betaine</th><th scope=col>carnitine</th><th scope=col>choline</th><th scope=col>citrate</th><th scope=col>creatine</th><th scope=col>creatinine</th><th scope=col>⋯</th><th scope=col>methionine</th><th scope=col>oacetylcarnitine</th><th scope=col>ornithine</th><th scope=col>phenylalanine</th><th scope=col>proline</th><th scope=col>propyleneglycol</th><th scope=col>pyruvate</th><th scope=col>tyrosine</th><th scope=col>valine</th><th scope=col>died_90_day</th></tr>\n",
       "\t<tr><th></th><th scope=col>&lt;dbl&gt;</th><th scope=col>&lt;dbl&gt;</th><th scope=col>&lt;dbl&gt;</th><th scope=col>&lt;dbl&gt;</th><th scope=col>&lt;dbl&gt;</th><th scope=col>&lt;dbl&gt;</th><th scope=col>&lt;dbl&gt;</th><th scope=col>&lt;dbl&gt;</th><th scope=col>&lt;dbl&gt;</th><th scope=col>&lt;dbl&gt;</th><th scope=col>⋯</th><th scope=col>&lt;dbl&gt;</th><th scope=col>&lt;dbl&gt;</th><th scope=col>&lt;dbl&gt;</th><th scope=col>&lt;dbl&gt;</th><th scope=col>&lt;dbl&gt;</th><th scope=col>&lt;dbl&gt;</th><th scope=col>&lt;dbl&gt;</th><th scope=col>&lt;dbl&gt;</th><th scope=col>&lt;dbl&gt;</th><th scope=col>&lt;dbl&gt;</th></tr>\n",
       "</thead>\n",
       "<tbody>\n",
       "\t<tr><th scope=row>1</th><td>-0.111827391</td><td> 0.09439170</td><td> 0.07089301</td><td> 0.15473244</td><td> 0.17541721</td><td>-0.8697738</td><td>-1.15685914</td><td> 1.147711671</td><td>-1.8694631</td><td>0.07411154</td><td>⋯</td><td> 0.07765157</td><td>-0.88957791</td><td>-0.3256251</td><td> 0.17290329</td><td>-0.09320093</td><td>-1.38220264</td><td>-0.6193418</td><td> 0.5221018</td><td> 0.5754503</td><td>0</td></tr>\n",
       "\t<tr><th scope=row>2</th><td> 0.007760949</td><td>-0.15921593</td><td>-0.05269317</td><td>-0.55349254</td><td>-0.26191822</td><td>-0.5082756</td><td>-1.15685914</td><td>-0.003823822</td><td> 0.5745104</td><td>0.07411154</td><td>⋯</td><td>-0.90627688</td><td>-0.88957791</td><td>-0.5278888</td><td> 0.07411859</td><td>-0.41932549</td><td> 0.01957400</td><td>-0.1044677</td><td>-0.2003839</td><td>-0.8697296</td><td>0</td></tr>\n",
       "\t<tr><th scope=row>3</th><td>-0.111827391</td><td>-0.36011995</td><td> 0.25208341</td><td>-0.55349254</td><td> 0.41994433</td><td>-0.8697738</td><td> 1.40976523</td><td>-0.139801410</td><td>-0.4802372</td><td>0.07411154</td><td>⋯</td><td> 0.01007776</td><td>-0.01102202</td><td>-0.3508865</td><td>-0.38828762</td><td> 0.87586427</td><td>-0.02815341</td><td>-0.1956322</td><td>-0.2003839</td><td>-0.8664301</td><td>0</td></tr>\n",
       "\t<tr><th scope=row>4</th><td>-0.111827391</td><td>-0.24907956</td><td> 0.34873039</td><td>-0.55349254</td><td>-0.43103804</td><td>-0.8697738</td><td>-0.00285199</td><td> 0.612708514</td><td>-1.4502969</td><td>0.89753830</td><td>⋯</td><td>-0.93846252</td><td>-0.61408629</td><td>-0.8393759</td><td>-1.02564436</td><td>-0.90791381</td><td>-0.66105686</td><td>-0.8068935</td><td>-0.2003839</td><td>-0.8697296</td><td>0</td></tr>\n",
       "\t<tr><th scope=row>5</th><td>-0.111827391</td><td> 0.06168073</td><td> 0.91040493</td><td> 0.04845448</td><td>-0.36051210</td><td>-0.8697738</td><td>-0.52117167</td><td> 0.450628714</td><td>-0.8536158</td><td>0.07411154</td><td>⋯</td><td>-0.47025478</td><td>-0.88957791</td><td>-0.4742309</td><td>-0.63774709</td><td>-0.70405325</td><td>-0.92095628</td><td> 0.6953048</td><td>-0.2003839</td><td>-0.3628471</td><td>0</td></tr>\n",
       "\t<tr><th scope=row>6</th><td>-0.111827391</td><td>-1.32362933</td><td> 1.35315614</td><td>-0.29614738</td><td>-0.01570376</td><td> 0.9053941</td><td> 1.01911281</td><td> 0.306965978</td><td> 1.1586783</td><td>1.46045920</td><td>⋯</td><td> 0.56923399</td><td> 0.77715486</td><td> 1.3287537</td><td> 0.76245202</td><td> 0.16704732</td><td>-0.33817931</td><td>-0.8068935</td><td> 0.4890365</td><td>-0.1559440</td><td>0</td></tr>\n",
       "</tbody>\n",
       "</table>\n"
      ],
      "text/latex": [
       "A data.frame: 6 × 28\n",
       "\\begin{tabular}{r|lllllllllllllllllllll}\n",
       "  & hydroxybutyrate & oxoisocaproate & X3.hydoxybutyrate & alanine & betaine & carnitine & choline & citrate & creatine & creatinine & ⋯ & methionine & oacetylcarnitine & ornithine & phenylalanine & proline & propyleneglycol & pyruvate & tyrosine & valine & died\\_90\\_day\\\\\n",
       "  & <dbl> & <dbl> & <dbl> & <dbl> & <dbl> & <dbl> & <dbl> & <dbl> & <dbl> & <dbl> & ⋯ & <dbl> & <dbl> & <dbl> & <dbl> & <dbl> & <dbl> & <dbl> & <dbl> & <dbl> & <dbl>\\\\\n",
       "\\hline\n",
       "\t1 & -0.111827391 &  0.09439170 &  0.07089301 &  0.15473244 &  0.17541721 & -0.8697738 & -1.15685914 &  1.147711671 & -1.8694631 & 0.07411154 & ⋯ &  0.07765157 & -0.88957791 & -0.3256251 &  0.17290329 & -0.09320093 & -1.38220264 & -0.6193418 &  0.5221018 &  0.5754503 & 0\\\\\n",
       "\t2 &  0.007760949 & -0.15921593 & -0.05269317 & -0.55349254 & -0.26191822 & -0.5082756 & -1.15685914 & -0.003823822 &  0.5745104 & 0.07411154 & ⋯ & -0.90627688 & -0.88957791 & -0.5278888 &  0.07411859 & -0.41932549 &  0.01957400 & -0.1044677 & -0.2003839 & -0.8697296 & 0\\\\\n",
       "\t3 & -0.111827391 & -0.36011995 &  0.25208341 & -0.55349254 &  0.41994433 & -0.8697738 &  1.40976523 & -0.139801410 & -0.4802372 & 0.07411154 & ⋯ &  0.01007776 & -0.01102202 & -0.3508865 & -0.38828762 &  0.87586427 & -0.02815341 & -0.1956322 & -0.2003839 & -0.8664301 & 0\\\\\n",
       "\t4 & -0.111827391 & -0.24907956 &  0.34873039 & -0.55349254 & -0.43103804 & -0.8697738 & -0.00285199 &  0.612708514 & -1.4502969 & 0.89753830 & ⋯ & -0.93846252 & -0.61408629 & -0.8393759 & -1.02564436 & -0.90791381 & -0.66105686 & -0.8068935 & -0.2003839 & -0.8697296 & 0\\\\\n",
       "\t5 & -0.111827391 &  0.06168073 &  0.91040493 &  0.04845448 & -0.36051210 & -0.8697738 & -0.52117167 &  0.450628714 & -0.8536158 & 0.07411154 & ⋯ & -0.47025478 & -0.88957791 & -0.4742309 & -0.63774709 & -0.70405325 & -0.92095628 &  0.6953048 & -0.2003839 & -0.3628471 & 0\\\\\n",
       "\t6 & -0.111827391 & -1.32362933 &  1.35315614 & -0.29614738 & -0.01570376 &  0.9053941 &  1.01911281 &  0.306965978 &  1.1586783 & 1.46045920 & ⋯ &  0.56923399 &  0.77715486 &  1.3287537 &  0.76245202 &  0.16704732 & -0.33817931 & -0.8068935 &  0.4890365 & -0.1559440 & 0\\\\\n",
       "\\end{tabular}\n"
      ],
      "text/markdown": [
       "\n",
       "A data.frame: 6 × 28\n",
       "\n",
       "| <!--/--> | hydroxybutyrate &lt;dbl&gt; | oxoisocaproate &lt;dbl&gt; | X3.hydoxybutyrate &lt;dbl&gt; | alanine &lt;dbl&gt; | betaine &lt;dbl&gt; | carnitine &lt;dbl&gt; | choline &lt;dbl&gt; | citrate &lt;dbl&gt; | creatine &lt;dbl&gt; | creatinine &lt;dbl&gt; | ⋯ ⋯ | methionine &lt;dbl&gt; | oacetylcarnitine &lt;dbl&gt; | ornithine &lt;dbl&gt; | phenylalanine &lt;dbl&gt; | proline &lt;dbl&gt; | propyleneglycol &lt;dbl&gt; | pyruvate &lt;dbl&gt; | tyrosine &lt;dbl&gt; | valine &lt;dbl&gt; | died_90_day &lt;dbl&gt; |\n",
       "|---|---|---|---|---|---|---|---|---|---|---|---|---|---|---|---|---|---|---|---|---|---|\n",
       "| 1 | -0.111827391 |  0.09439170 |  0.07089301 |  0.15473244 |  0.17541721 | -0.8697738 | -1.15685914 |  1.147711671 | -1.8694631 | 0.07411154 | ⋯ |  0.07765157 | -0.88957791 | -0.3256251 |  0.17290329 | -0.09320093 | -1.38220264 | -0.6193418 |  0.5221018 |  0.5754503 | 0 |\n",
       "| 2 |  0.007760949 | -0.15921593 | -0.05269317 | -0.55349254 | -0.26191822 | -0.5082756 | -1.15685914 | -0.003823822 |  0.5745104 | 0.07411154 | ⋯ | -0.90627688 | -0.88957791 | -0.5278888 |  0.07411859 | -0.41932549 |  0.01957400 | -0.1044677 | -0.2003839 | -0.8697296 | 0 |\n",
       "| 3 | -0.111827391 | -0.36011995 |  0.25208341 | -0.55349254 |  0.41994433 | -0.8697738 |  1.40976523 | -0.139801410 | -0.4802372 | 0.07411154 | ⋯ |  0.01007776 | -0.01102202 | -0.3508865 | -0.38828762 |  0.87586427 | -0.02815341 | -0.1956322 | -0.2003839 | -0.8664301 | 0 |\n",
       "| 4 | -0.111827391 | -0.24907956 |  0.34873039 | -0.55349254 | -0.43103804 | -0.8697738 | -0.00285199 |  0.612708514 | -1.4502969 | 0.89753830 | ⋯ | -0.93846252 | -0.61408629 | -0.8393759 | -1.02564436 | -0.90791381 | -0.66105686 | -0.8068935 | -0.2003839 | -0.8697296 | 0 |\n",
       "| 5 | -0.111827391 |  0.06168073 |  0.91040493 |  0.04845448 | -0.36051210 | -0.8697738 | -0.52117167 |  0.450628714 | -0.8536158 | 0.07411154 | ⋯ | -0.47025478 | -0.88957791 | -0.4742309 | -0.63774709 | -0.70405325 | -0.92095628 |  0.6953048 | -0.2003839 | -0.3628471 | 0 |\n",
       "| 6 | -0.111827391 | -1.32362933 |  1.35315614 | -0.29614738 | -0.01570376 |  0.9053941 |  1.01911281 |  0.306965978 |  1.1586783 | 1.46045920 | ⋯ |  0.56923399 |  0.77715486 |  1.3287537 |  0.76245202 |  0.16704732 | -0.33817931 | -0.8068935 |  0.4890365 | -0.1559440 | 0 |\n",
       "\n"
      ],
      "text/plain": [
       "  hydroxybutyrate oxoisocaproate X3.hydoxybutyrate alanine     betaine    \n",
       "1 -0.111827391     0.09439170     0.07089301        0.15473244  0.17541721\n",
       "2  0.007760949    -0.15921593    -0.05269317       -0.55349254 -0.26191822\n",
       "3 -0.111827391    -0.36011995     0.25208341       -0.55349254  0.41994433\n",
       "4 -0.111827391    -0.24907956     0.34873039       -0.55349254 -0.43103804\n",
       "5 -0.111827391     0.06168073     0.91040493        0.04845448 -0.36051210\n",
       "6 -0.111827391    -1.32362933     1.35315614       -0.29614738 -0.01570376\n",
       "  carnitine  choline     citrate      creatine   creatinine ⋯ methionine \n",
       "1 -0.8697738 -1.15685914  1.147711671 -1.8694631 0.07411154 ⋯  0.07765157\n",
       "2 -0.5082756 -1.15685914 -0.003823822  0.5745104 0.07411154 ⋯ -0.90627688\n",
       "3 -0.8697738  1.40976523 -0.139801410 -0.4802372 0.07411154 ⋯  0.01007776\n",
       "4 -0.8697738 -0.00285199  0.612708514 -1.4502969 0.89753830 ⋯ -0.93846252\n",
       "5 -0.8697738 -0.52117167  0.450628714 -0.8536158 0.07411154 ⋯ -0.47025478\n",
       "6  0.9053941  1.01911281  0.306965978  1.1586783 1.46045920 ⋯  0.56923399\n",
       "  oacetylcarnitine ornithine  phenylalanine proline     propyleneglycol\n",
       "1 -0.88957791      -0.3256251  0.17290329   -0.09320093 -1.38220264    \n",
       "2 -0.88957791      -0.5278888  0.07411859   -0.41932549  0.01957400    \n",
       "3 -0.01102202      -0.3508865 -0.38828762    0.87586427 -0.02815341    \n",
       "4 -0.61408629      -0.8393759 -1.02564436   -0.90791381 -0.66105686    \n",
       "5 -0.88957791      -0.4742309 -0.63774709   -0.70405325 -0.92095628    \n",
       "6  0.77715486       1.3287537  0.76245202    0.16704732 -0.33817931    \n",
       "  pyruvate   tyrosine   valine     died_90_day\n",
       "1 -0.6193418  0.5221018  0.5754503 0          \n",
       "2 -0.1044677 -0.2003839 -0.8697296 0          \n",
       "3 -0.1956322 -0.2003839 -0.8664301 0          \n",
       "4 -0.8068935 -0.2003839 -0.8697296 0          \n",
       "5  0.6953048 -0.2003839 -0.3628471 0          \n",
       "6 -0.8068935  0.4890365 -0.1559440 0          "
      ]
     },
     "metadata": {},
     "output_type": "display_data"
    }
   ],
   "source": [
    "df_sim$df_naive_impute %>% head()"
   ]
  },
  {
   "cell_type": "markdown",
   "metadata": {},
   "source": [
    "#### Minimum Observed Values"
   ]
  },
  {
   "cell_type": "code",
   "execution_count": 24,
   "metadata": {},
   "outputs": [
    {
     "data": {
      "text/html": [
       "<style>\n",
       ".list-inline {list-style: none; margin:0; padding: 0}\n",
       ".list-inline>li {display: inline-block}\n",
       ".list-inline>li:not(:last-child)::after {content: \"\\00b7\"; padding: 0 .5ex}\n",
       "</style>\n",
       "<ol class=list-inline><li>-0.111827390722393</li><li>-1.32362932689551</li><li>-0.584878996578777</li><li>-0.553492539245729</li><li>-0.431038042468995</li><li>-0.869773771098789</li><li>-1.1568591365666</li><li>-0.777415460225507</li><li>-1.86946307796286</li><li>0.0741115363566756</li><li>-0.891616854074618</li><li>-1.00695219192238</li><li>-0.847513929768424</li><li>-1.02925352451195</li><li>-1.83260737030911</li><li>-1.16211236667678</li><li>-1.40626055056645</li><li>-0.787303304063018</li><li>-0.938462522300987</li><li>-0.889577914908246</li><li>-0.83937594500868</li><li>-1.32075704656679</li><li>-0.907913808324232</li><li>-1.38220264038558</li><li>-0.80689345037533</li><li>-0.200383930902112</li><li>-0.869729609415169</li></ol>\n"
      ],
      "text/latex": [
       "\\begin{enumerate*}\n",
       "\\item -0.111827390722393\n",
       "\\item -1.32362932689551\n",
       "\\item -0.584878996578777\n",
       "\\item -0.553492539245729\n",
       "\\item -0.431038042468995\n",
       "\\item -0.869773771098789\n",
       "\\item -1.1568591365666\n",
       "\\item -0.777415460225507\n",
       "\\item -1.86946307796286\n",
       "\\item 0.0741115363566756\n",
       "\\item -0.891616854074618\n",
       "\\item -1.00695219192238\n",
       "\\item -0.847513929768424\n",
       "\\item -1.02925352451195\n",
       "\\item -1.83260737030911\n",
       "\\item -1.16211236667678\n",
       "\\item -1.40626055056645\n",
       "\\item -0.787303304063018\n",
       "\\item -0.938462522300987\n",
       "\\item -0.889577914908246\n",
       "\\item -0.83937594500868\n",
       "\\item -1.32075704656679\n",
       "\\item -0.907913808324232\n",
       "\\item -1.38220264038558\n",
       "\\item -0.80689345037533\n",
       "\\item -0.200383930902112\n",
       "\\item -0.869729609415169\n",
       "\\end{enumerate*}\n"
      ],
      "text/markdown": [
       "1. -0.111827390722393\n",
       "2. -1.32362932689551\n",
       "3. -0.584878996578777\n",
       "4. -0.553492539245729\n",
       "5. -0.431038042468995\n",
       "6. -0.869773771098789\n",
       "7. -1.1568591365666\n",
       "8. -0.777415460225507\n",
       "9. -1.86946307796286\n",
       "10. 0.0741115363566756\n",
       "11. -0.891616854074618\n",
       "12. -1.00695219192238\n",
       "13. -0.847513929768424\n",
       "14. -1.02925352451195\n",
       "15. -1.83260737030911\n",
       "16. -1.16211236667678\n",
       "17. -1.40626055056645\n",
       "18. -0.787303304063018\n",
       "19. -0.938462522300987\n",
       "20. -0.889577914908246\n",
       "21. -0.83937594500868\n",
       "22. -1.32075704656679\n",
       "23. -0.907913808324232\n",
       "24. -1.38220264038558\n",
       "25. -0.80689345037533\n",
       "26. -0.200383930902112\n",
       "27. -0.869729609415169\n",
       "\n",
       "\n"
      ],
      "text/plain": [
       " [1] -0.11182739 -1.32362933 -0.58487900 -0.55349254 -0.43103804 -0.86977377\n",
       " [7] -1.15685914 -0.77741546 -1.86946308  0.07411154 -0.89161685 -1.00695219\n",
       "[13] -0.84751393 -1.02925352 -1.83260737 -1.16211237 -1.40626055 -0.78730330\n",
       "[19] -0.93846252 -0.88957791 -0.83937595 -1.32075705 -0.90791381 -1.38220264\n",
       "[25] -0.80689345 -0.20038393 -0.86972961"
      ]
     },
     "metadata": {},
     "output_type": "display_data"
    }
   ],
   "source": [
    "df_sim$est.thresholds"
   ]
  },
  {
   "cell_type": "code",
   "execution_count": 25,
   "metadata": {},
   "outputs": [
    {
     "data": {
      "text/html": [
       "<style>\n",
       ".list-inline {list-style: none; margin:0; padding: 0}\n",
       ".list-inline>li {display: inline-block}\n",
       ".list-inline>li:not(:last-child)::after {content: \"\\00b7\"; padding: 0 .5ex}\n",
       "</style>\n",
       "<ol class=list-inline><li>0.369144173690559</li><li>0.0908975711011289</li><li>0.268166414153456</li><li>0.283099144834168</li><li>0.274699444400696</li><li>0.163911981742632</li><li>0.127917317390331</li><li>0.204866303297738</li><li>0.0276804259818961</li><li>0.551572812576959</li><li>0.201633673598634</li><li>0.183591020342424</li><li>0.183993124564312</li><li>0.135995330616965</li><li>0.00254021815232665</li><li>0.138173941097206</li><li>0.0603731347528705</li><li>0.195064853125048</li><li>0.124203441764348</li><li>0.170006173818016</li><li>0.17506323580537</li><li>0.0579601236277155</li><li>0.128768397847168</li><li>0.103985417586774</li><li>0.184609708148454</li><li>0.44637553704706</li><li>0.198286432557148</li></ol>\n"
      ],
      "text/latex": [
       "\\begin{enumerate*}\n",
       "\\item 0.369144173690559\n",
       "\\item 0.0908975711011289\n",
       "\\item 0.268166414153456\n",
       "\\item 0.283099144834168\n",
       "\\item 0.274699444400696\n",
       "\\item 0.163911981742632\n",
       "\\item 0.127917317390331\n",
       "\\item 0.204866303297738\n",
       "\\item 0.0276804259818961\n",
       "\\item 0.551572812576959\n",
       "\\item 0.201633673598634\n",
       "\\item 0.183591020342424\n",
       "\\item 0.183993124564312\n",
       "\\item 0.135995330616965\n",
       "\\item 0.00254021815232665\n",
       "\\item 0.138173941097206\n",
       "\\item 0.0603731347528705\n",
       "\\item 0.195064853125048\n",
       "\\item 0.124203441764348\n",
       "\\item 0.170006173818016\n",
       "\\item 0.17506323580537\n",
       "\\item 0.0579601236277155\n",
       "\\item 0.128768397847168\n",
       "\\item 0.103985417586774\n",
       "\\item 0.184609708148454\n",
       "\\item 0.44637553704706\n",
       "\\item 0.198286432557148\n",
       "\\end{enumerate*}\n"
      ],
      "text/markdown": [
       "1. 0.369144173690559\n",
       "2. 0.0908975711011289\n",
       "3. 0.268166414153456\n",
       "4. 0.283099144834168\n",
       "5. 0.274699444400696\n",
       "6. 0.163911981742632\n",
       "7. 0.127917317390331\n",
       "8. 0.204866303297738\n",
       "9. 0.0276804259818961\n",
       "10. 0.551572812576959\n",
       "11. 0.201633673598634\n",
       "12. 0.183591020342424\n",
       "13. 0.183993124564312\n",
       "14. 0.135995330616965\n",
       "15. 0.00254021815232665\n",
       "16. 0.138173941097206\n",
       "17. 0.0603731347528705\n",
       "18. 0.195064853125048\n",
       "19. 0.124203441764348\n",
       "20. 0.170006173818016\n",
       "21. 0.17506323580537\n",
       "22. 0.0579601236277155\n",
       "23. 0.128768397847168\n",
       "24. 0.103985417586774\n",
       "25. 0.184609708148454\n",
       "26. 0.44637553704706\n",
       "27. 0.198286432557148\n",
       "\n",
       "\n"
      ],
      "text/plain": [
       " [1] 0.369144174 0.090897571 0.268166414 0.283099145 0.274699444 0.163911982\n",
       " [7] 0.127917317 0.204866303 0.027680426 0.551572813 0.201633674 0.183591020\n",
       "[13] 0.183993125 0.135995331 0.002540218 0.138173941 0.060373135 0.195064853\n",
       "[19] 0.124203442 0.170006174 0.175063236 0.057960124 0.128768398 0.103985418\n",
       "[25] 0.184609708 0.446375537 0.198286433"
      ]
     },
     "metadata": {},
     "output_type": "display_data"
    }
   ],
   "source": [
    "df_sim$missing_rates"
   ]
  },
  {
   "cell_type": "code",
   "execution_count": null,
   "metadata": {},
   "outputs": [],
   "source": []
  }
 ],
 "metadata": {
  "kernelspec": {
   "display_name": "R",
   "language": "R",
   "name": "ir"
  },
  "language_info": {
   "codemirror_mode": "r",
   "file_extension": ".r",
   "mimetype": "text/x-r-source",
   "name": "R",
   "pygments_lexer": "r",
   "version": "3.5.1"
  }
 },
 "nbformat": 4,
 "nbformat_minor": 4
}
