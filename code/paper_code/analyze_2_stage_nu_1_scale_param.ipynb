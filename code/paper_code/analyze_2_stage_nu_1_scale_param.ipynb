{
 "cells": [
  {
   "cell_type": "code",
   "execution_count": 1,
   "metadata": {},
   "outputs": [
    {
     "name": "stderr",
     "output_type": "stream",
     "text": [
      "Loading required package: rstan\n",
      "\n",
      "Loading required package: StanHeaders\n",
      "\n",
      "Loading required package: ggplot2\n",
      "\n",
      "rstan (Version 2.19.3, GitRev: 2e1f913d3ca3)\n",
      "\n",
      "For execution on a local, multicore CPU with excess RAM we recommend calling\n",
      "options(mc.cores = parallel::detectCores()).\n",
      "To avoid recompilation of unchanged Stan programs, we recommend calling\n",
      "rstan_options(auto_write = TRUE)\n",
      "\n",
      "Loading required package: tidyverse\n",
      "\n",
      "── \u001b[1mAttaching packages\u001b[22m ─────────────────────────────────────── tidyverse 1.3.0 ──\n",
      "\n",
      "\u001b[32m✔\u001b[39m \u001b[34mtibble \u001b[39m 2.1.3     \u001b[32m✔\u001b[39m \u001b[34mdplyr  \u001b[39m 0.8.4\n",
      "\u001b[32m✔\u001b[39m \u001b[34mtidyr  \u001b[39m 1.0.2     \u001b[32m✔\u001b[39m \u001b[34mstringr\u001b[39m 1.4.0\n",
      "\u001b[32m✔\u001b[39m \u001b[34mreadr  \u001b[39m 1.3.1     \u001b[32m✔\u001b[39m \u001b[34mforcats\u001b[39m 0.5.0\n",
      "\u001b[32m✔\u001b[39m \u001b[34mpurrr  \u001b[39m 0.3.3     \n",
      "\n",
      "── \u001b[1mConflicts\u001b[22m ────────────────────────────────────────── tidyverse_conflicts() ──\n",
      "\u001b[31m✖\u001b[39m \u001b[34mtidyr\u001b[39m::\u001b[32mextract()\u001b[39m masks \u001b[34mrstan\u001b[39m::extract()\n",
      "\u001b[31m✖\u001b[39m \u001b[34mdplyr\u001b[39m::\u001b[32mfilter()\u001b[39m  masks \u001b[34mstats\u001b[39m::filter()\n",
      "\u001b[31m✖\u001b[39m \u001b[34mdplyr\u001b[39m::\u001b[32mlag()\u001b[39m     masks \u001b[34mstats\u001b[39m::lag()\n",
      "\n"
     ]
    }
   ],
   "source": [
    "require(rstan)\n",
    "require(tidyverse)"
   ]
  },
  {
   "cell_type": "code",
   "execution_count": 46,
   "metadata": {},
   "outputs": [],
   "source": [
    "n = 100"
   ]
  },
  {
   "cell_type": "code",
   "execution_count": 47,
   "metadata": {},
   "outputs": [],
   "source": [
    "sds.nu.1 = rep(0,n)\n",
    "sds.nu.free = rep(0,n)\n",
    "nus = rep(0,n)"
   ]
  },
  {
   "cell_type": "code",
   "execution_count": 48,
   "metadata": {},
   "outputs": [],
   "source": [
    "for(i in 1:n) {\n",
    "    f.nu.1 = paste0('/nfs/turbo/umms-cgillies/cgillies/RACE_CAPS/analysis/20200319_2_stage_impute_beta_no_missing/RAW_SIM_NUMBER_',i,'_N_SAMPLE_100_FRAC_SIG_0.4_MISSING_RATE_0_FIT_DATA.rds')\n",
    "    fit.nu.1 = readRDS(f.nu.1)\n",
    "    f.nu.free = paste0('/nfs/turbo/umms-cgillies/cgillies/RACE_CAPS/analysis/20200315_2_stage_impute_beta_no_missing/RAW_SIM_NUMBER_',i,'_N_SAMPLE_100_FRAC_SIG_0.4_MISSING_RATE_0_FIT_DATA.rds')\n",
    "    fit.nu.free = readRDS(f.nu.free)\n",
    "    sd.nu.1 = mean( rstan::extract( fit.nu.1$stage_2_fit )$sigma_beta_x )\n",
    "    sd.nu.free = mean( rstan::extract( fit.nu.free$stage_2_fit )$sigma_beta_x )\n",
    "    sds.nu.1[i] = sd.nu.1\n",
    "    sds.nu.free[i] = sd.nu.free\n",
    "    nus[i] = mean( rstan::extract( fit.nu.free$stage_2_fit )$nu )\n",
    "}\n",
    "\n",
    "#"
   ]
  },
  {
   "cell_type": "code",
   "execution_count": 49,
   "metadata": {},
   "outputs": [
    {
     "data": {
      "text/html": [
       "0.139255878073703"
      ],
      "text/latex": [
       "0.139255878073703"
      ],
      "text/markdown": [
       "0.139255878073703"
      ],
      "text/plain": [
       "[1] 0.1392559"
      ]
     },
     "metadata": {},
     "output_type": "display_data"
    }
   ],
   "source": [
    "mean(sds.nu.1)"
   ]
  },
  {
   "cell_type": "code",
   "execution_count": 50,
   "metadata": {},
   "outputs": [
    {
     "data": {
      "text/html": [
       "0.291034206711401"
      ],
      "text/latex": [
       "0.291034206711401"
      ],
      "text/markdown": [
       "0.291034206711401"
      ],
      "text/plain": [
       "[1] 0.2910342"
      ]
     },
     "metadata": {},
     "output_type": "display_data"
    }
   ],
   "source": [
    "mean(sds.nu.free)"
   ]
  },
  {
   "cell_type": "code",
   "execution_count": 51,
   "metadata": {},
   "outputs": [
    {
     "data": {
      "text/html": [
       "20.1734493324638"
      ],
      "text/latex": [
       "20.1734493324638"
      ],
      "text/markdown": [
       "20.1734493324638"
      ],
      "text/plain": [
       "[1] 20.17345"
      ]
     },
     "metadata": {},
     "output_type": "display_data"
    }
   ],
   "source": [
    "mean(nus)"
   ]
  },
  {
   "cell_type": "code",
   "execution_count": 22,
   "metadata": {},
   "outputs": [],
   "source": [
    "#ncp = function(mean,sd)"
   ]
  },
  {
   "cell_type": "code",
   "execution_count": 23,
   "metadata": {},
   "outputs": [],
   "source": [
    "#pt(1, ncp = 0, df = 1, lower.tail=FALSE )"
   ]
  },
  {
   "cell_type": "code",
   "execution_count": 25,
   "metadata": {},
   "outputs": [
    {
     "name": "stderr",
     "output_type": "stream",
     "text": [
      "Loading required package: metRology\n",
      "\n",
      "\n",
      "Attaching package: ‘metRology’\n",
      "\n",
      "\n",
      "The following objects are masked from ‘package:base’:\n",
      "\n",
      "    cbind, rbind\n",
      "\n",
      "\n"
     ]
    }
   ],
   "source": [
    "require(metRology)"
   ]
  },
  {
   "cell_type": "code",
   "execution_count": 26,
   "metadata": {},
   "outputs": [
    {
     "data": {
      "text/html": [
       "<pre class=language-r><code>function (q, df, mean = 0, sd = 1, ncp, lower.tail = TRUE, log.p = FALSE) \n",
       "{\n",
       "<span style=white-space:pre-wrap>    stats::pt((q - mean)/sd, df, ncp = ncp, log.p = log.p)</span>\n",
       "}</code></pre>"
      ],
      "text/latex": [
       "\\begin{minted}{r}\n",
       "function (q, df, mean = 0, sd = 1, ncp, lower.tail = TRUE, log.p = FALSE) \n",
       "\\{\n",
       "    stats::pt((q - mean)/sd, df, ncp = ncp, log.p = log.p)\n",
       "\\}\n",
       "\\end{minted}"
      ],
      "text/markdown": [
       "```r\n",
       "function (q, df, mean = 0, sd = 1, ncp, lower.tail = TRUE, log.p = FALSE) \n",
       "{\n",
       "    stats::pt((q - mean)/sd, df, ncp = ncp, log.p = log.p)\n",
       "}\n",
       "```"
      ],
      "text/plain": [
       "function (q, df, mean = 0, sd = 1, ncp, lower.tail = TRUE, log.p = FALSE) \n",
       "{\n",
       "    stats::pt((q - mean)/sd, df, ncp = ncp, log.p = log.p)\n",
       "}\n",
       "<bytecode: 0x557935dadca8>\n",
       "<environment: namespace:metRology>"
      ]
     },
     "metadata": {},
     "output_type": "display_data"
    }
   ],
   "source": [
    "pt.scaled"
   ]
  },
  {
   "cell_type": "code",
   "execution_count": 52,
   "metadata": {},
   "outputs": [
    {
     "data": {
      "text/html": [
       "0.0440432814782732"
      ],
      "text/latex": [
       "0.0440432814782732"
      ],
      "text/markdown": [
       "0.0440432814782732"
      ],
      "text/plain": [
       "[1] 0.04404328"
      ]
     },
     "metadata": {},
     "output_type": "display_data"
    }
   ],
   "source": [
    "1-pt.scaled(1,df=1,mean=0,sd=0.139255878073703)"
   ]
  },
  {
   "cell_type": "code",
   "execution_count": 53,
   "metadata": {},
   "outputs": [
    {
     "data": {
      "text/html": [
       "0.00129496078928981"
      ],
      "text/latex": [
       "0.00129496078928981"
      ],
      "text/markdown": [
       "0.00129496078928981"
      ],
      "text/plain": [
       "[1] 0.001294961"
      ]
     },
     "metadata": {},
     "output_type": "display_data"
    }
   ],
   "source": [
    "1-pt.scaled(1,df=20.1734493324638,mean=0,sd=0.291034206711401)"
   ]
  },
  {
   "cell_type": "code",
   "execution_count": 54,
   "metadata": {},
   "outputs": [
    {
     "data": {
      "text/html": [
       "34.0112857798788"
      ],
      "text/latex": [
       "34.0112857798788"
      ],
      "text/markdown": [
       "34.0112857798788"
      ],
      "text/plain": [
       "[1] 34.01129"
      ]
     },
     "metadata": {},
     "output_type": "display_data"
    }
   ],
   "source": [
    "0.0440432814782732/0.00129496078928981"
   ]
  },
  {
   "cell_type": "code",
   "execution_count": null,
   "metadata": {},
   "outputs": [],
   "source": []
  }
 ],
 "metadata": {
  "kernelspec": {
   "display_name": "R",
   "language": "R",
   "name": "ir"
  },
  "language_info": {
   "codemirror_mode": "r",
   "file_extension": ".r",
   "mimetype": "text/x-r-source",
   "name": "R",
   "pygments_lexer": "r",
   "version": "3.5.1"
  }
 },
 "nbformat": 4,
 "nbformat_minor": 4
}
