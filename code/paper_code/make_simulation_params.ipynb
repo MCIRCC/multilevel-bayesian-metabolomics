{
 "cells": [
  {
   "cell_type": "code",
   "execution_count": 1,
   "metadata": {},
   "outputs": [
    {
     "name": "stderr",
     "output_type": "stream",
     "text": [
      "Loading required package: tidyverse\n",
      "\n",
      "── \u001b[1mAttaching packages\u001b[22m ─────────────────────────────────────── tidyverse 1.3.0 ──\n",
      "\n",
      "\u001b[32m✔\u001b[39m \u001b[34mggplot2\u001b[39m 3.2.1     \u001b[32m✔\u001b[39m \u001b[34mpurrr  \u001b[39m 0.3.3\n",
      "\u001b[32m✔\u001b[39m \u001b[34mtibble \u001b[39m 2.1.3     \u001b[32m✔\u001b[39m \u001b[34mdplyr  \u001b[39m 0.8.4\n",
      "\u001b[32m✔\u001b[39m \u001b[34mtidyr  \u001b[39m 1.0.2     \u001b[32m✔\u001b[39m \u001b[34mstringr\u001b[39m 1.4.0\n",
      "\u001b[32m✔\u001b[39m \u001b[34mreadr  \u001b[39m 1.3.1     \u001b[32m✔\u001b[39m \u001b[34mforcats\u001b[39m 0.5.0\n",
      "\n",
      "── \u001b[1mConflicts\u001b[22m ────────────────────────────────────────── tidyverse_conflicts() ──\n",
      "\u001b[31m✖\u001b[39m \u001b[34mdplyr\u001b[39m::\u001b[32mfilter()\u001b[39m masks \u001b[34mstats\u001b[39m::filter()\n",
      "\u001b[31m✖\u001b[39m \u001b[34mdplyr\u001b[39m::\u001b[32mlag()\u001b[39m    masks \u001b[34mstats\u001b[39m::lag()\n",
      "\n"
     ]
    }
   ],
   "source": [
    "require(tidyverse)"
   ]
  },
  {
   "cell_type": "code",
   "execution_count": 2,
   "metadata": {},
   "outputs": [
    {
     "name": "stderr",
     "output_type": "stream",
     "text": [
      "Parsed with column specification:\n",
      "cols(\n",
      "  .default = col_double()\n",
      ")\n",
      "\n",
      "See spec(...) for full column specifications.\n",
      "\n"
     ]
    }
   ],
   "source": [
    "df_nmr = read_csv('/nfs/turbo/umms-cgillies/cgillies/RACE_CAPS/11_20_2019_even_odds_interaction_prior_1/nmr_metabolites_scaled_matrix.csv')\n",
    "\n",
    "\n",
    "died = df_nmr$died_90_day\n",
    "sigma_0 = cov(df_nmr[died == 0,c(1:27)])\n",
    "mu_0 = colMeans(df_nmr[died == 0,c(1:27)]) \n",
    "sigma_1 = cov(df_nmr[died == 1,c(1:27)])\n",
    "mu_1 = colMeans(df_nmr[died == 1,c(1:27)]) \n",
    "\n",
    "metabolites = colnames(df_nmr)[1:27]\n",
    "\n",
    "# COMPUTE MISSING RATE\n",
    "missing_rate = df_nmr[,metabolites] %>% summarise_all(function(x) { mean(x == min(x))  })\n",
    "missing_rate_numeric = missing_rate %>% t() %>% as.numeric\n",
    "mu = mean( missing_rate_numeric )\n",
    "sigma_2 = var(missing_rate_numeric)\n"
   ]
  },
  {
   "cell_type": "code",
   "execution_count": 5,
   "metadata": {},
   "outputs": [],
   "source": [
    "data.out = list(\n",
    "    died=died,\n",
    "    sigma_0=sigma_0,\n",
    "    mu_0=mu_0,\n",
    "    sigma_1=sigma_1,\n",
    "    mu_1=mu_1,\n",
    "    missing_rate=missing_rate,\n",
    "    missing_rate_numeric=missing_rate_numeric,\n",
    "    mu_missing = mu,\n",
    "    sigma_2_missing=sigma_2,\n",
    "    metabolites=metabolites\n",
    ")"
   ]
  },
  {
   "cell_type": "code",
   "execution_count": 6,
   "metadata": {},
   "outputs": [],
   "source": [
    "saveRDS(data.out,'/nfs/turbo/umms-cgillies/cgillies/RACE_CAPS/multilevel-bayesian-metabolomics/code/paper_code/simulation_params.RDS')\n",
    "saveRDS(data.out,'/nfs/turbo/umms-cgillies/cgillies/RACE_CAPS/multilevel-bayesian-metabolomics/code/examples/simulation_params.RDS')"
   ]
  },
  {
   "cell_type": "code",
   "execution_count": null,
   "metadata": {},
   "outputs": [],
   "source": []
  }
 ],
 "metadata": {
  "kernelspec": {
   "display_name": "R",
   "language": "R",
   "name": "ir"
  },
  "language_info": {
   "codemirror_mode": "r",
   "file_extension": ".r",
   "mimetype": "text/x-r-source",
   "name": "R",
   "pygments_lexer": "r",
   "version": "3.5.1"
  }
 },
 "nbformat": 4,
 "nbformat_minor": 4
}
