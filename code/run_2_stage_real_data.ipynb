{
 "cells": [
  {
   "cell_type": "code",
   "execution_count": 2,
   "metadata": {},
   "outputs": [
    {
     "name": "stderr",
     "output_type": "stream",
     "text": [
      "Loading required package: tidyverse\n",
      "\n",
      "── \u001b[1mAttaching packages\u001b[22m ─────────────────────────────────────── tidyverse 1.3.0 ──\n",
      "\n",
      "\u001b[32m✔\u001b[39m \u001b[34mggplot2\u001b[39m 3.2.1     \u001b[32m✔\u001b[39m \u001b[34mpurrr  \u001b[39m 0.3.3\n",
      "\u001b[32m✔\u001b[39m \u001b[34mtibble \u001b[39m 2.1.3     \u001b[32m✔\u001b[39m \u001b[34mdplyr  \u001b[39m 0.8.4\n",
      "\u001b[32m✔\u001b[39m \u001b[34mtidyr  \u001b[39m 1.0.2     \u001b[32m✔\u001b[39m \u001b[34mstringr\u001b[39m 1.4.0\n",
      "\u001b[32m✔\u001b[39m \u001b[34mreadr  \u001b[39m 1.3.1     \u001b[32m✔\u001b[39m \u001b[34mforcats\u001b[39m 0.5.0\n",
      "\n",
      "── \u001b[1mConflicts\u001b[22m ────────────────────────────────────────── tidyverse_conflicts() ──\n",
      "\u001b[31m✖\u001b[39m \u001b[34mdplyr\u001b[39m::\u001b[32mfilter()\u001b[39m masks \u001b[34mstats\u001b[39m::filter()\n",
      "\u001b[31m✖\u001b[39m \u001b[34mdplyr\u001b[39m::\u001b[32mlag()\u001b[39m    masks \u001b[34mstats\u001b[39m::lag()\n",
      "\n",
      "Loading required package: rstan\n",
      "\n",
      "Loading required package: StanHeaders\n",
      "\n",
      "rstan (Version 2.19.3, GitRev: 2e1f913d3ca3)\n",
      "\n",
      "For execution on a local, multicore CPU with excess RAM we recommend calling\n",
      "options(mc.cores = parallel::detectCores()).\n",
      "To avoid recompilation of unchanged Stan programs, we recommend calling\n",
      "rstan_options(auto_write = TRUE)\n",
      "\n",
      "\n",
      "Attaching package: ‘rstan’\n",
      "\n",
      "\n",
      "The following object is masked from ‘package:tidyr’:\n",
      "\n",
      "    extract\n",
      "\n",
      "\n",
      "Loading required package: R.matlab\n",
      "\n",
      "R.matlab v3.6.2 (2018-09-26) successfully loaded. See ?R.matlab for help.\n",
      "\n",
      "\n",
      "Attaching package: ‘R.matlab’\n",
      "\n",
      "\n",
      "The following objects are masked from ‘package:base’:\n",
      "\n",
      "    getOption, isOpen\n",
      "\n",
      "\n"
     ]
    }
   ],
   "source": [
    "source('/nfs/turbo/umms-cgillies/cgillies/RACE_CAPS/stringer-race-caps/sparsity_analysis/run_2_stage_util.R')\n",
    "require(tidyverse)\n",
    "require(rstan)\n",
    "require(ggplot2)\n",
    "require(R.matlab)"
   ]
  },
  {
   "cell_type": "code",
   "execution_count": null,
   "metadata": {},
   "outputs": [],
   "source": []
  },
  {
   "cell_type": "code",
   "execution_count": 3,
   "metadata": {},
   "outputs": [
    {
     "name": "stdout",
     "output_type": "stream",
     "text": [
      "DIAGNOSTIC(S) FROM PARSER:\n",
      "Info:\n",
      "Left-hand side of sampling statement (~) may contain a non-linear transform of a parameter or local variable.\n",
      "If it does, you need to include a target += statement with the log absolute determinant of the Jacobian of the transform.\n",
      "Left-hand-side of sampling statement:\n",
      "    x_impute ~ normal(...)\n",
      "\n"
     ]
    }
   ],
   "source": [
    "dir = '/nfs/turbo/umms-cgillies/cgillies/RACE_CAPS/analysis/20200315_2_stage_impute_beta_no_missing/'\n",
    "rstan_options(auto_write = TRUE)\n",
    "stage_1_impute_code_file = paste0(dir, 'stage_1_impute.stan')\n",
    "stage_1_impute_model = stan_model(file = stage_1_impute_code_file, verbose = FALSE)\n",
    "\n",
    "stage_2_regress_code_file = paste0(dir, 'stage_2_regress.stan' )\n",
    "stage_2_regress_model = stan_model(file = stage_2_regress_code_file, verbose = FALSE)\n",
    "\n",
    "#df_nmr = read_csv('/nfs/turbo/umms-cgillies/cgillies/RACE_CAPS/11_20_2019_even_odds_interaction_prior_1/nmr_metabolites_scaled_matrix.csv')"
   ]
  },
  {
   "cell_type": "code",
   "execution_count": 3,
   "metadata": {},
   "outputs": [
    {
     "data": {
      "text/html": [
       "'/nfs/turbo/umms-cgillies/cgillies/RACE_CAPS/analysis/20200315_2_stage_impute_beta_no_missing/stage_1_impute.stan'"
      ],
      "text/latex": [
       "'/nfs/turbo/umms-cgillies/cgillies/RACE\\_CAPS/analysis/20200315\\_2\\_stage\\_impute\\_beta\\_no\\_missing/stage\\_1\\_impute.stan'"
      ],
      "text/markdown": [
       "'/nfs/turbo/umms-cgillies/cgillies/RACE_CAPS/analysis/20200315_2_stage_impute_beta_no_missing/stage_1_impute.stan'"
      ],
      "text/plain": [
       "[1] \"/nfs/turbo/umms-cgillies/cgillies/RACE_CAPS/analysis/20200315_2_stage_impute_beta_no_missing/stage_1_impute.stan\""
      ]
     },
     "metadata": {},
     "output_type": "display_data"
    }
   ],
   "source": [
    "stage_1_impute_code_file"
   ]
  },
  {
   "cell_type": "markdown",
   "metadata": {},
   "source": [
    "# NMR"
   ]
  },
  {
   "cell_type": "code",
   "execution_count": 4,
   "metadata": {},
   "outputs": [
    {
     "name": "stderr",
     "output_type": "stream",
     "text": [
      "Parsed with column specification:\n",
      "cols(\n",
      "  .default = col_double(),\n",
      "  t0nmronly = \u001b[31mcol_character()\u001b[39m\n",
      ")\n",
      "\n",
      "See spec(...) for full column specifications.\n",
      "\n"
     ]
    },
    {
     "data": {
      "text/html": [
       "<style>\n",
       ".list-inline {list-style: none; margin:0; padding: 0}\n",
       ".list-inline>li {display: inline-block}\n",
       ".list-inline>li:not(:last-child)::after {content: \"\\00b7\"; padding: 0 .5ex}\n",
       "</style>\n",
       "<ol class=list-inline><li>228</li><li>29</li></ol>\n"
      ],
      "text/latex": [
       "\\begin{enumerate*}\n",
       "\\item 228\n",
       "\\item 29\n",
       "\\end{enumerate*}\n"
      ],
      "text/markdown": [
       "1. 228\n",
       "2. 29\n",
       "\n",
       "\n"
      ],
      "text/plain": [
       "[1] 228  29"
      ]
     },
     "metadata": {},
     "output_type": "display_data"
    },
    {
     "name": "stderr",
     "output_type": "stream",
     "text": [
      "Parsed with column specification:\n",
      "cols(\n",
      "  .default = col_double(),\n",
      "  carntx = \u001b[31mcol_character()\u001b[39m,\n",
      "  X28DaySurvival = \u001b[31mcol_character()\u001b[39m,\n",
      "  X1YearSurvival = \u001b[31mcol_character()\u001b[39m,\n",
      "  Sex = \u001b[31mcol_character()\u001b[39m,\n",
      "  Race = \u001b[31mcol_character()\u001b[39m,\n",
      "  Ethnicity = \u001b[31mcol_character()\u001b[39m,\n",
      "  mITT.included = \u001b[31mcol_character()\u001b[39m,\n",
      "  PP.included = \u001b[31mcol_character()\u001b[39m,\n",
      "  T0.Blood.drawn.after.L.carnitine.started. = \u001b[31mcol_character()\u001b[39m,\n",
      "  Infusion.Stopped.Early. = \u001b[31mcol_character()\u001b[39m,\n",
      "  Hours.from.infusion.complete.to.T24.blood.draw = \u001b[31mcol_character()\u001b[39m,\n",
      "  Hours.from.infusion.complete.to.T48.blood.draw = \u001b[31mcol_character()\u001b[39m,\n",
      "  Empiric.date.correction.needed.for.likely.data.entry.error = \u001b[31mcol_character()\u001b[39m\n",
      ")\n",
      "\n",
      "See spec(...) for full column specifications.\n",
      "\n"
     ]
    },
    {
     "data": {
      "text/html": [
       "<style>\n",
       ".list-inline {list-style: none; margin:0; padding: 0}\n",
       ".list-inline>li {display: inline-block}\n",
       ".list-inline>li:not(:last-child)::after {content: \"\\00b7\"; padding: 0 .5ex}\n",
       "</style>\n",
       "<ol class=list-inline><li>250</li><li>35</li></ol>\n"
      ],
      "text/latex": [
       "\\begin{enumerate*}\n",
       "\\item 250\n",
       "\\item 35\n",
       "\\end{enumerate*}\n"
      ],
      "text/markdown": [
       "1. 250\n",
       "2. 35\n",
       "\n",
       "\n"
      ],
      "text/plain": [
       "[1] 250  35"
      ]
     },
     "metadata": {},
     "output_type": "display_data"
    }
   ],
   "source": [
    "df_nmr_raw = read_csv('/nfs/turbo/umms-cgillies/cgillies/RACE_CAPS/data/20200227_teddy_jenanaro/raw_nmr.csv')\n",
    "dim(df_nmr_raw)\n",
    "df_demo = read_csv('/nfs/turbo/umms-cgillies/cgillies/RACE_CAPS/data/20200227_teddy_jenanaro/RACE_Demographics.csv')\n",
    "dim(df_demo)\n"
   ]
  },
  {
   "cell_type": "code",
   "execution_count": 5,
   "metadata": {},
   "outputs": [
    {
     "data": {
      "text/html": [
       "<style>\n",
       ".list-inline {list-style: none; margin:0; padding: 0}\n",
       ".list-inline>li {display: inline-block}\n",
       ".list-inline>li:not(:last-child)::after {content: \"\\00b7\"; padding: 0 .5ex}\n",
       "</style>\n",
       "<ol class=list-inline><li>'studyid'</li><li>'dose'</li><li>'carntx'</li><li>'survivaldays'</li><li>'FinalDeath'</li><li>'X28DayMortality'</li><li>'X28DaySurvival'</li><li>'X1YearMortality'</li><li>'X1YearSurvival'</li><li>'weight_kg'</li><li>'weight_lbs'</li><li>'height_cm'</li><li>'height_in'</li><li>'BMI'</li><li>'Age'</li><li>'Sex'</li><li>'Race'</li><li>'Ethnicity'</li><li>'mITT.included'</li><li>'PP.included'</li><li>'T0.Blood.drawn.after.L.carnitine.started.'</li><li>'Infusion.Stopped.Early.'</li><li>'Hours.from.infusion.complete.to.T24.blood.draw'</li><li>'Hours.from.infusion.complete.to.T48.blood.draw'</li><li>'Empiric.date.correction.needed.for.likely.data.entry.error'</li><li>'T0renal'</li><li>'T12renal'</li><li>'T24renal'</li><li>'T48renal'</li><li>'Calculated.T0.SOFA.Value'</li><li>'Calculated.T12.SOFA.Value'</li><li>'Calculated.T24.SOFA.Value'</li><li>'Calculated.T48.SOFA.Value'</li><li>'DNR.within.24.hours'</li><li>'Withdrawal.within.24.hours'</li></ol>\n"
      ],
      "text/latex": [
       "\\begin{enumerate*}\n",
       "\\item 'studyid'\n",
       "\\item 'dose'\n",
       "\\item 'carntx'\n",
       "\\item 'survivaldays'\n",
       "\\item 'FinalDeath'\n",
       "\\item 'X28DayMortality'\n",
       "\\item 'X28DaySurvival'\n",
       "\\item 'X1YearMortality'\n",
       "\\item 'X1YearSurvival'\n",
       "\\item 'weight\\_kg'\n",
       "\\item 'weight\\_lbs'\n",
       "\\item 'height\\_cm'\n",
       "\\item 'height\\_in'\n",
       "\\item 'BMI'\n",
       "\\item 'Age'\n",
       "\\item 'Sex'\n",
       "\\item 'Race'\n",
       "\\item 'Ethnicity'\n",
       "\\item 'mITT.included'\n",
       "\\item 'PP.included'\n",
       "\\item 'T0.Blood.drawn.after.L.carnitine.started.'\n",
       "\\item 'Infusion.Stopped.Early.'\n",
       "\\item 'Hours.from.infusion.complete.to.T24.blood.draw'\n",
       "\\item 'Hours.from.infusion.complete.to.T48.blood.draw'\n",
       "\\item 'Empiric.date.correction.needed.for.likely.data.entry.error'\n",
       "\\item 'T0renal'\n",
       "\\item 'T12renal'\n",
       "\\item 'T24renal'\n",
       "\\item 'T48renal'\n",
       "\\item 'Calculated.T0.SOFA.Value'\n",
       "\\item 'Calculated.T12.SOFA.Value'\n",
       "\\item 'Calculated.T24.SOFA.Value'\n",
       "\\item 'Calculated.T48.SOFA.Value'\n",
       "\\item 'DNR.within.24.hours'\n",
       "\\item 'Withdrawal.within.24.hours'\n",
       "\\end{enumerate*}\n"
      ],
      "text/markdown": [
       "1. 'studyid'\n",
       "2. 'dose'\n",
       "3. 'carntx'\n",
       "4. 'survivaldays'\n",
       "5. 'FinalDeath'\n",
       "6. 'X28DayMortality'\n",
       "7. 'X28DaySurvival'\n",
       "8. 'X1YearMortality'\n",
       "9. 'X1YearSurvival'\n",
       "10. 'weight_kg'\n",
       "11. 'weight_lbs'\n",
       "12. 'height_cm'\n",
       "13. 'height_in'\n",
       "14. 'BMI'\n",
       "15. 'Age'\n",
       "16. 'Sex'\n",
       "17. 'Race'\n",
       "18. 'Ethnicity'\n",
       "19. 'mITT.included'\n",
       "20. 'PP.included'\n",
       "21. 'T0.Blood.drawn.after.L.carnitine.started.'\n",
       "22. 'Infusion.Stopped.Early.'\n",
       "23. 'Hours.from.infusion.complete.to.T24.blood.draw'\n",
       "24. 'Hours.from.infusion.complete.to.T48.blood.draw'\n",
       "25. 'Empiric.date.correction.needed.for.likely.data.entry.error'\n",
       "26. 'T0renal'\n",
       "27. 'T12renal'\n",
       "28. 'T24renal'\n",
       "29. 'T48renal'\n",
       "30. 'Calculated.T0.SOFA.Value'\n",
       "31. 'Calculated.T12.SOFA.Value'\n",
       "32. 'Calculated.T24.SOFA.Value'\n",
       "33. 'Calculated.T48.SOFA.Value'\n",
       "34. 'DNR.within.24.hours'\n",
       "35. 'Withdrawal.within.24.hours'\n",
       "\n",
       "\n"
      ],
      "text/plain": [
       " [1] \"studyid\"                                                   \n",
       " [2] \"dose\"                                                      \n",
       " [3] \"carntx\"                                                    \n",
       " [4] \"survivaldays\"                                              \n",
       " [5] \"FinalDeath\"                                                \n",
       " [6] \"X28DayMortality\"                                           \n",
       " [7] \"X28DaySurvival\"                                            \n",
       " [8] \"X1YearMortality\"                                           \n",
       " [9] \"X1YearSurvival\"                                            \n",
       "[10] \"weight_kg\"                                                 \n",
       "[11] \"weight_lbs\"                                                \n",
       "[12] \"height_cm\"                                                 \n",
       "[13] \"height_in\"                                                 \n",
       "[14] \"BMI\"                                                       \n",
       "[15] \"Age\"                                                       \n",
       "[16] \"Sex\"                                                       \n",
       "[17] \"Race\"                                                      \n",
       "[18] \"Ethnicity\"                                                 \n",
       "[19] \"mITT.included\"                                             \n",
       "[20] \"PP.included\"                                               \n",
       "[21] \"T0.Blood.drawn.after.L.carnitine.started.\"                 \n",
       "[22] \"Infusion.Stopped.Early.\"                                   \n",
       "[23] \"Hours.from.infusion.complete.to.T24.blood.draw\"            \n",
       "[24] \"Hours.from.infusion.complete.to.T48.blood.draw\"            \n",
       "[25] \"Empiric.date.correction.needed.for.likely.data.entry.error\"\n",
       "[26] \"T0renal\"                                                   \n",
       "[27] \"T12renal\"                                                  \n",
       "[28] \"T24renal\"                                                  \n",
       "[29] \"T48renal\"                                                  \n",
       "[30] \"Calculated.T0.SOFA.Value\"                                  \n",
       "[31] \"Calculated.T12.SOFA.Value\"                                 \n",
       "[32] \"Calculated.T24.SOFA.Value\"                                 \n",
       "[33] \"Calculated.T48.SOFA.Value\"                                 \n",
       "[34] \"DNR.within.24.hours\"                                       \n",
       "[35] \"Withdrawal.within.24.hours\"                                "
      ]
     },
     "metadata": {},
     "output_type": "display_data"
    },
    {
     "name": "stdout",
     "output_type": "stream",
     "text": [
      "[1] \" \"\n"
     ]
    },
    {
     "data": {
      "text/html": [
       "<style>\n",
       ".list-inline {list-style: none; margin:0; padding: 0}\n",
       ".list-inline>li {display: inline-block}\n",
       ".list-inline>li:not(:last-child)::after {content: \"\\00b7\"; padding: 0 .5ex}\n",
       "</style>\n",
       "<ol class=list-inline><li>'studyid'</li><li>'t0nmronly'</li><li>'hydroxybutyrate'</li><li>'oxoisocaproate'</li><li>'3-hydoxybutyrate'</li><li>'alanine'</li><li>'betaine'</li><li>'carnitine'</li><li>'choline'</li><li>'citrate'</li><li>'creatine'</li><li>'creatinine'</li><li>'glucose'</li><li>'glutamine'</li><li>'glycine'</li><li>'histidine'</li><li>'isoleucine'</li><li>'lactate'</li><li>'leucine'</li><li>'lysine'</li><li>'methionine'</li><li>'oacetylcarnitine'</li><li>'ornithine'</li><li>'phenylalanine'</li><li>'proline'</li><li>'propyleneglycol'</li><li>'pyruvate'</li><li>'tyrosine'</li><li>'valine'</li></ol>\n"
      ],
      "text/latex": [
       "\\begin{enumerate*}\n",
       "\\item 'studyid'\n",
       "\\item 't0nmronly'\n",
       "\\item 'hydroxybutyrate'\n",
       "\\item 'oxoisocaproate'\n",
       "\\item '3-hydoxybutyrate'\n",
       "\\item 'alanine'\n",
       "\\item 'betaine'\n",
       "\\item 'carnitine'\n",
       "\\item 'choline'\n",
       "\\item 'citrate'\n",
       "\\item 'creatine'\n",
       "\\item 'creatinine'\n",
       "\\item 'glucose'\n",
       "\\item 'glutamine'\n",
       "\\item 'glycine'\n",
       "\\item 'histidine'\n",
       "\\item 'isoleucine'\n",
       "\\item 'lactate'\n",
       "\\item 'leucine'\n",
       "\\item 'lysine'\n",
       "\\item 'methionine'\n",
       "\\item 'oacetylcarnitine'\n",
       "\\item 'ornithine'\n",
       "\\item 'phenylalanine'\n",
       "\\item 'proline'\n",
       "\\item 'propyleneglycol'\n",
       "\\item 'pyruvate'\n",
       "\\item 'tyrosine'\n",
       "\\item 'valine'\n",
       "\\end{enumerate*}\n"
      ],
      "text/markdown": [
       "1. 'studyid'\n",
       "2. 't0nmronly'\n",
       "3. 'hydroxybutyrate'\n",
       "4. 'oxoisocaproate'\n",
       "5. '3-hydoxybutyrate'\n",
       "6. 'alanine'\n",
       "7. 'betaine'\n",
       "8. 'carnitine'\n",
       "9. 'choline'\n",
       "10. 'citrate'\n",
       "11. 'creatine'\n",
       "12. 'creatinine'\n",
       "13. 'glucose'\n",
       "14. 'glutamine'\n",
       "15. 'glycine'\n",
       "16. 'histidine'\n",
       "17. 'isoleucine'\n",
       "18. 'lactate'\n",
       "19. 'leucine'\n",
       "20. 'lysine'\n",
       "21. 'methionine'\n",
       "22. 'oacetylcarnitine'\n",
       "23. 'ornithine'\n",
       "24. 'phenylalanine'\n",
       "25. 'proline'\n",
       "26. 'propyleneglycol'\n",
       "27. 'pyruvate'\n",
       "28. 'tyrosine'\n",
       "29. 'valine'\n",
       "\n",
       "\n"
      ],
      "text/plain": [
       " [1] \"studyid\"          \"t0nmronly\"        \"hydroxybutyrate\"  \"oxoisocaproate\"  \n",
       " [5] \"3-hydoxybutyrate\" \"alanine\"          \"betaine\"          \"carnitine\"       \n",
       " [9] \"choline\"          \"citrate\"          \"creatine\"         \"creatinine\"      \n",
       "[13] \"glucose\"          \"glutamine\"        \"glycine\"          \"histidine\"       \n",
       "[17] \"isoleucine\"       \"lactate\"          \"leucine\"          \"lysine\"          \n",
       "[21] \"methionine\"       \"oacetylcarnitine\" \"ornithine\"        \"phenylalanine\"   \n",
       "[25] \"proline\"          \"propyleneglycol\"  \"pyruvate\"         \"tyrosine\"        \n",
       "[29] \"valine\"          "
      ]
     },
     "metadata": {},
     "output_type": "display_data"
    }
   ],
   "source": [
    "colnames(df_demo)\n",
    "print(' ')\n",
    "colnames(df_nmr_raw)"
   ]
  },
  {
   "cell_type": "code",
   "execution_count": 6,
   "metadata": {},
   "outputs": [],
   "source": [
    "df_nmr_raw_res = df_nmr_raw %>% left_join( df_demo %>% select( studyid,survivaldays ), by = 'studyid') %>%\n",
    "    mutate(died_90_day = as.numeric(survivaldays <= 90)) %>% select(-c(studyid,t0nmronly,survivaldays))"
   ]
  },
  {
   "cell_type": "code",
   "execution_count": 7,
   "metadata": {},
   "outputs": [
    {
     "data": {
      "text/html": [
       "<style>\n",
       ".list-inline {list-style: none; margin:0; padding: 0}\n",
       ".list-inline>li {display: inline-block}\n",
       ".list-inline>li:not(:last-child)::after {content: \"\\00b7\"; padding: 0 .5ex}\n",
       "</style>\n",
       "<ol class=list-inline><li>'hydroxybutyrate'</li><li>'oxoisocaproate'</li><li>'3-hydoxybutyrate'</li><li>'alanine'</li><li>'betaine'</li><li>'carnitine'</li><li>'choline'</li><li>'citrate'</li><li>'creatine'</li><li>'creatinine'</li><li>'glucose'</li><li>'glutamine'</li><li>'glycine'</li><li>'histidine'</li><li>'isoleucine'</li><li>'lactate'</li><li>'leucine'</li><li>'lysine'</li><li>'methionine'</li><li>'oacetylcarnitine'</li><li>'ornithine'</li><li>'phenylalanine'</li><li>'proline'</li><li>'propyleneglycol'</li><li>'pyruvate'</li><li>'tyrosine'</li><li>'valine'</li><li>'died_90_day'</li></ol>\n"
      ],
      "text/latex": [
       "\\begin{enumerate*}\n",
       "\\item 'hydroxybutyrate'\n",
       "\\item 'oxoisocaproate'\n",
       "\\item '3-hydoxybutyrate'\n",
       "\\item 'alanine'\n",
       "\\item 'betaine'\n",
       "\\item 'carnitine'\n",
       "\\item 'choline'\n",
       "\\item 'citrate'\n",
       "\\item 'creatine'\n",
       "\\item 'creatinine'\n",
       "\\item 'glucose'\n",
       "\\item 'glutamine'\n",
       "\\item 'glycine'\n",
       "\\item 'histidine'\n",
       "\\item 'isoleucine'\n",
       "\\item 'lactate'\n",
       "\\item 'leucine'\n",
       "\\item 'lysine'\n",
       "\\item 'methionine'\n",
       "\\item 'oacetylcarnitine'\n",
       "\\item 'ornithine'\n",
       "\\item 'phenylalanine'\n",
       "\\item 'proline'\n",
       "\\item 'propyleneglycol'\n",
       "\\item 'pyruvate'\n",
       "\\item 'tyrosine'\n",
       "\\item 'valine'\n",
       "\\item 'died\\_90\\_day'\n",
       "\\end{enumerate*}\n"
      ],
      "text/markdown": [
       "1. 'hydroxybutyrate'\n",
       "2. 'oxoisocaproate'\n",
       "3. '3-hydoxybutyrate'\n",
       "4. 'alanine'\n",
       "5. 'betaine'\n",
       "6. 'carnitine'\n",
       "7. 'choline'\n",
       "8. 'citrate'\n",
       "9. 'creatine'\n",
       "10. 'creatinine'\n",
       "11. 'glucose'\n",
       "12. 'glutamine'\n",
       "13. 'glycine'\n",
       "14. 'histidine'\n",
       "15. 'isoleucine'\n",
       "16. 'lactate'\n",
       "17. 'leucine'\n",
       "18. 'lysine'\n",
       "19. 'methionine'\n",
       "20. 'oacetylcarnitine'\n",
       "21. 'ornithine'\n",
       "22. 'phenylalanine'\n",
       "23. 'proline'\n",
       "24. 'propyleneglycol'\n",
       "25. 'pyruvate'\n",
       "26. 'tyrosine'\n",
       "27. 'valine'\n",
       "28. 'died_90_day'\n",
       "\n",
       "\n"
      ],
      "text/plain": [
       " [1] \"hydroxybutyrate\"  \"oxoisocaproate\"   \"3-hydoxybutyrate\" \"alanine\"         \n",
       " [5] \"betaine\"          \"carnitine\"        \"choline\"          \"citrate\"         \n",
       " [9] \"creatine\"         \"creatinine\"       \"glucose\"          \"glutamine\"       \n",
       "[13] \"glycine\"          \"histidine\"        \"isoleucine\"       \"lactate\"         \n",
       "[17] \"leucine\"          \"lysine\"           \"methionine\"       \"oacetylcarnitine\"\n",
       "[21] \"ornithine\"        \"phenylalanine\"    \"proline\"          \"propyleneglycol\" \n",
       "[25] \"pyruvate\"         \"tyrosine\"         \"valine\"           \"died_90_day\"     "
      ]
     },
     "metadata": {},
     "output_type": "display_data"
    },
    {
     "data": {
      "text/html": [
       "28"
      ],
      "text/latex": [
       "28"
      ],
      "text/markdown": [
       "28"
      ],
      "text/plain": [
       "[1] 28"
      ]
     },
     "metadata": {},
     "output_type": "display_data"
    },
    {
     "data": {
      "text/html": [
       "<table>\n",
       "<caption>A data.frame: 6 × 27</caption>\n",
       "<thead>\n",
       "\t<tr><th></th><th scope=col>hydroxybutyrate</th><th scope=col>oxoisocaproate</th><th scope=col>X3.hydoxybutyrate</th><th scope=col>alanine</th><th scope=col>betaine</th><th scope=col>carnitine</th><th scope=col>choline</th><th scope=col>citrate</th><th scope=col>creatine</th><th scope=col>creatinine</th><th scope=col>⋯</th><th scope=col>lysine</th><th scope=col>methionine</th><th scope=col>oacetylcarnitine</th><th scope=col>ornithine</th><th scope=col>phenylalanine</th><th scope=col>proline</th><th scope=col>propyleneglycol</th><th scope=col>pyruvate</th><th scope=col>tyrosine</th><th scope=col>valine</th></tr>\n",
       "\t<tr><th></th><th scope=col>&lt;dbl&gt;</th><th scope=col>&lt;dbl&gt;</th><th scope=col>&lt;dbl&gt;</th><th scope=col>&lt;dbl&gt;</th><th scope=col>&lt;dbl&gt;</th><th scope=col>&lt;dbl&gt;</th><th scope=col>&lt;dbl&gt;</th><th scope=col>&lt;dbl&gt;</th><th scope=col>&lt;dbl&gt;</th><th scope=col>&lt;dbl&gt;</th><th scope=col>⋯</th><th scope=col>&lt;dbl&gt;</th><th scope=col>&lt;dbl&gt;</th><th scope=col>&lt;dbl&gt;</th><th scope=col>&lt;dbl&gt;</th><th scope=col>&lt;dbl&gt;</th><th scope=col>&lt;dbl&gt;</th><th scope=col>&lt;dbl&gt;</th><th scope=col>&lt;dbl&gt;</th><th scope=col>&lt;dbl&gt;</th><th scope=col>&lt;dbl&gt;</th></tr>\n",
       "</thead>\n",
       "<tbody>\n",
       "\t<tr><th scope=row>1</th><td> 0.11058681</td><td>        NA</td><td>-0.1436373</td><td> 0.02502320</td><td> 1.9288487</td><td>-0.41632118</td><td>-0.28201509</td><td>-0.9004226</td><td> 1.21811975</td><td> 0.70514611</td><td>⋯</td><td>-0.8745736</td><td>-1.151234765</td><td> 0.2889639</td><td>       NA</td><td>-0.2435691</td><td> 1.0326661</td><td> 0.2499441</td><td> 1.4324329</td><td>-0.9850502</td><td>-0.2923139</td></tr>\n",
       "\t<tr><th scope=row>2</th><td> 0.20567458</td><td>        NA</td><td> 0.5234356</td><td>-0.06681863</td><td> 2.9357468</td><td>-0.14689327</td><td>         NA</td><td> 1.2828014</td><td>-0.78666949</td><td> 0.96433806</td><td>⋯</td><td> 0.4605616</td><td>-0.008818703</td><td> 1.3654234</td><td>-1.384977</td><td>-1.0091525</td><td> 0.6655693</td><td> 0.9600813</td><td> 1.0936245</td><td>-1.5353914</td><td>-2.5862771</td></tr>\n",
       "\t<tr><th scope=row>3</th><td>-0.86954374</td><td>        NA</td><td> 0.1132976</td><td> 1.05087951</td><td> 0.7769999</td><td>-0.03579198</td><td>-0.68398413</td><td>-0.2262385</td><td>-1.46323503</td><td> 0.05106906</td><td>⋯</td><td>-0.0487658</td><td> 0.333149507</td><td>-0.7754946</td><td> 1.018090</td><td> 0.5284711</td><td> 0.6859273</td><td>-1.2238123</td><td> 0.7141551</td><td> 0.2284384</td><td>-0.5491362</td></tr>\n",
       "\t<tr><th scope=row>4</th><td>-1.65788538</td><td>        NA</td><td>-0.1146208</td><td>-0.71484866</td><td> 0.5039832</td><td> 0.75804647</td><td>-0.00940278</td><td>-0.9191003</td><td> 2.07469597</td><td>-0.05458034</td><td>⋯</td><td>-0.6965162</td><td>-0.114108455</td><td> 0.6695714</td><td> 0.850243</td><td> 0.3636056</td><td>-0.8076736</td><td> 1.1414521</td><td>-1.1657903</td><td>-1.0595186</td><td>-1.5321084</td></tr>\n",
       "\t<tr><th scope=row>5</th><td> 0.05502393</td><td> 0.1489877</td><td>-0.8084151</td><td>-1.40865371</td><td>-1.2071682</td><td>-0.47905574</td><td>-0.08497919</td><td>-0.1895307</td><td>-0.24156682</td><td> 0.35065189</td><td>⋯</td><td>        NA</td><td>          NA</td><td>-1.1418326</td><td>-2.452548</td><td>-1.0304027</td><td>        NA</td><td>-0.6086965</td><td>-1.0680180</td><td>        NA</td><td>-0.9112407</td></tr>\n",
       "\t<tr><th scope=row>6</th><td> 0.06575278</td><td>-0.3651820</td><td> 1.2426891</td><td> 1.00814503</td><td> 1.0614360</td><td>-0.75605215</td><td> 2.06888650</td><td> 1.2622908</td><td> 0.01965866</td><td>-0.11498146</td><td>⋯</td><td> 0.0977059</td><td>-0.223193907</td><td>-0.2660813</td><td> 1.070979</td><td> 0.2499783</td><td>-0.6224023</td><td> 1.7586352</td><td> 1.0902504</td><td> 0.6307422</td><td>-0.2407793</td></tr>\n",
       "</tbody>\n",
       "</table>\n"
      ],
      "text/latex": [
       "A data.frame: 6 × 27\n",
       "\\begin{tabular}{r|lllllllllllllllllllll}\n",
       "  & hydroxybutyrate & oxoisocaproate & X3.hydoxybutyrate & alanine & betaine & carnitine & choline & citrate & creatine & creatinine & ⋯ & lysine & methionine & oacetylcarnitine & ornithine & phenylalanine & proline & propyleneglycol & pyruvate & tyrosine & valine\\\\\n",
       "  & <dbl> & <dbl> & <dbl> & <dbl> & <dbl> & <dbl> & <dbl> & <dbl> & <dbl> & <dbl> & ⋯ & <dbl> & <dbl> & <dbl> & <dbl> & <dbl> & <dbl> & <dbl> & <dbl> & <dbl> & <dbl>\\\\\n",
       "\\hline\n",
       "\t1 &  0.11058681 &         NA & -0.1436373 &  0.02502320 &  1.9288487 & -0.41632118 & -0.28201509 & -0.9004226 &  1.21811975 &  0.70514611 & ⋯ & -0.8745736 & -1.151234765 &  0.2889639 &        NA & -0.2435691 &  1.0326661 &  0.2499441 &  1.4324329 & -0.9850502 & -0.2923139\\\\\n",
       "\t2 &  0.20567458 &         NA &  0.5234356 & -0.06681863 &  2.9357468 & -0.14689327 &          NA &  1.2828014 & -0.78666949 &  0.96433806 & ⋯ &  0.4605616 & -0.008818703 &  1.3654234 & -1.384977 & -1.0091525 &  0.6655693 &  0.9600813 &  1.0936245 & -1.5353914 & -2.5862771\\\\\n",
       "\t3 & -0.86954374 &         NA &  0.1132976 &  1.05087951 &  0.7769999 & -0.03579198 & -0.68398413 & -0.2262385 & -1.46323503 &  0.05106906 & ⋯ & -0.0487658 &  0.333149507 & -0.7754946 &  1.018090 &  0.5284711 &  0.6859273 & -1.2238123 &  0.7141551 &  0.2284384 & -0.5491362\\\\\n",
       "\t4 & -1.65788538 &         NA & -0.1146208 & -0.71484866 &  0.5039832 &  0.75804647 & -0.00940278 & -0.9191003 &  2.07469597 & -0.05458034 & ⋯ & -0.6965162 & -0.114108455 &  0.6695714 &  0.850243 &  0.3636056 & -0.8076736 &  1.1414521 & -1.1657903 & -1.0595186 & -1.5321084\\\\\n",
       "\t5 &  0.05502393 &  0.1489877 & -0.8084151 & -1.40865371 & -1.2071682 & -0.47905574 & -0.08497919 & -0.1895307 & -0.24156682 &  0.35065189 & ⋯ &         NA &           NA & -1.1418326 & -2.452548 & -1.0304027 &         NA & -0.6086965 & -1.0680180 &         NA & -0.9112407\\\\\n",
       "\t6 &  0.06575278 & -0.3651820 &  1.2426891 &  1.00814503 &  1.0614360 & -0.75605215 &  2.06888650 &  1.2622908 &  0.01965866 & -0.11498146 & ⋯ &  0.0977059 & -0.223193907 & -0.2660813 &  1.070979 &  0.2499783 & -0.6224023 &  1.7586352 &  1.0902504 &  0.6307422 & -0.2407793\\\\\n",
       "\\end{tabular}\n"
      ],
      "text/markdown": [
       "\n",
       "A data.frame: 6 × 27\n",
       "\n",
       "| <!--/--> | hydroxybutyrate &lt;dbl&gt; | oxoisocaproate &lt;dbl&gt; | X3.hydoxybutyrate &lt;dbl&gt; | alanine &lt;dbl&gt; | betaine &lt;dbl&gt; | carnitine &lt;dbl&gt; | choline &lt;dbl&gt; | citrate &lt;dbl&gt; | creatine &lt;dbl&gt; | creatinine &lt;dbl&gt; | ⋯ ⋯ | lysine &lt;dbl&gt; | methionine &lt;dbl&gt; | oacetylcarnitine &lt;dbl&gt; | ornithine &lt;dbl&gt; | phenylalanine &lt;dbl&gt; | proline &lt;dbl&gt; | propyleneglycol &lt;dbl&gt; | pyruvate &lt;dbl&gt; | tyrosine &lt;dbl&gt; | valine &lt;dbl&gt; |\n",
       "|---|---|---|---|---|---|---|---|---|---|---|---|---|---|---|---|---|---|---|---|---|---|\n",
       "| 1 |  0.11058681 |         NA | -0.1436373 |  0.02502320 |  1.9288487 | -0.41632118 | -0.28201509 | -0.9004226 |  1.21811975 |  0.70514611 | ⋯ | -0.8745736 | -1.151234765 |  0.2889639 |        NA | -0.2435691 |  1.0326661 |  0.2499441 |  1.4324329 | -0.9850502 | -0.2923139 |\n",
       "| 2 |  0.20567458 |         NA |  0.5234356 | -0.06681863 |  2.9357468 | -0.14689327 |          NA |  1.2828014 | -0.78666949 |  0.96433806 | ⋯ |  0.4605616 | -0.008818703 |  1.3654234 | -1.384977 | -1.0091525 |  0.6655693 |  0.9600813 |  1.0936245 | -1.5353914 | -2.5862771 |\n",
       "| 3 | -0.86954374 |         NA |  0.1132976 |  1.05087951 |  0.7769999 | -0.03579198 | -0.68398413 | -0.2262385 | -1.46323503 |  0.05106906 | ⋯ | -0.0487658 |  0.333149507 | -0.7754946 |  1.018090 |  0.5284711 |  0.6859273 | -1.2238123 |  0.7141551 |  0.2284384 | -0.5491362 |\n",
       "| 4 | -1.65788538 |         NA | -0.1146208 | -0.71484866 |  0.5039832 |  0.75804647 | -0.00940278 | -0.9191003 |  2.07469597 | -0.05458034 | ⋯ | -0.6965162 | -0.114108455 |  0.6695714 |  0.850243 |  0.3636056 | -0.8076736 |  1.1414521 | -1.1657903 | -1.0595186 | -1.5321084 |\n",
       "| 5 |  0.05502393 |  0.1489877 | -0.8084151 | -1.40865371 | -1.2071682 | -0.47905574 | -0.08497919 | -0.1895307 | -0.24156682 |  0.35065189 | ⋯ |         NA |           NA | -1.1418326 | -2.452548 | -1.0304027 |         NA | -0.6086965 | -1.0680180 |         NA | -0.9112407 |\n",
       "| 6 |  0.06575278 | -0.3651820 |  1.2426891 |  1.00814503 |  1.0614360 | -0.75605215 |  2.06888650 |  1.2622908 |  0.01965866 | -0.11498146 | ⋯ |  0.0977059 | -0.223193907 | -0.2660813 |  1.070979 |  0.2499783 | -0.6224023 |  1.7586352 |  1.0902504 |  0.6307422 | -0.2407793 |\n",
       "\n"
      ],
      "text/plain": [
       "  hydroxybutyrate oxoisocaproate X3.hydoxybutyrate alanine     betaine   \n",
       "1  0.11058681             NA     -0.1436373         0.02502320  1.9288487\n",
       "2  0.20567458             NA      0.5234356        -0.06681863  2.9357468\n",
       "3 -0.86954374             NA      0.1132976         1.05087951  0.7769999\n",
       "4 -1.65788538             NA     -0.1146208        -0.71484866  0.5039832\n",
       "5  0.05502393      0.1489877     -0.8084151        -1.40865371 -1.2071682\n",
       "6  0.06575278     -0.3651820      1.2426891         1.00814503  1.0614360\n",
       "  carnitine   choline     citrate    creatine    creatinine  ⋯ lysine    \n",
       "1 -0.41632118 -0.28201509 -0.9004226  1.21811975  0.70514611 ⋯ -0.8745736\n",
       "2 -0.14689327          NA  1.2828014 -0.78666949  0.96433806 ⋯  0.4605616\n",
       "3 -0.03579198 -0.68398413 -0.2262385 -1.46323503  0.05106906 ⋯ -0.0487658\n",
       "4  0.75804647 -0.00940278 -0.9191003  2.07469597 -0.05458034 ⋯ -0.6965162\n",
       "5 -0.47905574 -0.08497919 -0.1895307 -0.24156682  0.35065189 ⋯         NA\n",
       "6 -0.75605215  2.06888650  1.2622908  0.01965866 -0.11498146 ⋯  0.0977059\n",
       "  methionine   oacetylcarnitine ornithine phenylalanine proline   \n",
       "1 -1.151234765  0.2889639              NA -0.2435691     1.0326661\n",
       "2 -0.008818703  1.3654234       -1.384977 -1.0091525     0.6655693\n",
       "3  0.333149507 -0.7754946        1.018090  0.5284711     0.6859273\n",
       "4 -0.114108455  0.6695714        0.850243  0.3636056    -0.8076736\n",
       "5           NA -1.1418326       -2.452548 -1.0304027            NA\n",
       "6 -0.223193907 -0.2660813        1.070979  0.2499783    -0.6224023\n",
       "  propyleneglycol pyruvate   tyrosine   valine    \n",
       "1  0.2499441       1.4324329 -0.9850502 -0.2923139\n",
       "2  0.9600813       1.0936245 -1.5353914 -2.5862771\n",
       "3 -1.2238123       0.7141551  0.2284384 -0.5491362\n",
       "4  1.1414521      -1.1657903 -1.0595186 -1.5321084\n",
       "5 -0.6086965      -1.0680180         NA -0.9112407\n",
       "6  1.7586352       1.0902504  0.6307422 -0.2407793"
      ]
     },
     "metadata": {},
     "output_type": "display_data"
    }
   ],
   "source": [
    "colnames(df_nmr_raw_res)\n",
    "length(colnames(df_nmr_raw_res))\n",
    "metabolites = colnames(df_nmr_raw_res)[1:27]\n",
    "df_censored = data.frame( scale( log( df_nmr_raw_res[,metabolites]) ) )\n",
    "df_censored %>% head()\n",
    "metabolites_df = colnames(df_censored)[1:27]\n",
    "df_censored_with_y = df_censored\n",
    "df_censored_with_y$died_90_day = df_nmr_raw_res$died_90_day"
   ]
  },
  {
   "cell_type": "code",
   "execution_count": 9,
   "metadata": {},
   "outputs": [
    {
     "data": {
      "text/html": [
       "<style>\n",
       ".list-inline {list-style: none; margin:0; padding: 0}\n",
       ".list-inline>li {display: inline-block}\n",
       ".list-inline>li:not(:last-child)::after {content: \"\\00b7\"; padding: 0 .5ex}\n",
       "</style>\n",
       "<ol class=list-inline><li>228</li><li>28</li></ol>\n"
      ],
      "text/latex": [
       "\\begin{enumerate*}\n",
       "\\item 228\n",
       "\\item 28\n",
       "\\end{enumerate*}\n"
      ],
      "text/markdown": [
       "1. 228\n",
       "2. 28\n",
       "\n",
       "\n"
      ],
      "text/plain": [
       "[1] 228  28"
      ]
     },
     "metadata": {},
     "output_type": "display_data"
    }
   ],
   "source": [
    "df_censored_with_y %>% dim"
   ]
  },
  {
   "cell_type": "code",
   "execution_count": 217,
   "metadata": {},
   "outputs": [
    {
     "data": {
      "text/html": [
       "'data.frame'"
      ],
      "text/latex": [
       "'data.frame'"
      ],
      "text/markdown": [
       "'data.frame'"
      ],
      "text/plain": [
       "[1] \"data.frame\""
      ]
     },
     "metadata": {},
     "output_type": "display_data"
    }
   ],
   "source": [
    "class(df_censored_with_y)"
   ]
  },
  {
   "cell_type": "code",
   "execution_count": 222,
   "metadata": {},
   "outputs": [
    {
     "name": "stdout",
     "output_type": "stream",
     "text": [
      "[1] \"CONTROL\"\n",
      "$adapt_delta\n",
      "[1] 0.8\n",
      "\n",
      "$max_treedepth\n",
      "[1] 10\n",
      "\n",
      "[1] \"IMPUTING\"\n",
      "[1] 266\n"
     ]
    }
   ],
   "source": [
    "bayes_res = run_bayes_model(df_censored = df_censored_with_y, metabolites = metabolites_df)"
   ]
  },
  {
   "cell_type": "code",
   "execution_count": 223,
   "metadata": {},
   "outputs": [
    {
     "data": {
      "text/html": [
       "<style>\n",
       ".list-inline {list-style: none; margin:0; padding: 0}\n",
       ".list-inline>li {display: inline-block}\n",
       ".list-inline>li:not(:last-child)::after {content: \"\\00b7\"; padding: 0 .5ex}\n",
       "</style>\n",
       "<ol class=list-inline><li>'N'</li><li>'N_miss'</li><li>'N_var'</li><li>'x_raw'</li><li>'x_naive_impute'</li><li>'N_use_impute'</li><li>'x_use_impute'</li><li>'x_missing'</li><li>'x_missing_init'</li><li>'x_missing_init_raw'</li><li>'x_is_missing'</li><li>'threshold'</li><li>'y'</li></ol>\n"
      ],
      "text/latex": [
       "\\begin{enumerate*}\n",
       "\\item 'N'\n",
       "\\item 'N\\_miss'\n",
       "\\item 'N\\_var'\n",
       "\\item 'x\\_raw'\n",
       "\\item 'x\\_naive\\_impute'\n",
       "\\item 'N\\_use\\_impute'\n",
       "\\item 'x\\_use\\_impute'\n",
       "\\item 'x\\_missing'\n",
       "\\item 'x\\_missing\\_init'\n",
       "\\item 'x\\_missing\\_init\\_raw'\n",
       "\\item 'x\\_is\\_missing'\n",
       "\\item 'threshold'\n",
       "\\item 'y'\n",
       "\\end{enumerate*}\n"
      ],
      "text/markdown": [
       "1. 'N'\n",
       "2. 'N_miss'\n",
       "3. 'N_var'\n",
       "4. 'x_raw'\n",
       "5. 'x_naive_impute'\n",
       "6. 'N_use_impute'\n",
       "7. 'x_use_impute'\n",
       "8. 'x_missing'\n",
       "9. 'x_missing_init'\n",
       "10. 'x_missing_init_raw'\n",
       "11. 'x_is_missing'\n",
       "12. 'threshold'\n",
       "13. 'y'\n",
       "\n",
       "\n"
      ],
      "text/plain": [
       " [1] \"N\"                  \"N_miss\"             \"N_var\"             \n",
       " [4] \"x_raw\"              \"x_naive_impute\"     \"N_use_impute\"      \n",
       " [7] \"x_use_impute\"       \"x_missing\"          \"x_missing_init\"    \n",
       "[10] \"x_missing_init_raw\" \"x_is_missing\"       \"threshold\"         \n",
       "[13] \"y\"                 "
      ]
     },
     "metadata": {},
     "output_type": "display_data"
    }
   ],
   "source": [
    "stage_1_impute_data = stage_1_impute_make_data(x_censored = df_censored, y = df_censored_with_y$died_90_day )\n",
    "names(stage_1_impute_data)\n"
   ]
  },
  {
   "cell_type": "code",
   "execution_count": 224,
   "metadata": {},
   "outputs": [
    {
     "data": {
      "text/html": [
       "<style>\n",
       ".list-inline {list-style: none; margin:0; padding: 0}\n",
       ".list-inline>li {display: inline-block}\n",
       ".list-inline>li:not(:last-child)::after {content: \"\\00b7\"; padding: 0 .5ex}\n",
       "</style>\n",
       "<ol class=list-inline><li>'sum_table'</li><li>'stage_1_fit'</li><li>'stage_2_fit'</li></ol>\n"
      ],
      "text/latex": [
       "\\begin{enumerate*}\n",
       "\\item 'sum\\_table'\n",
       "\\item 'stage\\_1\\_fit'\n",
       "\\item 'stage\\_2\\_fit'\n",
       "\\end{enumerate*}\n"
      ],
      "text/markdown": [
       "1. 'sum_table'\n",
       "2. 'stage_1_fit'\n",
       "3. 'stage_2_fit'\n",
       "\n",
       "\n"
      ],
      "text/plain": [
       "[1] \"sum_table\"   \"stage_1_fit\" \"stage_2_fit\""
      ]
     },
     "metadata": {},
     "output_type": "display_data"
    },
    {
     "data": {
      "text/plain": [
       "NULL"
      ]
     },
     "metadata": {},
     "output_type": "display_data"
    }
   ],
   "source": [
    "names(bayes_res)\n",
    "dim(metabolites_df)"
   ]
  },
  {
   "cell_type": "code",
   "execution_count": 225,
   "metadata": {},
   "outputs": [],
   "source": [
    "bayes_res_table = make_summary_table_beta( bayes_res$stage_2_fit, metabolites = metabolites_df )"
   ]
  },
  {
   "cell_type": "code",
   "execution_count": 226,
   "metadata": {},
   "outputs": [
    {
     "data": {
      "text/html": [
       "<table>\n",
       "<caption>A data.frame: 27 × 11</caption>\n",
       "<thead>\n",
       "\t<tr><th scope=col>Metabolite</th><th scope=col>Param</th><th scope=col>mean</th><th scope=col>sd</th><th scope=col>X2.5.</th><th scope=col>X50.</th><th scope=col>X97.5.</th><th scope=col>Rhat</th><th scope=col>Z</th><th scope=col>P_GT_LT_0</th><th scope=col>SIG_BAYES</th></tr>\n",
       "\t<tr><th scope=col>&lt;fct&gt;</th><th scope=col>&lt;chr&gt;</th><th scope=col>&lt;dbl&gt;</th><th scope=col>&lt;dbl&gt;</th><th scope=col>&lt;dbl&gt;</th><th scope=col>&lt;dbl&gt;</th><th scope=col>&lt;dbl&gt;</th><th scope=col>&lt;dbl&gt;</th><th scope=col>&lt;dbl&gt;</th><th scope=col>&lt;dbl&gt;</th><th scope=col>&lt;lgl&gt;</th></tr>\n",
       "</thead>\n",
       "<tbody>\n",
       "\t<tr><td>oacetylcarnitine </td><td>beta_x[20]</td><td> 0.67174323</td><td>0.14695164</td><td> 0.39270075</td><td> 0.66732290</td><td>0.9642254</td><td>0.9991854</td><td> 4.5711856</td><td>1.00000</td><td> TRUE</td></tr>\n",
       "\t<tr><td>tyrosine         </td><td>beta_x[26]</td><td> 0.58412755</td><td>0.13850634</td><td> 0.31863773</td><td> 0.58123300</td><td>0.8667370</td><td>0.9995169</td><td> 4.2173345</td><td>1.00000</td><td> TRUE</td></tr>\n",
       "\t<tr><td>betaine          </td><td>beta_x[5] </td><td> 0.59824230</td><td>0.14624369</td><td> 0.32398497</td><td> 0.59442026</td><td>0.9011620</td><td>0.9996255</td><td> 4.0907222</td><td>1.00000</td><td> TRUE</td></tr>\n",
       "\t<tr><td>propyleneglycol  </td><td>beta_x[24]</td><td> 0.58284571</td><td>0.14300090</td><td> 0.31398788</td><td> 0.57838903</td><td>0.8780225</td><td>0.9992295</td><td> 4.0758186</td><td>1.00000</td><td> TRUE</td></tr>\n",
       "\t<tr><td>glycine          </td><td>beta_x[13]</td><td> 0.51431593</td><td>0.13818825</td><td> 0.23895358</td><td> 0.51184529</td><td>0.7909574</td><td>0.9993084</td><td> 3.7218500</td><td>1.00000</td><td> TRUE</td></tr>\n",
       "\t<tr><td>lysine           </td><td>beta_x[18]</td><td> 0.50407435</td><td>0.13546539</td><td> 0.24569364</td><td> 0.50337879</td><td>0.7759191</td><td>0.9991043</td><td> 3.7210563</td><td>1.00000</td><td> TRUE</td></tr>\n",
       "\t<tr><td>proline          </td><td>beta_x[23]</td><td> 0.42845309</td><td>0.11592503</td><td> 0.20500158</td><td> 0.42665877</td><td>0.6565775</td><td>0.9992545</td><td> 3.6959497</td><td>1.00000</td><td> TRUE</td></tr>\n",
       "\t<tr><td>methionine       </td><td>beta_x[19]</td><td> 0.37909728</td><td>0.10931005</td><td> 0.16909844</td><td> 0.37680169</td><td>0.6003337</td><td>1.0004020</td><td> 3.4680916</td><td>1.00000</td><td> TRUE</td></tr>\n",
       "\t<tr><td>lactate          </td><td>beta_x[16]</td><td> 0.45690948</td><td>0.13564733</td><td> 0.20462653</td><td> 0.45359975</td><td>0.7365056</td><td>0.9994492</td><td> 3.3683633</td><td>1.00000</td><td> TRUE</td></tr>\n",
       "\t<tr><td>glutamine        </td><td>beta_x[12]</td><td> 0.49710442</td><td>0.14330625</td><td> 0.22698540</td><td> 0.49464116</td><td>0.7765311</td><td>0.9992899</td><td> 3.4688258</td><td>0.99975</td><td> TRUE</td></tr>\n",
       "\t<tr><td>alanine          </td><td>beta_x[4] </td><td> 0.41998309</td><td>0.13878475</td><td> 0.15116354</td><td> 0.41823014</td><td>0.6939042</td><td>0.9991524</td><td> 3.0261472</td><td>0.99750</td><td> TRUE</td></tr>\n",
       "\t<tr><td>creatinine       </td><td>beta_x[10]</td><td> 0.38799549</td><td>0.13733985</td><td> 0.12209064</td><td> 0.38484566</td><td>0.6607941</td><td>0.9992407</td><td> 2.8250758</td><td>0.99750</td><td> TRUE</td></tr>\n",
       "\t<tr><td>citrate          </td><td>beta_x[8] </td><td> 0.30538850</td><td>0.12084861</td><td> 0.07917825</td><td> 0.30237057</td><td>0.5458485</td><td>0.9994035</td><td> 2.5270336</td><td>0.99700</td><td> TRUE</td></tr>\n",
       "\t<tr><td>carnitine        </td><td>beta_x[6] </td><td> 0.25467741</td><td>0.10192938</td><td> 0.05587174</td><td> 0.25417078</td><td>0.4628496</td><td>0.9994535</td><td> 2.4985672</td><td>0.99625</td><td> TRUE</td></tr>\n",
       "\t<tr><td>histidine        </td><td>beta_x[14]</td><td> 0.31496111</td><td>0.12308860</td><td> 0.07962425</td><td> 0.31254672</td><td>0.5639500</td><td>0.9996421</td><td> 2.5588162</td><td>0.99525</td><td> TRUE</td></tr>\n",
       "\t<tr><td>phenylalanine    </td><td>beta_x[22]</td><td> 0.32099481</td><td>0.13511243</td><td> 0.06244159</td><td> 0.31891257</td><td>0.5858226</td><td>0.9996078</td><td> 2.3757608</td><td>0.99275</td><td> TRUE</td></tr>\n",
       "\t<tr><td>ornithine        </td><td>beta_x[21]</td><td> 0.22797071</td><td>0.09372603</td><td> 0.04603642</td><td> 0.22698474</td><td>0.4132968</td><td>0.9990952</td><td> 2.4323094</td><td>0.99125</td><td> TRUE</td></tr>\n",
       "\t<tr><td>choline          </td><td>beta_x[7] </td><td> 0.19718674</td><td>0.10715965</td><td>-0.01204009</td><td> 0.19646137</td><td>0.4083897</td><td>0.9994808</td><td> 1.8401211</td><td>0.96725</td><td>FALSE</td></tr>\n",
       "\t<tr><td>creatine         </td><td>beta_x[9] </td><td> 0.22863267</td><td>0.12600820</td><td>-0.01343591</td><td> 0.22608692</td><td>0.4802412</td><td>0.9993541</td><td> 1.8144269</td><td>0.96475</td><td>FALSE</td></tr>\n",
       "\t<tr><td>pyruvate         </td><td>beta_x[25]</td><td> 0.22023787</td><td>0.12933028</td><td>-0.03062823</td><td> 0.21932200</td><td>0.4781180</td><td>0.9993132</td><td> 1.7029103</td><td>0.95825</td><td>FALSE</td></tr>\n",
       "\t<tr><td>leucine          </td><td>beta_x[17]</td><td> 0.17281286</td><td>0.12520035</td><td>-0.06553113</td><td> 0.17132981</td><td>0.4250870</td><td>0.9992239</td><td> 1.3802906</td><td>0.91750</td><td>FALSE</td></tr>\n",
       "\t<tr><td>hydroxybutyrate  </td><td>beta_x[1] </td><td> 0.15554236</td><td>0.12644379</td><td>-0.08983508</td><td> 0.15343564</td><td>0.4064064</td><td>0.9992318</td><td> 1.2301304</td><td>0.89175</td><td>FALSE</td></tr>\n",
       "\t<tr><td>valine           </td><td>beta_x[27]</td><td> 0.14487605</td><td>0.12595320</td><td>-0.10100679</td><td> 0.14390431</td><td>0.3962859</td><td>0.9996225</td><td> 1.1502372</td><td>0.87525</td><td>FALSE</td></tr>\n",
       "\t<tr><td>isoleucine       </td><td>beta_x[15]</td><td> 0.08310452</td><td>0.10440298</td><td>-0.12001261</td><td> 0.08269595</td><td>0.2908459</td><td>0.9992967</td><td> 0.7959976</td><td>0.78550</td><td>FALSE</td></tr>\n",
       "\t<tr><td>X3.hydoxybutyrate</td><td>beta_x[3] </td><td> 0.07410832</td><td>0.12251058</td><td>-0.16712365</td><td> 0.07372377</td><td>0.3124242</td><td>0.9996008</td><td> 0.6049137</td><td>0.72650</td><td>FALSE</td></tr>\n",
       "\t<tr><td>oxoisocaproate   </td><td>beta_x[2] </td><td>-0.04681683</td><td>0.10154554</td><td>-0.24850070</td><td>-0.04767954</td><td>0.1532202</td><td>1.0002158</td><td>-0.4610426</td><td>0.67550</td><td>FALSE</td></tr>\n",
       "\t<tr><td>glucose          </td><td>beta_x[11]</td><td> 0.03959622</td><td>0.13070133</td><td>-0.21718219</td><td> 0.03992344</td><td>0.2988107</td><td>0.9995268</td><td> 0.3029520</td><td>0.62125</td><td>FALSE</td></tr>\n",
       "</tbody>\n",
       "</table>\n"
      ],
      "text/latex": [
       "A data.frame: 27 × 11\n",
       "\\begin{tabular}{lllllllllll}\n",
       " Metabolite & Param & mean & sd & X2.5. & X50. & X97.5. & Rhat & Z & P\\_GT\\_LT\\_0 & SIG\\_BAYES\\\\\n",
       " <fct> & <chr> & <dbl> & <dbl> & <dbl> & <dbl> & <dbl> & <dbl> & <dbl> & <dbl> & <lgl>\\\\\n",
       "\\hline\n",
       "\t oacetylcarnitine  & beta\\_x{[}20{]} &  0.67174323 & 0.14695164 &  0.39270075 &  0.66732290 & 0.9642254 & 0.9991854 &  4.5711856 & 1.00000 &  TRUE\\\\\n",
       "\t tyrosine          & beta\\_x{[}26{]} &  0.58412755 & 0.13850634 &  0.31863773 &  0.58123300 & 0.8667370 & 0.9995169 &  4.2173345 & 1.00000 &  TRUE\\\\\n",
       "\t betaine           & beta\\_x{[}5{]}  &  0.59824230 & 0.14624369 &  0.32398497 &  0.59442026 & 0.9011620 & 0.9996255 &  4.0907222 & 1.00000 &  TRUE\\\\\n",
       "\t propyleneglycol   & beta\\_x{[}24{]} &  0.58284571 & 0.14300090 &  0.31398788 &  0.57838903 & 0.8780225 & 0.9992295 &  4.0758186 & 1.00000 &  TRUE\\\\\n",
       "\t glycine           & beta\\_x{[}13{]} &  0.51431593 & 0.13818825 &  0.23895358 &  0.51184529 & 0.7909574 & 0.9993084 &  3.7218500 & 1.00000 &  TRUE\\\\\n",
       "\t lysine            & beta\\_x{[}18{]} &  0.50407435 & 0.13546539 &  0.24569364 &  0.50337879 & 0.7759191 & 0.9991043 &  3.7210563 & 1.00000 &  TRUE\\\\\n",
       "\t proline           & beta\\_x{[}23{]} &  0.42845309 & 0.11592503 &  0.20500158 &  0.42665877 & 0.6565775 & 0.9992545 &  3.6959497 & 1.00000 &  TRUE\\\\\n",
       "\t methionine        & beta\\_x{[}19{]} &  0.37909728 & 0.10931005 &  0.16909844 &  0.37680169 & 0.6003337 & 1.0004020 &  3.4680916 & 1.00000 &  TRUE\\\\\n",
       "\t lactate           & beta\\_x{[}16{]} &  0.45690948 & 0.13564733 &  0.20462653 &  0.45359975 & 0.7365056 & 0.9994492 &  3.3683633 & 1.00000 &  TRUE\\\\\n",
       "\t glutamine         & beta\\_x{[}12{]} &  0.49710442 & 0.14330625 &  0.22698540 &  0.49464116 & 0.7765311 & 0.9992899 &  3.4688258 & 0.99975 &  TRUE\\\\\n",
       "\t alanine           & beta\\_x{[}4{]}  &  0.41998309 & 0.13878475 &  0.15116354 &  0.41823014 & 0.6939042 & 0.9991524 &  3.0261472 & 0.99750 &  TRUE\\\\\n",
       "\t creatinine        & beta\\_x{[}10{]} &  0.38799549 & 0.13733985 &  0.12209064 &  0.38484566 & 0.6607941 & 0.9992407 &  2.8250758 & 0.99750 &  TRUE\\\\\n",
       "\t citrate           & beta\\_x{[}8{]}  &  0.30538850 & 0.12084861 &  0.07917825 &  0.30237057 & 0.5458485 & 0.9994035 &  2.5270336 & 0.99700 &  TRUE\\\\\n",
       "\t carnitine         & beta\\_x{[}6{]}  &  0.25467741 & 0.10192938 &  0.05587174 &  0.25417078 & 0.4628496 & 0.9994535 &  2.4985672 & 0.99625 &  TRUE\\\\\n",
       "\t histidine         & beta\\_x{[}14{]} &  0.31496111 & 0.12308860 &  0.07962425 &  0.31254672 & 0.5639500 & 0.9996421 &  2.5588162 & 0.99525 &  TRUE\\\\\n",
       "\t phenylalanine     & beta\\_x{[}22{]} &  0.32099481 & 0.13511243 &  0.06244159 &  0.31891257 & 0.5858226 & 0.9996078 &  2.3757608 & 0.99275 &  TRUE\\\\\n",
       "\t ornithine         & beta\\_x{[}21{]} &  0.22797071 & 0.09372603 &  0.04603642 &  0.22698474 & 0.4132968 & 0.9990952 &  2.4323094 & 0.99125 &  TRUE\\\\\n",
       "\t choline           & beta\\_x{[}7{]}  &  0.19718674 & 0.10715965 & -0.01204009 &  0.19646137 & 0.4083897 & 0.9994808 &  1.8401211 & 0.96725 & FALSE\\\\\n",
       "\t creatine          & beta\\_x{[}9{]}  &  0.22863267 & 0.12600820 & -0.01343591 &  0.22608692 & 0.4802412 & 0.9993541 &  1.8144269 & 0.96475 & FALSE\\\\\n",
       "\t pyruvate          & beta\\_x{[}25{]} &  0.22023787 & 0.12933028 & -0.03062823 &  0.21932200 & 0.4781180 & 0.9993132 &  1.7029103 & 0.95825 & FALSE\\\\\n",
       "\t leucine           & beta\\_x{[}17{]} &  0.17281286 & 0.12520035 & -0.06553113 &  0.17132981 & 0.4250870 & 0.9992239 &  1.3802906 & 0.91750 & FALSE\\\\\n",
       "\t hydroxybutyrate   & beta\\_x{[}1{]}  &  0.15554236 & 0.12644379 & -0.08983508 &  0.15343564 & 0.4064064 & 0.9992318 &  1.2301304 & 0.89175 & FALSE\\\\\n",
       "\t valine            & beta\\_x{[}27{]} &  0.14487605 & 0.12595320 & -0.10100679 &  0.14390431 & 0.3962859 & 0.9996225 &  1.1502372 & 0.87525 & FALSE\\\\\n",
       "\t isoleucine        & beta\\_x{[}15{]} &  0.08310452 & 0.10440298 & -0.12001261 &  0.08269595 & 0.2908459 & 0.9992967 &  0.7959976 & 0.78550 & FALSE\\\\\n",
       "\t X3.hydoxybutyrate & beta\\_x{[}3{]}  &  0.07410832 & 0.12251058 & -0.16712365 &  0.07372377 & 0.3124242 & 0.9996008 &  0.6049137 & 0.72650 & FALSE\\\\\n",
       "\t oxoisocaproate    & beta\\_x{[}2{]}  & -0.04681683 & 0.10154554 & -0.24850070 & -0.04767954 & 0.1532202 & 1.0002158 & -0.4610426 & 0.67550 & FALSE\\\\\n",
       "\t glucose           & beta\\_x{[}11{]} &  0.03959622 & 0.13070133 & -0.21718219 &  0.03992344 & 0.2988107 & 0.9995268 &  0.3029520 & 0.62125 & FALSE\\\\\n",
       "\\end{tabular}\n"
      ],
      "text/markdown": [
       "\n",
       "A data.frame: 27 × 11\n",
       "\n",
       "| Metabolite &lt;fct&gt; | Param &lt;chr&gt; | mean &lt;dbl&gt; | sd &lt;dbl&gt; | X2.5. &lt;dbl&gt; | X50. &lt;dbl&gt; | X97.5. &lt;dbl&gt; | Rhat &lt;dbl&gt; | Z &lt;dbl&gt; | P_GT_LT_0 &lt;dbl&gt; | SIG_BAYES &lt;lgl&gt; |\n",
       "|---|---|---|---|---|---|---|---|---|---|---|\n",
       "| oacetylcarnitine  | beta_x[20] |  0.67174323 | 0.14695164 |  0.39270075 |  0.66732290 | 0.9642254 | 0.9991854 |  4.5711856 | 1.00000 |  TRUE |\n",
       "| tyrosine          | beta_x[26] |  0.58412755 | 0.13850634 |  0.31863773 |  0.58123300 | 0.8667370 | 0.9995169 |  4.2173345 | 1.00000 |  TRUE |\n",
       "| betaine           | beta_x[5]  |  0.59824230 | 0.14624369 |  0.32398497 |  0.59442026 | 0.9011620 | 0.9996255 |  4.0907222 | 1.00000 |  TRUE |\n",
       "| propyleneglycol   | beta_x[24] |  0.58284571 | 0.14300090 |  0.31398788 |  0.57838903 | 0.8780225 | 0.9992295 |  4.0758186 | 1.00000 |  TRUE |\n",
       "| glycine           | beta_x[13] |  0.51431593 | 0.13818825 |  0.23895358 |  0.51184529 | 0.7909574 | 0.9993084 |  3.7218500 | 1.00000 |  TRUE |\n",
       "| lysine            | beta_x[18] |  0.50407435 | 0.13546539 |  0.24569364 |  0.50337879 | 0.7759191 | 0.9991043 |  3.7210563 | 1.00000 |  TRUE |\n",
       "| proline           | beta_x[23] |  0.42845309 | 0.11592503 |  0.20500158 |  0.42665877 | 0.6565775 | 0.9992545 |  3.6959497 | 1.00000 |  TRUE |\n",
       "| methionine        | beta_x[19] |  0.37909728 | 0.10931005 |  0.16909844 |  0.37680169 | 0.6003337 | 1.0004020 |  3.4680916 | 1.00000 |  TRUE |\n",
       "| lactate           | beta_x[16] |  0.45690948 | 0.13564733 |  0.20462653 |  0.45359975 | 0.7365056 | 0.9994492 |  3.3683633 | 1.00000 |  TRUE |\n",
       "| glutamine         | beta_x[12] |  0.49710442 | 0.14330625 |  0.22698540 |  0.49464116 | 0.7765311 | 0.9992899 |  3.4688258 | 0.99975 |  TRUE |\n",
       "| alanine           | beta_x[4]  |  0.41998309 | 0.13878475 |  0.15116354 |  0.41823014 | 0.6939042 | 0.9991524 |  3.0261472 | 0.99750 |  TRUE |\n",
       "| creatinine        | beta_x[10] |  0.38799549 | 0.13733985 |  0.12209064 |  0.38484566 | 0.6607941 | 0.9992407 |  2.8250758 | 0.99750 |  TRUE |\n",
       "| citrate           | beta_x[8]  |  0.30538850 | 0.12084861 |  0.07917825 |  0.30237057 | 0.5458485 | 0.9994035 |  2.5270336 | 0.99700 |  TRUE |\n",
       "| carnitine         | beta_x[6]  |  0.25467741 | 0.10192938 |  0.05587174 |  0.25417078 | 0.4628496 | 0.9994535 |  2.4985672 | 0.99625 |  TRUE |\n",
       "| histidine         | beta_x[14] |  0.31496111 | 0.12308860 |  0.07962425 |  0.31254672 | 0.5639500 | 0.9996421 |  2.5588162 | 0.99525 |  TRUE |\n",
       "| phenylalanine     | beta_x[22] |  0.32099481 | 0.13511243 |  0.06244159 |  0.31891257 | 0.5858226 | 0.9996078 |  2.3757608 | 0.99275 |  TRUE |\n",
       "| ornithine         | beta_x[21] |  0.22797071 | 0.09372603 |  0.04603642 |  0.22698474 | 0.4132968 | 0.9990952 |  2.4323094 | 0.99125 |  TRUE |\n",
       "| choline           | beta_x[7]  |  0.19718674 | 0.10715965 | -0.01204009 |  0.19646137 | 0.4083897 | 0.9994808 |  1.8401211 | 0.96725 | FALSE |\n",
       "| creatine          | beta_x[9]  |  0.22863267 | 0.12600820 | -0.01343591 |  0.22608692 | 0.4802412 | 0.9993541 |  1.8144269 | 0.96475 | FALSE |\n",
       "| pyruvate          | beta_x[25] |  0.22023787 | 0.12933028 | -0.03062823 |  0.21932200 | 0.4781180 | 0.9993132 |  1.7029103 | 0.95825 | FALSE |\n",
       "| leucine           | beta_x[17] |  0.17281286 | 0.12520035 | -0.06553113 |  0.17132981 | 0.4250870 | 0.9992239 |  1.3802906 | 0.91750 | FALSE |\n",
       "| hydroxybutyrate   | beta_x[1]  |  0.15554236 | 0.12644379 | -0.08983508 |  0.15343564 | 0.4064064 | 0.9992318 |  1.2301304 | 0.89175 | FALSE |\n",
       "| valine            | beta_x[27] |  0.14487605 | 0.12595320 | -0.10100679 |  0.14390431 | 0.3962859 | 0.9996225 |  1.1502372 | 0.87525 | FALSE |\n",
       "| isoleucine        | beta_x[15] |  0.08310452 | 0.10440298 | -0.12001261 |  0.08269595 | 0.2908459 | 0.9992967 |  0.7959976 | 0.78550 | FALSE |\n",
       "| X3.hydoxybutyrate | beta_x[3]  |  0.07410832 | 0.12251058 | -0.16712365 |  0.07372377 | 0.3124242 | 0.9996008 |  0.6049137 | 0.72650 | FALSE |\n",
       "| oxoisocaproate    | beta_x[2]  | -0.04681683 | 0.10154554 | -0.24850070 | -0.04767954 | 0.1532202 | 1.0002158 | -0.4610426 | 0.67550 | FALSE |\n",
       "| glucose           | beta_x[11] |  0.03959622 | 0.13070133 | -0.21718219 |  0.03992344 | 0.2988107 | 0.9995268 |  0.3029520 | 0.62125 | FALSE |\n",
       "\n"
      ],
      "text/plain": [
       "   Metabolite        Param      mean        sd         X2.5.       X50.       \n",
       "1  oacetylcarnitine  beta_x[20]  0.67174323 0.14695164  0.39270075  0.66732290\n",
       "2  tyrosine          beta_x[26]  0.58412755 0.13850634  0.31863773  0.58123300\n",
       "3  betaine           beta_x[5]   0.59824230 0.14624369  0.32398497  0.59442026\n",
       "4  propyleneglycol   beta_x[24]  0.58284571 0.14300090  0.31398788  0.57838903\n",
       "5  glycine           beta_x[13]  0.51431593 0.13818825  0.23895358  0.51184529\n",
       "6  lysine            beta_x[18]  0.50407435 0.13546539  0.24569364  0.50337879\n",
       "7  proline           beta_x[23]  0.42845309 0.11592503  0.20500158  0.42665877\n",
       "8  methionine        beta_x[19]  0.37909728 0.10931005  0.16909844  0.37680169\n",
       "9  lactate           beta_x[16]  0.45690948 0.13564733  0.20462653  0.45359975\n",
       "10 glutamine         beta_x[12]  0.49710442 0.14330625  0.22698540  0.49464116\n",
       "11 alanine           beta_x[4]   0.41998309 0.13878475  0.15116354  0.41823014\n",
       "12 creatinine        beta_x[10]  0.38799549 0.13733985  0.12209064  0.38484566\n",
       "13 citrate           beta_x[8]   0.30538850 0.12084861  0.07917825  0.30237057\n",
       "14 carnitine         beta_x[6]   0.25467741 0.10192938  0.05587174  0.25417078\n",
       "15 histidine         beta_x[14]  0.31496111 0.12308860  0.07962425  0.31254672\n",
       "16 phenylalanine     beta_x[22]  0.32099481 0.13511243  0.06244159  0.31891257\n",
       "17 ornithine         beta_x[21]  0.22797071 0.09372603  0.04603642  0.22698474\n",
       "18 choline           beta_x[7]   0.19718674 0.10715965 -0.01204009  0.19646137\n",
       "19 creatine          beta_x[9]   0.22863267 0.12600820 -0.01343591  0.22608692\n",
       "20 pyruvate          beta_x[25]  0.22023787 0.12933028 -0.03062823  0.21932200\n",
       "21 leucine           beta_x[17]  0.17281286 0.12520035 -0.06553113  0.17132981\n",
       "22 hydroxybutyrate   beta_x[1]   0.15554236 0.12644379 -0.08983508  0.15343564\n",
       "23 valine            beta_x[27]  0.14487605 0.12595320 -0.10100679  0.14390431\n",
       "24 isoleucine        beta_x[15]  0.08310452 0.10440298 -0.12001261  0.08269595\n",
       "25 X3.hydoxybutyrate beta_x[3]   0.07410832 0.12251058 -0.16712365  0.07372377\n",
       "26 oxoisocaproate    beta_x[2]  -0.04681683 0.10154554 -0.24850070 -0.04767954\n",
       "27 glucose           beta_x[11]  0.03959622 0.13070133 -0.21718219  0.03992344\n",
       "   X97.5.    Rhat      Z          P_GT_LT_0 SIG_BAYES\n",
       "1  0.9642254 0.9991854  4.5711856 1.00000    TRUE    \n",
       "2  0.8667370 0.9995169  4.2173345 1.00000    TRUE    \n",
       "3  0.9011620 0.9996255  4.0907222 1.00000    TRUE    \n",
       "4  0.8780225 0.9992295  4.0758186 1.00000    TRUE    \n",
       "5  0.7909574 0.9993084  3.7218500 1.00000    TRUE    \n",
       "6  0.7759191 0.9991043  3.7210563 1.00000    TRUE    \n",
       "7  0.6565775 0.9992545  3.6959497 1.00000    TRUE    \n",
       "8  0.6003337 1.0004020  3.4680916 1.00000    TRUE    \n",
       "9  0.7365056 0.9994492  3.3683633 1.00000    TRUE    \n",
       "10 0.7765311 0.9992899  3.4688258 0.99975    TRUE    \n",
       "11 0.6939042 0.9991524  3.0261472 0.99750    TRUE    \n",
       "12 0.6607941 0.9992407  2.8250758 0.99750    TRUE    \n",
       "13 0.5458485 0.9994035  2.5270336 0.99700    TRUE    \n",
       "14 0.4628496 0.9994535  2.4985672 0.99625    TRUE    \n",
       "15 0.5639500 0.9996421  2.5588162 0.99525    TRUE    \n",
       "16 0.5858226 0.9996078  2.3757608 0.99275    TRUE    \n",
       "17 0.4132968 0.9990952  2.4323094 0.99125    TRUE    \n",
       "18 0.4083897 0.9994808  1.8401211 0.96725   FALSE    \n",
       "19 0.4802412 0.9993541  1.8144269 0.96475   FALSE    \n",
       "20 0.4781180 0.9993132  1.7029103 0.95825   FALSE    \n",
       "21 0.4250870 0.9992239  1.3802906 0.91750   FALSE    \n",
       "22 0.4064064 0.9992318  1.2301304 0.89175   FALSE    \n",
       "23 0.3962859 0.9996225  1.1502372 0.87525   FALSE    \n",
       "24 0.2908459 0.9992967  0.7959976 0.78550   FALSE    \n",
       "25 0.3124242 0.9996008  0.6049137 0.72650   FALSE    \n",
       "26 0.1532202 1.0002158 -0.4610426 0.67550   FALSE    \n",
       "27 0.2988107 0.9995268  0.3029520 0.62125   FALSE    "
      ]
     },
     "metadata": {},
     "output_type": "display_data"
    }
   ],
   "source": [
    "bayes_res_table = bayes_res_table %>% mutate(SIG_BAYES=P_GT_LT_0 >= 0.975)\n",
    "bayes_res_table"
   ]
  },
  {
   "cell_type": "code",
   "execution_count": 227,
   "metadata": {},
   "outputs": [],
   "source": [
    "stage_2_posterior = extract(bayes_res$stage_2_fit)"
   ]
  },
  {
   "cell_type": "code",
   "execution_count": 228,
   "metadata": {},
   "outputs": [
    {
     "data": {
      "text/html": [
       "<style>\n",
       ".list-inline {list-style: none; margin:0; padding: 0}\n",
       ".list-inline>li {display: inline-block}\n",
       ".list-inline>li:not(:last-child)::after {content: \"\\00b7\"; padding: 0 .5ex}\n",
       "</style>\n",
       "<ol class=list-inline><li>'x_impute_raw'</li><li>'beta_x'</li><li>'alpha_x'</li><li>'sigma_beta_x'</li><li>'nu_x'</li><li>'x_impute'</li><li>'lp__'</li></ol>\n"
      ],
      "text/latex": [
       "\\begin{enumerate*}\n",
       "\\item 'x\\_impute\\_raw'\n",
       "\\item 'beta\\_x'\n",
       "\\item 'alpha\\_x'\n",
       "\\item 'sigma\\_beta\\_x'\n",
       "\\item 'nu\\_x'\n",
       "\\item 'x\\_impute'\n",
       "\\item 'lp\\_\\_'\n",
       "\\end{enumerate*}\n"
      ],
      "text/markdown": [
       "1. 'x_impute_raw'\n",
       "2. 'beta_x'\n",
       "3. 'alpha_x'\n",
       "4. 'sigma_beta_x'\n",
       "5. 'nu_x'\n",
       "6. 'x_impute'\n",
       "7. 'lp__'\n",
       "\n",
       "\n"
      ],
      "text/plain": [
       "[1] \"x_impute_raw\" \"beta_x\"       \"alpha_x\"      \"sigma_beta_x\" \"nu_x\"        \n",
       "[6] \"x_impute\"     \"lp__\"        "
      ]
     },
     "metadata": {},
     "output_type": "display_data"
    }
   ],
   "source": [
    "names( stage_2_posterior )"
   ]
  },
  {
   "cell_type": "code",
   "execution_count": 229,
   "metadata": {},
   "outputs": [
    {
     "data": {
      "text/html": [
       "0.398396233476151"
      ],
      "text/latex": [
       "0.398396233476151"
      ],
      "text/markdown": [
       "0.398396233476151"
      ],
      "text/plain": [
       "[1] 0.3983962"
      ]
     },
     "metadata": {},
     "output_type": "display_data"
    },
    {
     "data": {
      "text/html": [
       "23.659311947273"
      ],
      "text/latex": [
       "23.659311947273"
      ],
      "text/markdown": [
       "23.659311947273"
      ],
      "text/plain": [
       "[1] 23.65931"
      ]
     },
     "metadata": {},
     "output_type": "display_data"
    }
   ],
   "source": [
    "mean( stage_2_posterior$sigma_beta_x )\n",
    "mean( stage_2_posterior$nu_x )"
   ]
  },
  {
   "cell_type": "code",
   "execution_count": null,
   "metadata": {},
   "outputs": [],
   "source": []
  },
  {
   "cell_type": "code",
   "execution_count": null,
   "metadata": {},
   "outputs": [],
   "source": []
  },
  {
   "cell_type": "code",
   "execution_count": 230,
   "metadata": {},
   "outputs": [
    {
     "data": {
      "text/html": [
       "<style>\n",
       ".list-inline {list-style: none; margin:0; padding: 0}\n",
       ".list-inline>li {display: inline-block}\n",
       ".list-inline>li:not(:last-child)::after {content: \"\\00b7\"; padding: 0 .5ex}\n",
       "</style>\n",
       "<ol class=list-inline><li>1</li><li>1</li><li>0</li><li>0</li><li>0</li><li>1</li><li>0</li><li>0</li><li>1</li><li>1</li><li>0</li><li>1</li><li>1</li><li>1</li><li>1</li><li>1</li><li>0</li><li>1</li><li>0</li><li>0</li><li>1</li><li>0</li><li>0</li><li>1</li><li>0</li><li>0</li><li>0</li><li>1</li><li>1</li><li>0</li><li>0</li><li>0</li><li>1</li><li>0</li><li>1</li><li>1</li><li>0</li><li>0</li><li>0</li><li>0</li><li>0</li><li>1</li><li>0</li><li>0</li><li>0</li><li>0</li><li>1</li><li>0</li><li>1</li><li>1</li><li>1</li><li>1</li><li>0</li><li>1</li><li>0</li><li>1</li><li>1</li><li>1</li><li>1</li><li>0</li><li>1</li><li>0</li><li>0</li><li>0</li><li>0</li><li>0</li><li>1</li><li>0</li><li>1</li><li>1</li><li>1</li><li>0</li><li>0</li><li>0</li><li>0</li><li>1</li><li>0</li><li>1</li><li>1</li><li>0</li><li>0</li><li>0</li><li>0</li><li>0</li><li>1</li><li>1</li><li>1</li><li>1</li><li>1</li><li>0</li><li>0</li><li>0</li><li>1</li><li>1</li><li>1</li><li>0</li><li>1</li><li>0</li><li>1</li><li>0</li><li>1</li><li>0</li><li>1</li><li>1</li><li>1</li><li>1</li><li>1</li><li>0</li><li>1</li><li>0</li><li>1</li><li>1</li><li>0</li><li>0</li><li>0</li><li>0</li><li>0</li><li>1</li><li>1</li><li>1</li><li>0</li><li>1</li><li>1</li><li>0</li><li>0</li><li>0</li><li>0</li><li>1</li><li>1</li><li>1</li><li>0</li><li>1</li><li>0</li><li>1</li><li>1</li><li>1</li><li>0</li><li>1</li><li>0</li><li>1</li><li>0</li><li>1</li><li>0</li><li>1</li><li>1</li><li>0</li><li>1</li><li>1</li><li>0</li><li>0</li><li>1</li><li>1</li><li>0</li><li>1</li><li>0</li><li>1</li><li>1</li><li>1</li><li>1</li><li>1</li><li>1</li><li>1</li><li>1</li><li>1</li><li>0</li><li>1</li><li>0</li><li>0</li><li>1</li><li>0</li><li>0</li><li>1</li><li>0</li><li>1</li><li>1</li><li>1</li><li>0</li><li>1</li><li>0</li><li>0</li><li>0</li><li>1</li><li>1</li><li>1</li><li>0</li><li>1</li><li>0</li><li>1</li><li>0</li><li>1</li><li>0</li><li>0</li><li>0</li><li>1</li><li>0</li><li>1</li><li>0</li><li>0</li><li>1</li><li>1</li><li>1</li><li>1</li><li>1</li><li>0</li><li>1</li><li>0</li><li>1</li><li>1</li><li>1</li><li>1</li><li>1</li><li>1</li><li>1</li><li>1</li><li>0</li><li>0</li><li>0</li><li>1</li><li>0</li><li>0</li><li>0</li><li>0</li><li>1</li><li>0</li><li>1</li><li>1</li><li>1</li><li>1</li></ol>\n"
      ],
      "text/latex": [
       "\\begin{enumerate*}\n",
       "\\item 1\n",
       "\\item 1\n",
       "\\item 0\n",
       "\\item 0\n",
       "\\item 0\n",
       "\\item 1\n",
       "\\item 0\n",
       "\\item 0\n",
       "\\item 1\n",
       "\\item 1\n",
       "\\item 0\n",
       "\\item 1\n",
       "\\item 1\n",
       "\\item 1\n",
       "\\item 1\n",
       "\\item 1\n",
       "\\item 0\n",
       "\\item 1\n",
       "\\item 0\n",
       "\\item 0\n",
       "\\item 1\n",
       "\\item 0\n",
       "\\item 0\n",
       "\\item 1\n",
       "\\item 0\n",
       "\\item 0\n",
       "\\item 0\n",
       "\\item 1\n",
       "\\item 1\n",
       "\\item 0\n",
       "\\item 0\n",
       "\\item 0\n",
       "\\item 1\n",
       "\\item 0\n",
       "\\item 1\n",
       "\\item 1\n",
       "\\item 0\n",
       "\\item 0\n",
       "\\item 0\n",
       "\\item 0\n",
       "\\item 0\n",
       "\\item 1\n",
       "\\item 0\n",
       "\\item 0\n",
       "\\item 0\n",
       "\\item 0\n",
       "\\item 1\n",
       "\\item 0\n",
       "\\item 1\n",
       "\\item 1\n",
       "\\item 1\n",
       "\\item 1\n",
       "\\item 0\n",
       "\\item 1\n",
       "\\item 0\n",
       "\\item 1\n",
       "\\item 1\n",
       "\\item 1\n",
       "\\item 1\n",
       "\\item 0\n",
       "\\item 1\n",
       "\\item 0\n",
       "\\item 0\n",
       "\\item 0\n",
       "\\item 0\n",
       "\\item 0\n",
       "\\item 1\n",
       "\\item 0\n",
       "\\item 1\n",
       "\\item 1\n",
       "\\item 1\n",
       "\\item 0\n",
       "\\item 0\n",
       "\\item 0\n",
       "\\item 0\n",
       "\\item 1\n",
       "\\item 0\n",
       "\\item 1\n",
       "\\item 1\n",
       "\\item 0\n",
       "\\item 0\n",
       "\\item 0\n",
       "\\item 0\n",
       "\\item 0\n",
       "\\item 1\n",
       "\\item 1\n",
       "\\item 1\n",
       "\\item 1\n",
       "\\item 1\n",
       "\\item 0\n",
       "\\item 0\n",
       "\\item 0\n",
       "\\item 1\n",
       "\\item 1\n",
       "\\item 1\n",
       "\\item 0\n",
       "\\item 1\n",
       "\\item 0\n",
       "\\item 1\n",
       "\\item 0\n",
       "\\item 1\n",
       "\\item 0\n",
       "\\item 1\n",
       "\\item 1\n",
       "\\item 1\n",
       "\\item 1\n",
       "\\item 1\n",
       "\\item 0\n",
       "\\item 1\n",
       "\\item 0\n",
       "\\item 1\n",
       "\\item 1\n",
       "\\item 0\n",
       "\\item 0\n",
       "\\item 0\n",
       "\\item 0\n",
       "\\item 0\n",
       "\\item 1\n",
       "\\item 1\n",
       "\\item 1\n",
       "\\item 0\n",
       "\\item 1\n",
       "\\item 1\n",
       "\\item 0\n",
       "\\item 0\n",
       "\\item 0\n",
       "\\item 0\n",
       "\\item 1\n",
       "\\item 1\n",
       "\\item 1\n",
       "\\item 0\n",
       "\\item 1\n",
       "\\item 0\n",
       "\\item 1\n",
       "\\item 1\n",
       "\\item 1\n",
       "\\item 0\n",
       "\\item 1\n",
       "\\item 0\n",
       "\\item 1\n",
       "\\item 0\n",
       "\\item 1\n",
       "\\item 0\n",
       "\\item 1\n",
       "\\item 1\n",
       "\\item 0\n",
       "\\item 1\n",
       "\\item 1\n",
       "\\item 0\n",
       "\\item 0\n",
       "\\item 1\n",
       "\\item 1\n",
       "\\item 0\n",
       "\\item 1\n",
       "\\item 0\n",
       "\\item 1\n",
       "\\item 1\n",
       "\\item 1\n",
       "\\item 1\n",
       "\\item 1\n",
       "\\item 1\n",
       "\\item 1\n",
       "\\item 1\n",
       "\\item 1\n",
       "\\item 0\n",
       "\\item 1\n",
       "\\item 0\n",
       "\\item 0\n",
       "\\item 1\n",
       "\\item 0\n",
       "\\item 0\n",
       "\\item 1\n",
       "\\item 0\n",
       "\\item 1\n",
       "\\item 1\n",
       "\\item 1\n",
       "\\item 0\n",
       "\\item 1\n",
       "\\item 0\n",
       "\\item 0\n",
       "\\item 0\n",
       "\\item 1\n",
       "\\item 1\n",
       "\\item 1\n",
       "\\item 0\n",
       "\\item 1\n",
       "\\item 0\n",
       "\\item 1\n",
       "\\item 0\n",
       "\\item 1\n",
       "\\item 0\n",
       "\\item 0\n",
       "\\item 0\n",
       "\\item 1\n",
       "\\item 0\n",
       "\\item 1\n",
       "\\item 0\n",
       "\\item 0\n",
       "\\item 1\n",
       "\\item 1\n",
       "\\item 1\n",
       "\\item 1\n",
       "\\item 1\n",
       "\\item 0\n",
       "\\item 1\n",
       "\\item 0\n",
       "\\item 1\n",
       "\\item 1\n",
       "\\item 1\n",
       "\\item 1\n",
       "\\item 1\n",
       "\\item 1\n",
       "\\item 1\n",
       "\\item 1\n",
       "\\item 0\n",
       "\\item 0\n",
       "\\item 0\n",
       "\\item 1\n",
       "\\item 0\n",
       "\\item 0\n",
       "\\item 0\n",
       "\\item 0\n",
       "\\item 1\n",
       "\\item 0\n",
       "\\item 1\n",
       "\\item 1\n",
       "\\item 1\n",
       "\\item 1\n",
       "\\end{enumerate*}\n"
      ],
      "text/markdown": [
       "1. 1\n",
       "2. 1\n",
       "3. 0\n",
       "4. 0\n",
       "5. 0\n",
       "6. 1\n",
       "7. 0\n",
       "8. 0\n",
       "9. 1\n",
       "10. 1\n",
       "11. 0\n",
       "12. 1\n",
       "13. 1\n",
       "14. 1\n",
       "15. 1\n",
       "16. 1\n",
       "17. 0\n",
       "18. 1\n",
       "19. 0\n",
       "20. 0\n",
       "21. 1\n",
       "22. 0\n",
       "23. 0\n",
       "24. 1\n",
       "25. 0\n",
       "26. 0\n",
       "27. 0\n",
       "28. 1\n",
       "29. 1\n",
       "30. 0\n",
       "31. 0\n",
       "32. 0\n",
       "33. 1\n",
       "34. 0\n",
       "35. 1\n",
       "36. 1\n",
       "37. 0\n",
       "38. 0\n",
       "39. 0\n",
       "40. 0\n",
       "41. 0\n",
       "42. 1\n",
       "43. 0\n",
       "44. 0\n",
       "45. 0\n",
       "46. 0\n",
       "47. 1\n",
       "48. 0\n",
       "49. 1\n",
       "50. 1\n",
       "51. 1\n",
       "52. 1\n",
       "53. 0\n",
       "54. 1\n",
       "55. 0\n",
       "56. 1\n",
       "57. 1\n",
       "58. 1\n",
       "59. 1\n",
       "60. 0\n",
       "61. 1\n",
       "62. 0\n",
       "63. 0\n",
       "64. 0\n",
       "65. 0\n",
       "66. 0\n",
       "67. 1\n",
       "68. 0\n",
       "69. 1\n",
       "70. 1\n",
       "71. 1\n",
       "72. 0\n",
       "73. 0\n",
       "74. 0\n",
       "75. 0\n",
       "76. 1\n",
       "77. 0\n",
       "78. 1\n",
       "79. 1\n",
       "80. 0\n",
       "81. 0\n",
       "82. 0\n",
       "83. 0\n",
       "84. 0\n",
       "85. 1\n",
       "86. 1\n",
       "87. 1\n",
       "88. 1\n",
       "89. 1\n",
       "90. 0\n",
       "91. 0\n",
       "92. 0\n",
       "93. 1\n",
       "94. 1\n",
       "95. 1\n",
       "96. 0\n",
       "97. 1\n",
       "98. 0\n",
       "99. 1\n",
       "100. 0\n",
       "101. 1\n",
       "102. 0\n",
       "103. 1\n",
       "104. 1\n",
       "105. 1\n",
       "106. 1\n",
       "107. 1\n",
       "108. 0\n",
       "109. 1\n",
       "110. 0\n",
       "111. 1\n",
       "112. 1\n",
       "113. 0\n",
       "114. 0\n",
       "115. 0\n",
       "116. 0\n",
       "117. 0\n",
       "118. 1\n",
       "119. 1\n",
       "120. 1\n",
       "121. 0\n",
       "122. 1\n",
       "123. 1\n",
       "124. 0\n",
       "125. 0\n",
       "126. 0\n",
       "127. 0\n",
       "128. 1\n",
       "129. 1\n",
       "130. 1\n",
       "131. 0\n",
       "132. 1\n",
       "133. 0\n",
       "134. 1\n",
       "135. 1\n",
       "136. 1\n",
       "137. 0\n",
       "138. 1\n",
       "139. 0\n",
       "140. 1\n",
       "141. 0\n",
       "142. 1\n",
       "143. 0\n",
       "144. 1\n",
       "145. 1\n",
       "146. 0\n",
       "147. 1\n",
       "148. 1\n",
       "149. 0\n",
       "150. 0\n",
       "151. 1\n",
       "152. 1\n",
       "153. 0\n",
       "154. 1\n",
       "155. 0\n",
       "156. 1\n",
       "157. 1\n",
       "158. 1\n",
       "159. 1\n",
       "160. 1\n",
       "161. 1\n",
       "162. 1\n",
       "163. 1\n",
       "164. 1\n",
       "165. 0\n",
       "166. 1\n",
       "167. 0\n",
       "168. 0\n",
       "169. 1\n",
       "170. 0\n",
       "171. 0\n",
       "172. 1\n",
       "173. 0\n",
       "174. 1\n",
       "175. 1\n",
       "176. 1\n",
       "177. 0\n",
       "178. 1\n",
       "179. 0\n",
       "180. 0\n",
       "181. 0\n",
       "182. 1\n",
       "183. 1\n",
       "184. 1\n",
       "185. 0\n",
       "186. 1\n",
       "187. 0\n",
       "188. 1\n",
       "189. 0\n",
       "190. 1\n",
       "191. 0\n",
       "192. 0\n",
       "193. 0\n",
       "194. 1\n",
       "195. 0\n",
       "196. 1\n",
       "197. 0\n",
       "198. 0\n",
       "199. 1\n",
       "200. 1\n",
       "201. 1\n",
       "202. 1\n",
       "203. 1\n",
       "204. 0\n",
       "205. 1\n",
       "206. 0\n",
       "207. 1\n",
       "208. 1\n",
       "209. 1\n",
       "210. 1\n",
       "211. 1\n",
       "212. 1\n",
       "213. 1\n",
       "214. 1\n",
       "215. 0\n",
       "216. 0\n",
       "217. 0\n",
       "218. 1\n",
       "219. 0\n",
       "220. 0\n",
       "221. 0\n",
       "222. 0\n",
       "223. 1\n",
       "224. 0\n",
       "225. 1\n",
       "226. 1\n",
       "227. 1\n",
       "228. 1\n",
       "\n",
       "\n"
      ],
      "text/plain": [
       "  [1] 1 1 0 0 0 1 0 0 1 1 0 1 1 1 1 1 0 1 0 0 1 0 0 1 0 0 0 1 1 0 0 0 1 0 1 1 0\n",
       " [38] 0 0 0 0 1 0 0 0 0 1 0 1 1 1 1 0 1 0 1 1 1 1 0 1 0 0 0 0 0 1 0 1 1 1 0 0 0\n",
       " [75] 0 1 0 1 1 0 0 0 0 0 1 1 1 1 1 0 0 0 1 1 1 0 1 0 1 0 1 0 1 1 1 1 1 0 1 0 1\n",
       "[112] 1 0 0 0 0 0 1 1 1 0 1 1 0 0 0 0 1 1 1 0 1 0 1 1 1 0 1 0 1 0 1 0 1 1 0 1 1\n",
       "[149] 0 0 1 1 0 1 0 1 1 1 1 1 1 1 1 1 0 1 0 0 1 0 0 1 0 1 1 1 0 1 0 0 0 1 1 1 0\n",
       "[186] 1 0 1 0 1 0 0 0 1 0 1 0 0 1 1 1 1 1 0 1 0 1 1 1 1 1 1 1 1 0 0 0 1 0 0 0 0\n",
       "[223] 1 0 1 1 1 1"
      ]
     },
     "metadata": {},
     "output_type": "display_data"
    }
   ],
   "source": [
    "df_nmr_raw_res$died_90_day"
   ]
  },
  {
   "cell_type": "code",
   "execution_count": 231,
   "metadata": {},
   "outputs": [],
   "source": [
    "x_naive_impute = data.frame( stage_1_impute_data$x_naive_impute )\n",
    "x_naive_impute_with_y = x_naive_impute\n",
    "x_naive_impute_with_y$died_90_day = df_nmr_raw_res$died_90_day"
   ]
  },
  {
   "cell_type": "code",
   "execution_count": 84,
   "metadata": {},
   "outputs": [],
   "source": [
    "#x_naive_impute_with_y$died_90_day"
   ]
  },
  {
   "cell_type": "code",
   "execution_count": 232,
   "metadata": {},
   "outputs": [
    {
     "data": {
      "text/html": [
       "<style>\n",
       ".list-inline {list-style: none; margin:0; padding: 0}\n",
       ".list-inline>li {display: inline-block}\n",
       ".list-inline>li:not(:last-child)::after {content: \"\\00b7\"; padding: 0 .5ex}\n",
       "</style>\n",
       "<ol class=list-inline><li>'hydroxybutyrate'</li><li>'oxoisocaproate'</li><li>'X3.hydoxybutyrate'</li><li>'alanine'</li><li>'betaine'</li><li>'carnitine'</li><li>'choline'</li><li>'citrate'</li><li>'creatine'</li><li>'creatinine'</li><li>'glucose'</li><li>'glutamine'</li><li>'glycine'</li><li>'histidine'</li><li>'isoleucine'</li><li>'lactate'</li><li>'leucine'</li><li>'lysine'</li><li>'methionine'</li><li>'oacetylcarnitine'</li><li>'ornithine'</li><li>'phenylalanine'</li><li>'proline'</li><li>'propyleneglycol'</li><li>'pyruvate'</li><li>'tyrosine'</li><li>'valine'</li></ol>\n"
      ],
      "text/latex": [
       "\\begin{enumerate*}\n",
       "\\item 'hydroxybutyrate'\n",
       "\\item 'oxoisocaproate'\n",
       "\\item 'X3.hydoxybutyrate'\n",
       "\\item 'alanine'\n",
       "\\item 'betaine'\n",
       "\\item 'carnitine'\n",
       "\\item 'choline'\n",
       "\\item 'citrate'\n",
       "\\item 'creatine'\n",
       "\\item 'creatinine'\n",
       "\\item 'glucose'\n",
       "\\item 'glutamine'\n",
       "\\item 'glycine'\n",
       "\\item 'histidine'\n",
       "\\item 'isoleucine'\n",
       "\\item 'lactate'\n",
       "\\item 'leucine'\n",
       "\\item 'lysine'\n",
       "\\item 'methionine'\n",
       "\\item 'oacetylcarnitine'\n",
       "\\item 'ornithine'\n",
       "\\item 'phenylalanine'\n",
       "\\item 'proline'\n",
       "\\item 'propyleneglycol'\n",
       "\\item 'pyruvate'\n",
       "\\item 'tyrosine'\n",
       "\\item 'valine'\n",
       "\\end{enumerate*}\n"
      ],
      "text/markdown": [
       "1. 'hydroxybutyrate'\n",
       "2. 'oxoisocaproate'\n",
       "3. 'X3.hydoxybutyrate'\n",
       "4. 'alanine'\n",
       "5. 'betaine'\n",
       "6. 'carnitine'\n",
       "7. 'choline'\n",
       "8. 'citrate'\n",
       "9. 'creatine'\n",
       "10. 'creatinine'\n",
       "11. 'glucose'\n",
       "12. 'glutamine'\n",
       "13. 'glycine'\n",
       "14. 'histidine'\n",
       "15. 'isoleucine'\n",
       "16. 'lactate'\n",
       "17. 'leucine'\n",
       "18. 'lysine'\n",
       "19. 'methionine'\n",
       "20. 'oacetylcarnitine'\n",
       "21. 'ornithine'\n",
       "22. 'phenylalanine'\n",
       "23. 'proline'\n",
       "24. 'propyleneglycol'\n",
       "25. 'pyruvate'\n",
       "26. 'tyrosine'\n",
       "27. 'valine'\n",
       "\n",
       "\n"
      ],
      "text/plain": [
       " [1] \"hydroxybutyrate\"   \"oxoisocaproate\"    \"X3.hydoxybutyrate\"\n",
       " [4] \"alanine\"           \"betaine\"           \"carnitine\"        \n",
       " [7] \"choline\"           \"citrate\"           \"creatine\"         \n",
       "[10] \"creatinine\"        \"glucose\"           \"glutamine\"        \n",
       "[13] \"glycine\"           \"histidine\"         \"isoleucine\"       \n",
       "[16] \"lactate\"           \"leucine\"           \"lysine\"           \n",
       "[19] \"methionine\"        \"oacetylcarnitine\"  \"ornithine\"        \n",
       "[22] \"phenylalanine\"     \"proline\"           \"propyleneglycol\"  \n",
       "[25] \"pyruvate\"          \"tyrosine\"          \"valine\"           "
      ]
     },
     "metadata": {},
     "output_type": "display_data"
    }
   ],
   "source": [
    "metabolites_df\n",
    "logistic_res = sapply( metabolites_df, FUN=function(m) { apply_logistic_sim(m,x_naive_impute_with_y) } )"
   ]
  },
  {
   "cell_type": "code",
   "execution_count": 233,
   "metadata": {},
   "outputs": [],
   "source": [
    "format_logistic_res = function(logistic_res, metabolites) {\n",
    "    logistic_res_df = data.frame(t(logistic_res))\n",
    "    logistic_res_df$Metabolite = metabolites\n",
    "    colnames( logistic_res_df ) = c('Estimate','StdErr','Z','P-value','Metabolite')\n",
    "    logistic_res_df = logistic_res_df %>% select(Metabolite,Estimate,StdErr,Z,`P-value`  )\n",
    "    logistic_res_df = logistic_res_df %>% mutate(P.Bon = p.adjust(`P-value`,method = \"bonferroni\"  ),\n",
    "                              P.BH=p.adjust(`P-value`,method = \"BH\") ) %>% arrange(-abs(Z)) %>%\n",
    "                             mutate(SIG_BH = P.BH < 0.05, SIG_BON=P.Bon < 0.05, SIG.RAW= `P-value` < 0.05)\n",
    "    logistic_res_df\n",
    "}"
   ]
  },
  {
   "cell_type": "code",
   "execution_count": 234,
   "metadata": {},
   "outputs": [],
   "source": [
    "logistic_res_df = format_logistic_res(logistic_res,metabolites_df)"
   ]
  },
  {
   "cell_type": "code",
   "execution_count": 281,
   "metadata": {},
   "outputs": [
    {
     "name": "stderr",
     "output_type": "stream",
     "text": [
      "Warning message:\n",
      "“Column `Metabolite` joining factor and character vector, coercing into character vector”\n"
     ]
    },
    {
     "data": {
      "text/html": [
       "<table>\n",
       "<caption>A data.frame: 27 × 20</caption>\n",
       "<thead>\n",
       "\t<tr><th scope=col>Metabolite</th><th scope=col>Param</th><th scope=col>mean</th><th scope=col>sd</th><th scope=col>X2.5.</th><th scope=col>X50.</th><th scope=col>X97.5.</th><th scope=col>Rhat</th><th scope=col>Z.x</th><th scope=col>P_GT_LT_0</th><th scope=col>SIG_BAYES</th><th scope=col>Estimate</th><th scope=col>StdErr</th><th scope=col>Z.y</th><th scope=col>P-value</th><th scope=col>P.Bon</th><th scope=col>P.BH</th><th scope=col>SIG_BH</th><th scope=col>SIG_BON</th><th scope=col>SIG.RAW</th></tr>\n",
       "\t<tr><th scope=col>&lt;chr&gt;</th><th scope=col>&lt;chr&gt;</th><th scope=col>&lt;dbl&gt;</th><th scope=col>&lt;dbl&gt;</th><th scope=col>&lt;dbl&gt;</th><th scope=col>&lt;dbl&gt;</th><th scope=col>&lt;dbl&gt;</th><th scope=col>&lt;dbl&gt;</th><th scope=col>&lt;dbl&gt;</th><th scope=col>&lt;dbl&gt;</th><th scope=col>&lt;lgl&gt;</th><th scope=col>&lt;dbl&gt;</th><th scope=col>&lt;dbl&gt;</th><th scope=col>&lt;dbl&gt;</th><th scope=col>&lt;dbl&gt;</th><th scope=col>&lt;dbl&gt;</th><th scope=col>&lt;dbl&gt;</th><th scope=col>&lt;lgl&gt;</th><th scope=col>&lt;lgl&gt;</th><th scope=col>&lt;lgl&gt;</th></tr>\n",
       "</thead>\n",
       "<tbody>\n",
       "\t<tr><td>oacetylcarnitine </td><td>beta_x[20]</td><td> 0.67174323</td><td>0.14695164</td><td> 0.39270075</td><td> 0.66732290</td><td>0.9642254</td><td>0.9991854</td><td> 4.5711856</td><td>1.00000</td><td> TRUE</td><td> 0.70611229</td><td>0.14991836</td><td> 4.7099788</td><td>2.477425e-06</td><td>6.689048e-05</td><td>6.689048e-05</td><td> TRUE</td><td> TRUE</td><td> TRUE</td></tr>\n",
       "\t<tr><td>tyrosine         </td><td>beta_x[26]</td><td> 0.58412755</td><td>0.13850634</td><td> 0.31863773</td><td> 0.58123300</td><td>0.8667370</td><td>0.9995169</td><td> 4.2173345</td><td>1.00000</td><td> TRUE</td><td> 0.61762039</td><td>0.14248299</td><td> 4.3346955</td><td>1.459620e-05</td><td>3.940974e-04</td><td>1.663743e-04</td><td> TRUE</td><td> TRUE</td><td> TRUE</td></tr>\n",
       "\t<tr><td>betaine          </td><td>beta_x[5] </td><td> 0.59824230</td><td>0.14624369</td><td> 0.32398497</td><td> 0.59442026</td><td>0.9011620</td><td>0.9996255</td><td> 4.0907222</td><td>1.00000</td><td> TRUE</td><td> 0.63372439</td><td>0.15024292</td><td> 4.2179985</td><td>2.464804e-05</td><td>6.654972e-04</td><td>1.663743e-04</td><td> TRUE</td><td> TRUE</td><td> TRUE</td></tr>\n",
       "\t<tr><td>propyleneglycol  </td><td>beta_x[24]</td><td> 0.58284571</td><td>0.14300090</td><td> 0.31398788</td><td> 0.57838903</td><td>0.8780225</td><td>0.9992295</td><td> 4.0758186</td><td>1.00000</td><td> TRUE</td><td> 0.65802466</td><td>0.15588771</td><td> 4.2211452</td><td>2.430643e-05</td><td>6.562735e-04</td><td>1.663743e-04</td><td> TRUE</td><td> TRUE</td><td> TRUE</td></tr>\n",
       "\t<tr><td>glycine          </td><td>beta_x[13]</td><td> 0.51431593</td><td>0.13818825</td><td> 0.23895358</td><td> 0.51184529</td><td>0.7909574</td><td>0.9993084</td><td> 3.7218500</td><td>1.00000</td><td> TRUE</td><td> 0.57548327</td><td>0.14692955</td><td> 3.9167293</td><td>8.975845e-05</td><td>2.423478e-03</td><td>4.846956e-04</td><td> TRUE</td><td> TRUE</td><td> TRUE</td></tr>\n",
       "\t<tr><td>lysine           </td><td>beta_x[18]</td><td> 0.50407435</td><td>0.13546539</td><td> 0.24569364</td><td> 0.50337879</td><td>0.7759191</td><td>0.9991043</td><td> 3.7210563</td><td>1.00000</td><td> TRUE</td><td> 0.54716604</td><td>0.14331052</td><td> 3.8180451</td><td>1.345133e-04</td><td>3.631860e-03</td><td>6.053100e-04</td><td> TRUE</td><td> TRUE</td><td> TRUE</td></tr>\n",
       "\t<tr><td>proline          </td><td>beta_x[23]</td><td> 0.42845309</td><td>0.11592503</td><td> 0.20500158</td><td> 0.42665877</td><td>0.6565775</td><td>0.9992545</td><td> 3.6959497</td><td>1.00000</td><td> TRUE</td><td> 0.39251178</td><td>0.11257236</td><td> 3.4867510</td><td>4.889264e-04</td><td>1.320101e-02</td><td>1.361132e-03</td><td> TRUE</td><td> TRUE</td><td> TRUE</td></tr>\n",
       "\t<tr><td>methionine       </td><td>beta_x[19]</td><td> 0.37909728</td><td>0.10931005</td><td> 0.16909844</td><td> 0.37680169</td><td>0.6003337</td><td>1.0004020</td><td> 3.4680916</td><td>1.00000</td><td> TRUE</td><td> 0.36400073</td><td>0.10464133</td><td> 3.4785561</td><td>5.041229e-04</td><td>1.361132e-02</td><td>1.361132e-03</td><td> TRUE</td><td> TRUE</td><td> TRUE</td></tr>\n",
       "\t<tr><td>lactate          </td><td>beta_x[16]</td><td> 0.45690948</td><td>0.13564733</td><td> 0.20462653</td><td> 0.45359975</td><td>0.7365056</td><td>0.9994492</td><td> 3.3683633</td><td>1.00000</td><td> TRUE</td><td> 0.51227870</td><td>0.14655255</td><td> 3.4955290</td><td>4.731230e-04</td><td>1.277432e-02</td><td>1.361132e-03</td><td> TRUE</td><td> TRUE</td><td> TRUE</td></tr>\n",
       "\t<tr><td>glutamine        </td><td>beta_x[12]</td><td> 0.49710442</td><td>0.14330625</td><td> 0.22698540</td><td> 0.49464116</td><td>0.7765311</td><td>0.9992899</td><td> 3.4688258</td><td>0.99975</td><td> TRUE</td><td> 0.55680869</td><td>0.15078848</td><td> 3.6926473</td><td>2.219317e-04</td><td>5.992156e-03</td><td>8.560223e-04</td><td> TRUE</td><td> TRUE</td><td> TRUE</td></tr>\n",
       "\t<tr><td>alanine          </td><td>beta_x[4] </td><td> 0.41998309</td><td>0.13878475</td><td> 0.15116354</td><td> 0.41823014</td><td>0.6939042</td><td>0.9991524</td><td> 3.0261472</td><td>0.99750</td><td> TRUE</td><td> 0.46872956</td><td>0.14426997</td><td> 3.2489752</td><td>1.158216e-03</td><td>3.127183e-02</td><td>2.842893e-03</td><td> TRUE</td><td> TRUE</td><td> TRUE</td></tr>\n",
       "\t<tr><td>creatinine       </td><td>beta_x[10]</td><td> 0.38799549</td><td>0.13733985</td><td> 0.12209064</td><td> 0.38484566</td><td>0.6607941</td><td>0.9992407</td><td> 2.8250758</td><td>0.99750</td><td> TRUE</td><td> 0.43299760</td><td>0.14262295</td><td> 3.0359602</td><td>2.397710e-03</td><td>6.473817e-02</td><td>5.394848e-03</td><td> TRUE</td><td>FALSE</td><td> TRUE</td></tr>\n",
       "\t<tr><td>citrate          </td><td>beta_x[8] </td><td> 0.30538850</td><td>0.12084861</td><td> 0.07917825</td><td> 0.30237057</td><td>0.5458485</td><td>0.9994035</td><td> 2.5270336</td><td>0.99700</td><td> TRUE</td><td> 0.29140343</td><td>0.11676034</td><td> 2.4957398</td><td>1.256948e-02</td><td>3.393758e-01</td><td>2.121099e-02</td><td> TRUE</td><td>FALSE</td><td> TRUE</td></tr>\n",
       "\t<tr><td>carnitine        </td><td>beta_x[6] </td><td> 0.25467741</td><td>0.10192938</td><td> 0.05587174</td><td> 0.25417078</td><td>0.4628496</td><td>0.9994535</td><td> 2.4985672</td><td>0.99625</td><td> TRUE</td><td> 0.24422305</td><td>0.09599183</td><td> 2.5442068</td><td>1.095262e-02</td><td>2.957208e-01</td><td>2.085942e-02</td><td> TRUE</td><td>FALSE</td><td> TRUE</td></tr>\n",
       "\t<tr><td>histidine        </td><td>beta_x[14]</td><td> 0.31496111</td><td>0.12308860</td><td> 0.07962425</td><td> 0.31254672</td><td>0.5639500</td><td>0.9996421</td><td> 2.5588162</td><td>0.99525</td><td> TRUE</td><td> 0.30259078</td><td>0.11742937</td><td> 2.5767896</td><td>9.972262e-03</td><td>2.692511e-01</td><td>2.071162e-02</td><td> TRUE</td><td>FALSE</td><td> TRUE</td></tr>\n",
       "\t<tr><td>phenylalanine    </td><td>beta_x[22]</td><td> 0.32099481</td><td>0.13511243</td><td> 0.06244159</td><td> 0.31891257</td><td>0.5858226</td><td>0.9996078</td><td> 2.3757608</td><td>0.99275</td><td> TRUE</td><td> 0.35842300</td><td>0.14198168</td><td> 2.5244313</td><td>1.158857e-02</td><td>3.128913e-01</td><td>2.085942e-02</td><td> TRUE</td><td>FALSE</td><td> TRUE</td></tr>\n",
       "\t<tr><td>ornithine        </td><td>beta_x[21]</td><td> 0.22797071</td><td>0.09372603</td><td> 0.04603642</td><td> 0.22698474</td><td>0.4132968</td><td>0.9990952</td><td> 2.4323094</td><td>0.99125</td><td> TRUE</td><td> 0.20355747</td><td>0.08957955</td><td> 2.2723655</td><td>2.306444e-02</td><td>6.227400e-01</td><td>3.663177e-02</td><td> TRUE</td><td>FALSE</td><td> TRUE</td></tr>\n",
       "\t<tr><td>choline          </td><td>beta_x[7] </td><td> 0.19718674</td><td>0.10715965</td><td>-0.01204009</td><td> 0.19646137</td><td>0.4083897</td><td>0.9994808</td><td> 1.8401211</td><td>0.96725</td><td>FALSE</td><td> 0.15788749</td><td>0.10091334</td><td> 1.5645848</td><td>1.176803e-01</td><td>1.000000e+00</td><td>1.588684e-01</td><td>FALSE</td><td>FALSE</td><td>FALSE</td></tr>\n",
       "\t<tr><td>creatine         </td><td>beta_x[9] </td><td> 0.22863267</td><td>0.12600820</td><td>-0.01343591</td><td> 0.22608692</td><td>0.4802412</td><td>0.9993541</td><td> 1.8144269</td><td>0.96475</td><td>FALSE</td><td> 0.25386581</td><td>0.13361834</td><td> 1.8999324</td><td>5.744199e-02</td><td>1.000000e+00</td><td>8.616299e-02</td><td>FALSE</td><td>FALSE</td><td>FALSE</td></tr>\n",
       "\t<tr><td>pyruvate         </td><td>beta_x[25]</td><td> 0.22023787</td><td>0.12933028</td><td>-0.03062823</td><td> 0.21932200</td><td>0.4781180</td><td>0.9993132</td><td> 1.7029103</td><td>0.95825</td><td>FALSE</td><td> 0.24531529</td><td>0.13584414</td><td> 1.8058585</td><td>7.094044e-02</td><td>1.000000e+00</td><td>1.008101e-01</td><td>FALSE</td><td>FALSE</td><td>FALSE</td></tr>\n",
       "\t<tr><td>leucine          </td><td>beta_x[17]</td><td> 0.17281286</td><td>0.12520035</td><td>-0.06553113</td><td> 0.17132981</td><td>0.4250870</td><td>0.9992239</td><td> 1.3802906</td><td>0.91750</td><td>FALSE</td><td> 0.19161160</td><td>0.13526343</td><td> 1.4165810</td><td>1.566055e-01</td><td>1.000000e+00</td><td>2.013499e-01</td><td>FALSE</td><td>FALSE</td><td>FALSE</td></tr>\n",
       "\t<tr><td>hydroxybutyrate  </td><td>beta_x[1] </td><td> 0.15554236</td><td>0.12644379</td><td>-0.08983508</td><td> 0.15343564</td><td>0.4064064</td><td>0.9992318</td><td> 1.2301304</td><td>0.89175</td><td>FALSE</td><td> 0.16046201</td><td>0.13067102</td><td> 1.2279847</td><td>2.194527e-01</td><td>1.000000e+00</td><td>2.693283e-01</td><td>FALSE</td><td>FALSE</td><td>FALSE</td></tr>\n",
       "\t<tr><td>valine           </td><td>beta_x[27]</td><td> 0.14487605</td><td>0.12595320</td><td>-0.10100679</td><td> 0.14390431</td><td>0.3962859</td><td>0.9996225</td><td> 1.1502372</td><td>0.87525</td><td>FALSE</td><td> 0.16011567</td><td>0.13468784</td><td> 1.1887908</td><td>2.345220e-01</td><td>1.000000e+00</td><td>2.753084e-01</td><td>FALSE</td><td>FALSE</td><td>FALSE</td></tr>\n",
       "\t<tr><td>isoleucine       </td><td>beta_x[15]</td><td> 0.08310452</td><td>0.10440298</td><td>-0.12001261</td><td> 0.08269595</td><td>0.2908459</td><td>0.9992967</td><td> 0.7959976</td><td>0.78550</td><td>FALSE</td><td> 0.06280725</td><td>0.09876132</td><td> 0.6359499</td><td>5.248091e-01</td><td>1.000000e+00</td><td>5.760792e-01</td><td>FALSE</td><td>FALSE</td><td>FALSE</td></tr>\n",
       "\t<tr><td>X3.hydoxybutyrate</td><td>beta_x[3] </td><td> 0.07410832</td><td>0.12251058</td><td>-0.16712365</td><td> 0.07372377</td><td>0.3124242</td><td>0.9996008</td><td> 0.6049137</td><td>0.72650</td><td>FALSE</td><td> 0.08022507</td><td>0.12881060</td><td> 0.6228142</td><td>5.334066e-01</td><td>1.000000e+00</td><td>5.760792e-01</td><td>FALSE</td><td>FALSE</td><td>FALSE</td></tr>\n",
       "\t<tr><td>oxoisocaproate   </td><td>beta_x[2] </td><td>-0.04681683</td><td>0.10154554</td><td>-0.24850070</td><td>-0.04767954</td><td>0.1532202</td><td>1.0002158</td><td>-0.4610426</td><td>0.67550</td><td>FALSE</td><td>-0.04711366</td><td>0.09442804</td><td>-0.4989372</td><td>6.178237e-01</td><td>1.000000e+00</td><td>6.415861e-01</td><td>FALSE</td><td>FALSE</td><td>FALSE</td></tr>\n",
       "\t<tr><td>glucose          </td><td>beta_x[11]</td><td> 0.03959622</td><td>0.13070133</td><td>-0.21718219</td><td> 0.03992344</td><td>0.2988107</td><td>0.9995268</td><td> 0.3029520</td><td>0.62125</td><td>FALSE</td><td> 0.04293202</td><td>0.13324467</td><td> 0.3222044</td><td>7.472979e-01</td><td>1.000000e+00</td><td>7.472979e-01</td><td>FALSE</td><td>FALSE</td><td>FALSE</td></tr>\n",
       "</tbody>\n",
       "</table>\n"
      ],
      "text/latex": [
       "A data.frame: 27 × 20\n",
       "\\begin{tabular}{llllllllllllllllllll}\n",
       " Metabolite & Param & mean & sd & X2.5. & X50. & X97.5. & Rhat & Z.x & P\\_GT\\_LT\\_0 & SIG\\_BAYES & Estimate & StdErr & Z.y & P-value & P.Bon & P.BH & SIG\\_BH & SIG\\_BON & SIG.RAW\\\\\n",
       " <chr> & <chr> & <dbl> & <dbl> & <dbl> & <dbl> & <dbl> & <dbl> & <dbl> & <dbl> & <lgl> & <dbl> & <dbl> & <dbl> & <dbl> & <dbl> & <dbl> & <lgl> & <lgl> & <lgl>\\\\\n",
       "\\hline\n",
       "\t oacetylcarnitine  & beta\\_x{[}20{]} &  0.67174323 & 0.14695164 &  0.39270075 &  0.66732290 & 0.9642254 & 0.9991854 &  4.5711856 & 1.00000 &  TRUE &  0.70611229 & 0.14991836 &  4.7099788 & 2.477425e-06 & 6.689048e-05 & 6.689048e-05 &  TRUE &  TRUE &  TRUE\\\\\n",
       "\t tyrosine          & beta\\_x{[}26{]} &  0.58412755 & 0.13850634 &  0.31863773 &  0.58123300 & 0.8667370 & 0.9995169 &  4.2173345 & 1.00000 &  TRUE &  0.61762039 & 0.14248299 &  4.3346955 & 1.459620e-05 & 3.940974e-04 & 1.663743e-04 &  TRUE &  TRUE &  TRUE\\\\\n",
       "\t betaine           & beta\\_x{[}5{]}  &  0.59824230 & 0.14624369 &  0.32398497 &  0.59442026 & 0.9011620 & 0.9996255 &  4.0907222 & 1.00000 &  TRUE &  0.63372439 & 0.15024292 &  4.2179985 & 2.464804e-05 & 6.654972e-04 & 1.663743e-04 &  TRUE &  TRUE &  TRUE\\\\\n",
       "\t propyleneglycol   & beta\\_x{[}24{]} &  0.58284571 & 0.14300090 &  0.31398788 &  0.57838903 & 0.8780225 & 0.9992295 &  4.0758186 & 1.00000 &  TRUE &  0.65802466 & 0.15588771 &  4.2211452 & 2.430643e-05 & 6.562735e-04 & 1.663743e-04 &  TRUE &  TRUE &  TRUE\\\\\n",
       "\t glycine           & beta\\_x{[}13{]} &  0.51431593 & 0.13818825 &  0.23895358 &  0.51184529 & 0.7909574 & 0.9993084 &  3.7218500 & 1.00000 &  TRUE &  0.57548327 & 0.14692955 &  3.9167293 & 8.975845e-05 & 2.423478e-03 & 4.846956e-04 &  TRUE &  TRUE &  TRUE\\\\\n",
       "\t lysine            & beta\\_x{[}18{]} &  0.50407435 & 0.13546539 &  0.24569364 &  0.50337879 & 0.7759191 & 0.9991043 &  3.7210563 & 1.00000 &  TRUE &  0.54716604 & 0.14331052 &  3.8180451 & 1.345133e-04 & 3.631860e-03 & 6.053100e-04 &  TRUE &  TRUE &  TRUE\\\\\n",
       "\t proline           & beta\\_x{[}23{]} &  0.42845309 & 0.11592503 &  0.20500158 &  0.42665877 & 0.6565775 & 0.9992545 &  3.6959497 & 1.00000 &  TRUE &  0.39251178 & 0.11257236 &  3.4867510 & 4.889264e-04 & 1.320101e-02 & 1.361132e-03 &  TRUE &  TRUE &  TRUE\\\\\n",
       "\t methionine        & beta\\_x{[}19{]} &  0.37909728 & 0.10931005 &  0.16909844 &  0.37680169 & 0.6003337 & 1.0004020 &  3.4680916 & 1.00000 &  TRUE &  0.36400073 & 0.10464133 &  3.4785561 & 5.041229e-04 & 1.361132e-02 & 1.361132e-03 &  TRUE &  TRUE &  TRUE\\\\\n",
       "\t lactate           & beta\\_x{[}16{]} &  0.45690948 & 0.13564733 &  0.20462653 &  0.45359975 & 0.7365056 & 0.9994492 &  3.3683633 & 1.00000 &  TRUE &  0.51227870 & 0.14655255 &  3.4955290 & 4.731230e-04 & 1.277432e-02 & 1.361132e-03 &  TRUE &  TRUE &  TRUE\\\\\n",
       "\t glutamine         & beta\\_x{[}12{]} &  0.49710442 & 0.14330625 &  0.22698540 &  0.49464116 & 0.7765311 & 0.9992899 &  3.4688258 & 0.99975 &  TRUE &  0.55680869 & 0.15078848 &  3.6926473 & 2.219317e-04 & 5.992156e-03 & 8.560223e-04 &  TRUE &  TRUE &  TRUE\\\\\n",
       "\t alanine           & beta\\_x{[}4{]}  &  0.41998309 & 0.13878475 &  0.15116354 &  0.41823014 & 0.6939042 & 0.9991524 &  3.0261472 & 0.99750 &  TRUE &  0.46872956 & 0.14426997 &  3.2489752 & 1.158216e-03 & 3.127183e-02 & 2.842893e-03 &  TRUE &  TRUE &  TRUE\\\\\n",
       "\t creatinine        & beta\\_x{[}10{]} &  0.38799549 & 0.13733985 &  0.12209064 &  0.38484566 & 0.6607941 & 0.9992407 &  2.8250758 & 0.99750 &  TRUE &  0.43299760 & 0.14262295 &  3.0359602 & 2.397710e-03 & 6.473817e-02 & 5.394848e-03 &  TRUE & FALSE &  TRUE\\\\\n",
       "\t citrate           & beta\\_x{[}8{]}  &  0.30538850 & 0.12084861 &  0.07917825 &  0.30237057 & 0.5458485 & 0.9994035 &  2.5270336 & 0.99700 &  TRUE &  0.29140343 & 0.11676034 &  2.4957398 & 1.256948e-02 & 3.393758e-01 & 2.121099e-02 &  TRUE & FALSE &  TRUE\\\\\n",
       "\t carnitine         & beta\\_x{[}6{]}  &  0.25467741 & 0.10192938 &  0.05587174 &  0.25417078 & 0.4628496 & 0.9994535 &  2.4985672 & 0.99625 &  TRUE &  0.24422305 & 0.09599183 &  2.5442068 & 1.095262e-02 & 2.957208e-01 & 2.085942e-02 &  TRUE & FALSE &  TRUE\\\\\n",
       "\t histidine         & beta\\_x{[}14{]} &  0.31496111 & 0.12308860 &  0.07962425 &  0.31254672 & 0.5639500 & 0.9996421 &  2.5588162 & 0.99525 &  TRUE &  0.30259078 & 0.11742937 &  2.5767896 & 9.972262e-03 & 2.692511e-01 & 2.071162e-02 &  TRUE & FALSE &  TRUE\\\\\n",
       "\t phenylalanine     & beta\\_x{[}22{]} &  0.32099481 & 0.13511243 &  0.06244159 &  0.31891257 & 0.5858226 & 0.9996078 &  2.3757608 & 0.99275 &  TRUE &  0.35842300 & 0.14198168 &  2.5244313 & 1.158857e-02 & 3.128913e-01 & 2.085942e-02 &  TRUE & FALSE &  TRUE\\\\\n",
       "\t ornithine         & beta\\_x{[}21{]} &  0.22797071 & 0.09372603 &  0.04603642 &  0.22698474 & 0.4132968 & 0.9990952 &  2.4323094 & 0.99125 &  TRUE &  0.20355747 & 0.08957955 &  2.2723655 & 2.306444e-02 & 6.227400e-01 & 3.663177e-02 &  TRUE & FALSE &  TRUE\\\\\n",
       "\t choline           & beta\\_x{[}7{]}  &  0.19718674 & 0.10715965 & -0.01204009 &  0.19646137 & 0.4083897 & 0.9994808 &  1.8401211 & 0.96725 & FALSE &  0.15788749 & 0.10091334 &  1.5645848 & 1.176803e-01 & 1.000000e+00 & 1.588684e-01 & FALSE & FALSE & FALSE\\\\\n",
       "\t creatine          & beta\\_x{[}9{]}  &  0.22863267 & 0.12600820 & -0.01343591 &  0.22608692 & 0.4802412 & 0.9993541 &  1.8144269 & 0.96475 & FALSE &  0.25386581 & 0.13361834 &  1.8999324 & 5.744199e-02 & 1.000000e+00 & 8.616299e-02 & FALSE & FALSE & FALSE\\\\\n",
       "\t pyruvate          & beta\\_x{[}25{]} &  0.22023787 & 0.12933028 & -0.03062823 &  0.21932200 & 0.4781180 & 0.9993132 &  1.7029103 & 0.95825 & FALSE &  0.24531529 & 0.13584414 &  1.8058585 & 7.094044e-02 & 1.000000e+00 & 1.008101e-01 & FALSE & FALSE & FALSE\\\\\n",
       "\t leucine           & beta\\_x{[}17{]} &  0.17281286 & 0.12520035 & -0.06553113 &  0.17132981 & 0.4250870 & 0.9992239 &  1.3802906 & 0.91750 & FALSE &  0.19161160 & 0.13526343 &  1.4165810 & 1.566055e-01 & 1.000000e+00 & 2.013499e-01 & FALSE & FALSE & FALSE\\\\\n",
       "\t hydroxybutyrate   & beta\\_x{[}1{]}  &  0.15554236 & 0.12644379 & -0.08983508 &  0.15343564 & 0.4064064 & 0.9992318 &  1.2301304 & 0.89175 & FALSE &  0.16046201 & 0.13067102 &  1.2279847 & 2.194527e-01 & 1.000000e+00 & 2.693283e-01 & FALSE & FALSE & FALSE\\\\\n",
       "\t valine            & beta\\_x{[}27{]} &  0.14487605 & 0.12595320 & -0.10100679 &  0.14390431 & 0.3962859 & 0.9996225 &  1.1502372 & 0.87525 & FALSE &  0.16011567 & 0.13468784 &  1.1887908 & 2.345220e-01 & 1.000000e+00 & 2.753084e-01 & FALSE & FALSE & FALSE\\\\\n",
       "\t isoleucine        & beta\\_x{[}15{]} &  0.08310452 & 0.10440298 & -0.12001261 &  0.08269595 & 0.2908459 & 0.9992967 &  0.7959976 & 0.78550 & FALSE &  0.06280725 & 0.09876132 &  0.6359499 & 5.248091e-01 & 1.000000e+00 & 5.760792e-01 & FALSE & FALSE & FALSE\\\\\n",
       "\t X3.hydoxybutyrate & beta\\_x{[}3{]}  &  0.07410832 & 0.12251058 & -0.16712365 &  0.07372377 & 0.3124242 & 0.9996008 &  0.6049137 & 0.72650 & FALSE &  0.08022507 & 0.12881060 &  0.6228142 & 5.334066e-01 & 1.000000e+00 & 5.760792e-01 & FALSE & FALSE & FALSE\\\\\n",
       "\t oxoisocaproate    & beta\\_x{[}2{]}  & -0.04681683 & 0.10154554 & -0.24850070 & -0.04767954 & 0.1532202 & 1.0002158 & -0.4610426 & 0.67550 & FALSE & -0.04711366 & 0.09442804 & -0.4989372 & 6.178237e-01 & 1.000000e+00 & 6.415861e-01 & FALSE & FALSE & FALSE\\\\\n",
       "\t glucose           & beta\\_x{[}11{]} &  0.03959622 & 0.13070133 & -0.21718219 &  0.03992344 & 0.2988107 & 0.9995268 &  0.3029520 & 0.62125 & FALSE &  0.04293202 & 0.13324467 &  0.3222044 & 7.472979e-01 & 1.000000e+00 & 7.472979e-01 & FALSE & FALSE & FALSE\\\\\n",
       "\\end{tabular}\n"
      ],
      "text/markdown": [
       "\n",
       "A data.frame: 27 × 20\n",
       "\n",
       "| Metabolite &lt;chr&gt; | Param &lt;chr&gt; | mean &lt;dbl&gt; | sd &lt;dbl&gt; | X2.5. &lt;dbl&gt; | X50. &lt;dbl&gt; | X97.5. &lt;dbl&gt; | Rhat &lt;dbl&gt; | Z.x &lt;dbl&gt; | P_GT_LT_0 &lt;dbl&gt; | SIG_BAYES &lt;lgl&gt; | Estimate &lt;dbl&gt; | StdErr &lt;dbl&gt; | Z.y &lt;dbl&gt; | P-value &lt;dbl&gt; | P.Bon &lt;dbl&gt; | P.BH &lt;dbl&gt; | SIG_BH &lt;lgl&gt; | SIG_BON &lt;lgl&gt; | SIG.RAW &lt;lgl&gt; |\n",
       "|---|---|---|---|---|---|---|---|---|---|---|---|---|---|---|---|---|---|---|---|\n",
       "| oacetylcarnitine  | beta_x[20] |  0.67174323 | 0.14695164 |  0.39270075 |  0.66732290 | 0.9642254 | 0.9991854 |  4.5711856 | 1.00000 |  TRUE |  0.70611229 | 0.14991836 |  4.7099788 | 2.477425e-06 | 6.689048e-05 | 6.689048e-05 |  TRUE |  TRUE |  TRUE |\n",
       "| tyrosine          | beta_x[26] |  0.58412755 | 0.13850634 |  0.31863773 |  0.58123300 | 0.8667370 | 0.9995169 |  4.2173345 | 1.00000 |  TRUE |  0.61762039 | 0.14248299 |  4.3346955 | 1.459620e-05 | 3.940974e-04 | 1.663743e-04 |  TRUE |  TRUE |  TRUE |\n",
       "| betaine           | beta_x[5]  |  0.59824230 | 0.14624369 |  0.32398497 |  0.59442026 | 0.9011620 | 0.9996255 |  4.0907222 | 1.00000 |  TRUE |  0.63372439 | 0.15024292 |  4.2179985 | 2.464804e-05 | 6.654972e-04 | 1.663743e-04 |  TRUE |  TRUE |  TRUE |\n",
       "| propyleneglycol   | beta_x[24] |  0.58284571 | 0.14300090 |  0.31398788 |  0.57838903 | 0.8780225 | 0.9992295 |  4.0758186 | 1.00000 |  TRUE |  0.65802466 | 0.15588771 |  4.2211452 | 2.430643e-05 | 6.562735e-04 | 1.663743e-04 |  TRUE |  TRUE |  TRUE |\n",
       "| glycine           | beta_x[13] |  0.51431593 | 0.13818825 |  0.23895358 |  0.51184529 | 0.7909574 | 0.9993084 |  3.7218500 | 1.00000 |  TRUE |  0.57548327 | 0.14692955 |  3.9167293 | 8.975845e-05 | 2.423478e-03 | 4.846956e-04 |  TRUE |  TRUE |  TRUE |\n",
       "| lysine            | beta_x[18] |  0.50407435 | 0.13546539 |  0.24569364 |  0.50337879 | 0.7759191 | 0.9991043 |  3.7210563 | 1.00000 |  TRUE |  0.54716604 | 0.14331052 |  3.8180451 | 1.345133e-04 | 3.631860e-03 | 6.053100e-04 |  TRUE |  TRUE |  TRUE |\n",
       "| proline           | beta_x[23] |  0.42845309 | 0.11592503 |  0.20500158 |  0.42665877 | 0.6565775 | 0.9992545 |  3.6959497 | 1.00000 |  TRUE |  0.39251178 | 0.11257236 |  3.4867510 | 4.889264e-04 | 1.320101e-02 | 1.361132e-03 |  TRUE |  TRUE |  TRUE |\n",
       "| methionine        | beta_x[19] |  0.37909728 | 0.10931005 |  0.16909844 |  0.37680169 | 0.6003337 | 1.0004020 |  3.4680916 | 1.00000 |  TRUE |  0.36400073 | 0.10464133 |  3.4785561 | 5.041229e-04 | 1.361132e-02 | 1.361132e-03 |  TRUE |  TRUE |  TRUE |\n",
       "| lactate           | beta_x[16] |  0.45690948 | 0.13564733 |  0.20462653 |  0.45359975 | 0.7365056 | 0.9994492 |  3.3683633 | 1.00000 |  TRUE |  0.51227870 | 0.14655255 |  3.4955290 | 4.731230e-04 | 1.277432e-02 | 1.361132e-03 |  TRUE |  TRUE |  TRUE |\n",
       "| glutamine         | beta_x[12] |  0.49710442 | 0.14330625 |  0.22698540 |  0.49464116 | 0.7765311 | 0.9992899 |  3.4688258 | 0.99975 |  TRUE |  0.55680869 | 0.15078848 |  3.6926473 | 2.219317e-04 | 5.992156e-03 | 8.560223e-04 |  TRUE |  TRUE |  TRUE |\n",
       "| alanine           | beta_x[4]  |  0.41998309 | 0.13878475 |  0.15116354 |  0.41823014 | 0.6939042 | 0.9991524 |  3.0261472 | 0.99750 |  TRUE |  0.46872956 | 0.14426997 |  3.2489752 | 1.158216e-03 | 3.127183e-02 | 2.842893e-03 |  TRUE |  TRUE |  TRUE |\n",
       "| creatinine        | beta_x[10] |  0.38799549 | 0.13733985 |  0.12209064 |  0.38484566 | 0.6607941 | 0.9992407 |  2.8250758 | 0.99750 |  TRUE |  0.43299760 | 0.14262295 |  3.0359602 | 2.397710e-03 | 6.473817e-02 | 5.394848e-03 |  TRUE | FALSE |  TRUE |\n",
       "| citrate           | beta_x[8]  |  0.30538850 | 0.12084861 |  0.07917825 |  0.30237057 | 0.5458485 | 0.9994035 |  2.5270336 | 0.99700 |  TRUE |  0.29140343 | 0.11676034 |  2.4957398 | 1.256948e-02 | 3.393758e-01 | 2.121099e-02 |  TRUE | FALSE |  TRUE |\n",
       "| carnitine         | beta_x[6]  |  0.25467741 | 0.10192938 |  0.05587174 |  0.25417078 | 0.4628496 | 0.9994535 |  2.4985672 | 0.99625 |  TRUE |  0.24422305 | 0.09599183 |  2.5442068 | 1.095262e-02 | 2.957208e-01 | 2.085942e-02 |  TRUE | FALSE |  TRUE |\n",
       "| histidine         | beta_x[14] |  0.31496111 | 0.12308860 |  0.07962425 |  0.31254672 | 0.5639500 | 0.9996421 |  2.5588162 | 0.99525 |  TRUE |  0.30259078 | 0.11742937 |  2.5767896 | 9.972262e-03 | 2.692511e-01 | 2.071162e-02 |  TRUE | FALSE |  TRUE |\n",
       "| phenylalanine     | beta_x[22] |  0.32099481 | 0.13511243 |  0.06244159 |  0.31891257 | 0.5858226 | 0.9996078 |  2.3757608 | 0.99275 |  TRUE |  0.35842300 | 0.14198168 |  2.5244313 | 1.158857e-02 | 3.128913e-01 | 2.085942e-02 |  TRUE | FALSE |  TRUE |\n",
       "| ornithine         | beta_x[21] |  0.22797071 | 0.09372603 |  0.04603642 |  0.22698474 | 0.4132968 | 0.9990952 |  2.4323094 | 0.99125 |  TRUE |  0.20355747 | 0.08957955 |  2.2723655 | 2.306444e-02 | 6.227400e-01 | 3.663177e-02 |  TRUE | FALSE |  TRUE |\n",
       "| choline           | beta_x[7]  |  0.19718674 | 0.10715965 | -0.01204009 |  0.19646137 | 0.4083897 | 0.9994808 |  1.8401211 | 0.96725 | FALSE |  0.15788749 | 0.10091334 |  1.5645848 | 1.176803e-01 | 1.000000e+00 | 1.588684e-01 | FALSE | FALSE | FALSE |\n",
       "| creatine          | beta_x[9]  |  0.22863267 | 0.12600820 | -0.01343591 |  0.22608692 | 0.4802412 | 0.9993541 |  1.8144269 | 0.96475 | FALSE |  0.25386581 | 0.13361834 |  1.8999324 | 5.744199e-02 | 1.000000e+00 | 8.616299e-02 | FALSE | FALSE | FALSE |\n",
       "| pyruvate          | beta_x[25] |  0.22023787 | 0.12933028 | -0.03062823 |  0.21932200 | 0.4781180 | 0.9993132 |  1.7029103 | 0.95825 | FALSE |  0.24531529 | 0.13584414 |  1.8058585 | 7.094044e-02 | 1.000000e+00 | 1.008101e-01 | FALSE | FALSE | FALSE |\n",
       "| leucine           | beta_x[17] |  0.17281286 | 0.12520035 | -0.06553113 |  0.17132981 | 0.4250870 | 0.9992239 |  1.3802906 | 0.91750 | FALSE |  0.19161160 | 0.13526343 |  1.4165810 | 1.566055e-01 | 1.000000e+00 | 2.013499e-01 | FALSE | FALSE | FALSE |\n",
       "| hydroxybutyrate   | beta_x[1]  |  0.15554236 | 0.12644379 | -0.08983508 |  0.15343564 | 0.4064064 | 0.9992318 |  1.2301304 | 0.89175 | FALSE |  0.16046201 | 0.13067102 |  1.2279847 | 2.194527e-01 | 1.000000e+00 | 2.693283e-01 | FALSE | FALSE | FALSE |\n",
       "| valine            | beta_x[27] |  0.14487605 | 0.12595320 | -0.10100679 |  0.14390431 | 0.3962859 | 0.9996225 |  1.1502372 | 0.87525 | FALSE |  0.16011567 | 0.13468784 |  1.1887908 | 2.345220e-01 | 1.000000e+00 | 2.753084e-01 | FALSE | FALSE | FALSE |\n",
       "| isoleucine        | beta_x[15] |  0.08310452 | 0.10440298 | -0.12001261 |  0.08269595 | 0.2908459 | 0.9992967 |  0.7959976 | 0.78550 | FALSE |  0.06280725 | 0.09876132 |  0.6359499 | 5.248091e-01 | 1.000000e+00 | 5.760792e-01 | FALSE | FALSE | FALSE |\n",
       "| X3.hydoxybutyrate | beta_x[3]  |  0.07410832 | 0.12251058 | -0.16712365 |  0.07372377 | 0.3124242 | 0.9996008 |  0.6049137 | 0.72650 | FALSE |  0.08022507 | 0.12881060 |  0.6228142 | 5.334066e-01 | 1.000000e+00 | 5.760792e-01 | FALSE | FALSE | FALSE |\n",
       "| oxoisocaproate    | beta_x[2]  | -0.04681683 | 0.10154554 | -0.24850070 | -0.04767954 | 0.1532202 | 1.0002158 | -0.4610426 | 0.67550 | FALSE | -0.04711366 | 0.09442804 | -0.4989372 | 6.178237e-01 | 1.000000e+00 | 6.415861e-01 | FALSE | FALSE | FALSE |\n",
       "| glucose           | beta_x[11] |  0.03959622 | 0.13070133 | -0.21718219 |  0.03992344 | 0.2988107 | 0.9995268 |  0.3029520 | 0.62125 | FALSE |  0.04293202 | 0.13324467 |  0.3222044 | 7.472979e-01 | 1.000000e+00 | 7.472979e-01 | FALSE | FALSE | FALSE |\n",
       "\n"
      ],
      "text/plain": [
       "   Metabolite        Param      mean        sd         X2.5.       X50.       \n",
       "1  oacetylcarnitine  beta_x[20]  0.67174323 0.14695164  0.39270075  0.66732290\n",
       "2  tyrosine          beta_x[26]  0.58412755 0.13850634  0.31863773  0.58123300\n",
       "3  betaine           beta_x[5]   0.59824230 0.14624369  0.32398497  0.59442026\n",
       "4  propyleneglycol   beta_x[24]  0.58284571 0.14300090  0.31398788  0.57838903\n",
       "5  glycine           beta_x[13]  0.51431593 0.13818825  0.23895358  0.51184529\n",
       "6  lysine            beta_x[18]  0.50407435 0.13546539  0.24569364  0.50337879\n",
       "7  proline           beta_x[23]  0.42845309 0.11592503  0.20500158  0.42665877\n",
       "8  methionine        beta_x[19]  0.37909728 0.10931005  0.16909844  0.37680169\n",
       "9  lactate           beta_x[16]  0.45690948 0.13564733  0.20462653  0.45359975\n",
       "10 glutamine         beta_x[12]  0.49710442 0.14330625  0.22698540  0.49464116\n",
       "11 alanine           beta_x[4]   0.41998309 0.13878475  0.15116354  0.41823014\n",
       "12 creatinine        beta_x[10]  0.38799549 0.13733985  0.12209064  0.38484566\n",
       "13 citrate           beta_x[8]   0.30538850 0.12084861  0.07917825  0.30237057\n",
       "14 carnitine         beta_x[6]   0.25467741 0.10192938  0.05587174  0.25417078\n",
       "15 histidine         beta_x[14]  0.31496111 0.12308860  0.07962425  0.31254672\n",
       "16 phenylalanine     beta_x[22]  0.32099481 0.13511243  0.06244159  0.31891257\n",
       "17 ornithine         beta_x[21]  0.22797071 0.09372603  0.04603642  0.22698474\n",
       "18 choline           beta_x[7]   0.19718674 0.10715965 -0.01204009  0.19646137\n",
       "19 creatine          beta_x[9]   0.22863267 0.12600820 -0.01343591  0.22608692\n",
       "20 pyruvate          beta_x[25]  0.22023787 0.12933028 -0.03062823  0.21932200\n",
       "21 leucine           beta_x[17]  0.17281286 0.12520035 -0.06553113  0.17132981\n",
       "22 hydroxybutyrate   beta_x[1]   0.15554236 0.12644379 -0.08983508  0.15343564\n",
       "23 valine            beta_x[27]  0.14487605 0.12595320 -0.10100679  0.14390431\n",
       "24 isoleucine        beta_x[15]  0.08310452 0.10440298 -0.12001261  0.08269595\n",
       "25 X3.hydoxybutyrate beta_x[3]   0.07410832 0.12251058 -0.16712365  0.07372377\n",
       "26 oxoisocaproate    beta_x[2]  -0.04681683 0.10154554 -0.24850070 -0.04767954\n",
       "27 glucose           beta_x[11]  0.03959622 0.13070133 -0.21718219  0.03992344\n",
       "   X97.5.    Rhat      Z.x        P_GT_LT_0 SIG_BAYES Estimate    StdErr    \n",
       "1  0.9642254 0.9991854  4.5711856 1.00000    TRUE      0.70611229 0.14991836\n",
       "2  0.8667370 0.9995169  4.2173345 1.00000    TRUE      0.61762039 0.14248299\n",
       "3  0.9011620 0.9996255  4.0907222 1.00000    TRUE      0.63372439 0.15024292\n",
       "4  0.8780225 0.9992295  4.0758186 1.00000    TRUE      0.65802466 0.15588771\n",
       "5  0.7909574 0.9993084  3.7218500 1.00000    TRUE      0.57548327 0.14692955\n",
       "6  0.7759191 0.9991043  3.7210563 1.00000    TRUE      0.54716604 0.14331052\n",
       "7  0.6565775 0.9992545  3.6959497 1.00000    TRUE      0.39251178 0.11257236\n",
       "8  0.6003337 1.0004020  3.4680916 1.00000    TRUE      0.36400073 0.10464133\n",
       "9  0.7365056 0.9994492  3.3683633 1.00000    TRUE      0.51227870 0.14655255\n",
       "10 0.7765311 0.9992899  3.4688258 0.99975    TRUE      0.55680869 0.15078848\n",
       "11 0.6939042 0.9991524  3.0261472 0.99750    TRUE      0.46872956 0.14426997\n",
       "12 0.6607941 0.9992407  2.8250758 0.99750    TRUE      0.43299760 0.14262295\n",
       "13 0.5458485 0.9994035  2.5270336 0.99700    TRUE      0.29140343 0.11676034\n",
       "14 0.4628496 0.9994535  2.4985672 0.99625    TRUE      0.24422305 0.09599183\n",
       "15 0.5639500 0.9996421  2.5588162 0.99525    TRUE      0.30259078 0.11742937\n",
       "16 0.5858226 0.9996078  2.3757608 0.99275    TRUE      0.35842300 0.14198168\n",
       "17 0.4132968 0.9990952  2.4323094 0.99125    TRUE      0.20355747 0.08957955\n",
       "18 0.4083897 0.9994808  1.8401211 0.96725   FALSE      0.15788749 0.10091334\n",
       "19 0.4802412 0.9993541  1.8144269 0.96475   FALSE      0.25386581 0.13361834\n",
       "20 0.4781180 0.9993132  1.7029103 0.95825   FALSE      0.24531529 0.13584414\n",
       "21 0.4250870 0.9992239  1.3802906 0.91750   FALSE      0.19161160 0.13526343\n",
       "22 0.4064064 0.9992318  1.2301304 0.89175   FALSE      0.16046201 0.13067102\n",
       "23 0.3962859 0.9996225  1.1502372 0.87525   FALSE      0.16011567 0.13468784\n",
       "24 0.2908459 0.9992967  0.7959976 0.78550   FALSE      0.06280725 0.09876132\n",
       "25 0.3124242 0.9996008  0.6049137 0.72650   FALSE      0.08022507 0.12881060\n",
       "26 0.1532202 1.0002158 -0.4610426 0.67550   FALSE     -0.04711366 0.09442804\n",
       "27 0.2988107 0.9995268  0.3029520 0.62125   FALSE      0.04293202 0.13324467\n",
       "   Z.y        P-value      P.Bon        P.BH         SIG_BH SIG_BON SIG.RAW\n",
       "1   4.7099788 2.477425e-06 6.689048e-05 6.689048e-05  TRUE   TRUE    TRUE  \n",
       "2   4.3346955 1.459620e-05 3.940974e-04 1.663743e-04  TRUE   TRUE    TRUE  \n",
       "3   4.2179985 2.464804e-05 6.654972e-04 1.663743e-04  TRUE   TRUE    TRUE  \n",
       "4   4.2211452 2.430643e-05 6.562735e-04 1.663743e-04  TRUE   TRUE    TRUE  \n",
       "5   3.9167293 8.975845e-05 2.423478e-03 4.846956e-04  TRUE   TRUE    TRUE  \n",
       "6   3.8180451 1.345133e-04 3.631860e-03 6.053100e-04  TRUE   TRUE    TRUE  \n",
       "7   3.4867510 4.889264e-04 1.320101e-02 1.361132e-03  TRUE   TRUE    TRUE  \n",
       "8   3.4785561 5.041229e-04 1.361132e-02 1.361132e-03  TRUE   TRUE    TRUE  \n",
       "9   3.4955290 4.731230e-04 1.277432e-02 1.361132e-03  TRUE   TRUE    TRUE  \n",
       "10  3.6926473 2.219317e-04 5.992156e-03 8.560223e-04  TRUE   TRUE    TRUE  \n",
       "11  3.2489752 1.158216e-03 3.127183e-02 2.842893e-03  TRUE   TRUE    TRUE  \n",
       "12  3.0359602 2.397710e-03 6.473817e-02 5.394848e-03  TRUE  FALSE    TRUE  \n",
       "13  2.4957398 1.256948e-02 3.393758e-01 2.121099e-02  TRUE  FALSE    TRUE  \n",
       "14  2.5442068 1.095262e-02 2.957208e-01 2.085942e-02  TRUE  FALSE    TRUE  \n",
       "15  2.5767896 9.972262e-03 2.692511e-01 2.071162e-02  TRUE  FALSE    TRUE  \n",
       "16  2.5244313 1.158857e-02 3.128913e-01 2.085942e-02  TRUE  FALSE    TRUE  \n",
       "17  2.2723655 2.306444e-02 6.227400e-01 3.663177e-02  TRUE  FALSE    TRUE  \n",
       "18  1.5645848 1.176803e-01 1.000000e+00 1.588684e-01 FALSE  FALSE   FALSE  \n",
       "19  1.8999324 5.744199e-02 1.000000e+00 8.616299e-02 FALSE  FALSE   FALSE  \n",
       "20  1.8058585 7.094044e-02 1.000000e+00 1.008101e-01 FALSE  FALSE   FALSE  \n",
       "21  1.4165810 1.566055e-01 1.000000e+00 2.013499e-01 FALSE  FALSE   FALSE  \n",
       "22  1.2279847 2.194527e-01 1.000000e+00 2.693283e-01 FALSE  FALSE   FALSE  \n",
       "23  1.1887908 2.345220e-01 1.000000e+00 2.753084e-01 FALSE  FALSE   FALSE  \n",
       "24  0.6359499 5.248091e-01 1.000000e+00 5.760792e-01 FALSE  FALSE   FALSE  \n",
       "25  0.6228142 5.334066e-01 1.000000e+00 5.760792e-01 FALSE  FALSE   FALSE  \n",
       "26 -0.4989372 6.178237e-01 1.000000e+00 6.415861e-01 FALSE  FALSE   FALSE  \n",
       "27  0.3222044 7.472979e-01 1.000000e+00 7.472979e-01 FALSE  FALSE   FALSE  "
      ]
     },
     "metadata": {},
     "output_type": "display_data"
    }
   ],
   "source": [
    "merged_results = bayes_res_table %>% inner_join(logistic_res_df, by='Metabolite')\n",
    "merged_results"
   ]
  },
  {
   "cell_type": "code",
   "execution_count": 282,
   "metadata": {},
   "outputs": [],
   "source": [
    "nmr_out_file = '/nfs/turbo/umms-cgillies/cgillies/RACE_CAPS/analysis/20200317_real_data_analysis/nmr_cmp.csv'\n",
    "write_csv(merged_results, nmr_out_file)"
   ]
  },
  {
   "cell_type": "markdown",
   "metadata": {},
   "source": [
    "## GC Data"
   ]
  },
  {
   "cell_type": "code",
   "execution_count": 10,
   "metadata": {},
   "outputs": [],
   "source": [
    "#df_voc = read_csv(\n",
    "#    '/nfs/turbo/umms-cgillies/cgillies/RACE_CAPS/data/20190827_ruchi_gc_data/HumanARDSConsolidatedData_full.csv',col_names=TRUE)\n",
    "\n",
    "df_mat = df = R.matlab::readMat('/nfs/turbo/umms-cgillies/cgillies/RACE_CAPS/data/20190827_ruchi_gc_data/HumanARDSConsolidatedData_full.mat')"
   ]
  },
  {
   "cell_type": "code",
   "execution_count": 11,
   "metadata": {},
   "outputs": [
    {
     "data": {
      "text/html": [
       "'matrix'"
      ],
      "text/latex": [
       "'matrix'"
      ],
      "text/markdown": [
       "'matrix'"
      ],
      "text/plain": [
       "[1] \"matrix\""
      ]
     },
     "metadata": {},
     "output_type": "display_data"
    }
   ],
   "source": [
    "voc_data_matrix = df_mat$PeakArea\n",
    "voc_data_matrix [ voc_data_matrix == 0 ] = NA\n",
    "class(voc_data_matrix)\n",
    "voc_ards = df_mat$species\n",
    "\n"
   ]
  },
  {
   "cell_type": "code",
   "execution_count": 14,
   "metadata": {},
   "outputs": [
    {
     "data": {
      "text/html": [
       "<style>\n",
       ".list-inline {list-style: none; margin:0; padding: 0}\n",
       ".list-inline>li {display: inline-block}\n",
       ".list-inline>li:not(:last-child)::after {content: \"\\00b7\"; padding: 0 .5ex}\n",
       "</style>\n",
       "<ol class=list-inline><li>85</li><li>79</li></ol>\n"
      ],
      "text/latex": [
       "\\begin{enumerate*}\n",
       "\\item 85\n",
       "\\item 79\n",
       "\\end{enumerate*}\n"
      ],
      "text/markdown": [
       "1. 85\n",
       "2. 79\n",
       "\n",
       "\n"
      ],
      "text/plain": [
       "[1] 85 79"
      ]
     },
     "metadata": {},
     "output_type": "display_data"
    }
   ],
   "source": [
    "voc_data_matrix %>% dim"
   ]
  },
  {
   "cell_type": "code",
   "execution_count": 12,
   "metadata": {},
   "outputs": [
    {
     "data": {
      "image/png": "[encoded data removed]",
      "text/plain": [
       "Plot with title “ecdf(voc_missing_rates)”"
      ]
     },
     "metadata": {
      "image/png": {
       "height": 420,
       "width": 420
      },
      "text/plain": {
       "height": 420,
       "width": 420
      }
     },
     "output_type": "display_data"
    }
   ],
   "source": [
    "voc_missing_rates = data.frame(voc_data_matrix) %>% summarise_all(function(x) { mean(is.na(x)) })\n",
    "voc_missing_rates = as.numeric(voc_missing_rates)\n",
    "plot(ecdf(voc_missing_rates))\n"
   ]
  },
  {
   "cell_type": "code",
   "execution_count": null,
   "metadata": {},
   "outputs": [],
   "source": [
    "hist(voc_data_matrix)"
   ]
  },
  {
   "cell_type": "code",
   "execution_count": 205,
   "metadata": {},
   "outputs": [
    {
     "data": {
      "image/png": "[encoded data removed]",
      "text/plain": [
       "Plot with title “Histogram of scale(voc_data_matrix)”"
      ]
     },
     "metadata": {
      "image/png": {
       "height": 420,
       "width": 420
      },
      "text/plain": {
       "height": 420,
       "width": 420
      }
     },
     "output_type": "display_data"
    }
   ],
   "source": [
    "hist(scale(voc_data_matrix))"
   ]
  },
  {
   "cell_type": "code",
   "execution_count": 206,
   "metadata": {},
   "outputs": [
    {
     "data": {
      "image/png": "[encoded data removed]",
      "text/plain": [
       "Plot with title “Histogram of scale(log(voc_data_matrix))”"
      ]
     },
     "metadata": {
      "image/png": {
       "height": 420,
       "width": 420
      },
      "text/plain": {
       "height": 420,
       "width": 420
      }
     },
     "output_type": "display_data"
    }
   ],
   "source": [
    "hist(scale(log(voc_data_matrix)))"
   ]
  },
  {
   "cell_type": "markdown",
   "metadata": {},
   "source": [
    "* log transform will be a great transform"
   ]
  },
  {
   "cell_type": "code",
   "execution_count": 287,
   "metadata": {},
   "outputs": [
    {
     "data": {
      "text/html": [
       "0.482352941176471"
      ],
      "text/latex": [
       "0.482352941176471"
      ],
      "text/markdown": [
       "0.482352941176471"
      ],
      "text/plain": [
       "[1] 0.4823529"
      ]
     },
     "metadata": {},
     "output_type": "display_data"
    }
   ],
   "source": [
    "keep = which( voc_missing_rates <= 0.4 )\n",
    "df_voc = data.frame( scale( log( voc_data_matrix ) ))\n",
    "df_voc = df_voc[, keep]\n",
    "voc_mets = colnames(df_voc)\n",
    "df_voc$target = voc_ards\n",
    "\n",
    "mean(df_voc$target)\n",
    "df_censored_voc = df_voc \n"
   ]
  },
  {
   "cell_type": "code",
   "execution_count": null,
   "metadata": {},
   "outputs": [],
   "source": []
  },
  {
   "cell_type": "code",
   "execution_count": 288,
   "metadata": {},
   "outputs": [
    {
     "data": {
      "text/html": [
       "<table>\n",
       "<caption>A data.frame: 6 × 42</caption>\n",
       "<thead>\n",
       "\t<tr><th></th><th scope=col>X2</th><th scope=col>X3</th><th scope=col>X4</th><th scope=col>X5</th><th scope=col>X6</th><th scope=col>X7</th><th scope=col>X8</th><th scope=col>X10</th><th scope=col>X11</th><th scope=col>X12</th><th scope=col>⋯</th><th scope=col>X54</th><th scope=col>X55</th><th scope=col>X62</th><th scope=col>X63</th><th scope=col>X65</th><th scope=col>X67</th><th scope=col>X70</th><th scope=col>X72</th><th scope=col>X76</th><th scope=col>target</th></tr>\n",
       "\t<tr><th></th><th scope=col>&lt;dbl&gt;</th><th scope=col>&lt;dbl&gt;</th><th scope=col>&lt;dbl&gt;</th><th scope=col>&lt;dbl&gt;</th><th scope=col>&lt;dbl&gt;</th><th scope=col>&lt;dbl&gt;</th><th scope=col>&lt;dbl&gt;</th><th scope=col>&lt;dbl&gt;</th><th scope=col>&lt;dbl&gt;</th><th scope=col>&lt;dbl&gt;</th><th scope=col>⋯</th><th scope=col>&lt;dbl&gt;</th><th scope=col>&lt;dbl&gt;</th><th scope=col>&lt;dbl&gt;</th><th scope=col>&lt;dbl&gt;</th><th scope=col>&lt;dbl&gt;</th><th scope=col>&lt;dbl&gt;</th><th scope=col>&lt;dbl&gt;</th><th scope=col>&lt;dbl&gt;</th><th scope=col>&lt;dbl&gt;</th><th scope=col>&lt;dbl[,1]&gt;</th></tr>\n",
       "</thead>\n",
       "<tbody>\n",
       "\t<tr><th scope=row>1</th><td>-0.3906628</td><td>-0.3027616</td><td> 0.9491936</td><td>-2.4875405</td><td>-0.9161555</td><td> 0.1192406</td><td>-1.044448</td><td> 1.15941782</td><td> 1.8136505</td><td>3.4533653</td><td>⋯</td><td>-1.36135635</td><td> 0.1228236</td><td> 0.2281753</td><td>-0.40376097</td><td>-0.6712266</td><td>-0.4220926</td><td>-0.3314348</td><td>-0.35529775</td><td>-0.9341625</td><td>0</td></tr>\n",
       "\t<tr><th scope=row>2</th><td>-1.5994406</td><td>-0.7353219</td><td>-0.6231577</td><td>        NA</td><td>-1.7648470</td><td>        NA</td><td>       NA</td><td> 0.05303848</td><td> 1.0768107</td><td>0.9937468</td><td>⋯</td><td> 0.25574022</td><td>-1.6580931</td><td> 0.9424507</td><td> 0.76289145</td><td> 0.2275590</td><td> 1.2332147</td><td>        NA</td><td> 1.03040961</td><td> 1.7416982</td><td>0</td></tr>\n",
       "\t<tr><th scope=row>3</th><td>-0.3217503</td><td> 1.1915769</td><td> 0.1602434</td><td>        NA</td><td> 1.0831281</td><td>        NA</td><td> 1.887847</td><td>-0.08430686</td><td>-0.2118065</td><td>1.6352190</td><td>⋯</td><td> 1.31708164</td><td>        NA</td><td> 0.8830397</td><td> 0.41526010</td><td>-0.4165829</td><td> 0.7228344</td><td> 1.3415833</td><td> 0.08210832</td><td>-0.2291860</td><td>0</td></tr>\n",
       "\t<tr><th scope=row>4</th><td> 0.4812412</td><td> 0.5810687</td><td>-2.0608678</td><td> 1.4678097</td><td> 2.3590580</td><td>        NA</td><td> 2.402793</td><td> 0.27005229</td><td> 1.4583241</td><td>       NA</td><td>⋯</td><td> 0.46500473</td><td>        NA</td><td> 0.3184287</td><td>-0.08353452</td><td>-0.1274048</td><td> 0.4445855</td><td> 1.1712111</td><td>-0.07921629</td><td>        NA</td><td>0</td></tr>\n",
       "\t<tr><th scope=row>5</th><td> 0.3662996</td><td>-3.0937831</td><td>-0.3262752</td><td>-0.4997417</td><td>        NA</td><td>        NA</td><td>-1.237748</td><td>         NA</td><td> 0.4733625</td><td>       NA</td><td>⋯</td><td> 0.06925654</td><td> 0.8427929</td><td>-2.5277751</td><td>-0.49389589</td><td>-0.3576370</td><td>        NA</td><td> 0.7124369</td><td>         NA</td><td>-2.7140640</td><td>0</td></tr>\n",
       "\t<tr><th scope=row>6</th><td>-1.1786557</td><td>-1.2098771</td><td>-0.9549186</td><td>-2.6362438</td><td>-1.8468242</td><td>-1.5284166</td><td>       NA</td><td> 0.16451421</td><td> 1.6218596</td><td>1.2506698</td><td>⋯</td><td> 0.76601149</td><td>-1.1011915</td><td> 0.2884261</td><td>-0.18891212</td><td> 0.5214419</td><td>-0.3631326</td><td>-0.5715143</td><td> 0.05098079</td><td>        NA</td><td>0</td></tr>\n",
       "</tbody>\n",
       "</table>\n"
      ],
      "text/latex": [
       "A data.frame: 6 × 42\n",
       "\\begin{tabular}{r|lllllllllllllllllllll}\n",
       "  & X2 & X3 & X4 & X5 & X6 & X7 & X8 & X10 & X11 & X12 & ⋯ & X54 & X55 & X62 & X63 & X65 & X67 & X70 & X72 & X76 & target\\\\\n",
       "  & <dbl> & <dbl> & <dbl> & <dbl> & <dbl> & <dbl> & <dbl> & <dbl> & <dbl> & <dbl> & ⋯ & <dbl> & <dbl> & <dbl> & <dbl> & <dbl> & <dbl> & <dbl> & <dbl> & <dbl> & <dbl{[},1{]}>\\\\\n",
       "\\hline\n",
       "\t1 & -0.3906628 & -0.3027616 &  0.9491936 & -2.4875405 & -0.9161555 &  0.1192406 & -1.044448 &  1.15941782 &  1.8136505 & 3.4533653 & ⋯ & -1.36135635 &  0.1228236 &  0.2281753 & -0.40376097 & -0.6712266 & -0.4220926 & -0.3314348 & -0.35529775 & -0.9341625 & 0\\\\\n",
       "\t2 & -1.5994406 & -0.7353219 & -0.6231577 &         NA & -1.7648470 &         NA &        NA &  0.05303848 &  1.0768107 & 0.9937468 & ⋯ &  0.25574022 & -1.6580931 &  0.9424507 &  0.76289145 &  0.2275590 &  1.2332147 &         NA &  1.03040961 &  1.7416982 & 0\\\\\n",
       "\t3 & -0.3217503 &  1.1915769 &  0.1602434 &         NA &  1.0831281 &         NA &  1.887847 & -0.08430686 & -0.2118065 & 1.6352190 & ⋯ &  1.31708164 &         NA &  0.8830397 &  0.41526010 & -0.4165829 &  0.7228344 &  1.3415833 &  0.08210832 & -0.2291860 & 0\\\\\n",
       "\t4 &  0.4812412 &  0.5810687 & -2.0608678 &  1.4678097 &  2.3590580 &         NA &  2.402793 &  0.27005229 &  1.4583241 &        NA & ⋯ &  0.46500473 &         NA &  0.3184287 & -0.08353452 & -0.1274048 &  0.4445855 &  1.1712111 & -0.07921629 &         NA & 0\\\\\n",
       "\t5 &  0.3662996 & -3.0937831 & -0.3262752 & -0.4997417 &         NA &         NA & -1.237748 &          NA &  0.4733625 &        NA & ⋯ &  0.06925654 &  0.8427929 & -2.5277751 & -0.49389589 & -0.3576370 &         NA &  0.7124369 &          NA & -2.7140640 & 0\\\\\n",
       "\t6 & -1.1786557 & -1.2098771 & -0.9549186 & -2.6362438 & -1.8468242 & -1.5284166 &        NA &  0.16451421 &  1.6218596 & 1.2506698 & ⋯ &  0.76601149 & -1.1011915 &  0.2884261 & -0.18891212 &  0.5214419 & -0.3631326 & -0.5715143 &  0.05098079 &         NA & 0\\\\\n",
       "\\end{tabular}\n"
      ],
      "text/markdown": [
       "\n",
       "A data.frame: 6 × 42\n",
       "\n",
       "| <!--/--> | X2 &lt;dbl&gt; | X3 &lt;dbl&gt; | X4 &lt;dbl&gt; | X5 &lt;dbl&gt; | X6 &lt;dbl&gt; | X7 &lt;dbl&gt; | X8 &lt;dbl&gt; | X10 &lt;dbl&gt; | X11 &lt;dbl&gt; | X12 &lt;dbl&gt; | ⋯ ⋯ | X54 &lt;dbl&gt; | X55 &lt;dbl&gt; | X62 &lt;dbl&gt; | X63 &lt;dbl&gt; | X65 &lt;dbl&gt; | X67 &lt;dbl&gt; | X70 &lt;dbl&gt; | X72 &lt;dbl&gt; | X76 &lt;dbl&gt; | target &lt;dbl[,1]&gt; |\n",
       "|---|---|---|---|---|---|---|---|---|---|---|---|---|---|---|---|---|---|---|---|---|---|\n",
       "| 1 | -0.3906628 | -0.3027616 |  0.9491936 | -2.4875405 | -0.9161555 |  0.1192406 | -1.044448 |  1.15941782 |  1.8136505 | 3.4533653 | ⋯ | -1.36135635 |  0.1228236 |  0.2281753 | -0.40376097 | -0.6712266 | -0.4220926 | -0.3314348 | -0.35529775 | -0.9341625 | 0 |\n",
       "| 2 | -1.5994406 | -0.7353219 | -0.6231577 |         NA | -1.7648470 |         NA |        NA |  0.05303848 |  1.0768107 | 0.9937468 | ⋯ |  0.25574022 | -1.6580931 |  0.9424507 |  0.76289145 |  0.2275590 |  1.2332147 |         NA |  1.03040961 |  1.7416982 | 0 |\n",
       "| 3 | -0.3217503 |  1.1915769 |  0.1602434 |         NA |  1.0831281 |         NA |  1.887847 | -0.08430686 | -0.2118065 | 1.6352190 | ⋯ |  1.31708164 |         NA |  0.8830397 |  0.41526010 | -0.4165829 |  0.7228344 |  1.3415833 |  0.08210832 | -0.2291860 | 0 |\n",
       "| 4 |  0.4812412 |  0.5810687 | -2.0608678 |  1.4678097 |  2.3590580 |         NA |  2.402793 |  0.27005229 |  1.4583241 |        NA | ⋯ |  0.46500473 |         NA |  0.3184287 | -0.08353452 | -0.1274048 |  0.4445855 |  1.1712111 | -0.07921629 |         NA | 0 |\n",
       "| 5 |  0.3662996 | -3.0937831 | -0.3262752 | -0.4997417 |         NA |         NA | -1.237748 |          NA |  0.4733625 |        NA | ⋯ |  0.06925654 |  0.8427929 | -2.5277751 | -0.49389589 | -0.3576370 |         NA |  0.7124369 |          NA | -2.7140640 | 0 |\n",
       "| 6 | -1.1786557 | -1.2098771 | -0.9549186 | -2.6362438 | -1.8468242 | -1.5284166 |        NA |  0.16451421 |  1.6218596 | 1.2506698 | ⋯ |  0.76601149 | -1.1011915 |  0.2884261 | -0.18891212 |  0.5214419 | -0.3631326 | -0.5715143 |  0.05098079 |         NA | 0 |\n",
       "\n"
      ],
      "text/plain": [
       "  X2         X3         X4         X5         X6         X7         X8       \n",
       "1 -0.3906628 -0.3027616  0.9491936 -2.4875405 -0.9161555  0.1192406 -1.044448\n",
       "2 -1.5994406 -0.7353219 -0.6231577         NA -1.7648470         NA        NA\n",
       "3 -0.3217503  1.1915769  0.1602434         NA  1.0831281         NA  1.887847\n",
       "4  0.4812412  0.5810687 -2.0608678  1.4678097  2.3590580         NA  2.402793\n",
       "5  0.3662996 -3.0937831 -0.3262752 -0.4997417         NA         NA -1.237748\n",
       "6 -1.1786557 -1.2098771 -0.9549186 -2.6362438 -1.8468242 -1.5284166        NA\n",
       "  X10         X11        X12       ⋯ X54         X55        X62       \n",
       "1  1.15941782  1.8136505 3.4533653 ⋯ -1.36135635  0.1228236  0.2281753\n",
       "2  0.05303848  1.0768107 0.9937468 ⋯  0.25574022 -1.6580931  0.9424507\n",
       "3 -0.08430686 -0.2118065 1.6352190 ⋯  1.31708164         NA  0.8830397\n",
       "4  0.27005229  1.4583241        NA ⋯  0.46500473         NA  0.3184287\n",
       "5          NA  0.4733625        NA ⋯  0.06925654  0.8427929 -2.5277751\n",
       "6  0.16451421  1.6218596 1.2506698 ⋯  0.76601149 -1.1011915  0.2884261\n",
       "  X63         X65        X67        X70        X72         X76        target\n",
       "1 -0.40376097 -0.6712266 -0.4220926 -0.3314348 -0.35529775 -0.9341625 0     \n",
       "2  0.76289145  0.2275590  1.2332147         NA  1.03040961  1.7416982 0     \n",
       "3  0.41526010 -0.4165829  0.7228344  1.3415833  0.08210832 -0.2291860 0     \n",
       "4 -0.08353452 -0.1274048  0.4445855  1.1712111 -0.07921629         NA 0     \n",
       "5 -0.49389589 -0.3576370         NA  0.7124369          NA -2.7140640 0     \n",
       "6 -0.18891212  0.5214419 -0.3631326 -0.5715143  0.05098079         NA 0     "
      ]
     },
     "metadata": {},
     "output_type": "display_data"
    }
   ],
   "source": [
    "df_censored_voc %>% head()"
   ]
  },
  {
   "cell_type": "code",
   "execution_count": null,
   "metadata": {},
   "outputs": [],
   "source": []
  },
  {
   "cell_type": "code",
   "execution_count": null,
   "metadata": {},
   "outputs": [],
   "source": []
  },
  {
   "cell_type": "code",
   "execution_count": 289,
   "metadata": {},
   "outputs": [
    {
     "data": {
      "text/html": [
       "<style>\n",
       ".list-inline {list-style: none; margin:0; padding: 0}\n",
       ".list-inline>li {display: inline-block}\n",
       ".list-inline>li:not(:last-child)::after {content: \"\\00b7\"; padding: 0 .5ex}\n",
       "</style>\n",
       "<ol class=list-inline><li>'N'</li><li>'N_miss'</li><li>'N_var'</li><li>'x_raw'</li><li>'x_naive_impute'</li><li>'N_use_impute'</li><li>'x_use_impute'</li><li>'x_missing'</li><li>'x_missing_init'</li><li>'x_missing_init_raw'</li><li>'x_is_missing'</li><li>'threshold'</li><li>'y'</li></ol>\n"
      ],
      "text/latex": [
       "\\begin{enumerate*}\n",
       "\\item 'N'\n",
       "\\item 'N\\_miss'\n",
       "\\item 'N\\_var'\n",
       "\\item 'x\\_raw'\n",
       "\\item 'x\\_naive\\_impute'\n",
       "\\item 'N\\_use\\_impute'\n",
       "\\item 'x\\_use\\_impute'\n",
       "\\item 'x\\_missing'\n",
       "\\item 'x\\_missing\\_init'\n",
       "\\item 'x\\_missing\\_init\\_raw'\n",
       "\\item 'x\\_is\\_missing'\n",
       "\\item 'threshold'\n",
       "\\item 'y'\n",
       "\\end{enumerate*}\n"
      ],
      "text/markdown": [
       "1. 'N'\n",
       "2. 'N_miss'\n",
       "3. 'N_var'\n",
       "4. 'x_raw'\n",
       "5. 'x_naive_impute'\n",
       "6. 'N_use_impute'\n",
       "7. 'x_use_impute'\n",
       "8. 'x_missing'\n",
       "9. 'x_missing_init'\n",
       "10. 'x_missing_init_raw'\n",
       "11. 'x_is_missing'\n",
       "12. 'threshold'\n",
       "13. 'y'\n",
       "\n",
       "\n"
      ],
      "text/plain": [
       " [1] \"N\"                  \"N_miss\"             \"N_var\"             \n",
       " [4] \"x_raw\"              \"x_naive_impute\"     \"N_use_impute\"      \n",
       " [7] \"x_use_impute\"       \"x_missing\"          \"x_missing_init\"    \n",
       "[10] \"x_missing_init_raw\" \"x_is_missing\"       \"threshold\"         \n",
       "[13] \"y\"                 "
      ]
     },
     "metadata": {},
     "output_type": "display_data"
    }
   ],
   "source": [
    "voc_stage_1_impute_data = stage_1_impute_make_data(x_censored = df_censored_voc, y = df_censored_voc$target )\n",
    "names(voc_stage_1_impute_data)\n",
    "\n",
    "voc_x_naive_impute = data.frame( voc_stage_1_impute_data$x_naive_impute )\n",
    "voc_x_naive_impute_with_y = voc_x_naive_impute\n",
    "voc_x_naive_impute_with_y$target = df_censored_voc$target\n"
   ]
  },
  {
   "cell_type": "code",
   "execution_count": 290,
   "metadata": {},
   "outputs": [],
   "source": [
    "#colnames(voc_x_naive_impute_with_y)\n",
    "#voc_mets"
   ]
  },
  {
   "cell_type": "code",
   "execution_count": 291,
   "metadata": {},
   "outputs": [],
   "source": [
    "voc_logistic_res = sapply( voc_mets, FUN=function(m) { apply_logistic_sim(m,voc_x_naive_impute_with_y,y_column = 'target') } )\n",
    "voc_logistic_res_df = format_logistic_res(voc_logistic_res,voc_mets)"
   ]
  },
  {
   "cell_type": "code",
   "execution_count": 292,
   "metadata": {},
   "outputs": [
    {
     "data": {
      "text/html": [
       "<table>\n",
       "<caption>A data.frame: 41 × 10</caption>\n",
       "<thead>\n",
       "\t<tr><th scope=col>Metabolite</th><th scope=col>Estimate</th><th scope=col>StdErr</th><th scope=col>Z</th><th scope=col>P-value</th><th scope=col>P.Bon</th><th scope=col>P.BH</th><th scope=col>SIG_BH</th><th scope=col>SIG_BON</th><th scope=col>SIG.RAW</th></tr>\n",
       "\t<tr><th scope=col>&lt;chr&gt;</th><th scope=col>&lt;dbl&gt;</th><th scope=col>&lt;dbl&gt;</th><th scope=col>&lt;dbl&gt;</th><th scope=col>&lt;dbl&gt;</th><th scope=col>&lt;dbl&gt;</th><th scope=col>&lt;dbl&gt;</th><th scope=col>&lt;lgl&gt;</th><th scope=col>&lt;lgl&gt;</th><th scope=col>&lt;lgl&gt;</th></tr>\n",
       "</thead>\n",
       "<tbody>\n",
       "\t<tr><td>X3 </td><td> 0.914706422</td><td>0.27552036</td><td> 3.31992320</td><td>0.0009004221</td><td>0.03691731</td><td>0.03691731</td><td> TRUE</td><td> TRUE</td><td> TRUE</td></tr>\n",
       "\t<tr><td>X70</td><td>-0.492061979</td><td>0.18841929</td><td>-2.61152659</td><td>0.0090138978</td><td>0.36956981</td><td>0.18478491</td><td>FALSE</td><td>FALSE</td><td> TRUE</td></tr>\n",
       "\t<tr><td>X12</td><td>-0.325564431</td><td>0.13999074</td><td>-2.32561404</td><td>0.0200391498</td><td>0.82160514</td><td>0.21965824</td><td>FALSE</td><td>FALSE</td><td> TRUE</td></tr>\n",
       "\t<tr><td>X6 </td><td>-0.377655651</td><td>0.16417524</td><td>-2.30032044</td><td>0.0214300722</td><td>0.87863296</td><td>0.21965824</td><td>FALSE</td><td>FALSE</td><td> TRUE</td></tr>\n",
       "\t<tr><td>X34</td><td>-0.365296414</td><td>0.19247812</td><td>-1.89785939</td><td>0.0577146067</td><td>1.00000000</td><td>0.40164323</td><td>FALSE</td><td>FALSE</td><td>FALSE</td></tr>\n",
       "\t<tr><td>X50</td><td>-0.382542554</td><td>0.20980506</td><td>-1.82332380</td><td>0.0682543633</td><td>1.00000000</td><td>0.40164323</td><td>FALSE</td><td>FALSE</td><td>FALSE</td></tr>\n",
       "\t<tr><td>X8 </td><td>-0.289763938</td><td>0.15910419</td><td>-1.82122123</td><td>0.0685732341</td><td>1.00000000</td><td>0.40164323</td><td>FALSE</td><td>FALSE</td><td>FALSE</td></tr>\n",
       "\t<tr><td>X23</td><td>-0.242019884</td><td>0.14614989</td><td>-1.65597036</td><td>0.0977278220</td><td>1.00000000</td><td>0.50085509</td><td>FALSE</td><td>FALSE</td><td>FALSE</td></tr>\n",
       "\t<tr><td>X27</td><td> 0.256640268</td><td>0.16202453</td><td> 1.58395931</td><td>0.1132029799</td><td>1.00000000</td><td>0.51570246</td><td>FALSE</td><td>FALSE</td><td>FALSE</td></tr>\n",
       "\t<tr><td>X4 </td><td> 0.197172531</td><td>0.13705835</td><td> 1.43860280</td><td>0.1502630918</td><td>1.00000000</td><td>0.60464692</td><td>FALSE</td><td>FALSE</td><td>FALSE</td></tr>\n",
       "\t<tr><td>X48</td><td>-0.132416747</td><td>0.09707177</td><td>-1.36411180</td><td>0.1725323802</td><td>1.00000000</td><td>0.60464692</td><td>FALSE</td><td>FALSE</td><td>FALSE</td></tr>\n",
       "\t<tr><td>X76</td><td>-0.162355100</td><td>0.12025022</td><td>-1.35014389</td><td>0.1769698307</td><td>1.00000000</td><td>0.60464692</td><td>FALSE</td><td>FALSE</td><td>FALSE</td></tr>\n",
       "\t<tr><td>X13</td><td>-0.187752727</td><td>0.16321596</td><td>-1.15033311</td><td>0.2500066991</td><td>1.00000000</td><td>0.74203933</td><td>FALSE</td><td>FALSE</td><td>FALSE</td></tr>\n",
       "\t<tr><td>X51</td><td>-0.225411932</td><td>0.19746564</td><td>-1.14152486</td><td>0.2536515727</td><td>1.00000000</td><td>0.74203933</td><td>FALSE</td><td>FALSE</td><td>FALSE</td></tr>\n",
       "\t<tr><td>X47</td><td>-0.224455637</td><td>0.20495500</td><td>-1.09514592</td><td>0.2734527128</td><td>1.00000000</td><td>0.74203933</td><td>FALSE</td><td>FALSE</td><td>FALSE</td></tr>\n",
       "\t<tr><td>X24</td><td>-0.163493594</td><td>0.15437738</td><td>-1.05905150</td><td>0.2895763255</td><td>1.00000000</td><td>0.74203933</td><td>FALSE</td><td>FALSE</td><td>FALSE</td></tr>\n",
       "\t<tr><td>X32</td><td>-0.159319609</td><td>0.16730276</td><td>-0.95228319</td><td>0.3409533805</td><td>1.00000000</td><td>0.77011364</td><td>FALSE</td><td>FALSE</td><td>FALSE</td></tr>\n",
       "\t<tr><td>X26</td><td>-0.145177779</td><td>0.15604528</td><td>-0.93035677</td><td>0.3521863921</td><td>1.00000000</td><td>0.77011364</td><td>FALSE</td><td>FALSE</td><td>FALSE</td></tr>\n",
       "\t<tr><td>X55</td><td> 0.146073164</td><td>0.15854722</td><td> 0.92132278</td><td>0.3568819329</td><td>1.00000000</td><td>0.77011364</td><td>FALSE</td><td>FALSE</td><td>FALSE</td></tr>\n",
       "\t<tr><td>X31</td><td>-0.190990971</td><td>0.22157609</td><td>-0.86196562</td><td>0.3887064354</td><td>1.00000000</td><td>0.77303166</td><td>FALSE</td><td>FALSE</td><td>FALSE</td></tr>\n",
       "\t<tr><td>X29</td><td>-0.113829309</td><td>0.13409210</td><td>-0.84888903</td><td>0.3959430438</td><td>1.00000000</td><td>0.77303166</td><td>FALSE</td><td>FALSE</td><td>FALSE</td></tr>\n",
       "\t<tr><td>X15</td><td> 0.124948816</td><td>0.18221618</td><td> 0.68571748</td><td>0.4928912843</td><td>1.00000000</td><td>0.91857012</td><td>FALSE</td><td>FALSE</td><td>FALSE</td></tr>\n",
       "\t<tr><td>X35</td><td>-0.102769408</td><td>0.15895174</td><td>-0.64654472</td><td>0.5179266470</td><td>1.00000000</td><td>0.92326054</td><td>FALSE</td><td>FALSE</td><td>FALSE</td></tr>\n",
       "\t<tr><td>X45</td><td>-0.078438941</td><td>0.14707719</td><td>-0.53331820</td><td>0.5938133313</td><td>1.00000000</td><td>0.95265525</td><td>FALSE</td><td>FALSE</td><td>FALSE</td></tr>\n",
       "\t<tr><td>X65</td><td> 0.081240355</td><td>0.16833824</td><td> 0.48260190</td><td>0.6293784296</td><td>1.00000000</td><td>0.95265525</td><td>FALSE</td><td>FALSE</td><td>FALSE</td></tr>\n",
       "\t<tr><td>X44</td><td>-0.069566080</td><td>0.16175490</td><td>-0.43007092</td><td>0.6671440503</td><td>1.00000000</td><td>0.95265525</td><td>FALSE</td><td>FALSE</td><td>FALSE</td></tr>\n",
       "\t<tr><td>X54</td><td>-0.071327846</td><td>0.18037322</td><td>-0.39544588</td><td>0.6925138550</td><td>1.00000000</td><td>0.95265525</td><td>FALSE</td><td>FALSE</td><td>FALSE</td></tr>\n",
       "\t<tr><td>X40</td><td>-0.055404202</td><td>0.14085233</td><td>-0.39334956</td><td>0.6940613222</td><td>1.00000000</td><td>0.95265525</td><td>FALSE</td><td>FALSE</td><td>FALSE</td></tr>\n",
       "\t<tr><td>X5 </td><td> 0.046329165</td><td>0.12655825</td><td> 0.36606988</td><td>0.7143129335</td><td>1.00000000</td><td>0.95265525</td><td>FALSE</td><td>FALSE</td><td>FALSE</td></tr>\n",
       "\t<tr><td>X36</td><td> 0.065221133</td><td>0.21202274</td><td> 0.30761386</td><td>0.7583761748</td><td>1.00000000</td><td>0.95265525</td><td>FALSE</td><td>FALSE</td><td>FALSE</td></tr>\n",
       "\t<tr><td>X67</td><td>-0.047743116</td><td>0.16332613</td><td>-0.29231768</td><td>0.7700437447</td><td>1.00000000</td><td>0.95265525</td><td>FALSE</td><td>FALSE</td><td>FALSE</td></tr>\n",
       "\t<tr><td>X11</td><td> 0.037021256</td><td>0.13061370</td><td> 0.28344083</td><td>0.7768389357</td><td>1.00000000</td><td>0.95265525</td><td>FALSE</td><td>FALSE</td><td>FALSE</td></tr>\n",
       "\t<tr><td>X10</td><td> 0.046378317</td><td>0.17111135</td><td> 0.27104173</td><td>0.7863589344</td><td>1.00000000</td><td>0.95265525</td><td>FALSE</td><td>FALSE</td><td>FALSE</td></tr>\n",
       "\t<tr><td>X17</td><td>-0.044698315</td><td>0.18781971</td><td>-0.23798522</td><td>0.8118925583</td><td>1.00000000</td><td>0.95265525</td><td>FALSE</td><td>FALSE</td><td>FALSE</td></tr>\n",
       "\t<tr><td>X2 </td><td>-0.038520646</td><td>0.17440349</td><td>-0.22087084</td><td>0.8251930022</td><td>1.00000000</td><td>0.95265525</td><td>FALSE</td><td>FALSE</td><td>FALSE</td></tr>\n",
       "\t<tr><td>X37</td><td>-0.024709438</td><td>0.13560160</td><td>-0.18222085</td><td>0.8554094146</td><td>1.00000000</td><td>0.95265525</td><td>FALSE</td><td>FALSE</td><td>FALSE</td></tr>\n",
       "\t<tr><td>X19</td><td>-0.032061102</td><td>0.18140349</td><td>-0.17673917</td><td>0.8597132733</td><td>1.00000000</td><td>0.95265525</td><td>FALSE</td><td>FALSE</td><td>FALSE</td></tr>\n",
       "\t<tr><td>X7 </td><td>-0.012583741</td><td>0.13327901</td><td>-0.09441653</td><td>0.9247782864</td><td>1.00000000</td><td>0.97590050</td><td>FALSE</td><td>FALSE</td><td>FALSE</td></tr>\n",
       "\t<tr><td>X63</td><td>-0.016349240</td><td>0.18167952</td><td>-0.08998945</td><td>0.9282956005</td><td>1.00000000</td><td>0.97590050</td><td>FALSE</td><td>FALSE</td><td>FALSE</td></tr>\n",
       "\t<tr><td>X62</td><td>-0.005997137</td><td>0.15184761</td><td>-0.03949444</td><td>0.9684961849</td><td>1.00000000</td><td>0.98264266</td><td>FALSE</td><td>FALSE</td><td>FALSE</td></tr>\n",
       "\t<tr><td>X72</td><td>-0.003260907</td><td>0.14988600</td><td>-0.02175592</td><td>0.9826426594</td><td>1.00000000</td><td>0.98264266</td><td>FALSE</td><td>FALSE</td><td>FALSE</td></tr>\n",
       "</tbody>\n",
       "</table>\n"
      ],
      "text/latex": [
       "A data.frame: 41 × 10\n",
       "\\begin{tabular}{llllllllll}\n",
       " Metabolite & Estimate & StdErr & Z & P-value & P.Bon & P.BH & SIG\\_BH & SIG\\_BON & SIG.RAW\\\\\n",
       " <chr> & <dbl> & <dbl> & <dbl> & <dbl> & <dbl> & <dbl> & <lgl> & <lgl> & <lgl>\\\\\n",
       "\\hline\n",
       "\t X3  &  0.914706422 & 0.27552036 &  3.31992320 & 0.0009004221 & 0.03691731 & 0.03691731 &  TRUE &  TRUE &  TRUE\\\\\n",
       "\t X70 & -0.492061979 & 0.18841929 & -2.61152659 & 0.0090138978 & 0.36956981 & 0.18478491 & FALSE & FALSE &  TRUE\\\\\n",
       "\t X12 & -0.325564431 & 0.13999074 & -2.32561404 & 0.0200391498 & 0.82160514 & 0.21965824 & FALSE & FALSE &  TRUE\\\\\n",
       "\t X6  & -0.377655651 & 0.16417524 & -2.30032044 & 0.0214300722 & 0.87863296 & 0.21965824 & FALSE & FALSE &  TRUE\\\\\n",
       "\t X34 & -0.365296414 & 0.19247812 & -1.89785939 & 0.0577146067 & 1.00000000 & 0.40164323 & FALSE & FALSE & FALSE\\\\\n",
       "\t X50 & -0.382542554 & 0.20980506 & -1.82332380 & 0.0682543633 & 1.00000000 & 0.40164323 & FALSE & FALSE & FALSE\\\\\n",
       "\t X8  & -0.289763938 & 0.15910419 & -1.82122123 & 0.0685732341 & 1.00000000 & 0.40164323 & FALSE & FALSE & FALSE\\\\\n",
       "\t X23 & -0.242019884 & 0.14614989 & -1.65597036 & 0.0977278220 & 1.00000000 & 0.50085509 & FALSE & FALSE & FALSE\\\\\n",
       "\t X27 &  0.256640268 & 0.16202453 &  1.58395931 & 0.1132029799 & 1.00000000 & 0.51570246 & FALSE & FALSE & FALSE\\\\\n",
       "\t X4  &  0.197172531 & 0.13705835 &  1.43860280 & 0.1502630918 & 1.00000000 & 0.60464692 & FALSE & FALSE & FALSE\\\\\n",
       "\t X48 & -0.132416747 & 0.09707177 & -1.36411180 & 0.1725323802 & 1.00000000 & 0.60464692 & FALSE & FALSE & FALSE\\\\\n",
       "\t X76 & -0.162355100 & 0.12025022 & -1.35014389 & 0.1769698307 & 1.00000000 & 0.60464692 & FALSE & FALSE & FALSE\\\\\n",
       "\t X13 & -0.187752727 & 0.16321596 & -1.15033311 & 0.2500066991 & 1.00000000 & 0.74203933 & FALSE & FALSE & FALSE\\\\\n",
       "\t X51 & -0.225411932 & 0.19746564 & -1.14152486 & 0.2536515727 & 1.00000000 & 0.74203933 & FALSE & FALSE & FALSE\\\\\n",
       "\t X47 & -0.224455637 & 0.20495500 & -1.09514592 & 0.2734527128 & 1.00000000 & 0.74203933 & FALSE & FALSE & FALSE\\\\\n",
       "\t X24 & -0.163493594 & 0.15437738 & -1.05905150 & 0.2895763255 & 1.00000000 & 0.74203933 & FALSE & FALSE & FALSE\\\\\n",
       "\t X32 & -0.159319609 & 0.16730276 & -0.95228319 & 0.3409533805 & 1.00000000 & 0.77011364 & FALSE & FALSE & FALSE\\\\\n",
       "\t X26 & -0.145177779 & 0.15604528 & -0.93035677 & 0.3521863921 & 1.00000000 & 0.77011364 & FALSE & FALSE & FALSE\\\\\n",
       "\t X55 &  0.146073164 & 0.15854722 &  0.92132278 & 0.3568819329 & 1.00000000 & 0.77011364 & FALSE & FALSE & FALSE\\\\\n",
       "\t X31 & -0.190990971 & 0.22157609 & -0.86196562 & 0.3887064354 & 1.00000000 & 0.77303166 & FALSE & FALSE & FALSE\\\\\n",
       "\t X29 & -0.113829309 & 0.13409210 & -0.84888903 & 0.3959430438 & 1.00000000 & 0.77303166 & FALSE & FALSE & FALSE\\\\\n",
       "\t X15 &  0.124948816 & 0.18221618 &  0.68571748 & 0.4928912843 & 1.00000000 & 0.91857012 & FALSE & FALSE & FALSE\\\\\n",
       "\t X35 & -0.102769408 & 0.15895174 & -0.64654472 & 0.5179266470 & 1.00000000 & 0.92326054 & FALSE & FALSE & FALSE\\\\\n",
       "\t X45 & -0.078438941 & 0.14707719 & -0.53331820 & 0.5938133313 & 1.00000000 & 0.95265525 & FALSE & FALSE & FALSE\\\\\n",
       "\t X65 &  0.081240355 & 0.16833824 &  0.48260190 & 0.6293784296 & 1.00000000 & 0.95265525 & FALSE & FALSE & FALSE\\\\\n",
       "\t X44 & -0.069566080 & 0.16175490 & -0.43007092 & 0.6671440503 & 1.00000000 & 0.95265525 & FALSE & FALSE & FALSE\\\\\n",
       "\t X54 & -0.071327846 & 0.18037322 & -0.39544588 & 0.6925138550 & 1.00000000 & 0.95265525 & FALSE & FALSE & FALSE\\\\\n",
       "\t X40 & -0.055404202 & 0.14085233 & -0.39334956 & 0.6940613222 & 1.00000000 & 0.95265525 & FALSE & FALSE & FALSE\\\\\n",
       "\t X5  &  0.046329165 & 0.12655825 &  0.36606988 & 0.7143129335 & 1.00000000 & 0.95265525 & FALSE & FALSE & FALSE\\\\\n",
       "\t X36 &  0.065221133 & 0.21202274 &  0.30761386 & 0.7583761748 & 1.00000000 & 0.95265525 & FALSE & FALSE & FALSE\\\\\n",
       "\t X67 & -0.047743116 & 0.16332613 & -0.29231768 & 0.7700437447 & 1.00000000 & 0.95265525 & FALSE & FALSE & FALSE\\\\\n",
       "\t X11 &  0.037021256 & 0.13061370 &  0.28344083 & 0.7768389357 & 1.00000000 & 0.95265525 & FALSE & FALSE & FALSE\\\\\n",
       "\t X10 &  0.046378317 & 0.17111135 &  0.27104173 & 0.7863589344 & 1.00000000 & 0.95265525 & FALSE & FALSE & FALSE\\\\\n",
       "\t X17 & -0.044698315 & 0.18781971 & -0.23798522 & 0.8118925583 & 1.00000000 & 0.95265525 & FALSE & FALSE & FALSE\\\\\n",
       "\t X2  & -0.038520646 & 0.17440349 & -0.22087084 & 0.8251930022 & 1.00000000 & 0.95265525 & FALSE & FALSE & FALSE\\\\\n",
       "\t X37 & -0.024709438 & 0.13560160 & -0.18222085 & 0.8554094146 & 1.00000000 & 0.95265525 & FALSE & FALSE & FALSE\\\\\n",
       "\t X19 & -0.032061102 & 0.18140349 & -0.17673917 & 0.8597132733 & 1.00000000 & 0.95265525 & FALSE & FALSE & FALSE\\\\\n",
       "\t X7  & -0.012583741 & 0.13327901 & -0.09441653 & 0.9247782864 & 1.00000000 & 0.97590050 & FALSE & FALSE & FALSE\\\\\n",
       "\t X63 & -0.016349240 & 0.18167952 & -0.08998945 & 0.9282956005 & 1.00000000 & 0.97590050 & FALSE & FALSE & FALSE\\\\\n",
       "\t X62 & -0.005997137 & 0.15184761 & -0.03949444 & 0.9684961849 & 1.00000000 & 0.98264266 & FALSE & FALSE & FALSE\\\\\n",
       "\t X72 & -0.003260907 & 0.14988600 & -0.02175592 & 0.9826426594 & 1.00000000 & 0.98264266 & FALSE & FALSE & FALSE\\\\\n",
       "\\end{tabular}\n"
      ],
      "text/markdown": [
       "\n",
       "A data.frame: 41 × 10\n",
       "\n",
       "| Metabolite &lt;chr&gt; | Estimate &lt;dbl&gt; | StdErr &lt;dbl&gt; | Z &lt;dbl&gt; | P-value &lt;dbl&gt; | P.Bon &lt;dbl&gt; | P.BH &lt;dbl&gt; | SIG_BH &lt;lgl&gt; | SIG_BON &lt;lgl&gt; | SIG.RAW &lt;lgl&gt; |\n",
       "|---|---|---|---|---|---|---|---|---|---|\n",
       "| X3  |  0.914706422 | 0.27552036 |  3.31992320 | 0.0009004221 | 0.03691731 | 0.03691731 |  TRUE |  TRUE |  TRUE |\n",
       "| X70 | -0.492061979 | 0.18841929 | -2.61152659 | 0.0090138978 | 0.36956981 | 0.18478491 | FALSE | FALSE |  TRUE |\n",
       "| X12 | -0.325564431 | 0.13999074 | -2.32561404 | 0.0200391498 | 0.82160514 | 0.21965824 | FALSE | FALSE |  TRUE |\n",
       "| X6  | -0.377655651 | 0.16417524 | -2.30032044 | 0.0214300722 | 0.87863296 | 0.21965824 | FALSE | FALSE |  TRUE |\n",
       "| X34 | -0.365296414 | 0.19247812 | -1.89785939 | 0.0577146067 | 1.00000000 | 0.40164323 | FALSE | FALSE | FALSE |\n",
       "| X50 | -0.382542554 | 0.20980506 | -1.82332380 | 0.0682543633 | 1.00000000 | 0.40164323 | FALSE | FALSE | FALSE |\n",
       "| X8  | -0.289763938 | 0.15910419 | -1.82122123 | 0.0685732341 | 1.00000000 | 0.40164323 | FALSE | FALSE | FALSE |\n",
       "| X23 | -0.242019884 | 0.14614989 | -1.65597036 | 0.0977278220 | 1.00000000 | 0.50085509 | FALSE | FALSE | FALSE |\n",
       "| X27 |  0.256640268 | 0.16202453 |  1.58395931 | 0.1132029799 | 1.00000000 | 0.51570246 | FALSE | FALSE | FALSE |\n",
       "| X4  |  0.197172531 | 0.13705835 |  1.43860280 | 0.1502630918 | 1.00000000 | 0.60464692 | FALSE | FALSE | FALSE |\n",
       "| X48 | -0.132416747 | 0.09707177 | -1.36411180 | 0.1725323802 | 1.00000000 | 0.60464692 | FALSE | FALSE | FALSE |\n",
       "| X76 | -0.162355100 | 0.12025022 | -1.35014389 | 0.1769698307 | 1.00000000 | 0.60464692 | FALSE | FALSE | FALSE |\n",
       "| X13 | -0.187752727 | 0.16321596 | -1.15033311 | 0.2500066991 | 1.00000000 | 0.74203933 | FALSE | FALSE | FALSE |\n",
       "| X51 | -0.225411932 | 0.19746564 | -1.14152486 | 0.2536515727 | 1.00000000 | 0.74203933 | FALSE | FALSE | FALSE |\n",
       "| X47 | -0.224455637 | 0.20495500 | -1.09514592 | 0.2734527128 | 1.00000000 | 0.74203933 | FALSE | FALSE | FALSE |\n",
       "| X24 | -0.163493594 | 0.15437738 | -1.05905150 | 0.2895763255 | 1.00000000 | 0.74203933 | FALSE | FALSE | FALSE |\n",
       "| X32 | -0.159319609 | 0.16730276 | -0.95228319 | 0.3409533805 | 1.00000000 | 0.77011364 | FALSE | FALSE | FALSE |\n",
       "| X26 | -0.145177779 | 0.15604528 | -0.93035677 | 0.3521863921 | 1.00000000 | 0.77011364 | FALSE | FALSE | FALSE |\n",
       "| X55 |  0.146073164 | 0.15854722 |  0.92132278 | 0.3568819329 | 1.00000000 | 0.77011364 | FALSE | FALSE | FALSE |\n",
       "| X31 | -0.190990971 | 0.22157609 | -0.86196562 | 0.3887064354 | 1.00000000 | 0.77303166 | FALSE | FALSE | FALSE |\n",
       "| X29 | -0.113829309 | 0.13409210 | -0.84888903 | 0.3959430438 | 1.00000000 | 0.77303166 | FALSE | FALSE | FALSE |\n",
       "| X15 |  0.124948816 | 0.18221618 |  0.68571748 | 0.4928912843 | 1.00000000 | 0.91857012 | FALSE | FALSE | FALSE |\n",
       "| X35 | -0.102769408 | 0.15895174 | -0.64654472 | 0.5179266470 | 1.00000000 | 0.92326054 | FALSE | FALSE | FALSE |\n",
       "| X45 | -0.078438941 | 0.14707719 | -0.53331820 | 0.5938133313 | 1.00000000 | 0.95265525 | FALSE | FALSE | FALSE |\n",
       "| X65 |  0.081240355 | 0.16833824 |  0.48260190 | 0.6293784296 | 1.00000000 | 0.95265525 | FALSE | FALSE | FALSE |\n",
       "| X44 | -0.069566080 | 0.16175490 | -0.43007092 | 0.6671440503 | 1.00000000 | 0.95265525 | FALSE | FALSE | FALSE |\n",
       "| X54 | -0.071327846 | 0.18037322 | -0.39544588 | 0.6925138550 | 1.00000000 | 0.95265525 | FALSE | FALSE | FALSE |\n",
       "| X40 | -0.055404202 | 0.14085233 | -0.39334956 | 0.6940613222 | 1.00000000 | 0.95265525 | FALSE | FALSE | FALSE |\n",
       "| X5  |  0.046329165 | 0.12655825 |  0.36606988 | 0.7143129335 | 1.00000000 | 0.95265525 | FALSE | FALSE | FALSE |\n",
       "| X36 |  0.065221133 | 0.21202274 |  0.30761386 | 0.7583761748 | 1.00000000 | 0.95265525 | FALSE | FALSE | FALSE |\n",
       "| X67 | -0.047743116 | 0.16332613 | -0.29231768 | 0.7700437447 | 1.00000000 | 0.95265525 | FALSE | FALSE | FALSE |\n",
       "| X11 |  0.037021256 | 0.13061370 |  0.28344083 | 0.7768389357 | 1.00000000 | 0.95265525 | FALSE | FALSE | FALSE |\n",
       "| X10 |  0.046378317 | 0.17111135 |  0.27104173 | 0.7863589344 | 1.00000000 | 0.95265525 | FALSE | FALSE | FALSE |\n",
       "| X17 | -0.044698315 | 0.18781971 | -0.23798522 | 0.8118925583 | 1.00000000 | 0.95265525 | FALSE | FALSE | FALSE |\n",
       "| X2  | -0.038520646 | 0.17440349 | -0.22087084 | 0.8251930022 | 1.00000000 | 0.95265525 | FALSE | FALSE | FALSE |\n",
       "| X37 | -0.024709438 | 0.13560160 | -0.18222085 | 0.8554094146 | 1.00000000 | 0.95265525 | FALSE | FALSE | FALSE |\n",
       "| X19 | -0.032061102 | 0.18140349 | -0.17673917 | 0.8597132733 | 1.00000000 | 0.95265525 | FALSE | FALSE | FALSE |\n",
       "| X7  | -0.012583741 | 0.13327901 | -0.09441653 | 0.9247782864 | 1.00000000 | 0.97590050 | FALSE | FALSE | FALSE |\n",
       "| X63 | -0.016349240 | 0.18167952 | -0.08998945 | 0.9282956005 | 1.00000000 | 0.97590050 | FALSE | FALSE | FALSE |\n",
       "| X62 | -0.005997137 | 0.15184761 | -0.03949444 | 0.9684961849 | 1.00000000 | 0.98264266 | FALSE | FALSE | FALSE |\n",
       "| X72 | -0.003260907 | 0.14988600 | -0.02175592 | 0.9826426594 | 1.00000000 | 0.98264266 | FALSE | FALSE | FALSE |\n",
       "\n"
      ],
      "text/plain": [
       "   Metabolite Estimate     StdErr     Z           P-value      P.Bon     \n",
       "1  X3          0.914706422 0.27552036  3.31992320 0.0009004221 0.03691731\n",
       "2  X70        -0.492061979 0.18841929 -2.61152659 0.0090138978 0.36956981\n",
       "3  X12        -0.325564431 0.13999074 -2.32561404 0.0200391498 0.82160514\n",
       "4  X6         -0.377655651 0.16417524 -2.30032044 0.0214300722 0.87863296\n",
       "5  X34        -0.365296414 0.19247812 -1.89785939 0.0577146067 1.00000000\n",
       "6  X50        -0.382542554 0.20980506 -1.82332380 0.0682543633 1.00000000\n",
       "7  X8         -0.289763938 0.15910419 -1.82122123 0.0685732341 1.00000000\n",
       "8  X23        -0.242019884 0.14614989 -1.65597036 0.0977278220 1.00000000\n",
       "9  X27         0.256640268 0.16202453  1.58395931 0.1132029799 1.00000000\n",
       "10 X4          0.197172531 0.13705835  1.43860280 0.1502630918 1.00000000\n",
       "11 X48        -0.132416747 0.09707177 -1.36411180 0.1725323802 1.00000000\n",
       "12 X76        -0.162355100 0.12025022 -1.35014389 0.1769698307 1.00000000\n",
       "13 X13        -0.187752727 0.16321596 -1.15033311 0.2500066991 1.00000000\n",
       "14 X51        -0.225411932 0.19746564 -1.14152486 0.2536515727 1.00000000\n",
       "15 X47        -0.224455637 0.20495500 -1.09514592 0.2734527128 1.00000000\n",
       "16 X24        -0.163493594 0.15437738 -1.05905150 0.2895763255 1.00000000\n",
       "17 X32        -0.159319609 0.16730276 -0.95228319 0.3409533805 1.00000000\n",
       "18 X26        -0.145177779 0.15604528 -0.93035677 0.3521863921 1.00000000\n",
       "19 X55         0.146073164 0.15854722  0.92132278 0.3568819329 1.00000000\n",
       "20 X31        -0.190990971 0.22157609 -0.86196562 0.3887064354 1.00000000\n",
       "21 X29        -0.113829309 0.13409210 -0.84888903 0.3959430438 1.00000000\n",
       "22 X15         0.124948816 0.18221618  0.68571748 0.4928912843 1.00000000\n",
       "23 X35        -0.102769408 0.15895174 -0.64654472 0.5179266470 1.00000000\n",
       "24 X45        -0.078438941 0.14707719 -0.53331820 0.5938133313 1.00000000\n",
       "25 X65         0.081240355 0.16833824  0.48260190 0.6293784296 1.00000000\n",
       "26 X44        -0.069566080 0.16175490 -0.43007092 0.6671440503 1.00000000\n",
       "27 X54        -0.071327846 0.18037322 -0.39544588 0.6925138550 1.00000000\n",
       "28 X40        -0.055404202 0.14085233 -0.39334956 0.6940613222 1.00000000\n",
       "29 X5          0.046329165 0.12655825  0.36606988 0.7143129335 1.00000000\n",
       "30 X36         0.065221133 0.21202274  0.30761386 0.7583761748 1.00000000\n",
       "31 X67        -0.047743116 0.16332613 -0.29231768 0.7700437447 1.00000000\n",
       "32 X11         0.037021256 0.13061370  0.28344083 0.7768389357 1.00000000\n",
       "33 X10         0.046378317 0.17111135  0.27104173 0.7863589344 1.00000000\n",
       "34 X17        -0.044698315 0.18781971 -0.23798522 0.8118925583 1.00000000\n",
       "35 X2         -0.038520646 0.17440349 -0.22087084 0.8251930022 1.00000000\n",
       "36 X37        -0.024709438 0.13560160 -0.18222085 0.8554094146 1.00000000\n",
       "37 X19        -0.032061102 0.18140349 -0.17673917 0.8597132733 1.00000000\n",
       "38 X7         -0.012583741 0.13327901 -0.09441653 0.9247782864 1.00000000\n",
       "39 X63        -0.016349240 0.18167952 -0.08998945 0.9282956005 1.00000000\n",
       "40 X62        -0.005997137 0.15184761 -0.03949444 0.9684961849 1.00000000\n",
       "41 X72        -0.003260907 0.14988600 -0.02175592 0.9826426594 1.00000000\n",
       "   P.BH       SIG_BH SIG_BON SIG.RAW\n",
       "1  0.03691731  TRUE   TRUE    TRUE  \n",
       "2  0.18478491 FALSE  FALSE    TRUE  \n",
       "3  0.21965824 FALSE  FALSE    TRUE  \n",
       "4  0.21965824 FALSE  FALSE    TRUE  \n",
       "5  0.40164323 FALSE  FALSE   FALSE  \n",
       "6  0.40164323 FALSE  FALSE   FALSE  \n",
       "7  0.40164323 FALSE  FALSE   FALSE  \n",
       "8  0.50085509 FALSE  FALSE   FALSE  \n",
       "9  0.51570246 FALSE  FALSE   FALSE  \n",
       "10 0.60464692 FALSE  FALSE   FALSE  \n",
       "11 0.60464692 FALSE  FALSE   FALSE  \n",
       "12 0.60464692 FALSE  FALSE   FALSE  \n",
       "13 0.74203933 FALSE  FALSE   FALSE  \n",
       "14 0.74203933 FALSE  FALSE   FALSE  \n",
       "15 0.74203933 FALSE  FALSE   FALSE  \n",
       "16 0.74203933 FALSE  FALSE   FALSE  \n",
       "17 0.77011364 FALSE  FALSE   FALSE  \n",
       "18 0.77011364 FALSE  FALSE   FALSE  \n",
       "19 0.77011364 FALSE  FALSE   FALSE  \n",
       "20 0.77303166 FALSE  FALSE   FALSE  \n",
       "21 0.77303166 FALSE  FALSE   FALSE  \n",
       "22 0.91857012 FALSE  FALSE   FALSE  \n",
       "23 0.92326054 FALSE  FALSE   FALSE  \n",
       "24 0.95265525 FALSE  FALSE   FALSE  \n",
       "25 0.95265525 FALSE  FALSE   FALSE  \n",
       "26 0.95265525 FALSE  FALSE   FALSE  \n",
       "27 0.95265525 FALSE  FALSE   FALSE  \n",
       "28 0.95265525 FALSE  FALSE   FALSE  \n",
       "29 0.95265525 FALSE  FALSE   FALSE  \n",
       "30 0.95265525 FALSE  FALSE   FALSE  \n",
       "31 0.95265525 FALSE  FALSE   FALSE  \n",
       "32 0.95265525 FALSE  FALSE   FALSE  \n",
       "33 0.95265525 FALSE  FALSE   FALSE  \n",
       "34 0.95265525 FALSE  FALSE   FALSE  \n",
       "35 0.95265525 FALSE  FALSE   FALSE  \n",
       "36 0.95265525 FALSE  FALSE   FALSE  \n",
       "37 0.95265525 FALSE  FALSE   FALSE  \n",
       "38 0.97590050 FALSE  FALSE   FALSE  \n",
       "39 0.97590050 FALSE  FALSE   FALSE  \n",
       "40 0.98264266 FALSE  FALSE   FALSE  \n",
       "41 0.98264266 FALSE  FALSE   FALSE  "
      ]
     },
     "metadata": {},
     "output_type": "display_data"
    }
   ],
   "source": [
    "voc_logistic_res_df"
   ]
  },
  {
   "cell_type": "code",
   "execution_count": 293,
   "metadata": {},
   "outputs": [
    {
     "data": {
      "text/html": [
       "'data.frame'"
      ],
      "text/latex": [
       "'data.frame'"
      ],
      "text/markdown": [
       "'data.frame'"
      ],
      "text/plain": [
       "[1] \"data.frame\""
      ]
     },
     "metadata": {},
     "output_type": "display_data"
    },
    {
     "data": {
      "text/plain": [
       "NULL"
      ]
     },
     "metadata": {},
     "output_type": "display_data"
    }
   ],
   "source": [
    "class(df_censored_voc)\n",
    "dim(voc_mets)"
   ]
  },
  {
   "cell_type": "code",
   "execution_count": null,
   "metadata": {},
   "outputs": [],
   "source": []
  },
  {
   "cell_type": "code",
   "execution_count": 294,
   "metadata": {},
   "outputs": [
    {
     "name": "stdout",
     "output_type": "stream",
     "text": [
      "[1] \"CONTROL\"\n",
      "$adapt_delta\n",
      "[1] 0.8\n",
      "\n",
      "$max_treedepth\n",
      "[1] 10\n",
      "\n",
      "[1] \"IMPUTING\"\n",
      "[1] 538\n"
     ]
    },
    {
     "name": "stderr",
     "output_type": "stream",
     "text": [
      "Warning message:\n",
      "“Tail Effective Samples Size (ESS) is too low, indicating posterior variances and tail quantiles may be unreliable.\n",
      "Running the chains for more iterations may help. See\n",
      "http://mc-stan.org/misc/warnings.html#tail-ess”\n"
     ]
    }
   ],
   "source": [
    "voc_bayes_res = run_bayes_model(df_censored = df_censored_voc, metabolites = voc_mets, y_column = 'target')"
   ]
  },
  {
   "cell_type": "code",
   "execution_count": 295,
   "metadata": {},
   "outputs": [
    {
     "data": {
      "text/html": [
       "0.121632002472699"
      ],
      "text/latex": [
       "0.121632002472699"
      ],
      "text/markdown": [
       "0.121632002472699"
      ],
      "text/plain": [
       "[1] 0.121632"
      ]
     },
     "metadata": {},
     "output_type": "display_data"
    },
    {
     "data": {
      "text/html": [
       "19.8628189443782"
      ],
      "text/latex": [
       "19.8628189443782"
      ],
      "text/markdown": [
       "19.8628189443782"
      ],
      "text/plain": [
       "[1] 19.86282"
      ]
     },
     "metadata": {},
     "output_type": "display_data"
    },
    {
     "name": "stderr",
     "output_type": "stream",
     "text": [
      "Warning message:\n",
      "“Column `Metabolite` joining factor and character vector, coercing into character vector”\n"
     ]
    },
    {
     "data": {
      "text/html": [
       "<table>\n",
       "<caption>A data.frame: 41 × 20</caption>\n",
       "<thead>\n",
       "\t<tr><th scope=col>Metabolite</th><th scope=col>Param</th><th scope=col>mean</th><th scope=col>sd</th><th scope=col>X2.5.</th><th scope=col>X50.</th><th scope=col>X97.5.</th><th scope=col>Rhat</th><th scope=col>Z.x</th><th scope=col>P_GT_LT_0</th><th scope=col>SIG_BAYES</th><th scope=col>Estimate</th><th scope=col>StdErr</th><th scope=col>Z.y</th><th scope=col>P-value</th><th scope=col>P.Bon</th><th scope=col>P.BH</th><th scope=col>SIG_BH</th><th scope=col>SIG_BON</th><th scope=col>SIG.RAW</th></tr>\n",
       "\t<tr><th scope=col>&lt;chr&gt;</th><th scope=col>&lt;chr&gt;</th><th scope=col>&lt;dbl&gt;</th><th scope=col>&lt;dbl&gt;</th><th scope=col>&lt;dbl&gt;</th><th scope=col>&lt;dbl&gt;</th><th scope=col>&lt;dbl&gt;</th><th scope=col>&lt;dbl&gt;</th><th scope=col>&lt;dbl&gt;</th><th scope=col>&lt;dbl&gt;</th><th scope=col>&lt;lgl&gt;</th><th scope=col>&lt;dbl&gt;</th><th scope=col>&lt;dbl&gt;</th><th scope=col>&lt;dbl&gt;</th><th scope=col>&lt;dbl&gt;</th><th scope=col>&lt;dbl&gt;</th><th scope=col>&lt;dbl&gt;</th><th scope=col>&lt;lgl&gt;</th><th scope=col>&lt;lgl&gt;</th><th scope=col>&lt;lgl&gt;</th></tr>\n",
       "</thead>\n",
       "<tbody>\n",
       "\t<tr><td>X3 </td><td>beta_x[2] </td><td> 0.271690984</td><td>0.20585602</td><td>-0.02157329</td><td> 0.238227245</td><td>0.77553366</td><td>1.0056203</td><td> 1.31981070</td><td>0.96000</td><td>FALSE</td><td> 0.914706422</td><td>0.27552036</td><td> 3.31992320</td><td>0.0009004221</td><td>0.03691731</td><td>0.03691731</td><td> TRUE</td><td> TRUE</td><td> TRUE</td></tr>\n",
       "\t<tr><td>X12</td><td>beta_x[10]</td><td>-0.154076794</td><td>0.11807476</td><td>-0.42087609</td><td>-0.144268596</td><td>0.03862213</td><td>1.0032110</td><td>-1.30490884</td><td>0.92550</td><td>FALSE</td><td>-0.325564431</td><td>0.13999074</td><td>-2.32561404</td><td>0.0200391498</td><td>0.82160514</td><td>0.21965824</td><td>FALSE</td><td>FALSE</td><td> TRUE</td></tr>\n",
       "\t<tr><td>X70</td><td>beta_x[39]</td><td>-0.185272454</td><td>0.14995730</td><td>-0.52661489</td><td>-0.165562174</td><td>0.04549855</td><td>1.0065158</td><td>-1.23550143</td><td>0.91925</td><td>FALSE</td><td>-0.492061979</td><td>0.18841929</td><td>-2.61152659</td><td>0.0090138978</td><td>0.36956981</td><td>0.18478491</td><td>FALSE</td><td>FALSE</td><td> TRUE</td></tr>\n",
       "\t<tr><td>X6 </td><td>beta_x[5] </td><td>-0.142874444</td><td>0.12084181</td><td>-0.41920387</td><td>-0.129334518</td><td>0.05659793</td><td>1.0021607</td><td>-1.18232626</td><td>0.90225</td><td>FALSE</td><td>-0.377655651</td><td>0.16417524</td><td>-2.30032044</td><td>0.0214300722</td><td>0.87863296</td><td>0.21965824</td><td>FALSE</td><td>FALSE</td><td> TRUE</td></tr>\n",
       "\t<tr><td>X8 </td><td>beta_x[7] </td><td>-0.127621637</td><td>0.11023146</td><td>-0.37071775</td><td>-0.117640228</td><td>0.05400695</td><td>1.0009950</td><td>-1.15776058</td><td>0.88950</td><td>FALSE</td><td>-0.289763938</td><td>0.15910419</td><td>-1.82122123</td><td>0.0685732341</td><td>1.00000000</td><td>0.40164323</td><td>FALSE</td><td>FALSE</td><td>FALSE</td></tr>\n",
       "\t<tr><td>X48</td><td>beta_x[30]</td><td>-0.088471397</td><td>0.08405412</td><td>-0.26409491</td><td>-0.084386480</td><td>0.06381241</td><td>1.0012964</td><td>-1.05255272</td><td>0.85375</td><td>FALSE</td><td>-0.132416747</td><td>0.09707177</td><td>-1.36411180</td><td>0.1725323802</td><td>1.00000000</td><td>0.60464692</td><td>FALSE</td><td>FALSE</td><td>FALSE</td></tr>\n",
       "\t<tr><td>X76</td><td>beta_x[41]</td><td>-0.085347179</td><td>0.08744138</td><td>-0.27058196</td><td>-0.080283929</td><td>0.07186353</td><td>0.9999025</td><td>-0.97605026</td><td>0.84925</td><td>FALSE</td><td>-0.162355100</td><td>0.12025022</td><td>-1.35014389</td><td>0.1769698307</td><td>1.00000000</td><td>0.60464692</td><td>FALSE</td><td>FALSE</td><td>FALSE</td></tr>\n",
       "\t<tr><td>X34</td><td>beta_x[22]</td><td>-0.119640671</td><td>0.12450689</td><td>-0.40302177</td><td>-0.105390409</td><td>0.08524495</td><td>1.0014240</td><td>-0.96091605</td><td>0.84625</td><td>FALSE</td><td>-0.365296414</td><td>0.19247812</td><td>-1.89785939</td><td>0.0577146067</td><td>1.00000000</td><td>0.40164323</td><td>FALSE</td><td>FALSE</td><td>FALSE</td></tr>\n",
       "\t<tr><td>X23</td><td>beta_x[15]</td><td>-0.107591322</td><td>0.10858988</td><td>-0.34428521</td><td>-0.097512911</td><td>0.07503856</td><td>1.0028976</td><td>-0.99080428</td><td>0.84275</td><td>FALSE</td><td>-0.242019884</td><td>0.14614989</td><td>-1.65597036</td><td>0.0977278220</td><td>1.00000000</td><td>0.50085509</td><td>FALSE</td><td>FALSE</td><td>FALSE</td></tr>\n",
       "\t<tr><td>X27</td><td>beta_x[18]</td><td> 0.099705898</td><td>0.11014633</td><td>-0.08730018</td><td> 0.087468936</td><td>0.35169477</td><td>1.0025345</td><td> 0.90521308</td><td>0.83275</td><td>FALSE</td><td> 0.256640268</td><td>0.16202453</td><td> 1.58395931</td><td>0.1132029799</td><td>1.00000000</td><td>0.51570246</td><td>FALSE</td><td>FALSE</td><td>FALSE</td></tr>\n",
       "\t<tr><td>X4 </td><td>beta_x[3] </td><td> 0.092241418</td><td>0.09943449</td><td>-0.08239344</td><td> 0.085897258</td><td>0.30763061</td><td>1.0003929</td><td> 0.92766016</td><td>0.83075</td><td>FALSE</td><td> 0.197172531</td><td>0.13705835</td><td> 1.43860280</td><td>0.1502630918</td><td>1.00000000</td><td>0.60464692</td><td>FALSE</td><td>FALSE</td><td>FALSE</td></tr>\n",
       "\t<tr><td>X50</td><td>beta_x[31]</td><td>-0.108998389</td><td>0.12426626</td><td>-0.38993131</td><td>-0.092875122</td><td>0.09237839</td><td>1.0029158</td><td>-0.87713582</td><td>0.81300</td><td>FALSE</td><td>-0.382542554</td><td>0.20980506</td><td>-1.82332380</td><td>0.0682543633</td><td>1.00000000</td><td>0.40164323</td><td>FALSE</td><td>FALSE</td><td>FALSE</td></tr>\n",
       "\t<tr><td>X24</td><td>beta_x[16]</td><td>-0.066970061</td><td>0.10734637</td><td>-0.30581505</td><td>-0.058366447</td><td>0.13339437</td><td>1.0015749</td><td>-0.62386890</td><td>0.73775</td><td>FALSE</td><td>-0.163493594</td><td>0.15437738</td><td>-1.05905150</td><td>0.2895763255</td><td>1.00000000</td><td>0.74203933</td><td>FALSE</td><td>FALSE</td><td>FALSE</td></tr>\n",
       "\t<tr><td>X32</td><td>beta_x[21]</td><td>-0.065376005</td><td>0.10453755</td><td>-0.28767864</td><td>-0.056978971</td><td>0.12594434</td><td>1.0004657</td><td>-0.62538300</td><td>0.73600</td><td>FALSE</td><td>-0.159319609</td><td>0.16730276</td><td>-0.95228319</td><td>0.3409533805</td><td>1.00000000</td><td>0.77011364</td><td>FALSE</td><td>FALSE</td><td>FALSE</td></tr>\n",
       "\t<tr><td>X51</td><td>beta_x[32]</td><td>-0.072910519</td><td>0.11366814</td><td>-0.32425569</td><td>-0.062730093</td><td>0.12134244</td><td>1.0004991</td><td>-0.64143322</td><td>0.73275</td><td>FALSE</td><td>-0.225411932</td><td>0.19746564</td><td>-1.14152486</td><td>0.2536515727</td><td>1.00000000</td><td>0.74203933</td><td>FALSE</td><td>FALSE</td><td>FALSE</td></tr>\n",
       "\t<tr><td>X45</td><td>beta_x[28]</td><td>-0.052968537</td><td>0.09163937</td><td>-0.24627038</td><td>-0.047883448</td><td>0.12330811</td><td>1.0002895</td><td>-0.57801073</td><td>0.72375</td><td>FALSE</td><td>-0.078438941</td><td>0.14707719</td><td>-0.53331820</td><td>0.5938133313</td><td>1.00000000</td><td>0.95265525</td><td>FALSE</td><td>FALSE</td><td>FALSE</td></tr>\n",
       "\t<tr><td>X13</td><td>beta_x[11]</td><td>-0.061963020</td><td>0.10346272</td><td>-0.28648905</td><td>-0.054779565</td><td>0.12657012</td><td>1.0003304</td><td>-0.59889226</td><td>0.72200</td><td>FALSE</td><td>-0.187752727</td><td>0.16321596</td><td>-1.15033311</td><td>0.2500066991</td><td>1.00000000</td><td>0.74203933</td><td>FALSE</td><td>FALSE</td><td>FALSE</td></tr>\n",
       "\t<tr><td>X47</td><td>beta_x[29]</td><td>-0.067080678</td><td>0.11587556</td><td>-0.32723419</td><td>-0.054990406</td><td>0.13561783</td><td>1.0010278</td><td>-0.57890275</td><td>0.71975</td><td>FALSE</td><td>-0.224455637</td><td>0.20495500</td><td>-1.09514592</td><td>0.2734527128</td><td>1.00000000</td><td>0.74203933</td><td>FALSE</td><td>FALSE</td><td>FALSE</td></tr>\n",
       "\t<tr><td>X26</td><td>beta_x[17]</td><td>-0.060132688</td><td>0.10402949</td><td>-0.28214259</td><td>-0.053475144</td><td>0.12881212</td><td>1.0006365</td><td>-0.57803499</td><td>0.71850</td><td>FALSE</td><td>-0.145177779</td><td>0.15604528</td><td>-0.93035677</td><td>0.3521863921</td><td>1.00000000</td><td>0.77011364</td><td>FALSE</td><td>FALSE</td><td>FALSE</td></tr>\n",
       "\t<tr><td>X29</td><td>beta_x[19]</td><td>-0.052301531</td><td>0.09756498</td><td>-0.26168334</td><td>-0.045229895</td><td>0.12861004</td><td>0.9993831</td><td>-0.53606867</td><td>0.69075</td><td>FALSE</td><td>-0.113829309</td><td>0.13409210</td><td>-0.84888903</td><td>0.3959430438</td><td>1.00000000</td><td>0.77303166</td><td>FALSE</td><td>FALSE</td><td>FALSE</td></tr>\n",
       "\t<tr><td>X15</td><td>beta_x[12]</td><td> 0.049578709</td><td>0.10593081</td><td>-0.15396973</td><td> 0.041471462</td><td>0.26966916</td><td>1.0004053</td><td> 0.46802917</td><td>0.68000</td><td>FALSE</td><td> 0.124948816</td><td>0.18221618</td><td> 0.68571748</td><td>0.4928912843</td><td>1.00000000</td><td>0.91857012</td><td>FALSE</td><td>FALSE</td><td>FALSE</td></tr>\n",
       "\t<tr><td>X31</td><td>beta_x[20]</td><td>-0.048335953</td><td>0.11500827</td><td>-0.30283830</td><td>-0.039436092</td><td>0.16819795</td><td>0.9997192</td><td>-0.42028240</td><td>0.66200</td><td>FALSE</td><td>-0.190990971</td><td>0.22157609</td><td>-0.86196562</td><td>0.3887064354</td><td>1.00000000</td><td>0.77303166</td><td>FALSE</td><td>FALSE</td><td>FALSE</td></tr>\n",
       "\t<tr><td>X55</td><td>beta_x[34]</td><td> 0.041318996</td><td>0.10178125</td><td>-0.15538024</td><td> 0.036950804</td><td>0.25389404</td><td>0.9993190</td><td> 0.40595883</td><td>0.65525</td><td>FALSE</td><td> 0.146073164</td><td>0.15854722</td><td> 0.92132278</td><td>0.3568819329</td><td>1.00000000</td><td>0.77011364</td><td>FALSE</td><td>FALSE</td><td>FALSE</td></tr>\n",
       "\t<tr><td>X35</td><td>beta_x[23]</td><td>-0.041908693</td><td>0.10271120</td><td>-0.25446697</td><td>-0.034556127</td><td>0.15137317</td><td>0.9996022</td><td>-0.40802456</td><td>0.64950</td><td>FALSE</td><td>-0.102769408</td><td>0.15895174</td><td>-0.64654472</td><td>0.5179266470</td><td>1.00000000</td><td>0.92326054</td><td>FALSE</td><td>FALSE</td><td>FALSE</td></tr>\n",
       "\t<tr><td>X5 </td><td>beta_x[4] </td><td> 0.026975536</td><td>0.08921693</td><td>-0.14875348</td><td> 0.023964695</td><td>0.20735680</td><td>0.9994955</td><td> 0.30235892</td><td>0.61950</td><td>FALSE</td><td> 0.046329165</td><td>0.12655825</td><td> 0.36606988</td><td>0.7143129335</td><td>1.00000000</td><td>0.95265525</td><td>FALSE</td><td>FALSE</td><td>FALSE</td></tr>\n",
       "\t<tr><td>X44</td><td>beta_x[27]</td><td>-0.031511226</td><td>0.10314716</td><td>-0.24245858</td><td>-0.027176608</td><td>0.17095728</td><td>0.9995596</td><td>-0.30549776</td><td>0.61275</td><td>FALSE</td><td>-0.069566080</td><td>0.16175490</td><td>-0.43007092</td><td>0.6671440503</td><td>1.00000000</td><td>0.95265525</td><td>FALSE</td><td>FALSE</td><td>FALSE</td></tr>\n",
       "\t<tr><td>X40</td><td>beta_x[26]</td><td>-0.026116098</td><td>0.09802835</td><td>-0.23318566</td><td>-0.024241624</td><td>0.16054429</td><td>0.9995885</td><td>-0.26641374</td><td>0.60975</td><td>FALSE</td><td>-0.055404202</td><td>0.14085233</td><td>-0.39334956</td><td>0.6940613222</td><td>1.00000000</td><td>0.95265525</td><td>FALSE</td><td>FALSE</td><td>FALSE</td></tr>\n",
       "\t<tr><td>X54</td><td>beta_x[33]</td><td>-0.023817474</td><td>0.10614864</td><td>-0.25148170</td><td>-0.019619971</td><td>0.17970022</td><td>1.0003313</td><td>-0.22437851</td><td>0.58650</td><td>FALSE</td><td>-0.071327846</td><td>0.18037322</td><td>-0.39544588</td><td>0.6925138550</td><td>1.00000000</td><td>0.95265525</td><td>FALSE</td><td>FALSE</td><td>FALSE</td></tr>\n",
       "\t<tr><td>X10</td><td>beta_x[8] </td><td> 0.022890127</td><td>0.10353742</td><td>-0.18159053</td><td> 0.019201357</td><td>0.23469155</td><td>0.9994496</td><td> 0.22108071</td><td>0.58550</td><td>FALSE</td><td> 0.046378317</td><td>0.17111135</td><td> 0.27104173</td><td>0.7863589344</td><td>1.00000000</td><td>0.95265525</td><td>FALSE</td><td>FALSE</td><td>FALSE</td></tr>\n",
       "\t<tr><td>X11</td><td>beta_x[9] </td><td> 0.019491996</td><td>0.09151373</td><td>-0.16373555</td><td> 0.017369493</td><td>0.20794458</td><td>1.0001754</td><td> 0.21299531</td><td>0.58375</td><td>FALSE</td><td> 0.037021256</td><td>0.13061370</td><td> 0.28344083</td><td>0.7768389357</td><td>1.00000000</td><td>0.95265525</td><td>FALSE</td><td>FALSE</td><td>FALSE</td></tr>\n",
       "\t<tr><td>X62</td><td>beta_x[35]</td><td>-0.015891767</td><td>0.10178259</td><td>-0.22329250</td><td>-0.012193878</td><td>0.18605687</td><td>0.9998296</td><td>-0.15613443</td><td>0.56025</td><td>FALSE</td><td>-0.005997137</td><td>0.15184761</td><td>-0.03949444</td><td>0.9684961849</td><td>1.00000000</td><td>0.98264266</td><td>FALSE</td><td>FALSE</td><td>FALSE</td></tr>\n",
       "\t<tr><td>X65</td><td>beta_x[37]</td><td> 0.015963418</td><td>0.10327348</td><td>-0.18013485</td><td> 0.013160407</td><td>0.23421202</td><td>1.0003446</td><td> 0.15457423</td><td>0.55725</td><td>FALSE</td><td> 0.081240355</td><td>0.16833824</td><td> 0.48260190</td><td>0.6293784296</td><td>1.00000000</td><td>0.95265525</td><td>FALSE</td><td>FALSE</td><td>FALSE</td></tr>\n",
       "\t<tr><td>X67</td><td>beta_x[38]</td><td>-0.013462900</td><td>0.09746750</td><td>-0.21467269</td><td>-0.011187472</td><td>0.18453400</td><td>0.9997016</td><td>-0.13812707</td><td>0.55600</td><td>FALSE</td><td>-0.047743116</td><td>0.16332613</td><td>-0.29231768</td><td>0.7700437447</td><td>1.00000000</td><td>0.95265525</td><td>FALSE</td><td>FALSE</td><td>FALSE</td></tr>\n",
       "\t<tr><td>X36</td><td>beta_x[24]</td><td> 0.016160168</td><td>0.10734814</td><td>-0.19707723</td><td> 0.012845032</td><td>0.24191126</td><td>0.9995265</td><td> 0.15053980</td><td>0.55500</td><td>FALSE</td><td> 0.065221133</td><td>0.21202274</td><td> 0.30761386</td><td>0.7583761748</td><td>1.00000000</td><td>0.95265525</td><td>FALSE</td><td>FALSE</td><td>FALSE</td></tr>\n",
       "\t<tr><td>X7 </td><td>beta_x[6] </td><td>-0.013262895</td><td>0.08909177</td><td>-0.19012888</td><td>-0.012160673</td><td>0.16396374</td><td>1.0002506</td><td>-0.14886779</td><td>0.55425</td><td>FALSE</td><td>-0.012583741</td><td>0.13327901</td><td>-0.09441653</td><td>0.9247782864</td><td>1.00000000</td><td>0.97590050</td><td>FALSE</td><td>FALSE</td><td>FALSE</td></tr>\n",
       "\t<tr><td>X17</td><td>beta_x[13]</td><td>-0.011879654</td><td>0.10766263</td><td>-0.23682124</td><td>-0.009155276</td><td>0.20025015</td><td>0.9995374</td><td>-0.11034149</td><td>0.54050</td><td>FALSE</td><td>-0.044698315</td><td>0.18781971</td><td>-0.23798522</td><td>0.8118925583</td><td>1.00000000</td><td>0.95265525</td><td>FALSE</td><td>FALSE</td><td>FALSE</td></tr>\n",
       "\t<tr><td>X2 </td><td>beta_x[1] </td><td> 0.009378231</td><td>0.10659922</td><td>-0.20241877</td><td> 0.007898859</td><td>0.23429237</td><td>0.9995736</td><td> 0.08797654</td><td>0.53625</td><td>FALSE</td><td>-0.038520646</td><td>0.17440349</td><td>-0.22087084</td><td>0.8251930022</td><td>1.00000000</td><td>0.95265525</td><td>FALSE</td><td>FALSE</td><td>FALSE</td></tr>\n",
       "\t<tr><td>X19</td><td>beta_x[14]</td><td>-0.010466408</td><td>0.10814621</td><td>-0.23957742</td><td>-0.006274170</td><td>0.20105575</td><td>1.0005332</td><td>-0.09678016</td><td>0.52725</td><td>FALSE</td><td>-0.032061102</td><td>0.18140349</td><td>-0.17673917</td><td>0.8597132733</td><td>1.00000000</td><td>0.95265525</td><td>FALSE</td><td>FALSE</td><td>FALSE</td></tr>\n",
       "\t<tr><td>X63</td><td>beta_x[36]</td><td>-0.007558712</td><td>0.10766566</td><td>-0.22722810</td><td>-0.006439649</td><td>0.20684584</td><td>0.9996538</td><td>-0.07020541</td><td>0.52450</td><td>FALSE</td><td>-0.016349240</td><td>0.18167952</td><td>-0.08998945</td><td>0.9282956005</td><td>1.00000000</td><td>0.97590050</td><td>FALSE</td><td>FALSE</td><td>FALSE</td></tr>\n",
       "\t<tr><td>X37</td><td>beta_x[25]</td><td>-0.003997806</td><td>0.08551948</td><td>-0.17399908</td><td>-0.004159142</td><td>0.16442935</td><td>0.9992852</td><td>-0.04674731</td><td>0.51850</td><td>FALSE</td><td>-0.024709438</td><td>0.13560160</td><td>-0.18222085</td><td>0.8554094146</td><td>1.00000000</td><td>0.95265525</td><td>FALSE</td><td>FALSE</td><td>FALSE</td></tr>\n",
       "\t<tr><td>X72</td><td>beta_x[40]</td><td>-0.001647233</td><td>0.09208479</td><td>-0.19039985</td><td>-0.000497866</td><td>0.18255563</td><td>0.9993997</td><td>-0.01788822</td><td>0.50175</td><td>FALSE</td><td>-0.003260907</td><td>0.14988600</td><td>-0.02175592</td><td>0.9826426594</td><td>1.00000000</td><td>0.98264266</td><td>FALSE</td><td>FALSE</td><td>FALSE</td></tr>\n",
       "</tbody>\n",
       "</table>\n"
      ],
      "text/latex": [
       "A data.frame: 41 × 20\n",
       "\\begin{tabular}{llllllllllllllllllll}\n",
       " Metabolite & Param & mean & sd & X2.5. & X50. & X97.5. & Rhat & Z.x & P\\_GT\\_LT\\_0 & SIG\\_BAYES & Estimate & StdErr & Z.y & P-value & P.Bon & P.BH & SIG\\_BH & SIG\\_BON & SIG.RAW\\\\\n",
       " <chr> & <chr> & <dbl> & <dbl> & <dbl> & <dbl> & <dbl> & <dbl> & <dbl> & <dbl> & <lgl> & <dbl> & <dbl> & <dbl> & <dbl> & <dbl> & <dbl> & <lgl> & <lgl> & <lgl>\\\\\n",
       "\\hline\n",
       "\t X3  & beta\\_x{[}2{]}  &  0.271690984 & 0.20585602 & -0.02157329 &  0.238227245 & 0.77553366 & 1.0056203 &  1.31981070 & 0.96000 & FALSE &  0.914706422 & 0.27552036 &  3.31992320 & 0.0009004221 & 0.03691731 & 0.03691731 &  TRUE &  TRUE &  TRUE\\\\\n",
       "\t X12 & beta\\_x{[}10{]} & -0.154076794 & 0.11807476 & -0.42087609 & -0.144268596 & 0.03862213 & 1.0032110 & -1.30490884 & 0.92550 & FALSE & -0.325564431 & 0.13999074 & -2.32561404 & 0.0200391498 & 0.82160514 & 0.21965824 & FALSE & FALSE &  TRUE\\\\\n",
       "\t X70 & beta\\_x{[}39{]} & -0.185272454 & 0.14995730 & -0.52661489 & -0.165562174 & 0.04549855 & 1.0065158 & -1.23550143 & 0.91925 & FALSE & -0.492061979 & 0.18841929 & -2.61152659 & 0.0090138978 & 0.36956981 & 0.18478491 & FALSE & FALSE &  TRUE\\\\\n",
       "\t X6  & beta\\_x{[}5{]}  & -0.142874444 & 0.12084181 & -0.41920387 & -0.129334518 & 0.05659793 & 1.0021607 & -1.18232626 & 0.90225 & FALSE & -0.377655651 & 0.16417524 & -2.30032044 & 0.0214300722 & 0.87863296 & 0.21965824 & FALSE & FALSE &  TRUE\\\\\n",
       "\t X8  & beta\\_x{[}7{]}  & -0.127621637 & 0.11023146 & -0.37071775 & -0.117640228 & 0.05400695 & 1.0009950 & -1.15776058 & 0.88950 & FALSE & -0.289763938 & 0.15910419 & -1.82122123 & 0.0685732341 & 1.00000000 & 0.40164323 & FALSE & FALSE & FALSE\\\\\n",
       "\t X48 & beta\\_x{[}30{]} & -0.088471397 & 0.08405412 & -0.26409491 & -0.084386480 & 0.06381241 & 1.0012964 & -1.05255272 & 0.85375 & FALSE & -0.132416747 & 0.09707177 & -1.36411180 & 0.1725323802 & 1.00000000 & 0.60464692 & FALSE & FALSE & FALSE\\\\\n",
       "\t X76 & beta\\_x{[}41{]} & -0.085347179 & 0.08744138 & -0.27058196 & -0.080283929 & 0.07186353 & 0.9999025 & -0.97605026 & 0.84925 & FALSE & -0.162355100 & 0.12025022 & -1.35014389 & 0.1769698307 & 1.00000000 & 0.60464692 & FALSE & FALSE & FALSE\\\\\n",
       "\t X34 & beta\\_x{[}22{]} & -0.119640671 & 0.12450689 & -0.40302177 & -0.105390409 & 0.08524495 & 1.0014240 & -0.96091605 & 0.84625 & FALSE & -0.365296414 & 0.19247812 & -1.89785939 & 0.0577146067 & 1.00000000 & 0.40164323 & FALSE & FALSE & FALSE\\\\\n",
       "\t X23 & beta\\_x{[}15{]} & -0.107591322 & 0.10858988 & -0.34428521 & -0.097512911 & 0.07503856 & 1.0028976 & -0.99080428 & 0.84275 & FALSE & -0.242019884 & 0.14614989 & -1.65597036 & 0.0977278220 & 1.00000000 & 0.50085509 & FALSE & FALSE & FALSE\\\\\n",
       "\t X27 & beta\\_x{[}18{]} &  0.099705898 & 0.11014633 & -0.08730018 &  0.087468936 & 0.35169477 & 1.0025345 &  0.90521308 & 0.83275 & FALSE &  0.256640268 & 0.16202453 &  1.58395931 & 0.1132029799 & 1.00000000 & 0.51570246 & FALSE & FALSE & FALSE\\\\\n",
       "\t X4  & beta\\_x{[}3{]}  &  0.092241418 & 0.09943449 & -0.08239344 &  0.085897258 & 0.30763061 & 1.0003929 &  0.92766016 & 0.83075 & FALSE &  0.197172531 & 0.13705835 &  1.43860280 & 0.1502630918 & 1.00000000 & 0.60464692 & FALSE & FALSE & FALSE\\\\\n",
       "\t X50 & beta\\_x{[}31{]} & -0.108998389 & 0.12426626 & -0.38993131 & -0.092875122 & 0.09237839 & 1.0029158 & -0.87713582 & 0.81300 & FALSE & -0.382542554 & 0.20980506 & -1.82332380 & 0.0682543633 & 1.00000000 & 0.40164323 & FALSE & FALSE & FALSE\\\\\n",
       "\t X24 & beta\\_x{[}16{]} & -0.066970061 & 0.10734637 & -0.30581505 & -0.058366447 & 0.13339437 & 1.0015749 & -0.62386890 & 0.73775 & FALSE & -0.163493594 & 0.15437738 & -1.05905150 & 0.2895763255 & 1.00000000 & 0.74203933 & FALSE & FALSE & FALSE\\\\\n",
       "\t X32 & beta\\_x{[}21{]} & -0.065376005 & 0.10453755 & -0.28767864 & -0.056978971 & 0.12594434 & 1.0004657 & -0.62538300 & 0.73600 & FALSE & -0.159319609 & 0.16730276 & -0.95228319 & 0.3409533805 & 1.00000000 & 0.77011364 & FALSE & FALSE & FALSE\\\\\n",
       "\t X51 & beta\\_x{[}32{]} & -0.072910519 & 0.11366814 & -0.32425569 & -0.062730093 & 0.12134244 & 1.0004991 & -0.64143322 & 0.73275 & FALSE & -0.225411932 & 0.19746564 & -1.14152486 & 0.2536515727 & 1.00000000 & 0.74203933 & FALSE & FALSE & FALSE\\\\\n",
       "\t X45 & beta\\_x{[}28{]} & -0.052968537 & 0.09163937 & -0.24627038 & -0.047883448 & 0.12330811 & 1.0002895 & -0.57801073 & 0.72375 & FALSE & -0.078438941 & 0.14707719 & -0.53331820 & 0.5938133313 & 1.00000000 & 0.95265525 & FALSE & FALSE & FALSE\\\\\n",
       "\t X13 & beta\\_x{[}11{]} & -0.061963020 & 0.10346272 & -0.28648905 & -0.054779565 & 0.12657012 & 1.0003304 & -0.59889226 & 0.72200 & FALSE & -0.187752727 & 0.16321596 & -1.15033311 & 0.2500066991 & 1.00000000 & 0.74203933 & FALSE & FALSE & FALSE\\\\\n",
       "\t X47 & beta\\_x{[}29{]} & -0.067080678 & 0.11587556 & -0.32723419 & -0.054990406 & 0.13561783 & 1.0010278 & -0.57890275 & 0.71975 & FALSE & -0.224455637 & 0.20495500 & -1.09514592 & 0.2734527128 & 1.00000000 & 0.74203933 & FALSE & FALSE & FALSE\\\\\n",
       "\t X26 & beta\\_x{[}17{]} & -0.060132688 & 0.10402949 & -0.28214259 & -0.053475144 & 0.12881212 & 1.0006365 & -0.57803499 & 0.71850 & FALSE & -0.145177779 & 0.15604528 & -0.93035677 & 0.3521863921 & 1.00000000 & 0.77011364 & FALSE & FALSE & FALSE\\\\\n",
       "\t X29 & beta\\_x{[}19{]} & -0.052301531 & 0.09756498 & -0.26168334 & -0.045229895 & 0.12861004 & 0.9993831 & -0.53606867 & 0.69075 & FALSE & -0.113829309 & 0.13409210 & -0.84888903 & 0.3959430438 & 1.00000000 & 0.77303166 & FALSE & FALSE & FALSE\\\\\n",
       "\t X15 & beta\\_x{[}12{]} &  0.049578709 & 0.10593081 & -0.15396973 &  0.041471462 & 0.26966916 & 1.0004053 &  0.46802917 & 0.68000 & FALSE &  0.124948816 & 0.18221618 &  0.68571748 & 0.4928912843 & 1.00000000 & 0.91857012 & FALSE & FALSE & FALSE\\\\\n",
       "\t X31 & beta\\_x{[}20{]} & -0.048335953 & 0.11500827 & -0.30283830 & -0.039436092 & 0.16819795 & 0.9997192 & -0.42028240 & 0.66200 & FALSE & -0.190990971 & 0.22157609 & -0.86196562 & 0.3887064354 & 1.00000000 & 0.77303166 & FALSE & FALSE & FALSE\\\\\n",
       "\t X55 & beta\\_x{[}34{]} &  0.041318996 & 0.10178125 & -0.15538024 &  0.036950804 & 0.25389404 & 0.9993190 &  0.40595883 & 0.65525 & FALSE &  0.146073164 & 0.15854722 &  0.92132278 & 0.3568819329 & 1.00000000 & 0.77011364 & FALSE & FALSE & FALSE\\\\\n",
       "\t X35 & beta\\_x{[}23{]} & -0.041908693 & 0.10271120 & -0.25446697 & -0.034556127 & 0.15137317 & 0.9996022 & -0.40802456 & 0.64950 & FALSE & -0.102769408 & 0.15895174 & -0.64654472 & 0.5179266470 & 1.00000000 & 0.92326054 & FALSE & FALSE & FALSE\\\\\n",
       "\t X5  & beta\\_x{[}4{]}  &  0.026975536 & 0.08921693 & -0.14875348 &  0.023964695 & 0.20735680 & 0.9994955 &  0.30235892 & 0.61950 & FALSE &  0.046329165 & 0.12655825 &  0.36606988 & 0.7143129335 & 1.00000000 & 0.95265525 & FALSE & FALSE & FALSE\\\\\n",
       "\t X44 & beta\\_x{[}27{]} & -0.031511226 & 0.10314716 & -0.24245858 & -0.027176608 & 0.17095728 & 0.9995596 & -0.30549776 & 0.61275 & FALSE & -0.069566080 & 0.16175490 & -0.43007092 & 0.6671440503 & 1.00000000 & 0.95265525 & FALSE & FALSE & FALSE\\\\\n",
       "\t X40 & beta\\_x{[}26{]} & -0.026116098 & 0.09802835 & -0.23318566 & -0.024241624 & 0.16054429 & 0.9995885 & -0.26641374 & 0.60975 & FALSE & -0.055404202 & 0.14085233 & -0.39334956 & 0.6940613222 & 1.00000000 & 0.95265525 & FALSE & FALSE & FALSE\\\\\n",
       "\t X54 & beta\\_x{[}33{]} & -0.023817474 & 0.10614864 & -0.25148170 & -0.019619971 & 0.17970022 & 1.0003313 & -0.22437851 & 0.58650 & FALSE & -0.071327846 & 0.18037322 & -0.39544588 & 0.6925138550 & 1.00000000 & 0.95265525 & FALSE & FALSE & FALSE\\\\\n",
       "\t X10 & beta\\_x{[}8{]}  &  0.022890127 & 0.10353742 & -0.18159053 &  0.019201357 & 0.23469155 & 0.9994496 &  0.22108071 & 0.58550 & FALSE &  0.046378317 & 0.17111135 &  0.27104173 & 0.7863589344 & 1.00000000 & 0.95265525 & FALSE & FALSE & FALSE\\\\\n",
       "\t X11 & beta\\_x{[}9{]}  &  0.019491996 & 0.09151373 & -0.16373555 &  0.017369493 & 0.20794458 & 1.0001754 &  0.21299531 & 0.58375 & FALSE &  0.037021256 & 0.13061370 &  0.28344083 & 0.7768389357 & 1.00000000 & 0.95265525 & FALSE & FALSE & FALSE\\\\\n",
       "\t X62 & beta\\_x{[}35{]} & -0.015891767 & 0.10178259 & -0.22329250 & -0.012193878 & 0.18605687 & 0.9998296 & -0.15613443 & 0.56025 & FALSE & -0.005997137 & 0.15184761 & -0.03949444 & 0.9684961849 & 1.00000000 & 0.98264266 & FALSE & FALSE & FALSE\\\\\n",
       "\t X65 & beta\\_x{[}37{]} &  0.015963418 & 0.10327348 & -0.18013485 &  0.013160407 & 0.23421202 & 1.0003446 &  0.15457423 & 0.55725 & FALSE &  0.081240355 & 0.16833824 &  0.48260190 & 0.6293784296 & 1.00000000 & 0.95265525 & FALSE & FALSE & FALSE\\\\\n",
       "\t X67 & beta\\_x{[}38{]} & -0.013462900 & 0.09746750 & -0.21467269 & -0.011187472 & 0.18453400 & 0.9997016 & -0.13812707 & 0.55600 & FALSE & -0.047743116 & 0.16332613 & -0.29231768 & 0.7700437447 & 1.00000000 & 0.95265525 & FALSE & FALSE & FALSE\\\\\n",
       "\t X36 & beta\\_x{[}24{]} &  0.016160168 & 0.10734814 & -0.19707723 &  0.012845032 & 0.24191126 & 0.9995265 &  0.15053980 & 0.55500 & FALSE &  0.065221133 & 0.21202274 &  0.30761386 & 0.7583761748 & 1.00000000 & 0.95265525 & FALSE & FALSE & FALSE\\\\\n",
       "\t X7  & beta\\_x{[}6{]}  & -0.013262895 & 0.08909177 & -0.19012888 & -0.012160673 & 0.16396374 & 1.0002506 & -0.14886779 & 0.55425 & FALSE & -0.012583741 & 0.13327901 & -0.09441653 & 0.9247782864 & 1.00000000 & 0.97590050 & FALSE & FALSE & FALSE\\\\\n",
       "\t X17 & beta\\_x{[}13{]} & -0.011879654 & 0.10766263 & -0.23682124 & -0.009155276 & 0.20025015 & 0.9995374 & -0.11034149 & 0.54050 & FALSE & -0.044698315 & 0.18781971 & -0.23798522 & 0.8118925583 & 1.00000000 & 0.95265525 & FALSE & FALSE & FALSE\\\\\n",
       "\t X2  & beta\\_x{[}1{]}  &  0.009378231 & 0.10659922 & -0.20241877 &  0.007898859 & 0.23429237 & 0.9995736 &  0.08797654 & 0.53625 & FALSE & -0.038520646 & 0.17440349 & -0.22087084 & 0.8251930022 & 1.00000000 & 0.95265525 & FALSE & FALSE & FALSE\\\\\n",
       "\t X19 & beta\\_x{[}14{]} & -0.010466408 & 0.10814621 & -0.23957742 & -0.006274170 & 0.20105575 & 1.0005332 & -0.09678016 & 0.52725 & FALSE & -0.032061102 & 0.18140349 & -0.17673917 & 0.8597132733 & 1.00000000 & 0.95265525 & FALSE & FALSE & FALSE\\\\\n",
       "\t X63 & beta\\_x{[}36{]} & -0.007558712 & 0.10766566 & -0.22722810 & -0.006439649 & 0.20684584 & 0.9996538 & -0.07020541 & 0.52450 & FALSE & -0.016349240 & 0.18167952 & -0.08998945 & 0.9282956005 & 1.00000000 & 0.97590050 & FALSE & FALSE & FALSE\\\\\n",
       "\t X37 & beta\\_x{[}25{]} & -0.003997806 & 0.08551948 & -0.17399908 & -0.004159142 & 0.16442935 & 0.9992852 & -0.04674731 & 0.51850 & FALSE & -0.024709438 & 0.13560160 & -0.18222085 & 0.8554094146 & 1.00000000 & 0.95265525 & FALSE & FALSE & FALSE\\\\\n",
       "\t X72 & beta\\_x{[}40{]} & -0.001647233 & 0.09208479 & -0.19039985 & -0.000497866 & 0.18255563 & 0.9993997 & -0.01788822 & 0.50175 & FALSE & -0.003260907 & 0.14988600 & -0.02175592 & 0.9826426594 & 1.00000000 & 0.98264266 & FALSE & FALSE & FALSE\\\\\n",
       "\\end{tabular}\n"
      ],
      "text/markdown": [
       "\n",
       "A data.frame: 41 × 20\n",
       "\n",
       "| Metabolite &lt;chr&gt; | Param &lt;chr&gt; | mean &lt;dbl&gt; | sd &lt;dbl&gt; | X2.5. &lt;dbl&gt; | X50. &lt;dbl&gt; | X97.5. &lt;dbl&gt; | Rhat &lt;dbl&gt; | Z.x &lt;dbl&gt; | P_GT_LT_0 &lt;dbl&gt; | SIG_BAYES &lt;lgl&gt; | Estimate &lt;dbl&gt; | StdErr &lt;dbl&gt; | Z.y &lt;dbl&gt; | P-value &lt;dbl&gt; | P.Bon &lt;dbl&gt; | P.BH &lt;dbl&gt; | SIG_BH &lt;lgl&gt; | SIG_BON &lt;lgl&gt; | SIG.RAW &lt;lgl&gt; |\n",
       "|---|---|---|---|---|---|---|---|---|---|---|---|---|---|---|---|---|---|---|---|\n",
       "| X3  | beta_x[2]  |  0.271690984 | 0.20585602 | -0.02157329 |  0.238227245 | 0.77553366 | 1.0056203 |  1.31981070 | 0.96000 | FALSE |  0.914706422 | 0.27552036 |  3.31992320 | 0.0009004221 | 0.03691731 | 0.03691731 |  TRUE |  TRUE |  TRUE |\n",
       "| X12 | beta_x[10] | -0.154076794 | 0.11807476 | -0.42087609 | -0.144268596 | 0.03862213 | 1.0032110 | -1.30490884 | 0.92550 | FALSE | -0.325564431 | 0.13999074 | -2.32561404 | 0.0200391498 | 0.82160514 | 0.21965824 | FALSE | FALSE |  TRUE |\n",
       "| X70 | beta_x[39] | -0.185272454 | 0.14995730 | -0.52661489 | -0.165562174 | 0.04549855 | 1.0065158 | -1.23550143 | 0.91925 | FALSE | -0.492061979 | 0.18841929 | -2.61152659 | 0.0090138978 | 0.36956981 | 0.18478491 | FALSE | FALSE |  TRUE |\n",
       "| X6  | beta_x[5]  | -0.142874444 | 0.12084181 | -0.41920387 | -0.129334518 | 0.05659793 | 1.0021607 | -1.18232626 | 0.90225 | FALSE | -0.377655651 | 0.16417524 | -2.30032044 | 0.0214300722 | 0.87863296 | 0.21965824 | FALSE | FALSE |  TRUE |\n",
       "| X8  | beta_x[7]  | -0.127621637 | 0.11023146 | -0.37071775 | -0.117640228 | 0.05400695 | 1.0009950 | -1.15776058 | 0.88950 | FALSE | -0.289763938 | 0.15910419 | -1.82122123 | 0.0685732341 | 1.00000000 | 0.40164323 | FALSE | FALSE | FALSE |\n",
       "| X48 | beta_x[30] | -0.088471397 | 0.08405412 | -0.26409491 | -0.084386480 | 0.06381241 | 1.0012964 | -1.05255272 | 0.85375 | FALSE | -0.132416747 | 0.09707177 | -1.36411180 | 0.1725323802 | 1.00000000 | 0.60464692 | FALSE | FALSE | FALSE |\n",
       "| X76 | beta_x[41] | -0.085347179 | 0.08744138 | -0.27058196 | -0.080283929 | 0.07186353 | 0.9999025 | -0.97605026 | 0.84925 | FALSE | -0.162355100 | 0.12025022 | -1.35014389 | 0.1769698307 | 1.00000000 | 0.60464692 | FALSE | FALSE | FALSE |\n",
       "| X34 | beta_x[22] | -0.119640671 | 0.12450689 | -0.40302177 | -0.105390409 | 0.08524495 | 1.0014240 | -0.96091605 | 0.84625 | FALSE | -0.365296414 | 0.19247812 | -1.89785939 | 0.0577146067 | 1.00000000 | 0.40164323 | FALSE | FALSE | FALSE |\n",
       "| X23 | beta_x[15] | -0.107591322 | 0.10858988 | -0.34428521 | -0.097512911 | 0.07503856 | 1.0028976 | -0.99080428 | 0.84275 | FALSE | -0.242019884 | 0.14614989 | -1.65597036 | 0.0977278220 | 1.00000000 | 0.50085509 | FALSE | FALSE | FALSE |\n",
       "| X27 | beta_x[18] |  0.099705898 | 0.11014633 | -0.08730018 |  0.087468936 | 0.35169477 | 1.0025345 |  0.90521308 | 0.83275 | FALSE |  0.256640268 | 0.16202453 |  1.58395931 | 0.1132029799 | 1.00000000 | 0.51570246 | FALSE | FALSE | FALSE |\n",
       "| X4  | beta_x[3]  |  0.092241418 | 0.09943449 | -0.08239344 |  0.085897258 | 0.30763061 | 1.0003929 |  0.92766016 | 0.83075 | FALSE |  0.197172531 | 0.13705835 |  1.43860280 | 0.1502630918 | 1.00000000 | 0.60464692 | FALSE | FALSE | FALSE |\n",
       "| X50 | beta_x[31] | -0.108998389 | 0.12426626 | -0.38993131 | -0.092875122 | 0.09237839 | 1.0029158 | -0.87713582 | 0.81300 | FALSE | -0.382542554 | 0.20980506 | -1.82332380 | 0.0682543633 | 1.00000000 | 0.40164323 | FALSE | FALSE | FALSE |\n",
       "| X24 | beta_x[16] | -0.066970061 | 0.10734637 | -0.30581505 | -0.058366447 | 0.13339437 | 1.0015749 | -0.62386890 | 0.73775 | FALSE | -0.163493594 | 0.15437738 | -1.05905150 | 0.2895763255 | 1.00000000 | 0.74203933 | FALSE | FALSE | FALSE |\n",
       "| X32 | beta_x[21] | -0.065376005 | 0.10453755 | -0.28767864 | -0.056978971 | 0.12594434 | 1.0004657 | -0.62538300 | 0.73600 | FALSE | -0.159319609 | 0.16730276 | -0.95228319 | 0.3409533805 | 1.00000000 | 0.77011364 | FALSE | FALSE | FALSE |\n",
       "| X51 | beta_x[32] | -0.072910519 | 0.11366814 | -0.32425569 | -0.062730093 | 0.12134244 | 1.0004991 | -0.64143322 | 0.73275 | FALSE | -0.225411932 | 0.19746564 | -1.14152486 | 0.2536515727 | 1.00000000 | 0.74203933 | FALSE | FALSE | FALSE |\n",
       "| X45 | beta_x[28] | -0.052968537 | 0.09163937 | -0.24627038 | -0.047883448 | 0.12330811 | 1.0002895 | -0.57801073 | 0.72375 | FALSE | -0.078438941 | 0.14707719 | -0.53331820 | 0.5938133313 | 1.00000000 | 0.95265525 | FALSE | FALSE | FALSE |\n",
       "| X13 | beta_x[11] | -0.061963020 | 0.10346272 | -0.28648905 | -0.054779565 | 0.12657012 | 1.0003304 | -0.59889226 | 0.72200 | FALSE | -0.187752727 | 0.16321596 | -1.15033311 | 0.2500066991 | 1.00000000 | 0.74203933 | FALSE | FALSE | FALSE |\n",
       "| X47 | beta_x[29] | -0.067080678 | 0.11587556 | -0.32723419 | -0.054990406 | 0.13561783 | 1.0010278 | -0.57890275 | 0.71975 | FALSE | -0.224455637 | 0.20495500 | -1.09514592 | 0.2734527128 | 1.00000000 | 0.74203933 | FALSE | FALSE | FALSE |\n",
       "| X26 | beta_x[17] | -0.060132688 | 0.10402949 | -0.28214259 | -0.053475144 | 0.12881212 | 1.0006365 | -0.57803499 | 0.71850 | FALSE | -0.145177779 | 0.15604528 | -0.93035677 | 0.3521863921 | 1.00000000 | 0.77011364 | FALSE | FALSE | FALSE |\n",
       "| X29 | beta_x[19] | -0.052301531 | 0.09756498 | -0.26168334 | -0.045229895 | 0.12861004 | 0.9993831 | -0.53606867 | 0.69075 | FALSE | -0.113829309 | 0.13409210 | -0.84888903 | 0.3959430438 | 1.00000000 | 0.77303166 | FALSE | FALSE | FALSE |\n",
       "| X15 | beta_x[12] |  0.049578709 | 0.10593081 | -0.15396973 |  0.041471462 | 0.26966916 | 1.0004053 |  0.46802917 | 0.68000 | FALSE |  0.124948816 | 0.18221618 |  0.68571748 | 0.4928912843 | 1.00000000 | 0.91857012 | FALSE | FALSE | FALSE |\n",
       "| X31 | beta_x[20] | -0.048335953 | 0.11500827 | -0.30283830 | -0.039436092 | 0.16819795 | 0.9997192 | -0.42028240 | 0.66200 | FALSE | -0.190990971 | 0.22157609 | -0.86196562 | 0.3887064354 | 1.00000000 | 0.77303166 | FALSE | FALSE | FALSE |\n",
       "| X55 | beta_x[34] |  0.041318996 | 0.10178125 | -0.15538024 |  0.036950804 | 0.25389404 | 0.9993190 |  0.40595883 | 0.65525 | FALSE |  0.146073164 | 0.15854722 |  0.92132278 | 0.3568819329 | 1.00000000 | 0.77011364 | FALSE | FALSE | FALSE |\n",
       "| X35 | beta_x[23] | -0.041908693 | 0.10271120 | -0.25446697 | -0.034556127 | 0.15137317 | 0.9996022 | -0.40802456 | 0.64950 | FALSE | -0.102769408 | 0.15895174 | -0.64654472 | 0.5179266470 | 1.00000000 | 0.92326054 | FALSE | FALSE | FALSE |\n",
       "| X5  | beta_x[4]  |  0.026975536 | 0.08921693 | -0.14875348 |  0.023964695 | 0.20735680 | 0.9994955 |  0.30235892 | 0.61950 | FALSE |  0.046329165 | 0.12655825 |  0.36606988 | 0.7143129335 | 1.00000000 | 0.95265525 | FALSE | FALSE | FALSE |\n",
       "| X44 | beta_x[27] | -0.031511226 | 0.10314716 | -0.24245858 | -0.027176608 | 0.17095728 | 0.9995596 | -0.30549776 | 0.61275 | FALSE | -0.069566080 | 0.16175490 | -0.43007092 | 0.6671440503 | 1.00000000 | 0.95265525 | FALSE | FALSE | FALSE |\n",
       "| X40 | beta_x[26] | -0.026116098 | 0.09802835 | -0.23318566 | -0.024241624 | 0.16054429 | 0.9995885 | -0.26641374 | 0.60975 | FALSE | -0.055404202 | 0.14085233 | -0.39334956 | 0.6940613222 | 1.00000000 | 0.95265525 | FALSE | FALSE | FALSE |\n",
       "| X54 | beta_x[33] | -0.023817474 | 0.10614864 | -0.25148170 | -0.019619971 | 0.17970022 | 1.0003313 | -0.22437851 | 0.58650 | FALSE | -0.071327846 | 0.18037322 | -0.39544588 | 0.6925138550 | 1.00000000 | 0.95265525 | FALSE | FALSE | FALSE |\n",
       "| X10 | beta_x[8]  |  0.022890127 | 0.10353742 | -0.18159053 |  0.019201357 | 0.23469155 | 0.9994496 |  0.22108071 | 0.58550 | FALSE |  0.046378317 | 0.17111135 |  0.27104173 | 0.7863589344 | 1.00000000 | 0.95265525 | FALSE | FALSE | FALSE |\n",
       "| X11 | beta_x[9]  |  0.019491996 | 0.09151373 | -0.16373555 |  0.017369493 | 0.20794458 | 1.0001754 |  0.21299531 | 0.58375 | FALSE |  0.037021256 | 0.13061370 |  0.28344083 | 0.7768389357 | 1.00000000 | 0.95265525 | FALSE | FALSE | FALSE |\n",
       "| X62 | beta_x[35] | -0.015891767 | 0.10178259 | -0.22329250 | -0.012193878 | 0.18605687 | 0.9998296 | -0.15613443 | 0.56025 | FALSE | -0.005997137 | 0.15184761 | -0.03949444 | 0.9684961849 | 1.00000000 | 0.98264266 | FALSE | FALSE | FALSE |\n",
       "| X65 | beta_x[37] |  0.015963418 | 0.10327348 | -0.18013485 |  0.013160407 | 0.23421202 | 1.0003446 |  0.15457423 | 0.55725 | FALSE |  0.081240355 | 0.16833824 |  0.48260190 | 0.6293784296 | 1.00000000 | 0.95265525 | FALSE | FALSE | FALSE |\n",
       "| X67 | beta_x[38] | -0.013462900 | 0.09746750 | -0.21467269 | -0.011187472 | 0.18453400 | 0.9997016 | -0.13812707 | 0.55600 | FALSE | -0.047743116 | 0.16332613 | -0.29231768 | 0.7700437447 | 1.00000000 | 0.95265525 | FALSE | FALSE | FALSE |\n",
       "| X36 | beta_x[24] |  0.016160168 | 0.10734814 | -0.19707723 |  0.012845032 | 0.24191126 | 0.9995265 |  0.15053980 | 0.55500 | FALSE |  0.065221133 | 0.21202274 |  0.30761386 | 0.7583761748 | 1.00000000 | 0.95265525 | FALSE | FALSE | FALSE |\n",
       "| X7  | beta_x[6]  | -0.013262895 | 0.08909177 | -0.19012888 | -0.012160673 | 0.16396374 | 1.0002506 | -0.14886779 | 0.55425 | FALSE | -0.012583741 | 0.13327901 | -0.09441653 | 0.9247782864 | 1.00000000 | 0.97590050 | FALSE | FALSE | FALSE |\n",
       "| X17 | beta_x[13] | -0.011879654 | 0.10766263 | -0.23682124 | -0.009155276 | 0.20025015 | 0.9995374 | -0.11034149 | 0.54050 | FALSE | -0.044698315 | 0.18781971 | -0.23798522 | 0.8118925583 | 1.00000000 | 0.95265525 | FALSE | FALSE | FALSE |\n",
       "| X2  | beta_x[1]  |  0.009378231 | 0.10659922 | -0.20241877 |  0.007898859 | 0.23429237 | 0.9995736 |  0.08797654 | 0.53625 | FALSE | -0.038520646 | 0.17440349 | -0.22087084 | 0.8251930022 | 1.00000000 | 0.95265525 | FALSE | FALSE | FALSE |\n",
       "| X19 | beta_x[14] | -0.010466408 | 0.10814621 | -0.23957742 | -0.006274170 | 0.20105575 | 1.0005332 | -0.09678016 | 0.52725 | FALSE | -0.032061102 | 0.18140349 | -0.17673917 | 0.8597132733 | 1.00000000 | 0.95265525 | FALSE | FALSE | FALSE |\n",
       "| X63 | beta_x[36] | -0.007558712 | 0.10766566 | -0.22722810 | -0.006439649 | 0.20684584 | 0.9996538 | -0.07020541 | 0.52450 | FALSE | -0.016349240 | 0.18167952 | -0.08998945 | 0.9282956005 | 1.00000000 | 0.97590050 | FALSE | FALSE | FALSE |\n",
       "| X37 | beta_x[25] | -0.003997806 | 0.08551948 | -0.17399908 | -0.004159142 | 0.16442935 | 0.9992852 | -0.04674731 | 0.51850 | FALSE | -0.024709438 | 0.13560160 | -0.18222085 | 0.8554094146 | 1.00000000 | 0.95265525 | FALSE | FALSE | FALSE |\n",
       "| X72 | beta_x[40] | -0.001647233 | 0.09208479 | -0.19039985 | -0.000497866 | 0.18255563 | 0.9993997 | -0.01788822 | 0.50175 | FALSE | -0.003260907 | 0.14988600 | -0.02175592 | 0.9826426594 | 1.00000000 | 0.98264266 | FALSE | FALSE | FALSE |\n",
       "\n"
      ],
      "text/plain": [
       "   Metabolite Param      mean         sd         X2.5.       X50.        \n",
       "1  X3         beta_x[2]   0.271690984 0.20585602 -0.02157329  0.238227245\n",
       "2  X12        beta_x[10] -0.154076794 0.11807476 -0.42087609 -0.144268596\n",
       "3  X70        beta_x[39] -0.185272454 0.14995730 -0.52661489 -0.165562174\n",
       "4  X6         beta_x[5]  -0.142874444 0.12084181 -0.41920387 -0.129334518\n",
       "5  X8         beta_x[7]  -0.127621637 0.11023146 -0.37071775 -0.117640228\n",
       "6  X48        beta_x[30] -0.088471397 0.08405412 -0.26409491 -0.084386480\n",
       "7  X76        beta_x[41] -0.085347179 0.08744138 -0.27058196 -0.080283929\n",
       "8  X34        beta_x[22] -0.119640671 0.12450689 -0.40302177 -0.105390409\n",
       "9  X23        beta_x[15] -0.107591322 0.10858988 -0.34428521 -0.097512911\n",
       "10 X27        beta_x[18]  0.099705898 0.11014633 -0.08730018  0.087468936\n",
       "11 X4         beta_x[3]   0.092241418 0.09943449 -0.08239344  0.085897258\n",
       "12 X50        beta_x[31] -0.108998389 0.12426626 -0.38993131 -0.092875122\n",
       "13 X24        beta_x[16] -0.066970061 0.10734637 -0.30581505 -0.058366447\n",
       "14 X32        beta_x[21] -0.065376005 0.10453755 -0.28767864 -0.056978971\n",
       "15 X51        beta_x[32] -0.072910519 0.11366814 -0.32425569 -0.062730093\n",
       "16 X45        beta_x[28] -0.052968537 0.09163937 -0.24627038 -0.047883448\n",
       "17 X13        beta_x[11] -0.061963020 0.10346272 -0.28648905 -0.054779565\n",
       "18 X47        beta_x[29] -0.067080678 0.11587556 -0.32723419 -0.054990406\n",
       "19 X26        beta_x[17] -0.060132688 0.10402949 -0.28214259 -0.053475144\n",
       "20 X29        beta_x[19] -0.052301531 0.09756498 -0.26168334 -0.045229895\n",
       "21 X15        beta_x[12]  0.049578709 0.10593081 -0.15396973  0.041471462\n",
       "22 X31        beta_x[20] -0.048335953 0.11500827 -0.30283830 -0.039436092\n",
       "23 X55        beta_x[34]  0.041318996 0.10178125 -0.15538024  0.036950804\n",
       "24 X35        beta_x[23] -0.041908693 0.10271120 -0.25446697 -0.034556127\n",
       "25 X5         beta_x[4]   0.026975536 0.08921693 -0.14875348  0.023964695\n",
       "26 X44        beta_x[27] -0.031511226 0.10314716 -0.24245858 -0.027176608\n",
       "27 X40        beta_x[26] -0.026116098 0.09802835 -0.23318566 -0.024241624\n",
       "28 X54        beta_x[33] -0.023817474 0.10614864 -0.25148170 -0.019619971\n",
       "29 X10        beta_x[8]   0.022890127 0.10353742 -0.18159053  0.019201357\n",
       "30 X11        beta_x[9]   0.019491996 0.09151373 -0.16373555  0.017369493\n",
       "31 X62        beta_x[35] -0.015891767 0.10178259 -0.22329250 -0.012193878\n",
       "32 X65        beta_x[37]  0.015963418 0.10327348 -0.18013485  0.013160407\n",
       "33 X67        beta_x[38] -0.013462900 0.09746750 -0.21467269 -0.011187472\n",
       "34 X36        beta_x[24]  0.016160168 0.10734814 -0.19707723  0.012845032\n",
       "35 X7         beta_x[6]  -0.013262895 0.08909177 -0.19012888 -0.012160673\n",
       "36 X17        beta_x[13] -0.011879654 0.10766263 -0.23682124 -0.009155276\n",
       "37 X2         beta_x[1]   0.009378231 0.10659922 -0.20241877  0.007898859\n",
       "38 X19        beta_x[14] -0.010466408 0.10814621 -0.23957742 -0.006274170\n",
       "39 X63        beta_x[36] -0.007558712 0.10766566 -0.22722810 -0.006439649\n",
       "40 X37        beta_x[25] -0.003997806 0.08551948 -0.17399908 -0.004159142\n",
       "41 X72        beta_x[40] -0.001647233 0.09208479 -0.19039985 -0.000497866\n",
       "   X97.5.     Rhat      Z.x         P_GT_LT_0 SIG_BAYES Estimate     StdErr    \n",
       "1  0.77553366 1.0056203  1.31981070 0.96000   FALSE      0.914706422 0.27552036\n",
       "2  0.03862213 1.0032110 -1.30490884 0.92550   FALSE     -0.325564431 0.13999074\n",
       "3  0.04549855 1.0065158 -1.23550143 0.91925   FALSE     -0.492061979 0.18841929\n",
       "4  0.05659793 1.0021607 -1.18232626 0.90225   FALSE     -0.377655651 0.16417524\n",
       "5  0.05400695 1.0009950 -1.15776058 0.88950   FALSE     -0.289763938 0.15910419\n",
       "6  0.06381241 1.0012964 -1.05255272 0.85375   FALSE     -0.132416747 0.09707177\n",
       "7  0.07186353 0.9999025 -0.97605026 0.84925   FALSE     -0.162355100 0.12025022\n",
       "8  0.08524495 1.0014240 -0.96091605 0.84625   FALSE     -0.365296414 0.19247812\n",
       "9  0.07503856 1.0028976 -0.99080428 0.84275   FALSE     -0.242019884 0.14614989\n",
       "10 0.35169477 1.0025345  0.90521308 0.83275   FALSE      0.256640268 0.16202453\n",
       "11 0.30763061 1.0003929  0.92766016 0.83075   FALSE      0.197172531 0.13705835\n",
       "12 0.09237839 1.0029158 -0.87713582 0.81300   FALSE     -0.382542554 0.20980506\n",
       "13 0.13339437 1.0015749 -0.62386890 0.73775   FALSE     -0.163493594 0.15437738\n",
       "14 0.12594434 1.0004657 -0.62538300 0.73600   FALSE     -0.159319609 0.16730276\n",
       "15 0.12134244 1.0004991 -0.64143322 0.73275   FALSE     -0.225411932 0.19746564\n",
       "16 0.12330811 1.0002895 -0.57801073 0.72375   FALSE     -0.078438941 0.14707719\n",
       "17 0.12657012 1.0003304 -0.59889226 0.72200   FALSE     -0.187752727 0.16321596\n",
       "18 0.13561783 1.0010278 -0.57890275 0.71975   FALSE     -0.224455637 0.20495500\n",
       "19 0.12881212 1.0006365 -0.57803499 0.71850   FALSE     -0.145177779 0.15604528\n",
       "20 0.12861004 0.9993831 -0.53606867 0.69075   FALSE     -0.113829309 0.13409210\n",
       "21 0.26966916 1.0004053  0.46802917 0.68000   FALSE      0.124948816 0.18221618\n",
       "22 0.16819795 0.9997192 -0.42028240 0.66200   FALSE     -0.190990971 0.22157609\n",
       "23 0.25389404 0.9993190  0.40595883 0.65525   FALSE      0.146073164 0.15854722\n",
       "24 0.15137317 0.9996022 -0.40802456 0.64950   FALSE     -0.102769408 0.15895174\n",
       "25 0.20735680 0.9994955  0.30235892 0.61950   FALSE      0.046329165 0.12655825\n",
       "26 0.17095728 0.9995596 -0.30549776 0.61275   FALSE     -0.069566080 0.16175490\n",
       "27 0.16054429 0.9995885 -0.26641374 0.60975   FALSE     -0.055404202 0.14085233\n",
       "28 0.17970022 1.0003313 -0.22437851 0.58650   FALSE     -0.071327846 0.18037322\n",
       "29 0.23469155 0.9994496  0.22108071 0.58550   FALSE      0.046378317 0.17111135\n",
       "30 0.20794458 1.0001754  0.21299531 0.58375   FALSE      0.037021256 0.13061370\n",
       "31 0.18605687 0.9998296 -0.15613443 0.56025   FALSE     -0.005997137 0.15184761\n",
       "32 0.23421202 1.0003446  0.15457423 0.55725   FALSE      0.081240355 0.16833824\n",
       "33 0.18453400 0.9997016 -0.13812707 0.55600   FALSE     -0.047743116 0.16332613\n",
       "34 0.24191126 0.9995265  0.15053980 0.55500   FALSE      0.065221133 0.21202274\n",
       "35 0.16396374 1.0002506 -0.14886779 0.55425   FALSE     -0.012583741 0.13327901\n",
       "36 0.20025015 0.9995374 -0.11034149 0.54050   FALSE     -0.044698315 0.18781971\n",
       "37 0.23429237 0.9995736  0.08797654 0.53625   FALSE     -0.038520646 0.17440349\n",
       "38 0.20105575 1.0005332 -0.09678016 0.52725   FALSE     -0.032061102 0.18140349\n",
       "39 0.20684584 0.9996538 -0.07020541 0.52450   FALSE     -0.016349240 0.18167952\n",
       "40 0.16442935 0.9992852 -0.04674731 0.51850   FALSE     -0.024709438 0.13560160\n",
       "41 0.18255563 0.9993997 -0.01788822 0.50175   FALSE     -0.003260907 0.14988600\n",
       "   Z.y         P-value      P.Bon      P.BH       SIG_BH SIG_BON SIG.RAW\n",
       "1   3.31992320 0.0009004221 0.03691731 0.03691731  TRUE   TRUE    TRUE  \n",
       "2  -2.32561404 0.0200391498 0.82160514 0.21965824 FALSE  FALSE    TRUE  \n",
       "3  -2.61152659 0.0090138978 0.36956981 0.18478491 FALSE  FALSE    TRUE  \n",
       "4  -2.30032044 0.0214300722 0.87863296 0.21965824 FALSE  FALSE    TRUE  \n",
       "5  -1.82122123 0.0685732341 1.00000000 0.40164323 FALSE  FALSE   FALSE  \n",
       "6  -1.36411180 0.1725323802 1.00000000 0.60464692 FALSE  FALSE   FALSE  \n",
       "7  -1.35014389 0.1769698307 1.00000000 0.60464692 FALSE  FALSE   FALSE  \n",
       "8  -1.89785939 0.0577146067 1.00000000 0.40164323 FALSE  FALSE   FALSE  \n",
       "9  -1.65597036 0.0977278220 1.00000000 0.50085509 FALSE  FALSE   FALSE  \n",
       "10  1.58395931 0.1132029799 1.00000000 0.51570246 FALSE  FALSE   FALSE  \n",
       "11  1.43860280 0.1502630918 1.00000000 0.60464692 FALSE  FALSE   FALSE  \n",
       "12 -1.82332380 0.0682543633 1.00000000 0.40164323 FALSE  FALSE   FALSE  \n",
       "13 -1.05905150 0.2895763255 1.00000000 0.74203933 FALSE  FALSE   FALSE  \n",
       "14 -0.95228319 0.3409533805 1.00000000 0.77011364 FALSE  FALSE   FALSE  \n",
       "15 -1.14152486 0.2536515727 1.00000000 0.74203933 FALSE  FALSE   FALSE  \n",
       "16 -0.53331820 0.5938133313 1.00000000 0.95265525 FALSE  FALSE   FALSE  \n",
       "17 -1.15033311 0.2500066991 1.00000000 0.74203933 FALSE  FALSE   FALSE  \n",
       "18 -1.09514592 0.2734527128 1.00000000 0.74203933 FALSE  FALSE   FALSE  \n",
       "19 -0.93035677 0.3521863921 1.00000000 0.77011364 FALSE  FALSE   FALSE  \n",
       "20 -0.84888903 0.3959430438 1.00000000 0.77303166 FALSE  FALSE   FALSE  \n",
       "21  0.68571748 0.4928912843 1.00000000 0.91857012 FALSE  FALSE   FALSE  \n",
       "22 -0.86196562 0.3887064354 1.00000000 0.77303166 FALSE  FALSE   FALSE  \n",
       "23  0.92132278 0.3568819329 1.00000000 0.77011364 FALSE  FALSE   FALSE  \n",
       "24 -0.64654472 0.5179266470 1.00000000 0.92326054 FALSE  FALSE   FALSE  \n",
       "25  0.36606988 0.7143129335 1.00000000 0.95265525 FALSE  FALSE   FALSE  \n",
       "26 -0.43007092 0.6671440503 1.00000000 0.95265525 FALSE  FALSE   FALSE  \n",
       "27 -0.39334956 0.6940613222 1.00000000 0.95265525 FALSE  FALSE   FALSE  \n",
       "28 -0.39544588 0.6925138550 1.00000000 0.95265525 FALSE  FALSE   FALSE  \n",
       "29  0.27104173 0.7863589344 1.00000000 0.95265525 FALSE  FALSE   FALSE  \n",
       "30  0.28344083 0.7768389357 1.00000000 0.95265525 FALSE  FALSE   FALSE  \n",
       "31 -0.03949444 0.9684961849 1.00000000 0.98264266 FALSE  FALSE   FALSE  \n",
       "32  0.48260190 0.6293784296 1.00000000 0.95265525 FALSE  FALSE   FALSE  \n",
       "33 -0.29231768 0.7700437447 1.00000000 0.95265525 FALSE  FALSE   FALSE  \n",
       "34  0.30761386 0.7583761748 1.00000000 0.95265525 FALSE  FALSE   FALSE  \n",
       "35 -0.09441653 0.9247782864 1.00000000 0.97590050 FALSE  FALSE   FALSE  \n",
       "36 -0.23798522 0.8118925583 1.00000000 0.95265525 FALSE  FALSE   FALSE  \n",
       "37 -0.22087084 0.8251930022 1.00000000 0.95265525 FALSE  FALSE   FALSE  \n",
       "38 -0.17673917 0.8597132733 1.00000000 0.95265525 FALSE  FALSE   FALSE  \n",
       "39 -0.08998945 0.9282956005 1.00000000 0.97590050 FALSE  FALSE   FALSE  \n",
       "40 -0.18222085 0.8554094146 1.00000000 0.95265525 FALSE  FALSE   FALSE  \n",
       "41 -0.02175592 0.9826426594 1.00000000 0.98264266 FALSE  FALSE   FALSE  "
      ]
     },
     "metadata": {},
     "output_type": "display_data"
    }
   ],
   "source": [
    "voc_stage_2_posterior = extract(voc_bayes_res$stage_2_fit)\n",
    "\n",
    "mean( voc_stage_2_posterior$sigma_beta_x )\n",
    "mean( voc_stage_2_posterior$nu_x )\n",
    "\n",
    "voc_bayes_res_table = make_summary_table_beta( voc_bayes_res$stage_2_fit, metabolites = voc_mets )\n",
    "\n",
    "voc_bayes_res_table = voc_bayes_res_table %>% mutate(SIG_BAYES=P_GT_LT_0 >= 0.975)\n",
    "voc_merged_results = voc_bayes_res_table %>% inner_join(voc_logistic_res_df, by='Metabolite')\n",
    "voc_merged_results"
   ]
  },
  {
   "cell_type": "code",
   "execution_count": 296,
   "metadata": {},
   "outputs": [],
   "source": [
    "gc_out_file = '/nfs/turbo/umms-cgillies/cgillies/RACE_CAPS/analysis/20200317_real_data_analysis/gc_cmp.csv'\n",
    "write_csv(voc_merged_results, gc_out_file)"
   ]
  },
  {
   "cell_type": "code",
   "execution_count": null,
   "metadata": {},
   "outputs": [],
   "source": []
  }
 ],
 "metadata": {
  "kernelspec": {
   "display_name": "R",
   "language": "R",
   "name": "ir"
  },
  "language_info": {
   "codemirror_mode": "r",
   "file_extension": ".r",
   "mimetype": "text/x-r-source",
   "name": "R",
   "pygments_lexer": "r",
   "version": "3.5.1"
  }
 },
 "nbformat": 4,
 "nbformat_minor": 4
}
